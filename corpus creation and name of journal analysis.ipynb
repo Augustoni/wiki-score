{
 "cells": [
  {
   "cell_type": "markdown",
   "id": "927ff51b",
   "metadata": {
    "id": "927ff51b"
   },
   "source": [
    "#### Version's detail (pour qu'on s'y retrouve)\n",
    "V2 : Able to parse over wiki page info and turn into csv doc. Strugles with special character and disambiguation pages. Citations counts are weird\n",
    "\n",
    "V2.1 : Solved the special character problem\n",
    "\n",
    "V2.2 : Cleaned the table and formated the date. Added a little hist to view page creation along time\n",
    "\n",
    "V2.3 : Adding a function to pass the 500 treshhold in scraping articles title\n",
    "\n",
    "V2.4 : Adding the scraping of the titles of sub- and sub-sub-sections"
   ]
  },
  {
   "cell_type": "code",
   "execution_count": 2,
   "id": "e4b59159",
   "metadata": {
    "colab": {
     "base_uri": "https://localhost:8080/"
    },
    "id": "e4b59159",
    "outputId": "21ee678b-dc59-44f7-d18d-84e22afeb23f"
   },
   "outputs": [
    {
     "name": "stdout",
     "output_type": "stream",
     "text": [
      "Requirement already satisfied: wikipedia in c:\\users\\aaugr\\anaconda3\\lib\\site-packages (1.4.0)\n",
      "Requirement already satisfied: setuptools in c:\\users\\aaugr\\anaconda3\\lib\\site-packages (62.1.0)\n",
      "Requirement already satisfied: pywikibot in c:\\users\\aaugr\\anaconda3\\lib\\site-packages (6.6.3)\n",
      "Requirement already satisfied: mwparserfromhell in c:\\users\\aaugr\\anaconda3\\lib\\site-packages (0.6.3)\n",
      "Requirement already satisfied: pandas in c:\\users\\aaugr\\anaconda3\\lib\\site-packages (1.3.4)\n",
      "Requirement already satisfied: numpy in c:\\users\\aaugr\\anaconda3\\lib\\site-packages (1.20.3)\n",
      "Requirement already satisfied: scipy in c:\\users\\aaugr\\anaconda3\\lib\\site-packages (1.6.2)\n",
      "Requirement already satisfied: nltk in c:\\users\\aaugr\\anaconda3\\lib\\site-packages (3.7)\n",
      "Requirement already satisfied: tqdm in c:\\users\\aaugr\\anaconda3\\lib\\site-packages (4.62.3)\n",
      "Requirement already satisfied: seaborn in c:\\users\\aaugr\\anaconda3\\lib\\site-packages (0.11.2)\n",
      "Requirement already satisfied: pyqt5 in c:\\users\\aaugr\\anaconda3\\lib\\site-packages (5.15.6)\n",
      "Requirement already satisfied: pyqtwebengine in c:\\users\\aaugr\\anaconda3\\lib\\site-packages (5.15.5)\n",
      "Requirement already satisfied: ruamel-yaml in c:\\users\\aaugr\\anaconda3\\lib\\site-packages (0.17.21)\n",
      "Requirement already satisfied: lxml in c:\\users\\aaugr\\anaconda3\\lib\\site-packages (4.6.3)\n",
      "Requirement already satisfied: beautifulsoup4 in c:\\users\\aaugr\\anaconda3\\lib\\site-packages (from wikipedia) (4.10.0)\n",
      "Requirement already satisfied: requests<3.0.0,>=2.0.0 in c:\\users\\aaugr\\anaconda3\\lib\\site-packages (from wikipedia) (2.26.0)\n",
      "Requirement already satisfied: python-dateutil>=2.7.3 in c:\\users\\aaugr\\anaconda3\\lib\\site-packages (from pandas) (2.8.2)\n",
      "Requirement already satisfied: pytz>=2017.3 in c:\\users\\aaugr\\anaconda3\\lib\\site-packages (from pandas) (2021.3)\n",
      "Requirement already satisfied: joblib in c:\\users\\aaugr\\anaconda3\\lib\\site-packages (from nltk) (1.1.0)\n",
      "Requirement already satisfied: regex>=2021.8.3 in c:\\users\\aaugr\\anaconda3\\lib\\site-packages (from nltk) (2021.8.3)\n",
      "Requirement already satisfied: click in c:\\users\\aaugr\\anaconda3\\lib\\site-packages (from nltk) (8.0.3)\n",
      "Requirement already satisfied: colorama in c:\\users\\aaugr\\anaconda3\\lib\\site-packages (from tqdm) (0.4.4)\n",
      "Requirement already satisfied: matplotlib>=2.2 in c:\\users\\aaugr\\anaconda3\\lib\\site-packages (from seaborn) (3.4.3)\n",
      "Requirement already satisfied: PyQt5-sip<13,>=12.8 in c:\\users\\aaugr\\anaconda3\\lib\\site-packages (from pyqt5) (12.9.1)\n",
      "Requirement already satisfied: PyQt5-Qt5>=5.15.2 in c:\\users\\aaugr\\anaconda3\\lib\\site-packages (from pyqt5) (5.15.2)\n",
      "Requirement already satisfied: PyQtWebEngine-Qt5>=5.15.2 in c:\\users\\aaugr\\anaconda3\\lib\\site-packages (from pyqtwebengine) (5.15.2)\n",
      "Requirement already satisfied: ruamel.yaml.clib>=0.2.6 in c:\\users\\aaugr\\anaconda3\\lib\\site-packages (from ruamel-yaml) (0.2.6)\n",
      "Requirement already satisfied: cycler>=0.10 in c:\\users\\aaugr\\anaconda3\\lib\\site-packages (from matplotlib>=2.2->seaborn) (0.10.0)\n",
      "Requirement already satisfied: pyparsing>=2.2.1 in c:\\users\\aaugr\\anaconda3\\lib\\site-packages (from matplotlib>=2.2->seaborn) (3.0.4)\n",
      "Requirement already satisfied: pillow>=6.2.0 in c:\\users\\aaugr\\anaconda3\\lib\\site-packages (from matplotlib>=2.2->seaborn) (8.4.0)\n",
      "Requirement already satisfied: kiwisolver>=1.0.1 in c:\\users\\aaugr\\anaconda3\\lib\\site-packages (from matplotlib>=2.2->seaborn) (1.3.1)\n",
      "Requirement already satisfied: six in c:\\users\\aaugr\\anaconda3\\lib\\site-packages (from cycler>=0.10->matplotlib>=2.2->seaborn) (1.16.0)\n",
      "Requirement already satisfied: charset-normalizer~=2.0.0 in c:\\users\\aaugr\\anaconda3\\lib\\site-packages (from requests<3.0.0,>=2.0.0->wikipedia) (2.0.4)\n",
      "Requirement already satisfied: idna<4,>=2.5 in c:\\users\\aaugr\\anaconda3\\lib\\site-packages (from requests<3.0.0,>=2.0.0->wikipedia) (3.2)\n",
      "Requirement already satisfied: urllib3<1.27,>=1.21.1 in c:\\users\\aaugr\\anaconda3\\lib\\site-packages (from requests<3.0.0,>=2.0.0->wikipedia) (1.26.7)\n",
      "Requirement already satisfied: certifi>=2017.4.17 in c:\\users\\aaugr\\anaconda3\\lib\\site-packages (from requests<3.0.0,>=2.0.0->wikipedia) (2021.10.8)\n",
      "Requirement already satisfied: soupsieve>1.2 in c:\\users\\aaugr\\anaconda3\\lib\\site-packages (from beautifulsoup4->wikipedia) (2.2.1)\n"
     ]
    }
   ],
   "source": [
    "!pip install wikipedia setuptools pywikibot mwparserfromhell pandas numpy scipy nltk tqdm seaborn pyqt5 pyqtwebengine ruamel-yaml lxml"
   ]
  },
  {
   "cell_type": "code",
   "execution_count": 1,
   "id": "f81b30b1",
   "metadata": {
    "colab": {
     "base_uri": "https://localhost:8080/"
    },
    "id": "f81b30b1",
    "outputId": "9a8d8ae4-f4ef-4882-d68e-d6eed965eb39"
   },
   "outputs": [],
   "source": [
    "import wikipedia\n",
    "import re\n",
    "import pywikibot\n",
    "import requests\n",
    "from bs4 import BeautifulSoup\n",
    "import pandas as pd\n",
    "from tqdm import tqdm\n",
    "tqdm.pandas()\n",
    "import seaborn as sns\n",
    "import matplotlib.pyplot as plt\n",
    "from urllib.request import urlopen\n",
    "import json\n"
   ]
  },
  {
   "cell_type": "code",
   "execution_count": 2,
   "id": "fd8bcd14",
   "metadata": {
    "id": "fd8bcd14"
   },
   "outputs": [],
   "source": [
    "wikipedia.set_lang(\"en\")  #We make our research in english"
   ]
  },
  {
   "cell_type": "markdown",
   "id": "0adaa4eb",
   "metadata": {},
   "source": [
    "#### definition of the function for the CORPUS SELECTION"
   ]
  },
  {
   "cell_type": "code",
   "execution_count": 15,
   "id": "35da025a",
   "metadata": {},
   "outputs": [],
   "source": [
    "def function_to_get_all_the_bloody_titles(key_words : str)-> (list[str],int):\n",
    "    ''' \n",
    "    \n",
    "    '''\n",
    "    titles = []\n",
    "    a = key_words.lower().replace(' ', '+')\n",
    "    scraped_url = 'https://en.wikipedia.org/w/index.php?title=Special:Search&limit=5000&offset=0&profile=default&search={}&ns0=1'.format(a)\n",
    "    html_text = requests.get(scraped_url).text\n",
    "    soup = BeautifulSoup(html_text, 'lxml')\n",
    "    r = soup.find('div', {'class' : 'results-info'})\n",
    "    nbr_result = int(r.get('data-mw-num-results-total'))\n",
    "    for interest in soup.find_all('div', {'class' : 'mw-search-result-heading'}):\n",
    "        titles.append(interest.find('a')['title'])\n",
    "    return titles, nbr_result"
   ]
  },
  {
   "cell_type": "code",
   "execution_count": 10,
   "id": "5e98e5f3",
   "metadata": {
    "id": "5e98e5f3"
   },
   "outputs": [],
   "source": [
    "def get_section_titles(page : str) -> list[str]:\n",
    "    '''\n",
    "    Returns the section titles\n",
    "\n",
    "    :param page: Title of the page\n",
    "    :return: The list of section titles\n",
    "    '''\n",
    "    section_tit = set()\n",
    "    section_title = []\n",
    "    scraped_url = wikipedia.page(page, auto_suggest = False).url\n",
    "    html_text = requests.get(scraped_url).text\n",
    "    soup = BeautifulSoup(html_text, 'lxml')\n",
    "    r = soup.find_all('h2') + soup.find_all('h3') + soup.find_all('h4')\n",
    "    for i in r:\n",
    "        if i.find('span', {'class' : 'mw-headline'}) is not None:\n",
    "            section_tit.add(i.find('span', {'class' : 'mw-headline'})['id'])\n",
    "    for i in section_tit:\n",
    "        section_title.append(i.replace('_', ' '))        \n",
    "    return section_title"
   ]
  },
  {
   "cell_type": "code",
   "execution_count": 12,
   "id": "56b2c36e",
   "metadata": {
    "id": "56b2c36e"
   },
   "outputs": [],
   "source": [
    "#We define a function to automatically set up a corpus of related articles\n",
    "def corpus_selection(word_keys : str , number_of_results : int, key_for_section : str) -> list[str]:\n",
    "    '''\n",
    "    Select the corpus if the keywords are in the section or in the title\n",
    "\n",
    "    :param word_keys : string \n",
    "    \n",
    "    :return: a dictionnary containing the title of all the pages of the corpus\n",
    "    '''\n",
    "    corpus = []\n",
    "    proper_list = []\n",
    "    left_list = []\n",
    "    function = function_to_get_all_the_bloody_titles(word_keys)\n",
    "    nbr_result = function[1]\n",
    "    search_list = function[0] #Select and put in a list number_of_results wikipedia articles related to word_keys\n",
    "    \n",
    "    for article in tqdm(search_list):\n",
    "        try:\n",
    "            wikipedia.summary(article, auto_suggest = False)\n",
    "            proper_list.append(article)\n",
    "        except wikipedia.exceptions.DisambiguationError as e:\n",
    "            pass\n",
    "        except wikipedia.exceptions.PageError as e:\n",
    "            try:\n",
    "                wikipedia.summary(article, auto_suggest = False)\n",
    "                proper_list.append(article)\n",
    "            except wikipedia.exceptions.PageError as e:\n",
    "                pass\n",
    "    \n",
    "    for proper_article in tqdm(proper_list):\n",
    "        if key_for_section in proper_article.lower(): #Among these articles, select the ones whose title contains key_for_selection for the corpus\n",
    "            corpus.append(proper_article)\n",
    "        else:\n",
    "            left_list.append(proper_article) #Put the rest of the articles in a list\n",
    "            \n",
    "    for left_article in tqdm(left_list):\n",
    "        sec_tit = []\n",
    "        try :\n",
    "            sec_tit = get_section_titles(left_article)\n",
    "            for section in sec_tit:\n",
    "                if key_for_section.lower() in section.lower() and left_article not in corpus:\n",
    "                    corpus.append(left_article)\n",
    "        except wikipedia.exceptions.DisambiguationError as e:\n",
    "            pass\n",
    "        except wikipedia.exceptions.PageError as e:\n",
    "            try:\n",
    "                sec_tit = get_section_titles(left_article)\n",
    "                for section in sec_tit:\n",
    "                    if key_for_section.lower() in section.lower() and left_article not in corpus:\n",
    "                        corpus.append(left_article)\n",
    "            except wikipedia.exceptions.PageError as e:\n",
    "                pass\n",
    "\n",
    "    return corpus[:number_of_results]"
   ]
  },
  {
   "cell_type": "markdown",
   "id": "3138cced",
   "metadata": {},
   "source": [
    "## TO LAUNCH THE CORPUS SELECTION"
   ]
  },
  {
   "cell_type": "code",
   "execution_count": 16,
   "id": "5cdc44c6",
   "metadata": {
    "id": "a5b7fa6c",
    "outputId": "8714b8ff-53a0-4833-88eb-cfe1694a77f3"
   },
   "outputs": [
    {
     "name": "stderr",
     "output_type": "stream",
     "text": [
      "100%|████████████████████████████████████████████████████████████████████████████████| 10/10 [00:00<00:00, 9988.82it/s]\n",
      "100%|██████████████████████████████████████████████████████████████████████████████████████████| 10/10 [00:00<?, ?it/s]\n",
      "0it [00:00, ?it/s]"
     ]
    },
    {
     "name": "stdout",
     "output_type": "stream",
     "text": [
      "Wall time: 1.01 s\n"
     ]
    },
    {
     "name": "stderr",
     "output_type": "stream",
     "text": [
      "\n"
     ]
    }
   ],
   "source": [
    "%%time\n",
    "search_list = corpus_selection(\"Effects of climate change\",5000, 'climate change')\n"
   ]
  },
  {
   "cell_type": "code",
   "execution_count": 17,
   "id": "89d8e490",
   "metadata": {},
   "outputs": [
    {
     "data": {
      "text/plain": [
       "10"
      ]
     },
     "execution_count": 17,
     "metadata": {},
     "output_type": "execute_result"
    }
   ],
   "source": [
    "len(search_list)"
   ]
  },
  {
   "cell_type": "code",
   "execution_count": 18,
   "id": "68c6e2ec",
   "metadata": {},
   "outputs": [],
   "source": [
    "search_list=[\"Effects of climate change\"]"
   ]
  },
  {
   "cell_type": "markdown",
   "id": "677d2a3a",
   "metadata": {},
   "source": [
    "### Get the information on the protected articles of the corpus"
   ]
  },
  {
   "cell_type": "code",
   "execution_count": 19,
   "id": "a9dd1e62",
   "metadata": {},
   "outputs": [],
   "source": [
    "def protection_status(data):\n",
    "    \n",
    "    years_off = []\n",
    "    for i in range(22):\n",
    "        years_off.append(2001+i)\n",
    "    \n",
    "    wrong_ones = []\n",
    "    dot = pd.DataFrame(years_off)\n",
    "    \n",
    "    for article in data:\n",
    "        \n",
    "        html_text = requests.get(('https://en.wikipedia.org/wiki/Special:Log?type=protect&user=&page={}&wpdate=&tagfilter=&subtype=').format(article)).text\n",
    "        soup = BeautifulSoup(html_text, 'lxml')\n",
    "        dic = {}\n",
    "        results = soup.find_all('li', {'class' : 'mw-logline-protect'})\n",
    "        \n",
    "        for i in results:\n",
    "            z = i.find('a')\n",
    "            protection = i.get('data-mw-logaction')\n",
    "            date = str(z)[str(z).find('Log\">') + 5:str(z).find('</a>')]\n",
    "            dic[pd.to_datetime(date, format = '%H:%M, %d %B %Y')] = protection\n",
    "        \n",
    "        if 'expires' in str(results):\n",
    "            res = str(results).split('span')\n",
    "            for string in res:\n",
    "                if '] (expires' in string:\n",
    "                    date_get = string[string.find('] (expires ') + 11:string.find(' (UTC))')]\n",
    "                    if ') [' in date_get:\n",
    "                        date_get = date_get[:date_get.find(') [')]\n",
    "                    if '] (' in date_get:\n",
    "                        date_get = date_get[date_get.find(', '):]\n",
    "                    if ')' in date_get:\n",
    "                        date_get = date_get.replace(')', '')\n",
    "                    if date_get[:2] == ', ':\n",
    "                        date_get = date_get[2:]\n",
    "                    if date_get[-1] == ' ':\n",
    "                        date_get = date_get[:-1]\n",
    "                    if ',' in date_get:\n",
    "                        date_get = date_get.replace(',', '')\n",
    "                    try:\n",
    "                        dic[pd.to_datetime(date_get, format = '%H:%M %d %B %Y')] = 'protect/unprotect'\n",
    "                    except:\n",
    "                        try:\n",
    "                            dic[pd.to_datetime(date_get, format = '%H:%M %B %d %Y')] = 'protect/unprotect'\n",
    "                        except:\n",
    "                            wrong_ones.append(article)\n",
    "\n",
    "        if len(dic) != 0:\n",
    "            dic = dict(sorted(dic.items()))\n",
    "            new_dic = {}\n",
    "            s = set()\n",
    "            list_date = list(dic.keys())[::-1]\n",
    "            for date in list_date:\n",
    "                s.add(date.year)\n",
    "            for j in sorted(s):\n",
    "                deadline = pd.to_datetime('30 June {} 00:00:00'.format(j))\n",
    "                same_year = []\n",
    "                for date in list_date:\n",
    "                    if date.year == deadline.year and date <= deadline:\n",
    "                        same_year.append(date)\n",
    "                        if len(same_year) != 0:\n",
    "                            new_dic[deadline.year] = dic[max(same_year)]\n",
    "                    else :\n",
    "                        if date.year == deadline.year and date > pd.to_datetime('30 June {}'.format(max(s))):\n",
    "                            new_dic[max(s) + 1] = dic[max(list_date)]\n",
    "\n",
    "            keys = list(new_dic.keys())\n",
    "            for year in years_off:\n",
    "                if year < min(keys):\n",
    "                    new_dic[year] = 'protect/unprotect'\n",
    "                elif year > max(keys):\n",
    "                    new_dic[year] = new_dic[max(keys)]\n",
    "                else:\n",
    "                    for low in keys:\n",
    "                        for high in keys:\n",
    "                            if year > low and year < high and len(keys[keys.index(low):keys.index(high)]) == 1:\n",
    "                                new_dic[year] = new_dic[low]\n",
    "                                \n",
    "            d = dict(sorted(new_dic.items()))\n",
    "            \n",
    "            if len(d) == 22:\n",
    "                dot[article] = d.values()\n",
    "            else:\n",
    "                dot[article] = list(d.values())[:22]\n",
    "        \n",
    "    return dot"
   ]
  },
  {
   "cell_type": "code",
   "execution_count": 20,
   "id": "c60d33ab",
   "metadata": {},
   "outputs": [],
   "source": [
    "protection_status_evolution = protection_status(search_list)"
   ]
  },
  {
   "cell_type": "markdown",
   "id": "b4e89545",
   "metadata": {},
   "source": [
    "#### creation of the dataframe"
   ]
  },
  {
   "cell_type": "code",
   "execution_count": 21,
   "id": "9b9c25b2",
   "metadata": {
    "id": "9b9c25b2"
   },
   "outputs": [
    {
     "name": "stderr",
     "output_type": "stream",
     "text": [
      "100%|████████████████████████████████████████████████████████████████████████████████████| 1/1 [00:02<00:00,  2.01s/it]"
     ]
    },
    {
     "name": "stdout",
     "output_type": "stream",
     "text": [
      "Wall time: 2.03 s\n"
     ]
    },
    {
     "name": "stderr",
     "output_type": "stream",
     "text": [
      "\n"
     ]
    },
    {
     "data": {
      "text/html": [
       "<div>\n",
       "<style scoped>\n",
       "    .dataframe tbody tr th:only-of-type {\n",
       "        vertical-align: middle;\n",
       "    }\n",
       "\n",
       "    .dataframe tbody tr th {\n",
       "        vertical-align: top;\n",
       "    }\n",
       "\n",
       "    .dataframe thead th {\n",
       "        text-align: right;\n",
       "    }\n",
       "</style>\n",
       "<table border=\"1\" class=\"dataframe\">\n",
       "  <thead>\n",
       "    <tr style=\"text-align: right;\">\n",
       "      <th></th>\n",
       "      <th>Name only</th>\n",
       "      <th>page url</th>\n",
       "      <th>text</th>\n",
       "    </tr>\n",
       "  </thead>\n",
       "  <tbody>\n",
       "    <tr>\n",
       "      <th>0</th>\n",
       "      <td>Effects of climate change</td>\n",
       "      <td>https://en.wikipedia.org/wiki/Effects_of_clima...</td>\n",
       "      <td>{{short description|Effects created by climate...</td>\n",
       "    </tr>\n",
       "  </tbody>\n",
       "</table>\n",
       "</div>"
      ],
      "text/plain": [
       "                   Name only  \\\n",
       "0  Effects of climate change   \n",
       "\n",
       "                                            page url  \\\n",
       "0  https://en.wikipedia.org/wiki/Effects_of_clima...   \n",
       "\n",
       "                                                text  \n",
       "0  {{short description|Effects created by climate...  "
      ]
     },
     "execution_count": 21,
     "metadata": {},
     "output_type": "execute_result"
    }
   ],
   "source": [
    "%%time\n",
    "def crea_dataframe(search_list : list,keyword : str)-> pd.DataFrame:\n",
    "    '''\n",
    "    param search_list: liste containing the name of all the articles\n",
    "    param keyword: string containing the keyword that we want to scrap\n",
    "    \n",
    "    \n",
    "    return: data frame containg the name, the url and the wikicode of the entire page if the keyword is in the title.\n",
    "    If it's not it returns the wiki code of the section containing the keyword only. Or return the wikicode for each entire page if the line with recode are commented\n",
    "    '''\n",
    "    tableau =[] #creation of a list that will contain a dictionnary for each page with the information\n",
    "    \n",
    "    \n",
    "    #this part is if you only want to scrap the citations for the functions\n",
    "    #It detects if the keyword is included in a section, a subsection or a subsubsection\n",
    "    #if the aim is to plot only the section then just remove the ''' '''\n",
    "    '''\n",
    "    recode= r'(?:==(?:\\w|\\ )*?(?:'+keyword[0].lower()+'|'+keyword[0].upper()+')'+keyword[1:]+'(?:\\w|\\ )*?==\\n)((?:.|\\n)*?)(?:==(?:\\w|\\ )*==\\n)'\n",
    "    recode2=r'(?:===(?:\\w|\\ )*?(?:'+keyword[0].lower()+'|'+keyword[0].upper()+')'+keyword[1:]+'(?:\\w|\\ )*?===\\n)((?:.|\\n)*?)(?:(?:===|==)(?:\\w|\\ )*(?:===|==)\\n)'\n",
    "    recode3=r'(?:====(?:\\w|\\ )*?(?:'+keyword[0].lower()+'|'+keyword[0].upper()+')'+keyword[1:]+'(?:\\w|\\ )*?====\\n)((?:.|\\n)*?)(?:(?:===|==|====)(?:\\w|\\ )*(?:===|==|====)\\n)'\n",
    "    '''\n",
    "    #browse all the titles  of the search list\n",
    "    for i in tqdm(range(len(search_list))):\n",
    "             \n",
    "        #find the wikipedia page\n",
    "        page =wikipedia.page(search_list[i], auto_suggest = False)\n",
    "        page_title =page.title #give the clean name of the page\n",
    "        page_url=page.url #give the url of the page\n",
    "        site = pywikibot.Site(\"en\", \"wikipedia\")\n",
    "        page = pywikibot.Page(site, page_title)\n",
    "        \n",
    "        #if you want to scrap for only the section containing the keywordremove the next line and '''  '''\n",
    "        page_text=page.text\n",
    "                \n",
    "        '''\n",
    "        if keyword.lower() in page_title.lower(): \n",
    "            page_text=page.text\n",
    "        else:\n",
    "            page_text = str(re.findall(recode , page.text))\n",
    "        if page_text==\"[]\":\n",
    "            page_text = str(re.findall(recode2, page.text))\n",
    "        if page_text== \"[]\":\n",
    "            page_text = str(re.findall(recode3, page.text))\n",
    "        '''\n",
    "            \n",
    "        infopage ={'Name only' : page_title, 'page url' :page_url,'text':page_text}\n",
    "        tableau.append(infopage)\n",
    "    df=pd.DataFrame.from_dict(tableau)\n",
    "    return df\n",
    "\n",
    "\n",
    "df=crea_dataframe(search_list,\"climate change\")\n",
    "df"
   ]
  },
  {
   "cell_type": "markdown",
   "id": "4b9f98e2",
   "metadata": {},
   "source": [
    "#### definition of the function for the extraction of citation"
   ]
  },
  {
   "cell_type": "code",
   "execution_count": 22,
   "id": "5db5aeda",
   "metadata": {
    "id": "5db5aeda"
   },
   "outputs": [],
   "source": [
    "# Some additional functions\n",
    "def get_ids_from_ref(ref: str)-> dict:\n",
    "    '''\n",
    "    detects if the reference entering this program contains a doi or a pmid or a pmc and if it's the case the return it \n",
    "    Also returns the name of the journal in which the article has been published\n",
    "    \n",
    "    param ref : the string of a reference\n",
    "    \n",
    "    return ids:  a dictionnary containing the doi or pmid or pmc and the journal of the reference if it's a scientific reference\n",
    "    '''\n",
    "    \n",
    "    d = dict(re.findall(r'(doi|pmc|pmid)(?:(?:\\s?[=\\|]\\s?)|(?:\\.)|(?:(?:])*?:)|(?:\\s|\\/)|(?: *=))([^|\\s}]*)', ref))\n",
    "    if d!={}:\n",
    "        recode=re.findall(r'(journal of (?:\\w| )*)',ref)+re.findall(r\"''\\[{2}(.*)\\]{2}''\",ref)+re.findall(r'(?:journal) *?=((?:\\w| |\\[|-|\\.)*)',ref) \n",
    "        if recode!= []:\n",
    "            d[\"journal\"]= recode\n",
    "            #print(d[\"journal\"],ref)\n",
    "        recodeaccess =re.findall(r'doi-access *?=((?:\\w| )*)',ref)\n",
    "        if recodeaccess!= []:\n",
    "            d[\"access\"]= recode\n",
    "        \n",
    "        \n",
    "    ids = {k: v for k, v in d.items() if v}    \n",
    "    return ids\n",
    "\n",
    "        \n",
    "def get_citations(wikicode : str)-> dict:\n",
    "    '''\n",
    "    param  wikicode: a string containing the wikicode of the page or section of which we want to extract the code\n",
    "    \n",
    "    return a dictionnary containing all the information about the citation we want to extract\n",
    "    '''\n",
    "    #detection of the citations in the wikicode\n",
    "    citations = [c.lower() for c in re.findall(r'<ref(?:\\s(?:[^\\/]*?))?>(.*?)<\\/ref>', wikicode) + re.findall(r'({{(?:cite|vcite2|Cite)\\s[^}]*}})', wikicode)]\n",
    "    s = set()\n",
    "    \n",
    "    i=0\n",
    "    for c in citations:\n",
    "        i+=1\n",
    "        s.update(c.split('<br/>'))\n",
    "        \n",
    "    #Creation of a dataframe containing the citation    \n",
    "    ds = pd.DataFrame(s, columns=['ref'])\n",
    "    \n",
    "   \n",
    "    ds['ids'] = ds['ref'].apply(get_ids_from_ref)\n",
    "    ds['pmid'] = ds['ids'].apply(lambda x: x.get('pmid', None))\n",
    "    ds['doi'] = ds['ids'].apply(lambda x: x.get('doi', None))\n",
    "    ds['pmc'] = ds['ids'].apply(lambda x: x.get('pmc', None))\n",
    "    ds[\"journal\"]=ds['ids'].apply(lambda x: x.get('journal', None))\n",
    "    ds[\"access\"]=ds['ids'].apply(lambda x: x.get('access', None))\n",
    "    ds[\"available\"]=ds[\"ids\"]== {}\n",
    "    \n",
    "    \n",
    "    dsbis= ds[(~ds['pmid'].isnull())|~(ds['doi'].isnull())|~(ds['pmc'].isnull())]\n",
    "    \n",
    "    ds = ds[(~ds['pmid'].duplicated()) | (ds['pmid'].isnull())]\n",
    "    ds = ds[(~ds['doi'].duplicated()) | (ds['doi'].isnull())]\n",
    "    ds = ds[(~ds['pmc'].duplicated()) | (ds['pmc'].isnull())]\n",
    "\n",
    "\n",
    "    dg=ds.loc[ds[\"available\"]==True,[\"ref\"]]\n",
    "    dg['ids']=dg['ref'].apply(get_IPCC_guardian_ipbes_from_ref)\n",
    "    dg['IPCC'] = dg['ids'].apply(lambda x: x.get('IPCC', None))\n",
    "    dg['ipbes'] = dg['ids'].apply(lambda x: x.get('ipbes', None))\n",
    "    dg['guard'] = dg['ids'].apply(lambda x: x.get('guardian', None))\n",
    "    dg[\"available\"]= dg[\"ids\"]=={}\n",
    "    \n",
    "    \n",
    "    dcit=dg.loc[dg[\"available\"]==True,[\"ref\"]]\n",
    "    dcit['ids'] = dcit['ref'].apply(get_cit_from_ref)\n",
    "    dcit['org'] = dcit['ids'].apply(lambda x: x.get('org', None))\n",
    "    dcit['gov'] = dcit['ids'].apply(lambda x: x.get('gov', None))\n",
    "    dcit['com'] = dcit['ids'].apply(lambda x: x.get('com', None))\n",
    "    dcit['ncbi'] = dcit['ids'].apply(lambda x: x.get('ncbi.nlm.nih.gov', None))\n",
    "    dcit[\"available\"]= dcit[\"ids\"]=={}\n",
    "    \n",
    "    #creation of a data frame with all the other type of citation that weren't extracted\n",
    "    drest = dcit.loc[dcit[\"available\"]==True,[\"ref\"]]\n",
    "    \n",
    "    dsjournal=ds[(~ds['journal'].isnull())]\n",
    "    dgbisgov=dcit[(~dcit['gov'].isnull())]    \n",
    "    dgbisorg=dcit[(~dcit['org'].isnull())]\n",
    "    dgbisIPCC=dg[(~dg['IPCC'].isnull())]    \n",
    "    dgbiscom=dcit[(~dcit['com'].isnull())]\n",
    "    dgbisncbi=dcit[(~dcit['ncbi'].isnull())]\n",
    "    \n",
    "    dsaccess=ds[(~ds[\"access\"].isnull())]\n",
    "    dic = {'Ref count': ds.shape[0],\n",
    "           'journal_count': ds[(~ds['journal'].isnull())].shape[0]+ dcit[(~dcit['ncbi'].isnull())].shape[0],\n",
    "           'nb_journal_citations': (dcit[(~dcit['ncbi'].isnull())]).shape[0]+ds[(~ds['pmid'].isnull()) | (~ds['doi'].isnull()) | (~ds['pmc'].isnull())].shape[0],\n",
    "           \"citationjournal\":list(list(dsbis[\"doi\"])+list(dsbis[\"pmid\"])+list(dsbis[\"pmc\"])+list(dgbisncbi[\"ncbi\"])),\n",
    "           \"citations.org\": dcit[(~dcit['org'].isnull())].shape[0],\n",
    "           \"citations.gov\": dcit[(~dcit['gov'].isnull())].shape[0],\n",
    "           \"citationgovtext\":list(dgbisgov['gov']),\n",
    "           \"citationorgtext\":list(dgbisorg['org']),\n",
    "           \"citationsIPCC.ch\": dg[(~dg['IPCC'].isnull())].shape[0],\n",
    "           \"citationautre\":drest[\"ref\"].shape[0],\n",
    "           \"citationcomtext\":list(dgbiscom['com']),\n",
    "           \"access\": list(dsaccess[\"access\"]),\n",
    "           \"nbaccessdetect\" : dsaccess[\"access\"].shape[0],\n",
    "           \"journal\": list(dsjournal['journal'])+list(dgbisncbi[\"ncbi\"]),\n",
    "           \"citations.com\": dcit[(~dcit['com'].isnull())].shape[0],\n",
    "           \"citationsipbes\": dg[(~dg['ipbes'].isnull())].shape[0],\n",
    "           \"citationguardian\": dg[(~dg['guard'].isnull())].shape[0]}\n",
    "    \n",
    "    return dic"
   ]
  },
  {
   "cell_type": "code",
   "execution_count": 23,
   "id": "8a5bacee",
   "metadata": {},
   "outputs": [],
   "source": [
    "def get_cit_from_ref(ref: str)-> dict:\n",
    "    '''\n",
    "    detects if the reference entering this program contains a.org, .gov or .com citation except if it's a guardian citation\n",
    "    \n",
    "    param ref : the string of a citation\n",
    "    \n",
    "    return ids:  a dictionnary containing as keys org, gov and com and in values the name of the site of the citation\n",
    "    '''\n",
    "    d = dict(re.findall(r\"((?:[(?:\\.)(?:\\-)\\w]*)\\.(org|com|gov))\", ref, flags=re.IGNORECASE))\n",
    "    \n",
    "    #remove the archive because we don't want to count them in the number of .org citation\n",
    "    if 'archive.org' in d :\n",
    "        d.pop('archive.org', None)\n",
    "    if \"web.archive.org\" in d:\n",
    "        d.pop('web.archive.org', None)\n",
    "    if \"www.webcitation.org\" in d:\n",
    "        d.pop('www.webcitation.org', None)\n",
    "    if \"ghostarchive.org\" in d:\n",
    "        d.pop(\"ghostarchive.org\", None)\n",
    "    if \"www.ncbi.nlm.nih.gov\" in d or \"ncbi.nlm.nih.gov\" in d:\n",
    "        d.pop(\"www.ncbi.nlm.nih.gov\", None)\n",
    "        d.pop(\"ncbi.nlm.nih.gov\",None)\n",
    "        d[\"ncbi\"]=\"ncbi.nlm.nih.gov\"\n",
    "        \n",
    "        \n",
    "    ids = {v: k for k, v in d.items() if v}\n",
    "    \n",
    "    return ids"
   ]
  },
  {
   "cell_type": "code",
   "execution_count": 24,
   "id": "15da12a4",
   "metadata": {},
   "outputs": [],
   "source": [
    "def get_IPCC_guardian_ipbes_from_ref(ref: str) -> dict:\n",
    "    '''\n",
    "    detects if the reference entering this program is an IPCC, ipbes or guardian citation\n",
    "    \n",
    "    param ref : the string of a citation\n",
    "    \n",
    "    return :  a dictionnary containing as keys guardian, ipbes and IPCC and in values the name of the citation extracted\n",
    "    '''\n",
    "    g={}\n",
    "    citation=list(set(re.findall(r\"(ipcc|ipbes|guardian)\", ref, flags=re.IGNORECASE)))\n",
    "    if citation !=None and citation !=[]:\n",
    "        if \"ipcc\" in citation:\n",
    "            g[\"IPCC\"]=citation\n",
    "        if \"ipbes\" in citation:\n",
    "            g[\"ipbes\"]=citation\n",
    "        if \"guardian\" in citation:\n",
    "            g[\"guardian\"]=citation\n",
    "        return g\n",
    "    else:\n",
    "        return{}"
   ]
  },
  {
   "cell_type": "markdown",
   "id": "6807ffed",
   "metadata": {},
   "source": [
    "## Get the citations"
   ]
  },
  {
   "cell_type": "code",
   "execution_count": 27,
   "id": "079815f5",
   "metadata": {
    "id": "079815f5",
    "outputId": "1b0735ae-501c-4b44-c569-05d07c76c192",
    "scrolled": true
   },
   "outputs": [
    {
     "name": "stdout",
     "output_type": "stream",
     "text": [
      "Getting citations\n"
     ]
    },
    {
     "name": "stderr",
     "output_type": "stream",
     "text": [
      "100%|████████████████████████████████████████████████████████████████████████████████████| 1/1 [00:00<00:00,  7.87it/s]\n"
     ]
    },
    {
     "name": "stdout",
     "output_type": "stream",
     "text": [
      "getting the number of references\n"
     ]
    },
    {
     "name": "stderr",
     "output_type": "stream",
     "text": [
      "100%|███████████████████████████████████████████████████████████████████████████████████| 1/1 [00:00<00:00, 500.10it/s]\n"
     ]
    },
    {
     "name": "stdout",
     "output_type": "stream",
     "text": [
      "getting the number of scientific citations\n"
     ]
    },
    {
     "name": "stderr",
     "output_type": "stream",
     "text": [
      "100%|████████████████████████████████████████████████████████████████████████████████████████████| 1/1 [00:00<?, ?it/s]\n",
      "100%|███████████████████████████████████████████████████████████████████████████████████| 1/1 [00:00<00:00, 986.90it/s]\n",
      "100%|███████████████████████████████████████████████████████████████████████████████████| 1/1 [00:00<00:00, 993.91it/s]\n",
      "100%|███████████████████████████████████████████████████████████████████████████████████| 1/1 [00:00<00:00, 499.86it/s]\n"
     ]
    },
    {
     "name": "stdout",
     "output_type": "stream",
     "text": [
      "getting the number of .org citation\n"
     ]
    },
    {
     "name": "stderr",
     "output_type": "stream",
     "text": [
      "100%|██████████████████████████████████████████████████████████████████████████████████| 1/1 [00:00<00:00, 1006.55it/s]\n",
      "100%|███████████████████████████████████████████████████████████████████████████████████| 1/1 [00:00<00:00, 996.27it/s]\n"
     ]
    },
    {
     "name": "stdout",
     "output_type": "stream",
     "text": [
      "getting the number of .gov citation\n"
     ]
    },
    {
     "name": "stderr",
     "output_type": "stream",
     "text": [
      "100%|███████████████████████████████████████████████████████████████████████████████████| 1/1 [00:00<00:00, 499.26it/s]\n",
      "100%|██████████████████████████████████████████████████████████████████████████████████| 1/1 [00:00<00:00, 1000.55it/s]\n"
     ]
    },
    {
     "name": "stdout",
     "output_type": "stream",
     "text": [
      "getting the number of IPCC citation\n"
     ]
    },
    {
     "name": "stderr",
     "output_type": "stream",
     "text": [
      "100%|██████████████████████████████████████████████████████████████████████████████████| 1/1 [00:00<00:00, 1001.98it/s]\n"
     ]
    },
    {
     "name": "stdout",
     "output_type": "stream",
     "text": [
      "getting the .com citations\n"
     ]
    },
    {
     "name": "stderr",
     "output_type": "stream",
     "text": [
      "100%|███████████████████████████████████████████████████████████████████████████████████| 1/1 [00:00<00:00, 498.97it/s]\n",
      "100%|██████████████████████████████████████████████████████████████████████████████████| 1/1 [00:00<00:00, 1000.07it/s]\n"
     ]
    },
    {
     "name": "stdout",
     "output_type": "stream",
     "text": [
      "getting the ipbes citation\n"
     ]
    },
    {
     "name": "stderr",
     "output_type": "stream",
     "text": [
      "100%|██████████████████████████████████████████████████████████████████████████████████| 1/1 [00:00<00:00, 1003.66it/s]\n"
     ]
    },
    {
     "name": "stdout",
     "output_type": "stream",
     "text": [
      "getting the guardian citation\n"
     ]
    },
    {
     "name": "stderr",
     "output_type": "stream",
     "text": [
      "100%|███████████████████████████████████████████████████████████████████████████████████| 1/1 [00:00<00:00, 997.22it/s]\n"
     ]
    },
    {
     "name": "stdout",
     "output_type": "stream",
     "text": [
      "getting the other citation\n"
     ]
    },
    {
     "name": "stderr",
     "output_type": "stream",
     "text": [
      "100%|███████████████████████████████████████████████████████████████████████████████████| 1/1 [00:00<00:00, 996.75it/s]\n"
     ]
    },
    {
     "name": "stdout",
     "output_type": "stream",
     "text": [
      "Done!\n"
     ]
    },
    {
     "data": {
      "text/html": [
       "<div>\n",
       "<style scoped>\n",
       "    .dataframe tbody tr th:only-of-type {\n",
       "        vertical-align: middle;\n",
       "    }\n",
       "\n",
       "    .dataframe tbody tr th {\n",
       "        vertical-align: top;\n",
       "    }\n",
       "\n",
       "    .dataframe thead th {\n",
       "        text-align: right;\n",
       "    }\n",
       "</style>\n",
       "<table border=\"1\" class=\"dataframe\">\n",
       "  <thead>\n",
       "    <tr style=\"text-align: right;\">\n",
       "      <th></th>\n",
       "      <th>Name only</th>\n",
       "      <th>page url</th>\n",
       "      <th>text</th>\n",
       "      <th>citations</th>\n",
       "      <th>Ref count</th>\n",
       "      <th>nb_journal_citations</th>\n",
       "      <th>journalcitation</th>\n",
       "      <th>journal</th>\n",
       "      <th>nbjournaldetected</th>\n",
       "      <th>access</th>\n",
       "      <th>...</th>\n",
       "      <th>citationipbes</th>\n",
       "      <th>citationguardian</th>\n",
       "      <th>citationautre</th>\n",
       "      <th>citationtext_total</th>\n",
       "      <th>org count</th>\n",
       "      <th>gov count</th>\n",
       "      <th>com count</th>\n",
       "      <th>Sci count</th>\n",
       "      <th>IPCC count</th>\n",
       "      <th>percentage of official sources</th>\n",
       "    </tr>\n",
       "  </thead>\n",
       "  <tbody>\n",
       "    <tr>\n",
       "      <th>0</th>\n",
       "      <td>Effects of climate change</td>\n",
       "      <td>https://en.wikipedia.org/wiki/Effects_of_clima...</td>\n",
       "      <td>{{short description|Effects created by climate...</td>\n",
       "      <td>{'Ref count': 252, 'journal_count': 55, 'nb_jo...</td>\n",
       "      <td>252</td>\n",
       "      <td>58</td>\n",
       "      <td>[10.1073/pnas.1910114117, 10.1126/science.240....</td>\n",
       "      <td>[[proceedings of the national academy of scien...</td>\n",
       "      <td>55</td>\n",
       "      <td>[[proceedings of the national academy of scien...</td>\n",
       "      <td>...</td>\n",
       "      <td>2</td>\n",
       "      <td>10</td>\n",
       "      <td>15</td>\n",
       "      <td>[www.nifc.gov, pubs.usgs.gov, www.arctic.noaa....</td>\n",
       "      <td>0.107143</td>\n",
       "      <td>0.095238</td>\n",
       "      <td>0.087302</td>\n",
       "      <td>0.230159</td>\n",
       "      <td>0.376984</td>\n",
       "      <td>0.81746</td>\n",
       "    </tr>\n",
       "  </tbody>\n",
       "</table>\n",
       "<p>1 rows × 28 columns</p>\n",
       "</div>"
      ],
      "text/plain": [
       "                   Name only  \\\n",
       "0  Effects of climate change   \n",
       "\n",
       "                                            page url  \\\n",
       "0  https://en.wikipedia.org/wiki/Effects_of_clima...   \n",
       "\n",
       "                                                text  \\\n",
       "0  {{short description|Effects created by climate...   \n",
       "\n",
       "                                           citations  Ref count  \\\n",
       "0  {'Ref count': 252, 'journal_count': 55, 'nb_jo...        252   \n",
       "\n",
       "   nb_journal_citations                                    journalcitation  \\\n",
       "0                    58  [10.1073/pnas.1910114117, 10.1126/science.240....   \n",
       "\n",
       "                                             journal  nbjournaldetected  \\\n",
       "0  [[proceedings of the national academy of scien...                 55   \n",
       "\n",
       "                                              access  ... citationipbes  \\\n",
       "0  [[proceedings of the national academy of scien...  ...             2   \n",
       "\n",
       "   citationguardian citationautre  \\\n",
       "0                10            15   \n",
       "\n",
       "                                  citationtext_total org count  gov count  \\\n",
       "0  [www.nifc.gov, pubs.usgs.gov, www.arctic.noaa....  0.107143   0.095238   \n",
       "\n",
       "   com count Sci count  IPCC count  percentage of official sources  \n",
       "0   0.087302  0.230159    0.376984                         0.81746  \n",
       "\n",
       "[1 rows x 28 columns]"
      ]
     },
     "execution_count": 27,
     "metadata": {},
     "output_type": "execute_result"
    }
   ],
   "source": [
    "print('Getting citations')\n",
    "df['citations'] = df['text'].progress_apply(lambda x: get_citations(x))\n",
    "\n",
    "print(\"getting the number of references\")\n",
    "df['Ref count'] = df['citations'].progress_apply(lambda x: x['Ref count'])\n",
    "\n",
    "print(\"getting the number of scientific citations\")\n",
    "df['nb_journal_citations'] = df['citations'].progress_apply(lambda x: x['nb_journal_citations'])\n",
    "df[\"journalcitation\"] = df['citations'].progress_apply(lambda x: x['citationjournal'])\n",
    "df[\"journal\"] = df['citations'].progress_apply(lambda x: x['journal'])\n",
    "df[\"nbjournaldetected\"]=df['citations'].progress_apply(lambda x: x['journal_count'])\n",
    "\n",
    "\n",
    "\n",
    "print(\"getting the number of .org citation\")\n",
    "df[\"citation org\"]=df['citations'].progress_apply(lambda x: x['citations.org'])\n",
    "df[\"citationorgtext\"]=df['citations'].progress_apply(lambda x: x[\"citationorgtext\"])\n",
    "\n",
    "print(\"getting the number of .gov citation\")\n",
    "df[\"citation gov\"]=df['citations'].progress_apply(lambda x: x[\"citations.gov\"])\n",
    "df[\"citationgovtext\"]=df['citations'].progress_apply(lambda x: x[\"citationgovtext\"])\n",
    "\n",
    "print(\"getting the number of IPCC citation\")\n",
    "df[\"citation IPCC\"]=df['citations'].progress_apply(lambda x: x[\"citationsIPCC.ch\"])\n",
    "\n",
    "print(\"getting the .com citations\")\n",
    "df[\"citation com\"]=df['citations'].progress_apply(lambda x: x[\"citations.com\"])\n",
    "df[\"citationcomtext\"]=df['citations'].progress_apply(lambda x: x[\"citationcomtext\"])\n",
    "\n",
    "print(\"getting the ipbes citation\")\n",
    "df[\"citationipbes\"]=df['citations'].progress_apply(lambda x: x[\"citationsipbes\"])\n",
    "\n",
    "print(\"getting the guardian citation\")\n",
    "df[\"citationguardian\"]=df['citations'].progress_apply(lambda x: x[\"citationguardian\"])\n",
    "\n",
    "print(\"getting the other citation\")\n",
    "df[\"citationautre\"]=df['citations'].progress_apply(lambda x: x[\"citationautre\"])\n",
    "\n",
    "df[\"citationtext_total\"]=df[\"citationgovtext\"]+df[\"citationcomtext\"]+df[\"citationorgtext\"]+df[\"journal\"]\n",
    "\n",
    "df[\"org count\"]=df[\"citation org\"]/df[\"Ref count\"]\n",
    "df[\"gov count\"]=df[\"citation gov\"]/df[\"Ref count\"]\n",
    "df[\"com count\"]=df[\"citation com\"]/df[\"Ref count\"]\n",
    "df[\"Sci count\"]=df['nb_journal_citations']/df['Ref count']\n",
    "df['IPCC count']=df['citation IPCC']/df['Ref count']\n",
    "df['percentage of official sources']=(df['nb_journal_citations']+ df['citation gov']+ df['citation org']+df['citation IPCC']+df['citationipbes'])/df['Ref count']\n",
    "\n",
    "\n",
    "print('Done!')\n",
    "df.head()"
   ]
  },
  {
   "cell_type": "code",
   "execution_count": 28,
   "id": "2521a551",
   "metadata": {},
   "outputs": [
    {
     "data": {
      "text/plain": [
       "0.9482758620689655"
      ]
     },
     "execution_count": 28,
     "metadata": {},
     "output_type": "execute_result"
    }
   ],
   "source": [
    "df[\"nbjournaldetected\"].sum()/df[\"nb_journal_citations\"].sum()"
   ]
  },
  {
   "cell_type": "code",
   "execution_count": 29,
   "id": "e0b8dd4f",
   "metadata": {
    "scrolled": true
   },
   "outputs": [
    {
     "data": {
      "text/html": [
       "<div>\n",
       "<style scoped>\n",
       "    .dataframe tbody tr th:only-of-type {\n",
       "        vertical-align: middle;\n",
       "    }\n",
       "\n",
       "    .dataframe tbody tr th {\n",
       "        vertical-align: top;\n",
       "    }\n",
       "\n",
       "    .dataframe thead th {\n",
       "        text-align: right;\n",
       "    }\n",
       "</style>\n",
       "<table border=\"1\" class=\"dataframe\">\n",
       "  <thead>\n",
       "    <tr style=\"text-align: right;\">\n",
       "      <th></th>\n",
       "      <th>Name only</th>\n",
       "      <th>nb_journal_citations</th>\n",
       "      <th>citation IPCC</th>\n",
       "      <th>IPCC count</th>\n",
       "      <th>journal</th>\n",
       "      <th>citationguardian</th>\n",
       "    </tr>\n",
       "  </thead>\n",
       "  <tbody>\n",
       "    <tr>\n",
       "      <th>0</th>\n",
       "      <td>Effects of climate change</td>\n",
       "      <td>58</td>\n",
       "      <td>95</td>\n",
       "      <td>0.376984</td>\n",
       "      <td>[[proceedings of the national academy of scien...</td>\n",
       "      <td>10</td>\n",
       "    </tr>\n",
       "  </tbody>\n",
       "</table>\n",
       "</div>"
      ],
      "text/plain": [
       "                   Name only  nb_journal_citations  citation IPCC  IPCC count  \\\n",
       "0  Effects of climate change                    58             95    0.376984   \n",
       "\n",
       "                                             journal  citationguardian  \n",
       "0  [[proceedings of the national academy of scien...                10  "
      ]
     },
     "execution_count": 29,
     "metadata": {},
     "output_type": "execute_result"
    }
   ],
   "source": [
    "df.loc[:,[\"Name only\",\"nb_journal_citations\",\"citation IPCC\",\"IPCC count\",\"journal\",\"citationguardian\"]]\n"
   ]
  },
  {
   "cell_type": "markdown",
   "id": "6949a75e",
   "metadata": {},
   "source": [
    "## Creation of Dataframes containing the name of the most cited pages"
   ]
  },
  {
   "cell_type": "code",
   "execution_count": 30,
   "id": "a7d5bc8e",
   "metadata": {},
   "outputs": [],
   "source": [
    "def creadicorg(name_cit : str ,dicorg : dict,num):\n",
    "    '''\n",
    "    and the citation name_cit to the dictionnary dicorg\n",
    "    \n",
    "    param name_cit: the name of the citation in the form of a string\n",
    "    param dicorg: a dictionnary containing the name and number of citation already found is updated thanks to this funciton\n",
    "    return dicorg\n",
    "    '''\n",
    "    #print(name_cit)\n",
    "    name_cit=name_cit.replace('www.','')\n",
    "    name_cit=re.sub('^(\\[| )*', '', name_cit)\n",
    "    name_cit=re.sub(' *$', '', name_cit)\n",
    "    if \"proceedings of the national academy of science\" in name_cit or \"pnas\" in name_cit:\n",
    "        name_cit=\"PNAS\"\n",
    "    if \"google\" in name_cit:\n",
    "        name_cit=\"books.google.com\"\n",
    "    if name_cit in dicorg:\n",
    "        dicorg[name_cit]+=1\n",
    "    else:\n",
    "        dicorg[name_cit]=1\n",
    "    num+=1\n",
    "    return dicorg,num"
   ]
  },
  {
   "cell_type": "code",
   "execution_count": 38,
   "id": "d44476df",
   "metadata": {},
   "outputs": [],
   "source": [
    "def sortcitation(d,type_of_cit : str):\n",
    "    '''\n",
    "    param d: a column of a dataframe containing the text of the citation\n",
    "    \n",
    "    return dico: a dictionnary  the name of the site of interest and the numbers of time it is found in d. \n",
    "    return dforg : a dataframe containing the name of the site of interest and the numbers of time it's found in descending order. \n",
    "    '''\n",
    "    \n",
    "    dicorg={}\n",
    "    num=0\n",
    "    \n",
    "    for liste_cit in d:\n",
    "        #if the list is empty there is no need to extract\n",
    "        \n",
    "        if type(liste_cit)==str:\n",
    "            dicorg,num=creadicorg(liste_cit,dicorg,num)\n",
    "\n",
    "        if type(liste_cit)==list:\n",
    "            \n",
    "            for i in liste_cit:\n",
    "                if type(i)==str:\n",
    "                    dicorg,num=creadicorg(i,dicorg,num)\n",
    "                else:\n",
    "                    for j in i:\n",
    "                        if type(j)==str:\n",
    "                            \n",
    "                            dicorg,num=creadicorg(j,dicorg,num)\n",
    "                        else:\n",
    "                            for r in j:\n",
    "                                if type(r)==str:\n",
    "\n",
    "                                    dicorg,num=creadicorg(r,dicorg,num)\n",
    "                                else:\n",
    "                                    for t in r:\n",
    "                                        if type(t)==str:\n",
    "                                            dicorg,num=creadicorg(t,dicorg,num)\n",
    "                                        else :\n",
    "                                            print(\"test\",liste_cit)\n",
    "                            #dicorg=creadicorg(name_cit,dicorg)\n",
    "\n",
    "    dico=dicorg\n",
    "    #with all dictionary keys with values.\n",
    "    dforg=pd.DataFrame(list(dicorg.items()),columns=['name of site','number of times cited'])\n",
    "    dforg[\"type\"]= type_of_cit\n",
    "    dforg.sort_values(by=['number of times cited'], inplace=True, ascending=False)\n",
    "    return dforg,dico\n",
    "    "
   ]
  },
  {
   "cell_type": "code",
   "execution_count": 49,
   "id": "5cd6d652",
   "metadata": {},
   "outputs": [],
   "source": [
    "def plot_site_most_cited(d,top : int, title : str):\n",
    "    '''\n",
    "    plot the most cited sites\n",
    "    \n",
    "    param d: a column of a dataframe containing the text of the type of citation for example .org or only scientific journal\n",
    "    param minimum: the minimum number of times an site is cited to appear in our plot\n",
    "    '''\n",
    "    \n",
    "    sns.set_style(\"white\")\n",
    "    d=d[0:top]\n",
    "    palette ={\"org\" : \"#8da0cb\",\n",
    "             \"com\" : \"#fc8d62\" ,\n",
    "             \"IPCC\" : \"#a6d854\",\n",
    "             \"gov\" : \"#e78ac3\",\n",
    "             \"journal\" : \"#66c2a5\"}\n",
    "    \n",
    "    ax=sns.barplot(x=\"number of times cited\", y=\"name of site\", hue=\"type\", palette=palette, data=d,dodge=False,orient = 'h')\n",
    "    #sns.despine(left=True, bottom=True)\n",
    "    sns.move_legend(ax,\"lower right\")\n",
    "    for i in ax.containers:\n",
    "        ax.bar_label(i,)\n",
    "    #sns.set(font_scale=3)\n",
    "    plt.legend(loc = 2, bbox_to_anchor = (1,0.5))\n",
    "    ax.set(xlabel='Number of references',ylabel='',title=title)\n",
    "    #sns.set_context(\"paper\")\n",
    "    sns.set_context(\"poster\")\n",
    "    sns.set(rc={\"figure.figsize\":(12, 11)}) #width=3, #height=4\n",
    "    sfig = ax.get_figure()\n",
    "    sfig.savefig('most cited journal.svg')\n",
    "    #plt.savefig('most cited journal.png')"
   ]
  },
  {
   "cell_type": "code",
   "execution_count": 50,
   "id": "d0bc33c2",
   "metadata": {
    "scrolled": false
   },
   "outputs": [],
   "source": [
    "#dftot,dico=sortcitation(df.loc[:,\"citationtext_total\"],df)\n",
    "#plot_site_most_cited(dftot,0)"
   ]
  },
  {
   "cell_type": "code",
   "execution_count": 51,
   "id": "9201c422",
   "metadata": {},
   "outputs": [
    {
     "data": {
      "image/png": "[encoded data removed]",
      "text/plain": [
       "<Figure size 864x792 with 1 Axes>"
      ]
     },
     "metadata": {},
     "output_type": "display_data"
    }
   ],
   "source": [
    "#An example of the plot for .org citation\n",
    "dorg,dico=sortcitation(df.loc[:,\"citationorgtext\"],\"org\")    \n",
    "plot_site_most_cited(dorg,10,\".org site the most cited\")"
   ]
  },
  {
   "cell_type": "code",
   "execution_count": 52,
   "id": "26e5755f",
   "metadata": {},
   "outputs": [
    {
     "data": {
      "image/png": "[encoded data removed]",
      "text/plain": [
       "<Figure size 864x792 with 1 Axes>"
      ]
     },
     "metadata": {},
     "output_type": "display_data"
    }
   ],
   "source": [
    "dfgov,j=sortcitation(df.loc[:,\"citationgovtext\"],\"gov\")\n",
    "plot_site_most_cited(dfgov,10,\".gov site the most cited\")"
   ]
  },
  {
   "cell_type": "code",
   "execution_count": 53,
   "id": "4c048176",
   "metadata": {},
   "outputs": [
    {
     "data": {
      "image/png": "[encoded data removed]",
      "text/plain": [
       "<Figure size 864x792 with 1 Axes>"
      ]
     },
     "metadata": {},
     "output_type": "display_data"
    }
   ],
   "source": [
    "dfsci,j=sortcitation(df.loc[:,\"journal\"],\"journal\")\n",
    "dfsci.loc[dfsci[\"name of site\"]==\"bioscience\",\"number of times cited\"]+=2\n",
    "dfsci.sort_values(by=['number of times cited'], inplace=True, ascending=False)\n",
    "plot_site_most_cited(dfsci,30, \"journal the most cited\")"
   ]
  },
  {
   "cell_type": "code",
   "execution_count": 54,
   "id": "68480e60",
   "metadata": {
    "scrolled": false
   },
   "outputs": [
    {
     "data": {
      "image/png": "[encoded data removed]",
      "text/plain": [
       "<Figure size 864x792 with 1 Axes>"
      ]
     },
     "metadata": {},
     "output_type": "display_data"
    }
   ],
   "source": [
    "dcom,bl=sortcitation(df.loc[:,\"citationcomtext\"],\"com\")\n",
    "plot_site_most_cited(dcom,10, \".com the most cited\")"
   ]
  },
  {
   "cell_type": "code",
   "execution_count": 55,
   "id": "08785528",
   "metadata": {},
   "outputs": [
    {
     "data": {
      "image/png": "[encoded data removed]",
      "text/plain": [
       "<Figure size 864x792 with 1 Axes>"
      ]
     },
     "metadata": {},
     "output_type": "display_data"
    }
   ],
   "source": [
    "dIg={\"name of site\": [\"IPCC\",\"theguardian.com\",\"biosciences\"], \"number of times cited\":[df.loc[:,\"citation IPCC\"].sum(), df.loc[:,\"citationguardian\"].sum(),2], \"type\": [\"IPCC\",\"com\",\"journal\"]}\n",
    "dIg = pd.DataFrame.from_dict(dIg)\n",
    "big_df = pd.concat([dorg, dfgov,dcom,dfsci,dIg], ignore_index=True)\n",
    "big_df.sort_values(by=['number of times cited'], inplace=True, ascending=False)\n",
    "plot_site_most_cited(big_df,10,\"Top 10 references of Effects of climate change\")"
   ]
  },
  {
   "cell_type": "markdown",
   "id": "aa0e7585",
   "metadata": {},
   "source": [
    "## Cleaning the column and exporting the data frame and scrap of page information"
   ]
  },
  {
   "cell_type": "code",
   "execution_count": 56,
   "id": "6487f8ec",
   "metadata": {
    "id": "6487f8ec"
   },
   "outputs": [],
   "source": [
    "titlelist=df[\"Name only\"].tolist() #make a list will all titles\n",
    "#We need to recreate the wiki url, first step is to get rid of blanks\n",
    "titleunderscore = [sub.replace(' ', '_') for sub in titlelist]"
   ]
  },
  {
   "cell_type": "code",
   "execution_count": 57,
   "id": "3b5fbfa1",
   "metadata": {
    "id": "3b5fbfa1",
    "outputId": "3564ea17-3ced-4fa2-82ca-d705ecd86b20",
    "scrolled": true
   },
   "outputs": [],
   "source": [
    "#We finally get from the original url to the pageinfo url\n",
    "urlmodifié = ['https://en.wikipedia.org/w/index.php?title=' + i +'&action=info' for i in titleunderscore]"
   ]
  },
  {
   "cell_type": "code",
   "execution_count": 58,
   "id": "121dd888",
   "metadata": {
    "id": "121dd888",
    "outputId": "0724bfb1-2f54-478c-d85b-63dde9e0df34",
    "scrolled": true
   },
   "outputs": [
    {
     "name": "stderr",
     "output_type": "stream",
     "text": [
      "100%|████████████████████████████████████████████████████████████████████████████████████| 1/1 [00:22<00:00, 22.01s/it]\n"
     ]
    }
   ],
   "source": [
    "#Cell to scrap infos from \"page info\" section (2 to scrap the third table of the page)\n",
    "doblist=[]\n",
    "creatorlist=[]\n",
    "totaledits=[]\n",
    "recentedits=[]\n",
    "pageid=[]\n",
    "pagelenght=[]\n",
    "editprotection=[]\n",
    "recentpageviews=[]\n",
    "\n",
    "for i in tqdm(urlmodifié) :\n",
    "    source = requests.get(i)\n",
    "    soup = BeautifulSoup(source.text, 'lxml')\n",
    "    alltables=soup.findAll('table', {\"class\": \"wikitable mw-page-info\"})\n",
    "    tableau_html_liste=pd.read_html(str(alltables)) #We get it as a list   \n",
    "    df_pageinfo2=pd.DataFrame(tableau_html_liste[2]) #And make it a df \n",
    "    #The number between brackets corresponds to the number of the table according to its order on the html page\n",
    "    creatorlist += [df_pageinfo2.iat[0, 1]]\n",
    "    doblist += [df_pageinfo2.iat[1, 1]]\n",
    "    totaledits += [df_pageinfo2.iat[4, 1]]\n",
    "    recentedits += [df_pageinfo2.iat[5, 1]]\n",
    "    \n",
    "    \n",
    "    #Scrap of the first table of the page (0)\n",
    "    df_pageinfo0=pd.DataFrame(tableau_html_liste[0])\n",
    "    pagelenght += [df_pageinfo0.iat[2, 1]]\n",
    "    pageid += [df_pageinfo0.iat[3, 1]]\n",
    "            \n",
    "    \n",
    "    #Scrap of the second table of the page (1)\n",
    "    df_pageinfo1=pd.DataFrame(tableau_html_liste[1])\n",
    "    editprotection += [df_pageinfo1.iat[1, 1]]\n",
    "  \n",
    "\n",
    "    "
   ]
  },
  {
   "cell_type": "code",
   "execution_count": 59,
   "id": "9920618c",
   "metadata": {
    "id": "9920618c",
    "outputId": "25098c8b-4a25-41ab-cacc-56e9dc4cca52"
   },
   "outputs": [
    {
     "data": {
      "text/html": [
       "<div>\n",
       "<style scoped>\n",
       "    .dataframe tbody tr th:only-of-type {\n",
       "        vertical-align: middle;\n",
       "    }\n",
       "\n",
       "    .dataframe tbody tr th {\n",
       "        vertical-align: top;\n",
       "    }\n",
       "\n",
       "    .dataframe thead th {\n",
       "        text-align: right;\n",
       "    }\n",
       "</style>\n",
       "<table border=\"1\" class=\"dataframe\">\n",
       "  <thead>\n",
       "    <tr style=\"text-align: right;\">\n",
       "      <th></th>\n",
       "      <th>Name only</th>\n",
       "      <th>page url</th>\n",
       "      <th>text</th>\n",
       "      <th>citations</th>\n",
       "      <th>Ref count</th>\n",
       "      <th>nb_journal_citations</th>\n",
       "      <th>journalcitation</th>\n",
       "      <th>journal</th>\n",
       "      <th>nbjournaldetected</th>\n",
       "      <th>access</th>\n",
       "      <th>...</th>\n",
       "      <th>Sci count</th>\n",
       "      <th>IPCC count</th>\n",
       "      <th>percentage of official sources</th>\n",
       "      <th>Page id</th>\n",
       "      <th>Edit protection</th>\n",
       "      <th>Page lenght (Bytes)</th>\n",
       "      <th>DOB</th>\n",
       "      <th>Creator</th>\n",
       "      <th>Total edits</th>\n",
       "      <th>Recent edits</th>\n",
       "    </tr>\n",
       "  </thead>\n",
       "  <tbody>\n",
       "    <tr>\n",
       "      <th>0</th>\n",
       "      <td>Effects of climate change</td>\n",
       "      <td>https://en.wikipedia.org/wiki/Effects_of_clima...</td>\n",
       "      <td>{{short description|Effects created by climate...</td>\n",
       "      <td>{'Ref count': 252, 'journal_count': 55, 'nb_jo...</td>\n",
       "      <td>252</td>\n",
       "      <td>58</td>\n",
       "      <td>[10.1073/pnas.1910114117, 10.1126/science.240....</td>\n",
       "      <td>[[proceedings of the national academy of scien...</td>\n",
       "      <td>55</td>\n",
       "      <td>[[proceedings of the national academy of scien...</td>\n",
       "      <td>...</td>\n",
       "      <td>0.230159</td>\n",
       "      <td>0.376984</td>\n",
       "      <td>0.81746</td>\n",
       "      <td>2119174</td>\n",
       "      <td>Require autoconfirmed or confirmed access (no ...</td>\n",
       "      <td>186484</td>\n",
       "      <td>15:09, 26 June 2005</td>\n",
       "      <td>Rd232 (talk | contribs)</td>\n",
       "      <td>5539</td>\n",
       "      <td>11</td>\n",
       "    </tr>\n",
       "  </tbody>\n",
       "</table>\n",
       "<p>1 rows × 35 columns</p>\n",
       "</div>"
      ],
      "text/plain": [
       "                   Name only  \\\n",
       "0  Effects of climate change   \n",
       "\n",
       "                                            page url  \\\n",
       "0  https://en.wikipedia.org/wiki/Effects_of_clima...   \n",
       "\n",
       "                                                text  \\\n",
       "0  {{short description|Effects created by climate...   \n",
       "\n",
       "                                           citations  Ref count  \\\n",
       "0  {'Ref count': 252, 'journal_count': 55, 'nb_jo...        252   \n",
       "\n",
       "   nb_journal_citations                                    journalcitation  \\\n",
       "0                    58  [10.1073/pnas.1910114117, 10.1126/science.240....   \n",
       "\n",
       "                                             journal  nbjournaldetected  \\\n",
       "0  [[proceedings of the national academy of scien...                 55   \n",
       "\n",
       "                                              access  ... Sci count  \\\n",
       "0  [[proceedings of the national academy of scien...  ...  0.230159   \n",
       "\n",
       "   IPCC count percentage of official sources  Page id  \\\n",
       "0    0.376984                        0.81746  2119174   \n",
       "\n",
       "                                     Edit protection  Page lenght (Bytes)  \\\n",
       "0  Require autoconfirmed or confirmed access (no ...               186484   \n",
       "\n",
       "                   DOB                  Creator  Total edits  Recent edits  \n",
       "0  15:09, 26 June 2005  Rd232 (talk | contribs)         5539            11  \n",
       "\n",
       "[1 rows x 35 columns]"
      ]
     },
     "execution_count": 59,
     "metadata": {},
     "output_type": "execute_result"
    }
   ],
   "source": [
    "#Cell to add the new lists as new columns of the df\n",
    "df[\"Page id\"]=pageid\n",
    "df[\"Edit protection\"]=editprotection\n",
    "df[\"Page lenght (Bytes)\"]=pagelenght\n",
    "df[\"DOB\"]=doblist\n",
    "df[\"Creator\"]=creatorlist\n",
    "df[\"Total edits\"]=totaledits\n",
    "df[\"Recent edits\"]=recentedits\n",
    "df.head()"
   ]
  },
  {
   "cell_type": "code",
   "execution_count": 60,
   "id": "af977f9f",
   "metadata": {
    "id": "af977f9f"
   },
   "outputs": [],
   "source": [
    "#Cleaning the table\n",
    "\n",
    "#Getting rid of the time\n",
    "df[\"DOB\"]= df[\"DOB\"].str.slice(7,100,1) \n",
    "#peutêtre qu'on pourrait mettre comme end point la len de la string\n",
    "\n",
    "#Format the date\n",
    "df[\"Formated DOB\"]=pd.to_datetime(df[\"DOB\"], format='%d %B %Y')\n",
    "df[\"Year_month\"]= pd.to_datetime(df['DOB']).dt.to_period('M')\n",
    "\n",
    "#Getting the year\n",
    "df['Year'] = pd.DatetimeIndex(df['DOB']).year\n",
    "\n",
    "#Cleaning the creator \n",
    "df[\"Creator\"]= df[\"Creator\"].str.replace(r\"\\(.*\\)\",'', regex=True)"
   ]
  },
  {
   "cell_type": "code",
   "execution_count": 61,
   "id": "c9846ff6",
   "metadata": {},
   "outputs": [
    {
     "data": {
      "text/html": [
       "<div>\n",
       "<style scoped>\n",
       "    .dataframe tbody tr th:only-of-type {\n",
       "        vertical-align: middle;\n",
       "    }\n",
       "\n",
       "    .dataframe tbody tr th {\n",
       "        vertical-align: top;\n",
       "    }\n",
       "\n",
       "    .dataframe thead th {\n",
       "        text-align: right;\n",
       "    }\n",
       "</style>\n",
       "<table border=\"1\" class=\"dataframe\">\n",
       "  <thead>\n",
       "    <tr style=\"text-align: right;\">\n",
       "      <th></th>\n",
       "      <th>Name only</th>\n",
       "      <th>page url</th>\n",
       "      <th>text</th>\n",
       "      <th>citations</th>\n",
       "      <th>Ref count</th>\n",
       "      <th>nb_journal_citations</th>\n",
       "      <th>journalcitation</th>\n",
       "      <th>journal</th>\n",
       "      <th>nbjournaldetected</th>\n",
       "      <th>access</th>\n",
       "      <th>...</th>\n",
       "      <th>Page id</th>\n",
       "      <th>Edit protection</th>\n",
       "      <th>Page lenght (Bytes)</th>\n",
       "      <th>DOB</th>\n",
       "      <th>Creator</th>\n",
       "      <th>Total edits</th>\n",
       "      <th>Recent edits</th>\n",
       "      <th>Formated DOB</th>\n",
       "      <th>Year_month</th>\n",
       "      <th>Year</th>\n",
       "    </tr>\n",
       "  </thead>\n",
       "  <tbody>\n",
       "    <tr>\n",
       "      <th>0</th>\n",
       "      <td>Effects of climate change</td>\n",
       "      <td>https://en.wikipedia.org/wiki/Effects_of_clima...</td>\n",
       "      <td>{{short description|Effects created by climate...</td>\n",
       "      <td>{'Ref count': 252, 'journal_count': 55, 'nb_jo...</td>\n",
       "      <td>252</td>\n",
       "      <td>58</td>\n",
       "      <td>[10.1073/pnas.1910114117, 10.1126/science.240....</td>\n",
       "      <td>[[proceedings of the national academy of scien...</td>\n",
       "      <td>55</td>\n",
       "      <td>[[proceedings of the national academy of scien...</td>\n",
       "      <td>...</td>\n",
       "      <td>2119174</td>\n",
       "      <td>Require autoconfirmed or confirmed access (no ...</td>\n",
       "      <td>186484</td>\n",
       "      <td>26 June 2005</td>\n",
       "      <td>Rd232</td>\n",
       "      <td>5539</td>\n",
       "      <td>11</td>\n",
       "      <td>2005-06-26</td>\n",
       "      <td>2005-06</td>\n",
       "      <td>2005</td>\n",
       "    </tr>\n",
       "  </tbody>\n",
       "</table>\n",
       "<p>1 rows × 38 columns</p>\n",
       "</div>"
      ],
      "text/plain": [
       "                   Name only  \\\n",
       "0  Effects of climate change   \n",
       "\n",
       "                                            page url  \\\n",
       "0  https://en.wikipedia.org/wiki/Effects_of_clima...   \n",
       "\n",
       "                                                text  \\\n",
       "0  {{short description|Effects created by climate...   \n",
       "\n",
       "                                           citations  Ref count  \\\n",
       "0  {'Ref count': 252, 'journal_count': 55, 'nb_jo...        252   \n",
       "\n",
       "   nb_journal_citations                                    journalcitation  \\\n",
       "0                    58  [10.1073/pnas.1910114117, 10.1126/science.240....   \n",
       "\n",
       "                                             journal  nbjournaldetected  \\\n",
       "0  [[proceedings of the national academy of scien...                 55   \n",
       "\n",
       "                                              access  ...  Page id  \\\n",
       "0  [[proceedings of the national academy of scien...  ...  2119174   \n",
       "\n",
       "                                     Edit protection Page lenght (Bytes)  \\\n",
       "0  Require autoconfirmed or confirmed access (no ...              186484   \n",
       "\n",
       "            DOB Creator  Total edits  Recent edits Formated DOB  Year_month  \\\n",
       "0  26 June 2005  Rd232          5539            11   2005-06-26     2005-06   \n",
       "\n",
       "   Year  \n",
       "0  2005  \n",
       "\n",
       "[1 rows x 38 columns]"
      ]
     },
     "execution_count": 61,
     "metadata": {},
     "output_type": "execute_result"
    }
   ],
   "source": [
    "df"
   ]
  },
  {
   "cell_type": "markdown",
   "id": "0adef9ad",
   "metadata": {},
   "source": [
    "#### Plot the ratio of page created by a certain editor in our corpus"
   ]
  },
  {
   "cell_type": "markdown",
   "id": "5f2e330d",
   "metadata": {},
   "source": [
    "#### plot of the timeline"
   ]
  },
  {
   "cell_type": "code",
   "execution_count": 162,
   "id": "4e778e9a",
   "metadata": {
    "id": "4e778e9a",
    "outputId": "f6128779-2bf8-47c6-cc89-bedb437bab36",
    "scrolled": true
   },
   "outputs": [
    {
     "data": {
      "image/png": "[encoded data removed]",
      "text/plain": [
       "<Figure size 1440x1080 with 1 Axes>"
      ]
     },
     "metadata": {
      "needs_background": "light"
     },
     "output_type": "display_data"
    }
   ],
   "source": [
    "fig = plt.figure(0,figsize=(20,15))\n",
    "plothist=df[\"Year\"].value_counts().sort_index().plot(kind=\"bar\")\n",
    "fig.savefig('timeline.jpg', bbox_inches='tight', dpi=150)\n",
    "plt.xlabel('date of birth',fontsize = 20) \n",
    "plt.ylabel('number of article',fontsize = 20) \n",
    "plt.title(\"number of article in function of their year of birth\",fontsize = 30)\n",
    "plt.show()"
   ]
  },
  {
   "cell_type": "markdown",
   "id": "9fdb6102",
   "metadata": {},
   "source": [
    "#### Clean and export the dataframes to csv"
   ]
  },
  {
   "cell_type": "code",
   "execution_count": 179,
   "id": "2b8594c1",
   "metadata": {},
   "outputs": [],
   "source": [
    "del df['citationorgtext']\n",
    "del df['citationgovtext']\n",
    "del df['text']\n",
    "del df[\"citations\"]\n",
    "del df[\"citationcomtext\"]"
   ]
  },
  {
   "cell_type": "code",
   "execution_count": 345,
   "id": "864d3c49",
   "metadata": {
    "id": "864d3c49"
   },
   "outputs": [
    {
     "data": {
      "text/plain": [
       "\"\\ndorg.to_csv('CRISPR.csv')\\ndfgov.to_csv('CRISPR.csv')\\ndcom.to_csv('CRISPR.csv')\""
      ]
     },
     "execution_count": 345,
     "metadata": {},
     "output_type": "execute_result"
    }
   ],
   "source": [
    "#extract the data frame to csv\n",
    "df.to_csv('climatechange.csv')"
   ]
  }
 ],
 "metadata": {
  "colab": {
   "collapsed_sections": [],
   "name": "Copie de V2_4Creation_data_csv_w__corpus_selection_complete.ipynb",
   "provenance": []
  },
  "kernelspec": {
   "display_name": "Python 3 (ipykernel)",
   "language": "python",
   "name": "python3"
  },
  "language_info": {
   "codemirror_mode": {
    "name": "ipython",
    "version": 3
   },
   "file_extension": ".py",
   "mimetype": "text/x-python",
   "name": "python",
   "nbconvert_exporter": "python",
   "pygments_lexer": "ipython3",
   "version": "3.9.7"
  }
 },
 "nbformat": 4,
 "nbformat_minor": 5
}
