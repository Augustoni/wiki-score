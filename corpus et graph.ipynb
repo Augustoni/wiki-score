{
 "cells": [
  {
   "cell_type": "markdown",
   "id": "927ff51b",
   "metadata": {
    "id": "927ff51b"
   },
   "source": [
    "#### Version's detail (pour qu'on s'y retrouve)\n",
    "V2 : Able to parse over wiki page info and turn into csv doc. Strugles with special character and disambiguation pages. Citations counts are weird\n",
    "\n",
    "V2.1 : Solved the special character problem\n",
    "\n",
    "V2.2 : Cleaned the table and formated the date. Added a little hist to view page creation along time\n",
    "\n",
    "V2.3 : Adding a function to pass the 500 treshhold in scraping articles title\n",
    "\n",
    "V2.4 : Adding the scraping of the titles of sub- and sub-sub-sections"
   ]
  },
  {
   "cell_type": "code",
   "execution_count": 2,
   "id": "e4b59159",
   "metadata": {
    "colab": {
     "base_uri": "https://localhost:8080/"
    },
    "id": "e4b59159",
    "outputId": "21ee678b-dc59-44f7-d18d-84e22afeb23f"
   },
   "outputs": [
    {
     "name": "stdout",
     "output_type": "stream",
     "text": [
      "Requirement already satisfied: wikipedia in c:\\users\\aaugr\\anaconda3\\lib\\site-packages (1.4.0)\n",
      "Requirement already satisfied: setuptools in c:\\users\\aaugr\\anaconda3\\lib\\site-packages (62.1.0)\n",
      "Requirement already satisfied: pywikibot in c:\\users\\aaugr\\anaconda3\\lib\\site-packages (6.6.3)\n",
      "Requirement already satisfied: mwparserfromhell in c:\\users\\aaugr\\anaconda3\\lib\\site-packages (0.6.3)\n",
      "Requirement already satisfied: pandas in c:\\users\\aaugr\\anaconda3\\lib\\site-packages (1.3.4)\n",
      "Requirement already satisfied: numpy in c:\\users\\aaugr\\anaconda3\\lib\\site-packages (1.20.3)\n",
      "Requirement already satisfied: scipy in c:\\users\\aaugr\\anaconda3\\lib\\site-packages (1.6.2)\n",
      "Requirement already satisfied: nltk in c:\\users\\aaugr\\anaconda3\\lib\\site-packages (3.7)\n",
      "Requirement already satisfied: tqdm in c:\\users\\aaugr\\anaconda3\\lib\\site-packages (4.62.3)\n",
      "Requirement already satisfied: seaborn in c:\\users\\aaugr\\anaconda3\\lib\\site-packages (0.11.2)\n",
      "Requirement already satisfied: pyqt5 in c:\\users\\aaugr\\anaconda3\\lib\\site-packages (5.15.6)\n",
      "Requirement already satisfied: pyqtwebengine in c:\\users\\aaugr\\anaconda3\\lib\\site-packages (5.15.5)\n",
      "Requirement already satisfied: ruamel-yaml in c:\\users\\aaugr\\anaconda3\\lib\\site-packages (0.17.21)\n",
      "Requirement already satisfied: lxml in c:\\users\\aaugr\\anaconda3\\lib\\site-packages (4.6.3)\n",
      "Requirement already satisfied: beautifulsoup4 in c:\\users\\aaugr\\anaconda3\\lib\\site-packages (from wikipedia) (4.10.0)\n",
      "Requirement already satisfied: requests<3.0.0,>=2.0.0 in c:\\users\\aaugr\\anaconda3\\lib\\site-packages (from wikipedia) (2.26.0)\n",
      "Requirement already satisfied: python-dateutil>=2.7.3 in c:\\users\\aaugr\\anaconda3\\lib\\site-packages (from pandas) (2.8.2)\n",
      "Requirement already satisfied: pytz>=2017.3 in c:\\users\\aaugr\\anaconda3\\lib\\site-packages (from pandas) (2021.3)\n",
      "Requirement already satisfied: joblib in c:\\users\\aaugr\\anaconda3\\lib\\site-packages (from nltk) (1.1.0)\n",
      "Requirement already satisfied: regex>=2021.8.3 in c:\\users\\aaugr\\anaconda3\\lib\\site-packages (from nltk) (2021.8.3)\n",
      "Requirement already satisfied: click in c:\\users\\aaugr\\anaconda3\\lib\\site-packages (from nltk) (8.0.3)\n",
      "Requirement already satisfied: colorama in c:\\users\\aaugr\\anaconda3\\lib\\site-packages (from tqdm) (0.4.4)\n",
      "Requirement already satisfied: matplotlib>=2.2 in c:\\users\\aaugr\\anaconda3\\lib\\site-packages (from seaborn) (3.4.3)\n",
      "Requirement already satisfied: PyQt5-sip<13,>=12.8 in c:\\users\\aaugr\\anaconda3\\lib\\site-packages (from pyqt5) (12.9.1)\n",
      "Requirement already satisfied: PyQt5-Qt5>=5.15.2 in c:\\users\\aaugr\\anaconda3\\lib\\site-packages (from pyqt5) (5.15.2)\n",
      "Requirement already satisfied: PyQtWebEngine-Qt5>=5.15.2 in c:\\users\\aaugr\\anaconda3\\lib\\site-packages (from pyqtwebengine) (5.15.2)\n",
      "Requirement already satisfied: ruamel.yaml.clib>=0.2.6 in c:\\users\\aaugr\\anaconda3\\lib\\site-packages (from ruamel-yaml) (0.2.6)\n",
      "Requirement already satisfied: cycler>=0.10 in c:\\users\\aaugr\\anaconda3\\lib\\site-packages (from matplotlib>=2.2->seaborn) (0.10.0)\n",
      "Requirement already satisfied: pyparsing>=2.2.1 in c:\\users\\aaugr\\anaconda3\\lib\\site-packages (from matplotlib>=2.2->seaborn) (3.0.4)\n",
      "Requirement already satisfied: pillow>=6.2.0 in c:\\users\\aaugr\\anaconda3\\lib\\site-packages (from matplotlib>=2.2->seaborn) (8.4.0)\n",
      "Requirement already satisfied: kiwisolver>=1.0.1 in c:\\users\\aaugr\\anaconda3\\lib\\site-packages (from matplotlib>=2.2->seaborn) (1.3.1)\n",
      "Requirement already satisfied: six in c:\\users\\aaugr\\anaconda3\\lib\\site-packages (from cycler>=0.10->matplotlib>=2.2->seaborn) (1.16.0)\n",
      "Requirement already satisfied: charset-normalizer~=2.0.0 in c:\\users\\aaugr\\anaconda3\\lib\\site-packages (from requests<3.0.0,>=2.0.0->wikipedia) (2.0.4)\n",
      "Requirement already satisfied: idna<4,>=2.5 in c:\\users\\aaugr\\anaconda3\\lib\\site-packages (from requests<3.0.0,>=2.0.0->wikipedia) (3.2)\n",
      "Requirement already satisfied: urllib3<1.27,>=1.21.1 in c:\\users\\aaugr\\anaconda3\\lib\\site-packages (from requests<3.0.0,>=2.0.0->wikipedia) (1.26.7)\n",
      "Requirement already satisfied: certifi>=2017.4.17 in c:\\users\\aaugr\\anaconda3\\lib\\site-packages (from requests<3.0.0,>=2.0.0->wikipedia) (2021.10.8)\n",
      "Requirement already satisfied: soupsieve>1.2 in c:\\users\\aaugr\\anaconda3\\lib\\site-packages (from beautifulsoup4->wikipedia) (2.2.1)\n"
     ]
    }
   ],
   "source": [
    "!pip install wikipedia setuptools pywikibot mwparserfromhell pandas numpy scipy nltk tqdm seaborn pyqt5 pyqtwebengine ruamel-yaml lxml"
   ]
  },
  {
   "cell_type": "code",
   "execution_count": 2,
   "id": "f81b30b1",
   "metadata": {
    "colab": {
     "base_uri": "https://localhost:8080/"
    },
    "id": "f81b30b1",
    "outputId": "9a8d8ae4-f4ef-4882-d68e-d6eed965eb39"
   },
   "outputs": [],
   "source": [
    "import wikipedia\n",
    "import re\n",
    "import pywikibot\n",
    "import requests\n",
    "from bs4 import BeautifulSoup\n",
    "import pandas as pd\n",
    "from tqdm import tqdm\n",
    "tqdm.pandas()\n",
    "import seaborn as sns\n",
    "import matplotlib.pyplot as plt\n",
    "from urllib.request import urlopen\n",
    "import json\n"
   ]
  },
  {
   "cell_type": "code",
   "execution_count": 203,
   "id": "fd8bcd14",
   "metadata": {
    "id": "fd8bcd14"
   },
   "outputs": [],
   "source": [
    "wikipedia.set_lang(\"en\")  #We make our research in english"
   ]
  },
  {
   "cell_type": "markdown",
   "id": "0adaa4eb",
   "metadata": {},
   "source": [
    "#### definition of the function for the CORPUS SELECTION"
   ]
  },
  {
   "cell_type": "code",
   "execution_count": 204,
   "id": "35da025a",
   "metadata": {},
   "outputs": [],
   "source": [
    "def function_to_get_all_the_bloody_titles(key_words : str)-> (list[str],int):\n",
    "    ''' \n",
    "    \n",
    "    '''\n",
    "    titles = []\n",
    "    a = key_words.lower().replace(' ', '+')\n",
    "    scraped_url = 'https://en.wikipedia.org/w/index.php?title=Special:Search&limit=5000&offset=0&profile=default&search={}&ns0=1'.format(a)\n",
    "    html_text = requests.get(scraped_url).text\n",
    "    soup = BeautifulSoup(html_text, 'lxml')\n",
    "    r = soup.find('div', {'class' : 'results-info'})\n",
    "    nbr_result = int(r.get('data-mw-num-results-total'))\n",
    "    for interest in soup.find_all('div', {'class' : 'mw-search-result-heading'}):\n",
    "        titles.append(interest.find('a')['title'])\n",
    "    return titles, nbr_result"
   ]
  },
  {
   "cell_type": "code",
   "execution_count": 205,
   "id": "5e98e5f3",
   "metadata": {
    "id": "5e98e5f3"
   },
   "outputs": [],
   "source": [
    "def get_section_titles(page : str) -> list[str]:\n",
    "    '''\n",
    "    Returns the section titles\n",
    "\n",
    "    :param page: Title of the page\n",
    "    :return: The list of section titles\n",
    "    '''\n",
    "    section_tit = set()\n",
    "    section_title = []\n",
    "    scraped_url = wikipedia.page(page, auto_suggest = False).url\n",
    "    html_text = requests.get(scraped_url).text\n",
    "    soup = BeautifulSoup(html_text, 'lxml')\n",
    "    r = soup.find_all('h2') + soup.find_all('h3') + soup.find_all('h4')\n",
    "    for i in r:\n",
    "        if i.find('span', {'class' : 'mw-headline'}) is not None:\n",
    "            section_tit.add(i.find('span', {'class' : 'mw-headline'})['id'])\n",
    "    for i in section_tit:\n",
    "        section_title.append(i.replace('_', ' '))        \n",
    "    return section_title"
   ]
  },
  {
   "cell_type": "code",
   "execution_count": 5,
   "id": "56b2c36e",
   "metadata": {
    "id": "56b2c36e"
   },
   "outputs": [],
   "source": [
    "#We define a function to automatically set up a corpus of related articles\n",
    "def corpus_selection(word_keys : str , number_of_results, key_for_section) -> list[str]:\n",
    "    '''\n",
    "    Select the corpus if the keywords are in the section or in the title\n",
    "\n",
    "    :param word_keys : string \n",
    "    \n",
    "    :return: a dictionnary containing the title of all the pages of the corpus\n",
    "    '''\n",
    "    corpus = []\n",
    "    proper_list = []\n",
    "    left_list = []\n",
    "    function = function_to_get_all_the_bloody_titles(word_keys)\n",
    "    nbr_result = function[1]\n",
    "    search_list = function[0] #Select and put in a list number_of_results wikipedia articles related to word_keys\n",
    "    \n",
    "    for article in tqdm(search_list):\n",
    "        try:\n",
    "            wikipedia.summary(article, auto_suggest = False)\n",
    "            proper_list.append(article)\n",
    "        except wikipedia.exceptions.DisambiguationError as e:\n",
    "            pass\n",
    "        except wikipedia.exceptions.PageError as e:\n",
    "            try:\n",
    "                wikipedia.summary(article, auto_suggest = False)\n",
    "                proper_list.append(article)\n",
    "            except wikipedia.exceptions.PageError as e:\n",
    "                pass\n",
    "    \n",
    "    for proper_article in tqdm(proper_list):\n",
    "        if key_for_section in proper_article.lower(): #Among these articles, select the ones whose title contains key_for_selection for the corpus\n",
    "            corpus.append(proper_article)\n",
    "        else:\n",
    "            left_list.append(proper_article) #Put the rest of the articles in a list\n",
    "            \n",
    "    for left_article in tqdm(left_list):\n",
    "        sec_tit = []\n",
    "        try :\n",
    "            sec_tit = get_section_titles(left_article)\n",
    "            for section in sec_tit:\n",
    "                if key_for_section.lower() in section.lower() and left_article not in corpus:\n",
    "                    corpus.append(left_article)\n",
    "        except wikipedia.exceptions.DisambiguationError as e:\n",
    "            pass\n",
    "        except wikipedia.exceptions.PageError as e:\n",
    "            try:\n",
    "                sec_tit = get_section_titles(left_article)\n",
    "                for section in sec_tit:\n",
    "                    if key_for_section.lower() in section.lower() and left_article not in corpus:\n",
    "                        corpus.append(left_article)\n",
    "            except wikipedia.exceptions.PageError as e:\n",
    "                pass\n",
    "\n",
    "    return corpus[:number_of_results]"
   ]
  },
  {
   "cell_type": "markdown",
   "id": "3138cced",
   "metadata": {},
   "source": [
    "## TO LAUNCH THE CORPUS SELECTION"
   ]
  },
  {
   "cell_type": "code",
   "execution_count": 7,
   "id": "5cdc44c6",
   "metadata": {
    "id": "a5b7fa6c",
    "outputId": "8714b8ff-53a0-4833-88eb-cfe1694a77f3"
   },
   "outputs": [
    {
     "name": "stderr",
     "output_type": "stream",
     "text": [
      "  1%|▉                                                                               | 57/5000 [00:30<42:35,  1.93it/s]C:\\Users\\aaugr\\anaconda3\\lib\\site-packages\\wikipedia\\wikipedia.py:389: GuessedAtParserWarning: No parser was explicitly specified, so I'm using the best available HTML parser for this system (\"lxml\"). This usually isn't a problem, but if you run this code on another system, or in a different virtual environment, it may use a different parser and behave differently.\n",
      "\n",
      "The code that caused this warning is on line 389 of the file C:\\Users\\aaugr\\anaconda3\\lib\\site-packages\\wikipedia\\wikipedia.py. To get rid of this warning, pass the additional argument 'features=\"lxml\"' to the BeautifulSoup constructor.\n",
      "\n",
      "  lis = BeautifulSoup(html).find_all('li')\n",
      "100%|██████████████████████████████████████████████████████████████████████████████| 5000/5000 [44:20<00:00,  1.88it/s]\n",
      "100%|██████████████████████████████████████████████████████████████████████████| 4993/4993 [00:00<00:00, 499502.93it/s]\n",
      "100%|██████████████████████████████████████████████████████████████████████████████| 4776/4776 [46:31<00:00,  1.71it/s]"
     ]
    },
    {
     "name": "stdout",
     "output_type": "stream",
     "text": [
      "Wall time: 1h 31min 5s\n"
     ]
    },
    {
     "name": "stderr",
     "output_type": "stream",
     "text": [
      "\n"
     ]
    }
   ],
   "source": [
    "%%time\n",
    "search_list = corpus_selection(\"Effects of climate change\", 5000, 'climate change')\n"
   ]
  },
  {
   "cell_type": "code",
   "execution_count": 8,
   "id": "89d8e490",
   "metadata": {},
   "outputs": [
    {
     "data": {
      "text/plain": [
       "921"
      ]
     },
     "execution_count": 8,
     "metadata": {},
     "output_type": "execute_result"
    }
   ],
   "source": [
    "len(search_list)"
   ]
  },
  {
   "cell_type": "code",
   "execution_count": 324,
   "id": "0260e5bc",
   "metadata": {
    "id": "0260e5bc",
    "outputId": "128d1d3f-edf3-4046-b116-4656d9b3afad"
   },
   "outputs": [],
   "source": [
    "df = pd.read_csv(\"climatechange920.csv\") \n",
    "df.set_index(\"Unnamed: 0\",inplace=True)\n",
    "search_list=list(df.loc[:,\"Name only\"])"
   ]
  },
  {
   "cell_type": "code",
   "execution_count": 244,
   "id": "68c6e2ec",
   "metadata": {},
   "outputs": [],
   "source": [
    "search_list=[\"Effects of climate change\"]"
   ]
  },
  {
   "cell_type": "markdown",
   "id": "677d2a3a",
   "metadata": {},
   "source": [
    "### Get the information on the protected articles of the corpus"
   ]
  },
  {
   "cell_type": "code",
   "execution_count": 214,
   "id": "a9dd1e62",
   "metadata": {},
   "outputs": [],
   "source": [
    "def protection_status(data):\n",
    "    \n",
    "    years_off = []\n",
    "    for i in range(22):\n",
    "        years_off.append(2001+i)\n",
    "    \n",
    "    wrong_ones = []\n",
    "    dot = pd.DataFrame(years_off)\n",
    "    \n",
    "    for article in data:\n",
    "        \n",
    "        html_text = requests.get(('https://en.wikipedia.org/wiki/Special:Log?type=protect&user=&page={}&wpdate=&tagfilter=&subtype=').format(article)).text\n",
    "        soup = BeautifulSoup(html_text, 'lxml')\n",
    "        dic = {}\n",
    "        results = soup.find_all('li', {'class' : 'mw-logline-protect'})\n",
    "        \n",
    "        for i in results:\n",
    "            z = i.find('a')\n",
    "            protection = i.get('data-mw-logaction')\n",
    "            date = str(z)[str(z).find('Log\">') + 5:str(z).find('</a>')]\n",
    "            dic[pd.to_datetime(date, format = '%H:%M, %d %B %Y')] = protection\n",
    "        \n",
    "        if 'expires' in str(results):\n",
    "            res = str(results).split('span')\n",
    "            for string in res:\n",
    "                if '] (expires' in string:\n",
    "                    date_get = string[string.find('] (expires ') + 11:string.find(' (UTC))')]\n",
    "                    if ') [' in date_get:\n",
    "                        date_get = date_get[:date_get.find(') [')]\n",
    "                    if '] (' in date_get:\n",
    "                        date_get = date_get[date_get.find(', '):]\n",
    "                    if ')' in date_get:\n",
    "                        date_get = date_get.replace(')', '')\n",
    "                    if date_get[:2] == ', ':\n",
    "                        date_get = date_get[2:]\n",
    "                    if date_get[-1] == ' ':\n",
    "                        date_get = date_get[:-1]\n",
    "                    if ',' in date_get:\n",
    "                        date_get = date_get.replace(',', '')\n",
    "                    try:\n",
    "                        dic[pd.to_datetime(date_get, format = '%H:%M %d %B %Y')] = 'protect/unprotect'\n",
    "                    except:\n",
    "                        try:\n",
    "                            dic[pd.to_datetime(date_get, format = '%H:%M %B %d %Y')] = 'protect/unprotect'\n",
    "                        except:\n",
    "                            wrong_ones.append(article)\n",
    "\n",
    "        if len(dic) != 0:\n",
    "            dic = dict(sorted(dic.items()))\n",
    "            new_dic = {}\n",
    "            s = set()\n",
    "            list_date = list(dic.keys())[::-1]\n",
    "            for date in list_date:\n",
    "                s.add(date.year)\n",
    "            for j in sorted(s):\n",
    "                deadline = pd.to_datetime('30 June {} 00:00:00'.format(j))\n",
    "                same_year = []\n",
    "                for date in list_date:\n",
    "                    if date.year == deadline.year and date <= deadline:\n",
    "                        same_year.append(date)\n",
    "                        if len(same_year) != 0:\n",
    "                            new_dic[deadline.year] = dic[max(same_year)]\n",
    "                    else :\n",
    "                        if date.year == deadline.year and date > pd.to_datetime('30 June {}'.format(max(s))):\n",
    "                            new_dic[max(s) + 1] = dic[max(list_date)]\n",
    "\n",
    "            keys = list(new_dic.keys())\n",
    "            for year in years_off:\n",
    "                if year < min(keys):\n",
    "                    new_dic[year] = 'protect/unprotect'\n",
    "                elif year > max(keys):\n",
    "                    new_dic[year] = new_dic[max(keys)]\n",
    "                else:\n",
    "                    for low in keys:\n",
    "                        for high in keys:\n",
    "                            if year > low and year < high and len(keys[keys.index(low):keys.index(high)]) == 1:\n",
    "                                new_dic[year] = new_dic[low]\n",
    "                                \n",
    "            d = dict(sorted(new_dic.items()))\n",
    "            \n",
    "            if len(d) == 22:\n",
    "                dot[article] = d.values()\n",
    "            else:\n",
    "                dot[article] = list(d.values())[:22]\n",
    "        \n",
    "    return dot"
   ]
  },
  {
   "cell_type": "code",
   "execution_count": null,
   "id": "c60d33ab",
   "metadata": {},
   "outputs": [],
   "source": [
    "protection_status_evolution = protection_status(search_list)"
   ]
  },
  {
   "cell_type": "markdown",
   "id": "b4e89545",
   "metadata": {},
   "source": [
    "#### creation of the dataframe"
   ]
  },
  {
   "cell_type": "code",
   "execution_count": 325,
   "id": "9b9c25b2",
   "metadata": {
    "id": "9b9c25b2"
   },
   "outputs": [
    {
     "name": "stderr",
     "output_type": "stream",
     "text": [
      "100%|████████████████████████████████████████████████████████████████████████████████| 921/921 [09:28<00:00,  1.62it/s]\n"
     ]
    },
    {
     "name": "stdout",
     "output_type": "stream",
     "text": [
      "Wall time: 9min 29s\n"
     ]
    },
    {
     "data": {
      "text/html": [
       "<div>\n",
       "<style scoped>\n",
       "    .dataframe tbody tr th:only-of-type {\n",
       "        vertical-align: middle;\n",
       "    }\n",
       "\n",
       "    .dataframe tbody tr th {\n",
       "        vertical-align: top;\n",
       "    }\n",
       "\n",
       "    .dataframe thead th {\n",
       "        text-align: right;\n",
       "    }\n",
       "</style>\n",
       "<table border=\"1\" class=\"dataframe\">\n",
       "  <thead>\n",
       "    <tr style=\"text-align: right;\">\n",
       "      <th></th>\n",
       "      <th>Name only</th>\n",
       "      <th>page url</th>\n",
       "      <th>text</th>\n",
       "    </tr>\n",
       "  </thead>\n",
       "  <tbody>\n",
       "    <tr>\n",
       "      <th>0</th>\n",
       "      <td>Effects of climate change</td>\n",
       "      <td>https://en.wikipedia.org/wiki/Effects_of_clima...</td>\n",
       "      <td>{{short description|Effects created by climate...</td>\n",
       "    </tr>\n",
       "    <tr>\n",
       "      <th>1</th>\n",
       "      <td>Effects of climate change on agriculture</td>\n",
       "      <td>https://en.wikipedia.org/wiki/Effects_of_clima...</td>\n",
       "      <td>{{short description|None}}\\n{{about||contribut...</td>\n",
       "    </tr>\n",
       "    <tr>\n",
       "      <th>2</th>\n",
       "      <td>Effects of climate change on human health</td>\n",
       "      <td>https://en.wikipedia.org/wiki/Effects_of_clima...</td>\n",
       "      <td>[[File:Atlanta thermal.jpg|thumb|Illustration ...</td>\n",
       "    </tr>\n",
       "    <tr>\n",
       "      <th>3</th>\n",
       "      <td>Effects of climate change on oceans</td>\n",
       "      <td>https://en.wikipedia.org/wiki/Effects_of_clima...</td>\n",
       "      <td>{{Short description|Effects of climate change ...</td>\n",
       "    </tr>\n",
       "    <tr>\n",
       "      <th>4</th>\n",
       "      <td>Effects of climate change on ecosystems</td>\n",
       "      <td>https://en.wikipedia.org/wiki/Effects_of_clima...</td>\n",
       "      <td>{{short description|How increased greenhouse g...</td>\n",
       "    </tr>\n",
       "    <tr>\n",
       "      <th>...</th>\n",
       "      <td>...</td>\n",
       "      <td>...</td>\n",
       "      <td>...</td>\n",
       "    </tr>\n",
       "    <tr>\n",
       "      <th>916</th>\n",
       "      <td>Restore America's Estuaries</td>\n",
       "      <td>https://en.wikipedia.org/wiki/Restore_America%...</td>\n",
       "      <td>{{Infobox organization\\n| name = Restore Ameri...</td>\n",
       "    </tr>\n",
       "    <tr>\n",
       "      <th>917</th>\n",
       "      <td>Carbon bubble</td>\n",
       "      <td>https://en.wikipedia.org/wiki/Carbon_bubble</td>\n",
       "      <td>{{Short description|Hypothesized bubble in the...</td>\n",
       "    </tr>\n",
       "    <tr>\n",
       "      <th>918</th>\n",
       "      <td>The Hunting Hypothesis</td>\n",
       "      <td>https://en.wikipedia.org/wiki/The_Hunting_Hypo...</td>\n",
       "      <td>{{about|the book|the underlying anthropologica...</td>\n",
       "    </tr>\n",
       "    <tr>\n",
       "      <th>919</th>\n",
       "      <td>David Quinn (columnist)</td>\n",
       "      <td>https://en.wikipedia.org/wiki/David_Quinn_(col...</td>\n",
       "      <td>{{short description|Irish social and religious...</td>\n",
       "    </tr>\n",
       "    <tr>\n",
       "      <th>920</th>\n",
       "      <td>Crisis of the Late Middle Ages</td>\n",
       "      <td>https://en.wikipedia.org/wiki/Crisis_of_the_La...</td>\n",
       "      <td>{{Short description|Events in the 1300s and 14...</td>\n",
       "    </tr>\n",
       "  </tbody>\n",
       "</table>\n",
       "<p>921 rows × 3 columns</p>\n",
       "</div>"
      ],
      "text/plain": [
       "                                     Name only  \\\n",
       "0                    Effects of climate change   \n",
       "1     Effects of climate change on agriculture   \n",
       "2    Effects of climate change on human health   \n",
       "3          Effects of climate change on oceans   \n",
       "4      Effects of climate change on ecosystems   \n",
       "..                                         ...   \n",
       "916                Restore America's Estuaries   \n",
       "917                              Carbon bubble   \n",
       "918                     The Hunting Hypothesis   \n",
       "919                    David Quinn (columnist)   \n",
       "920             Crisis of the Late Middle Ages   \n",
       "\n",
       "                                              page url  \\\n",
       "0    https://en.wikipedia.org/wiki/Effects_of_clima...   \n",
       "1    https://en.wikipedia.org/wiki/Effects_of_clima...   \n",
       "2    https://en.wikipedia.org/wiki/Effects_of_clima...   \n",
       "3    https://en.wikipedia.org/wiki/Effects_of_clima...   \n",
       "4    https://en.wikipedia.org/wiki/Effects_of_clima...   \n",
       "..                                                 ...   \n",
       "916  https://en.wikipedia.org/wiki/Restore_America%...   \n",
       "917        https://en.wikipedia.org/wiki/Carbon_bubble   \n",
       "918  https://en.wikipedia.org/wiki/The_Hunting_Hypo...   \n",
       "919  https://en.wikipedia.org/wiki/David_Quinn_(col...   \n",
       "920  https://en.wikipedia.org/wiki/Crisis_of_the_La...   \n",
       "\n",
       "                                                  text  \n",
       "0    {{short description|Effects created by climate...  \n",
       "1    {{short description|None}}\\n{{about||contribut...  \n",
       "2    [[File:Atlanta thermal.jpg|thumb|Illustration ...  \n",
       "3    {{Short description|Effects of climate change ...  \n",
       "4    {{short description|How increased greenhouse g...  \n",
       "..                                                 ...  \n",
       "916  {{Infobox organization\\n| name = Restore Ameri...  \n",
       "917  {{Short description|Hypothesized bubble in the...  \n",
       "918  {{about|the book|the underlying anthropologica...  \n",
       "919  {{short description|Irish social and religious...  \n",
       "920  {{Short description|Events in the 1300s and 14...  \n",
       "\n",
       "[921 rows x 3 columns]"
      ]
     },
     "execution_count": 325,
     "metadata": {},
     "output_type": "execute_result"
    }
   ],
   "source": [
    "%%time\n",
    "def crea_dataframe(search_list : list,keyword : str)-> pd.DataFrame:\n",
    "    '''\n",
    "    param search_list: liste containing the name of all the articles\n",
    "    param keyword: string containing the keyword that we want to scrap\n",
    "    \n",
    "    \n",
    "    return: data frame containg the name, the url and the wikicode of the entire page if the keyword is in the title.\n",
    "    If it's not it returns the wiki code of the section containing the keyword only. Or return the wikicode for each entire page if the line with recode are commented\n",
    "    '''\n",
    "    tableau =[] #creation of a list that will contain a dictionnary for each page with the information\n",
    "    \n",
    "    \n",
    "    #this part is if you only want to scrap the citations for the functions\n",
    "    #It detects if the keyword is included in a section, a subsection or a subsubsection\n",
    "    #if the aim is to plot only the section then just remove the ''' '''\n",
    "    '''\n",
    "    recode= r'(?:==(?:\\w|\\ )*?(?:'+keyword[0].lower()+'|'+keyword[0].upper()+')'+keyword[1:]+'(?:\\w|\\ )*?==\\n)((?:.|\\n)*?)(?:==(?:\\w|\\ )*==\\n)'\n",
    "    recode2=r'(?:===(?:\\w|\\ )*?(?:'+keyword[0].lower()+'|'+keyword[0].upper()+')'+keyword[1:]+'(?:\\w|\\ )*?===\\n)((?:.|\\n)*?)(?:(?:===|==)(?:\\w|\\ )*(?:===|==)\\n)'\n",
    "    recode3=r'(?:====(?:\\w|\\ )*?(?:'+keyword[0].lower()+'|'+keyword[0].upper()+')'+keyword[1:]+'(?:\\w|\\ )*?====\\n)((?:.|\\n)*?)(?:(?:===|==|====)(?:\\w|\\ )*(?:===|==|====)\\n)'\n",
    "    '''\n",
    "    #browse all the titles  of the search list\n",
    "    for i in tqdm(range(len(search_list))):\n",
    "             \n",
    "        #find the wikipedia page\n",
    "        page =wikipedia.page(search_list[i], auto_suggest = False)\n",
    "        page_title =page.title #give the clean name of the page\n",
    "        page_url=page.url #give the url of the page\n",
    "        site = pywikibot.Site(\"en\", \"wikipedia\")\n",
    "        page = pywikibot.Page(site, page_title)\n",
    "        \n",
    "        #if you want to scrap for only the section containing the keywordremove the next line and '''  '''\n",
    "        page_text=page.text\n",
    "                \n",
    "        '''\n",
    "        if keyword.lower() in page_title.lower(): \n",
    "            page_text=page.text\n",
    "        else:\n",
    "            page_text = str(re.findall(recode , page.text))\n",
    "        if page_text==\"[]\":\n",
    "            page_text = str(re.findall(recode2, page.text))\n",
    "        if page_text== \"[]\":\n",
    "            page_text = str(re.findall(recode3, page.text))\n",
    "        '''\n",
    "            \n",
    "        infopage ={'Name only' : page_title, 'page url' :page_url,'text':page_text}\n",
    "        tableau.append(infopage)\n",
    "    df=pd.DataFrame.from_dict(tableau)\n",
    "    return df\n",
    "\n",
    "\n",
    "df=crea_dataframe(search_list,\"climate change\")\n",
    "df"
   ]
  },
  {
   "cell_type": "markdown",
   "id": "4b9f98e2",
   "metadata": {},
   "source": [
    "#### definition of the function for the extraction of citation"
   ]
  },
  {
   "cell_type": "code",
   "execution_count": 326,
   "id": "5db5aeda",
   "metadata": {
    "id": "5db5aeda"
   },
   "outputs": [],
   "source": [
    "# Some additional functions\n",
    "def get_ids_from_ref(ref: str)-> dict:\n",
    "    '''\n",
    "    detects if the reference entering this program contains a doi or a pmid or a pmc and if it's the case the return it \n",
    "    Also returns the name of the journal in which the article has been published\n",
    "    \n",
    "    param ref : the string of a reference\n",
    "    \n",
    "    return ids:  a dictionnary containing the doi or pmid or pmc and the journal of the reference if it's a scientific reference\n",
    "    '''\n",
    "    \n",
    "    d = dict(re.findall(r'(doi|pmc|pmid)(?:(?:\\s?[=\\|]\\s?)|(?:\\.)|(?:(?:])*?:)|(?:\\s|\\/)|(?: *=))([^|\\s}]*)', ref))\n",
    "    if d!={}:\n",
    "        recode=re.findall(r'(?:journal|publisher) *?=((?:\\w| |\\[|-|\\.)*)',ref) +re.findall(r',?(?P<journal>(\\s(\\w+))+), (V|v)ol',ref) \n",
    "        if recode!= []:\n",
    "            d[\"journal\"]= recode\n",
    "        else:\n",
    "            print(\"beg ref\", ref,\"end\")\n",
    "    ids = {k: v for k, v in d.items() if v}    \n",
    "    return ids\n",
    "\n",
    "        \n",
    "def get_citations(wikicode : str)-> dict:\n",
    "    '''\n",
    "    param  wikicode: a string containing the wikicode of the page or section of which we want to extract the code\n",
    "    \n",
    "    return a dictionnary containing all the information about the citation we want to extract\n",
    "    '''\n",
    "    #detection of the citations in the wikicode\n",
    "    citations = [c.lower() for c in re.findall(r'<ref(?:\\s(?:[^\\/]*?))?>(.*?)<\\/ref>', wikicode) + re.findall(r'({{(?:cite|vcite2|Cite)\\s[^}]*}})', wikicode)]\n",
    "    s = set()\n",
    "    \n",
    "    i=0\n",
    "    for c in citations:\n",
    "        i+=1\n",
    "        s.update(c.split('<br/>'))\n",
    "        \n",
    "    #Creation of a dataframe containing the citation    \n",
    "    ds = pd.DataFrame(s, columns=['ref'])\n",
    "    \n",
    "   \n",
    "    ds['ids'] = ds['ref'].apply(get_ids_from_ref)\n",
    "    ds['pmid'] = ds['ids'].apply(lambda x: x.get('pmid', None))\n",
    "    ds['doi'] = ds['ids'].apply(lambda x: x.get('doi', None))\n",
    "    ds['pmc'] = ds['ids'].apply(lambda x: x.get('pmc', None))\n",
    "    ds[\"journal\"]=ds['ids'].apply(lambda x: x.get('journal', None))\n",
    "    ds[\"available\"]=ds[\"ids\"]== {}\n",
    "    \n",
    "    \n",
    "    dsbis= ds[(~ds['pmid'].isnull())|~(ds['doi'].isnull())|~(ds['pmc'].isnull())]\n",
    "    \n",
    "    ds = ds[(~ds['pmid'].duplicated()) | (ds['pmid'].isnull())]\n",
    "    ds = ds[(~ds['doi'].duplicated()) | (ds['doi'].isnull())]\n",
    "    ds = ds[(~ds['pmc'].duplicated()) | (ds['pmc'].isnull())]\n",
    "\n",
    "\n",
    "    dg=ds.loc[ds[\"available\"]==True,[\"ref\"]]\n",
    "    dg['ids']=dg['ref'].apply(get_IPCC_guardian_ipbes_from_ref)\n",
    "    dg['IPCC'] = dg['ids'].apply(lambda x: x.get('IPCC', None))\n",
    "    dg['ipbes'] = dg['ids'].apply(lambda x: x.get('ipbes', None))\n",
    "    dg['guard'] = dg['ids'].apply(lambda x: x.get('guardian', None))\n",
    "    dg[\"available\"]= dg[\"ids\"]=={}\n",
    "    \n",
    "    \n",
    "    dcit=dg.loc[dg[\"available\"]==True,[\"ref\"]]\n",
    "    dcit['ids'] = dcit['ref'].apply(get_cit_from_ref)\n",
    "    dcit['org'] = dcit['ids'].apply(lambda x: x.get('org', None))\n",
    "    dcit['gov'] = dcit['ids'].apply(lambda x: x.get('gov', None))\n",
    "    dcit['com'] = dcit['ids'].apply(lambda x: x.get('com', None))\n",
    "    dcit['ncbi'] = dcit['ids'].apply(lambda x: x.get('ncbi.nlm.nih.gov', None))\n",
    "    dcit[\"available\"]= dcit[\"ids\"]=={}\n",
    "    \n",
    "    #creation of a data frame with all the other type of citation that weren't extracted\n",
    "    drest = dcit.loc[dcit[\"available\"]==True,[\"ref\"]]\n",
    "    \n",
    "    dsbis=ds[(~ds['journal'].isnull())]\n",
    "    dgbisgov=dcit[(~dcit['gov'].isnull())]    \n",
    "    dgbisorg=dcit[(~dcit['org'].isnull())]\n",
    "    dgbisIPCC=dg[(~dg['IPCC'].isnull())]    \n",
    "    dgbiscom=dcit[(~dcit['com'].isnull())]\n",
    "    dgbisncbi=dcit[(~dcit['ncbi'].isnull())]\n",
    "    \n",
    "    dic = {'Ref count': ds.shape[0],\n",
    "           'journal_count': dsbis.shape[0]+ dcit[(~dcit['ncbi'].isnull())].shape[0],\n",
    "           'nb_journal_citations': (dcit[(~dcit['ncbi'].isnull())]).shape[0]+ds[(~ds['pmid'].isnull()) | (~ds['doi'].isnull()) | (~ds['pmc'].isnull())].shape[0],\n",
    "           \"citationjournal\":list(list(dsbis[\"doi\"])+list(dsbis[\"pmid\"])+list(dsbis[\"pmc\"])+list(dgbisncbi[\"ncbi\"])),\n",
    "           \"citations.org\": dcit[(~dcit['org'].isnull())].shape[0],\n",
    "           \"citations.gov\": dcit[(~dcit['gov'].isnull())].shape[0],\n",
    "           \"citationgovtext\":list(dgbisgov['gov']),\n",
    "           \"citationorgtext\":list(dgbisorg['org']),\n",
    "           \"citationsIPCC.ch\": dg[(~dg['IPCC'].isnull())].shape[0],\n",
    "           \"citationautre\":drest[\"ref\"].shape[0],\n",
    "           \"citationcomtext\":list(dgbiscom['com']),\n",
    "           \"journal\":list(dsbis['journal'])+list(dgbisncbi[\"ncbi\"]),\n",
    "           \"citations.com\": dcit[(~dcit['com'].isnull())].shape[0],\n",
    "           \"citationsipbes\": dg[(~dg['ipbes'].isnull())].shape[0],\n",
    "           \"citationguardian\": dg[(~dg['guard'].isnull())].shape[0]}\n",
    "    \n",
    "    return dic"
   ]
  },
  {
   "cell_type": "code",
   "execution_count": 327,
   "id": "8a5bacee",
   "metadata": {},
   "outputs": [],
   "source": [
    "def get_cit_from_ref(ref: str)-> dict:\n",
    "    '''\n",
    "    detects if the reference entering this program contains a.org, .gov or .com citation except if it's a guardian citation\n",
    "    \n",
    "    param ref : the string of a citation\n",
    "    \n",
    "    return ids:  a dictionnary containing as keys org, gov and com and in values the name of the site of the citation\n",
    "    '''\n",
    "    d = dict(re.findall(r\"((?:[(?:\\.)(?:\\-)\\w]*)\\.(org|com|gov))\", ref, flags=re.IGNORECASE))\n",
    "    \n",
    "    #remove the archive because we don't want to count them in the number of .org citation\n",
    "    if 'archive.org' in d :\n",
    "        d.pop('archive.org', None)\n",
    "    if \"web.archive.org\" in d:\n",
    "        d.pop('web.archive.org', None)\n",
    "    if \"www.webcitation.org\" in d:\n",
    "        d.pop('www.webcitation.org', None)\n",
    "    if \"ghostarchive.org\" in d:\n",
    "        d.pop(\"ghostarchive.org\", None)\n",
    "    if \"www.ncbi.nlm.nih.gov\" in d or \"ncbi.nlm.nih.gov\" in d:\n",
    "        d.pop(\"www.ncbi.nlm.nih.gov\", None)\n",
    "        d.pop(\"ncbi.nlm.nih.gov\",None)\n",
    "        d[\"ncbi\"]=\"ncbi.nlm.nih.gov\"\n",
    "        \n",
    "        \n",
    "    ids = {v: k for k, v in d.items() if v}\n",
    "    \n",
    "    return ids"
   ]
  },
  {
   "cell_type": "code",
   "execution_count": 328,
   "id": "15da12a4",
   "metadata": {},
   "outputs": [],
   "source": [
    "def get_IPCC_guardian_ipbes_from_ref(ref: str) -> dict:\n",
    "    '''\n",
    "    detects if the reference entering this program is an IPCC, ipbes or guardian citation\n",
    "    \n",
    "    param ref : the string of a citation\n",
    "    \n",
    "    return :  a dictionnary containing as keys guardian, ipbes and IPCC and in values the name of the citation extracted\n",
    "    '''\n",
    "    g={}\n",
    "    citation=list(set(re.findall(r\"(ipcc|ipbes|guardian)\", ref, flags=re.IGNORECASE)))\n",
    "    if citation !=None and citation !=[]:\n",
    "        if \"ipcc\" in citation:\n",
    "            g[\"IPCC\"]=citation\n",
    "        if \"ipbes\" in citation:\n",
    "            g[\"ipbes\"]=citation\n",
    "        if \"guardian\" in citation:\n",
    "            g[\"guardian\"]=citation\n",
    "        return g\n",
    "    else:\n",
    "        return{}"
   ]
  },
  {
   "cell_type": "markdown",
   "id": "6807ffed",
   "metadata": {},
   "source": [
    "## Get the citations"
   ]
  },
  {
   "cell_type": "code",
   "execution_count": 329,
   "id": "079815f5",
   "metadata": {
    "id": "079815f5",
    "outputId": "1b0735ae-501c-4b44-c569-05d07c76c192",
    "scrolled": true
   },
   "outputs": [
    {
     "name": "stdout",
     "output_type": "stream",
     "text": [
      "Getting citations\n"
     ]
    },
    {
     "name": "stderr",
     "output_type": "stream",
     "text": [
      "\r",
      "  0%|                                                                                          | 0/921 [00:00<?, ?it/s]"
     ]
    },
    {
     "name": "stdout",
     "output_type": "stream",
     "text": [
      "beg ref world scientists' warning of a climate emergency, william j ripple, christopher wolf, thomas m newsome, phoebe barnard, william r moomaw.  bioscience, biz088, https://doi.org/10.1093/biosci/biz088.  a correction has been published: [https://academic.oup.com/bioscience/advance-article/doi/10.1093/biosci/biz152/5670749 bioscience, biz152] {{webarchive|url=https://web.archive.org/web/20200107153148/https://academic.oup.com/bioscience/advance-article/doi/10.1093/biosci/biz152/5670749 |date=7 january 2020 }}, https://doi.org/10.1093/biosci/biz152 {{webarchive|url=https://web.archive.org/web/20200228183547/https://doi.org/10.1093/biosci/biz088. |date=28 february 2020 }} end\n",
      "beg ref dr. frauke urban and dr. tom mitchell 2011. [https://citeseerx.ist.psu.edu/viewdoc/download?doi=10.1.1.825.4966&rep=rep1&type=pdf climate change, disasters and electricity generation] {{webarchive|url=https://web.archive.org/web/20120920024704/http://www.odi.org.uk/resources/details.asp?id=5792&title=climate-change-disasters-electricity-generation|date=20 september 2012}}. london: [[overseas development institute]] and [[institute of development studies]] end\n"
     ]
    },
    {
     "name": "stderr",
     "output_type": "stream",
     "text": [
      "  0%|▎                                                                                 | 4/921 [00:00<01:34,  9.67it/s]"
     ]
    },
    {
     "name": "stdout",
     "output_type": "stream",
     "text": [
      "beg ref fraga, h., santos, j.a., malheiro, a.c., oliveira, a.a., moutinho-pereira, j. and jones, g.v., 2015. climatic suitability of portuguese grapevine varieties and climate change adaptation. int. j. clim.: doi:10.1002/joc.4325. end\n",
      "beg ref fraga, h., garcia de c. a. i., malheiro, a.c., santos, j.a., 2016. modelling climate change impacts on viticultural yield, phenology and stress conditions in europe. global change biology: doi:10.1111/gcb.13382. end\n",
      "beg ref ferguson, s.h., young, b.g., yurkowski, d.j., anderson, r., willing, c., nielsen, o., 2017. demographic, ecological, and physiological responses of ringed seals to an abrupt decline in sea ice availability. ''peerj'', 5: e2957 [https://doi.org/10.7717/peerj.2957] end\n",
      "beg ref {{cite journal |title=climate change impacts on harmful algal blooms in u.s. freshwaters: a screening-level assessment |url=http://dx.doi.org/10.1021/acs.est.7b01498.s001 |doi=10.1021/acs.est.7b01498.s001 |access-date=2021-04-12 |website=dx.doi.org}} end\n",
      "beg ref  stenson, g.b. & hammill, m.o., 2014. can ice breeding seals adapt to habitat loss in a time of climate change? ''ices journal of marine science'', 71(7), 1977–1986 [https://doi.org/10.1093/icesjms/fsu074] end\n",
      "beg ref {{cite web |last=priestley |first=rebecca |last2=heine |first2=zoë |last3=milfont |first3=taciano l |date=2021-07-14 |title=public understanding of climate change-related sea-level rise |url=http://dx.doi.org/10.26686/wgtn.14979099 |access-date=2022-03-16 |website=dx.doi.org}} end\n"
     ]
    },
    {
     "name": "stderr",
     "output_type": "stream",
     "text": [
      "  1%|▊                                                                                 | 9/921 [00:00<01:06, 13.76it/s]"
     ]
    },
    {
     "name": "stdout",
     "output_type": "stream",
     "text": [
      "beg ref {{cite book\n",
      " |title=macroeconomic and financial policies for climate change mitigation: a review of the literature\n",
      " |url=https://www.elibrary.imf.org/doc/imf001/28337-9781513511955/28337-9781513511955/other_formats/source_pdf/28337-9781513512938.pdf\n",
      " |isbn=978-1-5135-1195-5\n",
      " |last1=krogstrup |first1=signe\n",
      " |last2=oman |first2=william\n",
      " |series=imf working papers\n",
      " |date=4 september 2019\n",
      "|doi=10.5089/9781513511955.001\n",
      " |s2cid=203245445\n",
      " |issn=1018-5941\n",
      "}} end\n",
      "beg ref {{cite web |title=access electronic resources |url=https://www.library.yorku.ca/ezproxy/?qurl=https%3a%2f%2fdoi.org%2f10.1007%2fs43538-021-00034-5 |access-date=2022-04-01 |website=www.library.yorku.ca |doi=10.1007/s43538-021-00034-5}} end\n",
      "beg ref lough, j. m. (2007), \"tropical river flow and rainfall reconstructions from coral luminescence: great barrier reef, australia\", ''paleoceanography'', 22, pa2218, {{doi|10.1029/2006pa001377}}. end\n"
     ]
    },
    {
     "name": "stderr",
     "output_type": "stream",
     "text": [
      "  2%|█▏                                                                               | 14/921 [00:00<00:51, 17.48it/s]"
     ]
    },
    {
     "name": "stdout",
     "output_type": "stream",
     "text": [
      "beg ref prowse, m., & scott, l. (2008). assets and adaptation: an emerging debate. ids bulletin, 39(4), 42-52.http://onlinelibrary.wiley.com/doi/10.1111/j.1759-5436.2008.tb00475.x/pdf end\n",
      "beg ref {{cite book|url=http://www.nap.edu/openbook.php?record_id=10850&page=16|title=understanding climate change feedbacks|first=national research|last=council|date=2 december 2003|website=nap.edu|doi=10.17226/10850|isbn=9780309090728}} end\n"
     ]
    },
    {
     "name": "stderr",
     "output_type": "stream",
     "text": [
      "  2%|█▌                                                                               | 18/921 [00:01<00:51, 17.51it/s]"
     ]
    },
    {
     "name": "stdout",
     "output_type": "stream",
     "text": [
      "beg ref [http://pubs.aeaweb.org/doi/pdfplus/10.1257/jep.29.1.217 tol correction] end\n",
      "beg ref {{citation |title=youth files climate case with india's environmental court|doi=10.1163/9789004322714_cclc_2017-0228-011}}. end\n",
      "beg ref {{cite journal|title=hii|url=http://dx.doi.org/10.5270/esa-121j002|access-date=2021-11-18|website=hii|doi=10.5270/esa-121j002}} end\n",
      "beg ref {{cite journal|last1=youds|first1=l.|last2=parker|first2=d. j.|last3=adefisan|first3=e. a.|last4=antwi-agyei|first4=p.|last5=bain|first5=c. l.|last6=black|first6=e. c. l.|last7=blyth|first7=a. m.|last8=dougill|first8=a. j.|last9=hirons|first9=l. c.|date=2021-05-13|title=gcrf african swift white paper policy brief: the future of african weather forecasting|url=http://eprints.whiterose.ac.uk/174093/|access-date=2021-05-13|website=eprints.whiterose.ac.uk|language=en|doi=10.5518/100/67}} end\n",
      "beg ref {{citation |title=analysis of human rights language in the cancun agreements unfccc 16th session of the conference of the parties|doi=10.1163/2210-7975_hrd-9986-0022}} end\n"
     ]
    },
    {
     "name": "stderr",
     "output_type": "stream",
     "text": [
      "  2%|█▉                                                                               | 22/921 [00:01<00:55, 16.20it/s]"
     ]
    },
    {
     "name": "stdout",
     "output_type": "stream",
     "text": [
      "beg ref {{cite journal|last1=evans|first1=j.|last2=karvonen|first2=andrew|date=2011|title=living laboratories for sustainability: exploring the politics and epistemology of urban transition|url=https://www.semanticscholar.org/paper/living-laboratories-for-sustainability:-exploring-evans-karvonen/70cc03ca4a38ab20ef8bab71067f845f0971258b|doi=10.4324/9780203839249-17|doi-broken-date=28 february 2022|s2cid=149370050}} end\n",
      "beg ref {{cite journal| last1=bazaz| first1=amir| last2=bertoldi| first2=paolo| last3=buckeridge| first3=marcos| last4=cartwright| first4=anton| last5=de coninck| first5=heleen| last6=engelbrecht| first6=francois| last7=jacob| first7=daniela| last8=hourcade| first8=jean-charles| last9=klaus| first9=ian| last10=de kleijne| first10=kiane| last11=lwasa| first11=shauib| last12=markgraf| first12=claire| last13=newman| first13=peter| last14=revi| first14=aromar| last15=rogelj| first15=joeri| last16=schultz| first16=seth| last17=shindell| first17=drew| last18=singh| first18=chandni| last19=solecki| first19=william| last20=steg| first20=linda| last21=waisman| first21=henri| date=2018| title=summary for urban policymakers – what the ipcc special report on 1.5c means for cities| url=http://iihs.co.in/knowledge-gateway/summary-for-urban-policymakers-what-the-ipcc-special-report-on-1-5c-means-for-cities/| doi=10.24943/scpm.2018| doi-access=free}} end\n",
      "beg ref {{cite journal|author1=r b bhagat|year=2018|title=researchgate|url=https://www.researchgate.net/deref/http://dx.doi.org/10.13140/rg.2.2.21550.05440?_sg%5b0%5d=sb8q_92ebgvrkyfau6-pukjzfof1ucclxkm0zen0s3ag5muvkov9r1d6a8pvacu_fq87tenwylwfhkwq4gxpxn5nxw.yhd-pkqcd_x4sajgyreoyncmletcbnurgh4x8af935-fismzdqbxkdxxqxfoojvh92jpwfw38usrvhfyp1bhcg|language=en|doi=10.13140/rg.2.2.21550.05440|access-date=27 november 2020|website=researchgate}} end\n",
      "beg ref baek-min kim, et al., ''weakening of the stratospheric polar vortex by arctic sea-ice loss,'' nature communications 5, article number: 4646 {{doi|10.1038/ncomms5646}} end\n",
      "beg ref davis et al, [https://www.ncbi.nlm.nih.gov/pmc/articles/pmc1241712/pdf/ehp0111-001712.pdf changing heat-related mortality in the united states], [[national institutes of health]] end\n",
      "beg ref {{cite book |year=2010|language=en|doi=10.1596/978-0-8213-8237-0|hdl=10986/2472|hdl-access=free|last1=kronik|first1=jakob|last2=verner|first2=dorte|title=indigenous peoples and climate change in latin america and the caribbean|isbn=978-0-8213-8237-0}} end\n",
      "beg ref nkomwa, emmanuel charles, miriam kalanda joshua, cosmo ngongondo, maurice monjerezi, and felistus chipungu. \"assessing indigenous knowledge systems and climate change adaptation strategies in agriculture: a case study of chagaka village, chikhwawa, southern malawi.\" physics and chemistry of the earth, parts a/b/c 67-69 (2014): 164-72. {{doi|10.1016/j.pce.2013.10.002}}. end\n",
      "beg ref {{cite journal|last=hale|first=galina|date=august 2011|title=bank relationships, business cycles, and financial crises|location=cambridge, ma|doi=10.3386/w17356|doi-access=free}} end\n",
      "beg ref krause, torsten, wain collen, and kimberly a. nicholas. \"evaluating safeguards in a conservation incentive program: participation, consent, and benefit sharing in indigenous communities of the ecuadorian amazon.\" ecology and society 18, no. 4 (2013). {{doi|10.5751/es-05733-180401}}. end\n"
     ]
    },
    {
     "name": "stderr",
     "output_type": "stream",
     "text": [
      "  3%|██▎                                                                              | 27/921 [00:01<00:51, 17.33it/s]"
     ]
    },
    {
     "name": "stdout",
     "output_type": "stream",
     "text": [
      "beg ref translating a global issue into local priority: china’s local government response to climate change   qi, y., ma, l., zhang, h., & li, h. (2008). translating a global issue into local priority: china’s local government response to climate change. the journal of environment & development, 17(4), 379–400. https://doi.org/10.1177/1070496508326123 end\n",
      "beg ref the lancet, et al., (2020). climate and covid-19: converging crises. the lancet, doi: https://doi.org/10.1016/s0140-6736(20)32579-4 end\n",
      "beg ref {{cite journal|last=hill|first=christopher|date=2015-06-15|title=abrupt climate change and the atlantic meridional overturning circulation: sensitivity and non-linear response to arctic/sub-arctic freshwater pulses. collaborative research. final report|doi=10.2172/1184378|osti=1184378|url=http://dx.doi.org/10.2172/1184378}} end\n",
      "beg ref {{cite journal|last=wu|first=qiang|date=2019-12-24|title=satellite observations of unprecedented phytoplankton blooms in the southern ocean|url=http://dx.doi.org/10.5194/tc-2019-282-sc1|doi=10.5194/tc-2019-282-sc1|access-date=2021-05-19 |s2cid=243147775}} end\n",
      "beg ref {{cite web|title=management plan: 2016–2018|url=https://www.doi.gov/sites/doi.gov/files/uploads/2016-2018-nisc-management-plan.pdf|last=national invasive species council|date=2016|url-status=live|archive-date=2016-06-11}} end\n",
      "beg ref {{cite web|last=anderson|first=ashley a.|date=2017-03-29|title=effects of social media use on climate change opinion, knowledge, and behavior|url=https://oxfordre.com/climatescience/view/10.1093/acrefore/9780190228620.001.0001/acrefore-9780190228620-e-369|access-date=2021-04-21|website=oxford research encyclopedia of climate science|language=en|doi=10.1093/acrefore/9780190228620.013.369|isbn=9780190228620|archive-date=2021-04-21|archive-url=https://web.archive.org/web/20210421025803/https://oxfordre.com/climatescience/view/10.1093/acrefore/9780190228620.001.0001/acrefore-9780190228620-e-369|url-status=live}} end\n"
     ]
    },
    {
     "name": "stderr",
     "output_type": "stream",
     "text": [
      "  4%|██▉                                                                              | 33/921 [00:02<00:46, 19.11it/s]"
     ]
    },
    {
     "name": "stdout",
     "output_type": "stream",
     "text": [
      "beg ref {{cite journal |title=kernenergie und klima |date=16 october 2021 |doi=10.5281/zenodo.5573718 |url=https://doi.org/10.5281%2fzenodo.5573718|last1=wealer |first1=ben |last2=breyer |first2=christian |last3=hennicke |first3=peter |last4=hirsch |first4=helmut |last5=von hirschhausen |first5=christian |last6=klafka |first6=peter |last7=kromp-kolb |first7=helga |last8=präger |first8=fabian |last9=steigerwald |first9=björn |last10=traber |first10=thure |last11=baumann |first11=franz |last12=herold |first12=anke |last13=kemfert |first13=claudia |last14=kromp |first14=wolfgang |last15=liebert |first15=wolfgang |last16=müschen |first16=klaus }} end\n",
      "beg ref harenda k.m., lamentowicz m., samson m., chojnicki b.h. (2018) the role of peatlands and their carbon storage function in the context of climate change. in: zielinski t., sagan i., surosz w. (eds) interdisciplinary approaches for sustainable development goals. geoplanet: earth and planetary sciences. springer, cham. https://doi.org/10.1007/978-3-319-71788-3_12 end\n"
     ]
    },
    {
     "name": "stderr",
     "output_type": "stream",
     "text": [
      "\r",
      "  4%|███▏                                                                             | 36/921 [00:02<00:44, 19.95it/s]"
     ]
    },
    {
     "name": "stdout",
     "output_type": "stream",
     "text": [
      "beg ref {{cite book|date=2018|editor-last=islam|editor-first=md. nazrul|editor2-last=van amstel|editor2-first=andré|title=bangladesh i: climate change impacts, mitigation and adaptation in developing countries|url=https://link.springer.com/book/10.1007/978-3-319-26357-1|series=springer climate|language=en-gb|doi=10.1007/978-3-319-26357-1|isbn=978-3-319-26355-7|issn=2352-0698|s2cid=199493022}} end\n",
      "beg ref {{cite book |last=manley |first=julian |url=http://dx.doi.org/10.1007/978-3-319-92555-4 |title=social dreaming, associative thinking and intensities of affect |date=2018 |isbn=978-3-319-92554-7 |doi=10.1007/978-3-319-92555-4}} end\n",
      "beg ref {{cite book |last=doppelt |first=bob |url=http://dx.doi.org/10.4324/9781351283885 |title=transformational resilience |date=2017-09-08 |isbn=9781351283885 |doi=10.4324/9781351283885}} end\n",
      "beg ref {{cite journal|date=2017-11-17|title=air and climate: greenhouse gas emissions by source (edition 2019)|url=http://dx.doi.org/10.1787/ff19698d-en|access-date=2021-05-24|website=oecd environment statistics|doi=10.1787/ff19698d-en}} end\n"
     ]
    },
    {
     "name": "stderr",
     "output_type": "stream",
     "text": [
      "  5%|████                                                                             | 46/921 [00:02<00:37, 23.06it/s]"
     ]
    },
    {
     "name": "stdout",
     "output_type": "stream",
     "text": [
      "beg ref {{cite book |author1=shwom, rachael |author2=mccright, aaron |author3=brechin, steven |author4=dunlap, riley |author5=marquart-pyatt, sandra |author6=hamilton, lawrence |date=october 2015|title=climate change and society |chapter=public opinion on climate change |doi=10.1093/acprof:oso/9780199356102.003.0009 |chapter-url=https://www.researchgate.net/publication/299916358 |access-date=2021-06-15 |pages=269–299}} end\n",
      "beg ref [[michael oppenheimer]] et al., the limits of consensus, in science magazine's state of the planet 2008-2009: with a special section on energy and sustainability, donald kennedy, island press, 1 december 2008, separate as climate change, the limits of consensus [[michael oppenheimer]], brian c. o'neill, mort webster, shardul agrawal, in science 14 september 2007: vol. 317 no. 5844 pp. 1505-1506 doi: 10.1126/science.1144831 end\n",
      "beg ref [https://web.archive.org/web/20130907043112/http://csi.sagepub.com/content/58/6/897.abstract climate change: what role for sociology? a response to constance lever-tracy], [[reiner grundmann]] and nico stehr, doi: 10.1177/0011392110376031 current sociology november 2010 vol. 58 no. 6 897-910, see [http://csi.sagepub.com/content/56/3/445.abstract lever tracys paper in the same journal] {{webarchive|url=https://web.archive.org/web/20150429120425/http://csi.sagepub.com/content/56/3/445.abstract |date=29 april 2015 }} end\n",
      "beg ref n. w. feinstein & k. j. mach (2019): three roles for education in climate change adaptation, climate policy, doi: 10.1080/14693062.2019.1701975 end\n",
      "beg ref {{cite book|date=2018|editor-last=islam|editor-first=md. nazrul|editor2-last=van amstel|editor2-first=andré|title=bangladesh i: climate change impacts, mitigation and adaptation in developing countries|url=https://link.springer.com/book/10.1007/978-3-319-26357-1|series=springer climate|language=en-gb|doi=10.1007/978-3-319-26357-1|isbn=978-3-319-26355-7|issn=2352-0698|s2cid=199493022}} end\n"
     ]
    },
    {
     "name": "stderr",
     "output_type": "stream",
     "text": [
      "  6%|████▌                                                                            | 52/921 [00:02<00:38, 22.69it/s]"
     ]
    },
    {
     "name": "stdout",
     "output_type": "stream",
     "text": [
      "beg ref {{cite report |title=macroeconomic and financial policies for climate change mitigation: a review of the literature\n",
      " |url=https://www.elibrary.imf.org/doc/imf001/28337-9781513511955/28337-9781513511955/other_formats/source_pdf/28337-9781513512938.pdf |isbn=978-1-5135-1195-5 |last1=krogstrup   |first1=signe |last2=oman        |first2=william |series=imf working papers |date=4 september 2019 |doi=10.5089/9781513511955.001 |s2cid=203245445 |issn=1018-5941|doi-access=free }} end\n",
      "beg ref {{cite web|title=children and the health burdens of climate change|url=https://www-nejm-org.offcampus.lib.washington.edu/doi/10.1056/nejmp1905504|url-status=live}} end\n",
      "beg ref {{cite web|title=children and the health burdens of climate change|url=https://www-nejm-org.offcampus.lib.washington.edu/doi/10.1056/nejmp1905504|url-status=live|access-date=15 december 2021|website=washington.edu}} end\n"
     ]
    },
    {
     "name": "stderr",
     "output_type": "stream",
     "text": [
      "  6%|█████                                                                            | 58/921 [00:03<00:37, 23.27it/s]"
     ]
    },
    {
     "name": "stdout",
     "output_type": "stream",
     "text": [
      "beg ref terry, geraldine. [http://www.tandfonline.com/doi/abs/10.1080/13552070802696839 \"no climate justice without gender justice: an overview of the issues.\"] ''gender & development'' 17.1 (2009): 5–18. web.(accessed 23 october 2014). end\n",
      "beg ref boyd, emily. [https://archive.today/20141027174654/http://practicalaction.metapress.com/content/j61l8q/?genre=issue&id=doi:10.3362/9781780440088 \"the noel kempff project in bolivia: gender, power, and decision-making in climate mitigation.\"] ''climate change and gender justice. ed. geraldine terry and caroline sweetman.'' warwickshire: practical action publishing, oxfam gb, 2009. 101–110. web.(accessed 24 october 2014). end\n",
      "beg ref macgregor, sherilyn. \"a stranger silence still: the need for feminist social research on climate change.\" ''the sociological review'' 57 (2010): 124–140. {{doi|10.1111/j.1467-954x.2010.01889.x}}. end\n",
      "beg ref demetriades, justina, and emily esplen. \"the gender dimensions of poverty and climate change adaptation.\" ''ids bulletin'' 39.4 (2009): 24–31. {{doi|10.1111/j.1759-5436.2008.tb00473.x}}. end\n",
      "beg ref jabeen, h. [http://eau.sagepub.com/cgi/doi/10.1177/0956247813517851 \"adapting the built environment: the role of gender in shaping vulnerability and resilience to climate extremes in dhaka.\"] ''environment and urbanization'' 26.1 (2014): 147–165.(accessed 3 september 2014). end\n",
      "beg ref rodrigues, m. m., & soares, i. s. (2014). gene-therapy for malaria prevention. trends in parasitology, 30(11), 511-513. [[doi:10.1016/j.pt.2014.09.005]] end\n",
      "beg ref {{cite journal|last1=beard|first1=c.b.|last2=eisen|first2=r.j.|last3=barker|first3=c.m.|last4=garofalo|first4=j.f.|last5=hahn|first5=m.|last6=hayden|first6=m.|last7=monaghan|first7=a.j.|last8=ogden|first8=n.h.|last9=schramm|first9=p.j.|date=2016|title=ch. 5: vectorborne diseases. the impacts of climate change on human health in the united states: a scientific assessment|url=https://health2016.globalchange.gov/downloads#vectorborne-diseases|doi=10.7930/j0765c7v}} end\n",
      "beg ref {{cite journal|last1=sarofim|first1=m.c.|last2=saha|first2=s.|last3=hawkins|first3=m.d.|last4=mills|first4=d.m.|last5=hess|first5=j.|last6=horton|first6=r.|last7=kinney|first7=p.|last8=schwartz|first8=j.|last9=st. juliana|first9=a.|date=2016|title=ch. 2: temperature-related death and illness. the impacts of climate change on human health in the united states: a scientific assessment|url=https://health2016.globalchange.gov/downloads#temperature-related-death-and-illness|doi=10.7930/j0mg7mdx}} end\n",
      "beg ref tanser, f. c., sharp, b., & sueur, d. l. (2003). the potential effect of climate change on malaria transmission in africa. ''the lancet, 362''(9398), 1792-1798. [[doi:10.1016/s0140-6736(03)14898-2]] end\n",
      "beg ref nunes, j. k., woods, c., carter, t., raphael, t., morin, m. j., diallo, d., . . . birkett, a. j. (2014). development of a transmission-blocking malaria vaccine: progress, challenges, and the path forward. ''vaccine, 32''(43), 5531-5539. [[doi:10.1016/j.vaccine.2014.07.030]] end\n",
      "beg ref {{cite journal|last1=fann|first1=n.|last2=brennan|first2=t.|last3=dolwick|first3=p.|last4=gamble|first4=j.l.|last5=ilacqua|first5=v.|last6=kolb|first6=l.|last7=nolte|first7=c.g|last8=spero|first8=t.l.|last9=ziska|first9=l.|date=2016|title=ch. 3: air quality impacts. the impacts of climate change on human health in the united states: a scientific assessment|url=https://health2016.globalchange.gov/downloads#air-quality-impacts|doi=10.7930/j0gq6vp6}} end\n",
      "beg ref osungbade, k. o., & oladunjoye, o. o. (2012). prevention of congenital transmission of malaria in sub- saharan african countries: challenges and implications for health system        strengthening. journal of tropical medicine, 2012, 1-6. [[doi:10.1155/2012/648456]] end\n",
      "beg ref patz, j. a., campbell-lendrum, d., holloway, t., & foley, j. a. (2005). impact of regional climate change on human health. ''nature, 438''(7066), 310-317. doi:10.1038/nature04188 end\n"
     ]
    },
    {
     "name": "stderr",
     "output_type": "stream",
     "text": [
      "  7%|█████▋                                                                           | 65/921 [00:03<00:34, 24.76it/s]"
     ]
    },
    {
     "name": "stdout",
     "output_type": "stream",
     "text": [
      "beg ref {{cite book|doi = 10.1016/bs.apar.2018.02.001|title = climate change and the neglected tropical diseases|series = advances in parasitology|year = 2018|last1 = booth|first1 = mark|volume = 100|pages = 39–126|pmid = 29753342|pmc = 7103135|isbn = 9780128151693}} end\n",
      "beg ref {{cite journal|last=usgcrp|editor1-first=d.j|editor1-last=wuebbles|editor2-first=d.w|editor2-last=fahey|editor3-first=k.a|editor3-last=hibbard|editor4-first=d.j|editor4-last=dokken|editor5-first=b.c|editor5-last=stewart|editor6-first=t.k|editor6-last=maycock|title=climate science special report|url=https://science2017.globalchange.gov/|access-date=2021-04-10|website=science2017.globalchange.gov|year=2017|language=en|doi=10.7930/j0j964j6}} end\n",
      "beg ref [http://pus.sagepub.com/content/9/3/297.short knowledge, ignorance and the popular culture: climate change versus the ozone hole, by sheldon ungar, doi: 10.1088/0963-6625/9/3/306 public understanding of science july 2000 vol. 9 no. 3 297-312] {{webarchive|url=https://web.archive.org/web/20140908033209/http://pus.sagepub.com/content/9/3/297.short |date=8 september 2014 }} abstract] end\n",
      "beg ref riley dunlap, \"why climate-change skepticism is so prevalent in the usa: the success of [[conservatism|conservative think tanks]] in promoting skepticism via the media\", ''climate change: global risks, challenges and decisions'', ''[[institute of physics]] (iop) conf. series: earth and environmental science'' 6 (2009) 532010 [http://www.iop.org/ej/abstract/1755-1315/6/53/532010/ ] {{doi|10.1088/1755-1307/6/3/532010}} end\n",
      "beg ref william freudenburg, \"the effects of journalistic imbalance on scientific imbalance: special interests, scientific consensus and global climate disruption\", ''climate change: global risks, challenges and decisions'', ''iop conf. series: earth and environmental science'' 6 (2009) 532011 [http://www.iop.org/ej/abstract/1755-1315/6/53/532011 ] {{doi|10.1088/1755-1307/6/3/532011}} end\n"
     ]
    },
    {
     "name": "stderr",
     "output_type": "stream",
     "text": [
      "  8%|██████▊                                                                          | 78/921 [00:03<00:35, 23.51it/s]"
     ]
    },
    {
     "name": "stdout",
     "output_type": "stream",
     "text": [
      "beg ref {{cite book |author1=national research council |author-link=national research council (united states) |title=abrupt impacts of climate change |date=2013 |url=http://www.nap.edu/read/18373/|doi=10.17226/18373 |isbn=978-0-309-28773-9 }} end\n"
     ]
    },
    {
     "name": "stderr",
     "output_type": "stream",
     "text": [
      "  9%|███████▋                                                                         | 87/921 [00:04<00:35, 23.66it/s]"
     ]
    },
    {
     "name": "stdout",
     "output_type": "stream",
     "text": [
      "beg ref {{cite journal |last1=shaheen|first1=susan|last2=cohen|first2=adam|last3=bayen|first3=alexandre|date=2018-10-22|title=the benefits of carpooling|url=https://escholarship.org/uc/item/7jx6z631#main|language=en|doi=10.7922/g2dz06gf}} end\n"
     ]
    },
    {
     "name": "stderr",
     "output_type": "stream",
     "text": [
      " 11%|████████▋                                                                       | 100/921 [00:04<00:25, 32.39it/s]"
     ]
    },
    {
     "name": "stdout",
     "output_type": "stream",
     "text": [
      "beg ref wolken, j. m., et al. 2011. \"evidence and implications of recent and projected climate change in alaska's forest ecosystems\". ''ecosphere'' 2(11):124. {{doi|10.1890/es11-00288.1}} end\n",
      "beg ref wang et al. 2014 http://journals.ametsoc.org/doi/abs/10.1175/jcli-d-12-00800.1 {{webarchive|url=https://web.archive.org/web/20150330053659/http://journals.ametsoc.org/doi/abs/10.1175/jcli-d-12-00800.1 |date=2015-03-30 }} end\n"
     ]
    },
    {
     "name": "stderr",
     "output_type": "stream",
     "text": [
      " 12%|█████████▍                                                                      | 108/921 [00:04<00:27, 29.70it/s]"
     ]
    },
    {
     "name": "stdout",
     "output_type": "stream",
     "text": [
      "beg ref guivarch, celine and hallegatte, s., 2c or not 2c? 19 january 2012. feem working paper no. 87.2011. {{doi|10.2139/ssrn.1988201}} end\n"
     ]
    },
    {
     "name": "stderr",
     "output_type": "stream",
     "text": [
      " 14%|██████████▉                                                                     | 126/921 [00:05<00:27, 29.42it/s]"
     ]
    },
    {
     "name": "stdout",
     "output_type": "stream",
     "text": [
      "beg ref etheridge, d. m.; l. p. steele, r. l. langenfelds, r. j. francey, j.-m. barnola, v. i. morgan (1996) \"[http://adsabs.harvard.edu/abs/1996jgr...101.4115e bibcode 1996jgr...101.4115e. natural and anthropogenic changes in atmospheric co2 over the last 1000 years from air in antarctic ice and firn]\". [[journal of geophysical research]] 101 (d2): 4115–4128. {{doi|10.1029/95jd03410}} {{issn|0148-0227}} end\n"
     ]
    },
    {
     "name": "stderr",
     "output_type": "stream",
     "text": [
      " 14%|███████████▌                                                                    | 133/921 [00:05<00:30, 25.67it/s]"
     ]
    },
    {
     "name": "stdout",
     "output_type": "stream",
     "text": [
      "beg ref diaz-ambrona, carlos g.h.; gigena, ruben; mendoza, carlos onan (2013-05-08). \"climate change impacts on maize and dry bean yields of smallholder farmers in honduras\". revista iberoamericana de estudios de desarrollo = iberoamerican journal of development studies. 2 (1): 4–22. doi:10.26754/ojs_ried/ijds.43. issn 2254-2035. end\n",
      "beg ref mcmahan, caleb d.; fuentes-montejo, césar e.; ginger, luke; carrasco, juan carlos; chakrabarty, prosanta; matamoros, wilfredo a. (2020-07-29). \"climate change models predict decreases in the range of a microendemic freshwater fish in honduras\". scientific reports. 10 (1): 12693. doi:10.1038/s41598-020-69579-7. issn 2045-2322. end\n",
      "beg ref bradatan, cristina; dennis, jeffrey a.; flores-yeffal, nadia; swain, sharmistha (2020-01-28). \"child health, household environment, temperature and rainfall anomalies in honduras: a socio-climate data linked analysis\". environmental health. 19 (1): 10. doi:10.1186/s12940-020-0560-9. issn 1476-069x. pmc 6986158. {{pmid|31992324}}. end\n"
     ]
    },
    {
     "name": "stderr",
     "output_type": "stream",
     "text": [
      " 15%|████████████▏                                                                   | 140/921 [00:06<00:27, 28.15it/s]"
     ]
    },
    {
     "name": "stdout",
     "output_type": "stream",
     "text": [
      "beg ref overland, indra; sagbakken, haakon fossum; chan, hoy-yen; merdekawati, monika; suryadi, beni; utama, nuki agya; vakulchuk, roman (2021). the asean climate and energy paradox. ''energy and climate change''. '''2''': 100019. <nowiki>https://doi.org/10.1016/j.egycc.2020.100019</nowiki>   end\n",
      "beg ref bentz, julia. \"learning about climate change in, with and through art\". ''climatic change'', vol 162, no. 3, 2020, pp. 1600-1601, 1601-1602. ''springer science and business media llc'', <nowiki>https://doi.org/10.1007/s10584-020-02804-4</nowiki>. accessed 18 nov 2021. end\n",
      "beg ref sommer, laura kim, and christian andreas klöckner. \"does activist art have the capacity to raise awareness in audiences?—a study on climate change art at the artcop21 event in paris.\". ''psychology of aesthetics, creativity, and the arts'', vol 15, no. 1, 2021, pp. 61, 62-66, 66-67, 68, 73. ''ebscohost'', <nowiki>http://dx.doi.org.offcampus.lib.washington.edu/10.1037/aca0000247</nowiki>. accessed 18 nov 2021. end\n"
     ]
    },
    {
     "name": "stderr",
     "output_type": "stream",
     "text": [
      " 17%|█████████████▉                                                                  | 160/921 [00:06<00:25, 29.73it/s]"
     ]
    },
    {
     "name": "stdout",
     "output_type": "stream",
     "text": [
      "beg ref jacobson, m.z. (2009) [https://web.archive.org/web/20100424234910/http://www.stanford.edu/group/efmh/jacobson/pdf%20files/reviewsolgw09.pdf \"review of solutions to global warming, air pollution, and energy security\"] ''[[energy and environmental science]]'' '''2''':148-73 [https://dx.doi.org/10.1039/b809990c doi 10.1039/b809990c] (review) end\n"
     ]
    },
    {
     "name": "stderr",
     "output_type": "stream",
     "text": [
      " 20%|████████████████                                                                | 185/921 [00:07<00:20, 35.56it/s]"
     ]
    },
    {
     "name": "stdout",
     "output_type": "stream",
     "text": [
      "beg ref {{cite book|date=2018|editor-last=von storch|editor-first=hans|editor2-last=meinke|editor2-first=insa|editor3-last=claußen|editor3-first=martin|title=hamburger klimabericht – wissen über klima, klimawandel und auswirkungen in hamburg und norddeutschland|language=en-gb|doi=10.1007/978-3-662-55379-4|isbn=978-3-662-55378-7}} end\n",
      "beg ref {{cite book|last=|first=|date=2013|editor-last=intergovernmental panel on climate change|title=climate change 2013 - the physical science basis|url=http://ebooks.cambridge.org/ref/id/cbo9781107415324|language=en|volume=|pages=|doi=10.1017/cbo9781107415324|via=|isbn=9781107415324}} end\n",
      "beg ref hoekema and sridhar (2011). \"relating climatic attributes and water resources allocation: a study using surface water supply and soil moisture indices in the snake river basin, idaho.\"  water resources research,  vol. 47 wo7536, {{doi| 10.1029/2010/wr009697}} end\n",
      "beg ref {{cite book|last1=kronik|first1=jakob|last2=verner|first2=dorte|title=indigenous peoples and climate change in latin america and the caribbean|year=2010 |language=en|doi=10.1596/978-0-8213-8237-0|isbn=978-0-8213-8237-0|hdl-access=free|hdl=10986/2472}} end\n"
     ]
    },
    {
     "name": "stderr",
     "output_type": "stream",
     "text": [
      " 21%|████████████████▊                                                               | 194/921 [00:07<00:19, 36.43it/s]"
     ]
    },
    {
     "name": "stdout",
     "output_type": "stream",
     "text": [
      "beg ref elias, e.h.; flynn, r.; idowu, o.j.; reyes, j.; sanogo, s.; schutte, b.j.; smith, r.; steele, c.; sutherland, c. crop vulnerability to weather and climate risk: analysis of interacting systems and adaptation efficacy for sustainable crop production. ''sustainability'' 2019, ''11'', 6619. {{doi|10.3390/su11236619}} end\n",
      "beg ref persad, g.g., swain, d.l., kouba, c. ''et al.'' inter-model agreement on projected shifts in california hydroclimate characteristics critical to water management. ''climatic change'' 162, 1493–1513 (2020). <nowiki>https://doi.org/10.1007/s10584-020-02882-4</nowiki> end\n",
      "beg ref carlisle, liz, maywa montenegro de wit, marcia s. delonge, alastair iles, adam calo, christy getz, joanna ory, katherine munden-dixon, ryan galt, brett melone, reggie knox, and daniel press. 2019. \"transitioning to sustainable agriculture requires growing and sustaining an ecologically skilled workforce.\" ''frontiers in sustainable food systems.'' <nowiki>https://doi.org/10.3389/fsufs.2019.00096</nowiki> end\n",
      "beg ref {{cite book |doi=10.1093/acrefore/9780190228620.013.453 |chapter=climate change communication in norway |title=oxford research encyclopedia of climate science |year=2016 |last1=ryghaug |first1=marianne |last2=skjølsvold |first2=tomas moe |isbn=978-0-19-022862-0 |hdl=11250/2484441 |hdl-access=free }} end\n",
      "beg ref {{cite book |url=https://scholar.google.se/scholar?hl=en&q=may%2c+w.%2c+ganske%2c+a.%2c+leckebusch%2c+g.c.%2c+rockel%2c+b.%2c+tinz%2c+b.+and+ulbrich%2c+u.%2c+2016.+projected+change+%e2%80%93+atmosphere.+in%3a+quante%2c+m.+and+colijn%2c+f.+%28eds%29.+north+sea+region+climate+change+assessment+noscca.+regional+climate+studies%2c+springer+nature%2c+149-173.&btng=&as_sdt=1%2c5&as_sdtp=|doi=10.1007/978-3-319-39745-0|title=north sea region climate change assessment|series=regional climate studies|year=2016|isbn=978-3-319-39743-6|s2cid=132967560}} end\n"
     ]
    },
    {
     "name": "stderr",
     "output_type": "stream",
     "text": [
      " 23%|██████████████████▌                                                             | 214/921 [00:08<00:19, 35.51it/s]"
     ]
    },
    {
     "name": "stdout",
     "output_type": "stream",
     "text": [
      "beg ref {{cite book|date=2000-10-25|title=ancillary benefits and costs of greenhouse gas mitigation|url=http://dx.doi.org/10.1787/9789264188129-en|doi=10.1787/9789264188129-en|isbn=9789264185425}} end\n",
      "beg ref huang, y., & bani shahabadi, m. (2014). [https://agupubs.onlinelibrary.wiley.com/doi/pdf/10.1002/2014jd022466 why logarithmic? a note on the dependence of radiative forcing on gas concentration]. journal of geophysical research: atmospheres, 119(24), 13-683. end\n",
      "beg ref myhre, g., highwood, e. j., shine, k. p., & stordal, f. (1998). [https://agupubs.onlinelibrary.wiley.com/doi/pdf/10.1029/98gl01908 new estimates of radiative forcing due to well mixed greenhouse gases]. geophysical research letters, 25(14), 2715-2718. end\n"
     ]
    },
    {
     "name": "stderr",
     "output_type": "stream",
     "text": [
      " 24%|███████████████████▎                                                            | 222/921 [00:08<00:25, 27.79it/s]"
     ]
    },
    {
     "name": "stdout",
     "output_type": "stream",
     "text": [
      "beg ref {{cite book|last=isbell|first=william h.|chapter=wari and tiwanaku: international identities in the central andean middle horizon|title=the handbook of south american archaeology |year=2008 |pages=731–751 |doi=10.1007/978-0-387-74907-5_37 |isbn=978-0-387-74906-8}} end\n",
      "beg ref friedlingstein, p., jones, m., o'sullivan, m., andrew, r., hauck, j., peters, g., peters, w., pongratz, j., sitch, s., le quéré, c. and 66 others (2019) \"global carbon budget 2019\". ''earth system science data'', '''11'''(4): 1783–1838. {{doi|10.5194/essd-11-1783-2019}}. [[file:cc-by icon.svg|50px]] modified text was copied from this source, which is available under a [https://creativecommons.org/licenses/by/4.0/ creative commons attribution 4.0 international license]. end\n",
      "beg ref {{cite book |doi = 10.1007/978-3-319-93284-2_5|chapter = phytoplankton responses to marine climate change – an introduction|title = youmares 8 – oceans across boundaries: learning from each other|year = 2018|last1 = käse|first1 = laura|last2 = geuer|first2 = jana k.|pages = 55–71|isbn = 978-3-319-93283-5}} [[file:cc-by icon.svg|50px]] modified text was copied from this source, which is available under a [https://creativecommons.org/licenses/by/4.0/ creative commons attribution 4.0 international license]. end\n",
      "beg ref rogers, a.d., frinault, b.a.v., barnes, d.k.a., bindoff, n.l., downie, r., ducklow, h.w., friedlaender, a.s., hart, t., hill, s.l., hofmann, e.e. and linse, k. (2019) \"antarctic futures: an assessment of climate-driven changes in ecosystem structure, function, and service provisioning in the southern ocean\". ''annual review of marine science'', '''12''': 87–120. {{doi|10.1146/annurev-marine-010419-011028}} end\n",
      "beg ref bednaršek, n., harvey, c.j., kaplan, i.c., feely, r.a. and možina, j. (2016) \"pteropods on the edge: cumulative effects of ocean acidification, warming, and deoxygenation\". ''progress in oceanography'', '''145''': 1–24. {{doi|10.1016/j.pocean.2016.04.002}} end\n",
      "beg ref vanwonterghem, i. and webster, n.s. (2020) \"coral reef microorganisms in a changing climate\". ''iscience'', '''23'''(4). {{doi|10.1016/j.isci.2020.100972}}. end\n",
      "beg ref pendleton, l.h., hoegh-guldberg, o., langdon, c. and comte, a. (2016) \"multiple stressors and ecological complexity require a new approach to coral reef research\". ''frontiers in marine science'', '''3''': 36. {{doi|10.3389/fmars.2016.00036}} end\n",
      "beg ref harvey b.p., gwynn‐jones d. and moore p.j. (2013) \"meta‐analysis reveals complex marine biological responses to the interactive effects of ocean acidification and warming\". ''ecology and evolution'', '''3'''(4): 1016–1030. {{doi|10.1002/ece3.516}} end\n",
      "beg ref nuccitelli, d., way, r., painting, r., church, j. and cook, j. (2012) [https://skepticalscience.com/docs/comment_on_dk12.pdf \"comment on 'ocean heat content and earthʼs radiation imbalance. ii. relation to climate shifts'\"]. ''physics letters a'', '''376'''(45): 3466–3468. {{doi|10.1016/j.physleta.2012.10.010}} end\n",
      "beg ref pinsky, m.l., worm, b., fogarty, m.j., sarmiento, j.l. and levin, s.a. (2013) \"marine taxa track local climate velocities\". ''science'', '''341'''(6151): 1239–1242. {{doi|10.1126/science.1239352}} end\n",
      "beg ref halpern, b.s., walbridge, s., selkoe, k.a., kappel, c.v., micheli, f., d'agrosa, c., bruno, j.f., casey, k.s., ebert, c., fox, h.e. and fujita, r. (2008) \"a global map of human impact on marine ecosystems\". ''science'', '''319'''(5865): 948–952. {{doi|10.1126/science.1149345}} end\n",
      "beg ref bopp, l., resplandy, l., orr, j.c., doney, s.c., dunne, j.p., gehlen, m., halloran, p., heinze, c., ilyina, t., seferian, r. and tjiputra, j. (2013) \"multiple stressors of ocean ecosystems in the 21st century: projections with cmip5 models\". ''biogeosciences'', '''10''': 6225–6245. {{doi|10.5194/bg-10-6225-2013}} end\n",
      "beg ref keeling, ralph f., and hernan e. garcia (2002) \"the change in oceanic o2 inventory associated with recent global warming.\" ''proceedings of the national academy of sciences'', '''99'''(12): 7848–7853. {{doi|10.1073/pnas.122154899}} end\n",
      "beg ref petrou, k., baker, k.g., nielsen, d.a. et&nbsp;al.  (2019) \"acidification diminishes diatom silica production in the southern ocean\". ''nature: climate change'', '''9''': 781–786. {{doi|10.1038/s41558-019-0557-y}} end\n",
      "beg ref eriksen, m., lebreton, l.c., carson, h.s., thiel, m., moore, c.j., borerro, j.c., galgani, f., ryan, p.g. and reisser, j. (2014) [http://journals.plos.org/plosone/article?id=10.1371/journal.pone.0111913 \"plastic pollution in the world's oceans: more than 5 trillion plastic pieces weighing over 250,000 tons afloat at sea\"]. ''plos one'', '''9''' (12): e111913. {{doi|10.1371/journal.pone.0111913.g002}} end\n",
      "beg ref waycott, m., duarte, c.m., carruthers, t.j., orth, r.j., dennison, w.c., olyarnik, s., calladine, a., fourqurean, j.w., heck, k.l., hughes, a.r. and kendrick, g.a. (2009) [https://www.pnas.org/content/106/30/12377.full \"accelerating loss of seagrasses across the globe threatens coastal ecosystems\".] ''proceedings of the national academy of sciences'', '''106'''(30): 12377–12381. {{doi|10.1073/pnas.0905620106}} end\n",
      "beg ref brito-morales, i., schoeman, d.s., molinos, j.g., burrows, m.t., klein, c.j., arafeh-dalmau, n., kaschner, k., garilao, c., kesner-reyes, k. and richardson, a.j. (2020) \"climate velocity reveals increasing exposure of deep-ocean biodiversity to future warming\". ''[[nature climate change]]'', pp.1-6. {{doi|10.5281/zenodo.3596584}}. end\n",
      "beg ref wadham, j.l., hawkings, j.r., tarasov, l., gregoire, l.j., spencer, r.g.m., gutjahr, m., ridgwell, a. and kohfeld, k.e. (2019) \"ice sheets matter for the global carbon cycle\". ''nature communications'', '''10'''(1): 1–17. {{doi|10.1038/s41467-019-11394-4}}. [[file:cc-by icon.svg|50px]] modified text was copied from this source, which is available under a [https://creativecommons.org/licenses/by/4.0/ creative commons attribution 4.0 international license]. end\n",
      "beg ref gewin, v. (2010) \"oceanography: dead in the water\". ''nature'', '''466'''(7308): 812. {{doi|10.1038/466812a}}. end\n",
      "beg ref hansen, j., fung, i., lacis, a., rind, d., lebedeff, s., ruedy, r., russell, g. and stone, p. (1988) \"global climate changes as forecast by goddard institute for space studies three‐dimensional model\". ''journal of geophysical research: atmospheres'', '''93'''(d8): 9341–9364. {{doi|10.1029/jd093id08p09341}} end\n",
      "beg ref chan, f., barth, j.a., kroeker, k.j., lubchenco, j. and menge, b.a. (2019) \"the dynamics and impact of ocean acidification and hypoxia\". ''oceanography'', '''32'''(3): 62–71. {{doi|10.5670/oceanog.2019.312}}. [[file:cc-by icon.svg|50px]] modified text was copied from this source, which is available under a [https://creativecommons.org/licenses/by/4.0/ creative commons attribution 4.0 international license]. end\n",
      "beg ref cavicchioli, r., ripple, w.j., timmis, k.n., azam, f., bakken, l.r., baylis, m., behrenfeld, m.j., boetius, a., boyd, p.w., classen, a.t. and crowther, t.w. (2019) \"scientists’ warning to humanity: microorganisms and climate change\". ''nature reviews microbiology'', '''17''': 569–586. {{doi|10.1038/s41579-019-0222-5}} end\n",
      "beg ref [https://agupubs.onlinelibrary.wiley.com/doi/full/10.1002/2015gb005310 finding forced trends in oceanic oxygen] end\n",
      "beg ref mostofa, k.m., liu, c.q., zhai, w., minella, m., vione, d.v., gao, k., minakata, d., arakaki, t., yoshioka, t., hayakawa, k. and konohira, e. (2016) \"reviews and syntheses: ocean acidification and its potential impacts on marine ecosystems\". ''biogeosciences'', '''13''': 1767–1786. {{doi|10.5194/bg-13-1767-2016}}. [[file:cc-by_icon.svg|50x50px]] modified text was copied from this source, which is available under a [[creativecommons:by/3.0/|creative commons attribution 3.0 international license]]. end\n",
      "beg ref jones, k.r., klein, c.j., halpern, b.s., venter, o., grantham, h., kuempel, c.d., shumway, n., friedlander, a.m., possingham, h.p. and watson, j.e. (2018) \"the location and protection status of earth’s diminishing marine wilderness\". ''current biology'', '''28'''(15): 2506–2512. {{doi|10.1016/j.cub.2018.06.010}} end\n",
      "beg ref österblom, h., crona, b.i., folke, c., nyström, m. and troell, m. (2017) \"marine ecosystem science on an intertwined planet\". ''ecosystems'', '''20'''(1): 54–61. {{doi|10.1007/s10021-016-9998-6}} end\n",
      "beg ref adapted from: gruber, n., and j. n. galloway (2008) \"an earth‐system perspective of the global nitrogen cycle\". ''nature'', 451:293–296. {{doi|10.1038/nature06592}}. end\n",
      "beg ref halpern, b.s., frazier, m., afflerbach, j. et&nbsp;al. (2019) \"recent pace of change in human impact on the world’s ocean.\" ''scientific reports'', '''9''': 11609. {{doi|10.1038/s41598-019-47201-9}} end\n",
      "beg ref {{cite book |doi = 10.1007/978-3-319-93284-2_5|chapter = phytoplankton responses to marine climate change – an introduction|title = youmares 8 – oceans across boundaries: learning from each other|year = 2018|last1 = käse|first1 = laura|last2 = geuer|first2 = jana k.|pages = 55–71|isbn = 978-3-319-93283-5}} end\n",
      "beg ref boyce, d.g. and [[boris worm|worm, b.]] (2015) \"patterns and ecological implications of historical marine phytoplankton change\". ''marine ecology progress series'', '''534''':251–272. {{doi|10.3354/meps11411}} end\n",
      "beg ref urbanek, a.k., rymowicz, w. and mirończuk, a.m. (2018) \"degradation of plastics and plastic-degrading bacteria in cold marine habitats\". ''applied microbiology and biotechnology'', '''102'''(18): 7669–7678. {{doi|10.1007/s00253-018-9195-y}}. end\n",
      "beg ref cardini, u., bednarz, v.n., foster, r.a. and wild, c. (2014) \"benthic n2 fixation in coral reefs and the potential effects of human‐induced environmental change\". ''ecology and evolution'', '''4'''(9): 1706–1727. {{doi|10.1002/ece3.1050}} [[file:cc-by icon.svg|50px]] modified text was copied from this source, which is available under a [https://creativecommons.org/licenses/by/4.0/ creative commons attribution 4.0 international license]. end\n"
     ]
    },
    {
     "name": "stderr",
     "output_type": "stream",
     "text": [
      " 25%|████████████████████                                                            | 231/921 [00:08<00:25, 27.17it/s]"
     ]
    },
    {
     "name": "stdout",
     "output_type": "stream",
     "text": [
      "beg ref {{cite journal |title=figure 1. the economy has been volatile but also resilient to shocks |url=http://dx.doi.org/10.1787/888933338536 |access-date=2022-03-23 |website=dx.doi.org|doi=10.1787/888933338536 }} end\n",
      "beg ref poleward shift of the major ocean gyres detected in a warming climate. geophysical research letters, 47, e2019gl085868 {{doi|10.1029/2019gl085868}} end\n",
      "beg ref grantham-mcgregor, sally et al., the international child development steering group. “developmental potential in the first 5 years for children in developing countries.” lancet 369.9555 (2007): 60–70. pmc. web. 28 nov. 2014. end\n",
      "beg ref {{cite journal|last=oster|first=emily|date=july 2016|title=does disease cause vaccination? disease outbreaks and vaccination response|url=http://www.nber.org/papers/w22464.pdf|location=cambridge, ma|doi=10.3386/w22464|doi-access=free}} end\n"
     ]
    },
    {
     "name": "stderr",
     "output_type": "stream",
     "text": [
      " 26%|████████████████████▌                                                           | 237/921 [00:09<00:25, 26.33it/s]"
     ]
    },
    {
     "name": "stdout",
     "output_type": "stream",
     "text": [
      "beg ref {{cite book |last1=kappelle |first1=m |year=2004 |chapter=tropical montane forests |pages=1782–92 |doi=10.1016/b0-12-145160-7/00175-7 |editor1-first=jeffery |editor1-last=burley |title=encyclopedia of forest sciences |isbn=978-0-12-145160-8 }} end\n",
      "beg ref {{cite book |last1=hamilton |first1=lawrence s |last2=juvik |first2=james o |last3=scatena |first3=f. n |year=1995 |chapter=the puerto rico tropical cloud forest symposium: introduction and workshop synthesis |pages=1–18 |doi=10.1007/978-1-4612-2500-3_1 |editor1-first=lawrence s. |editor1-last=hamilton |editor2-first=james o. |editor2-last=juvik |editor3-first=f. n. |editor3-last=scatena |title=tropical montane cloud forests |volume=110 |series=ecological studies |isbn=978-1-4612-7564-0 }} end\n",
      "beg ref {{cite book |last1=bruijnzeel |first1=l. a |last2=proctor |first2=j |year=1995 |chapter=hydrology and biogeochemistry of tropical montane cloud forests: what do we really know? |pages=38–78 |doi=10.1007/978-1-4612-2500-3_3 |editor1-first=lawrence s. |editor1-last=hamilton |editor2-first=james o. |editor2-last=juvik |editor3-first=f. n. |editor3-last=scatena |title=tropical montane cloud forests |volume=110 |series=ecological studies |isbn=978-1-4612-7564-0 }} end\n",
      "beg ref {{cite magazine |last1 = sterner |first1 = robert w. |last2 = anagnostou |first2 = eleni |last3 = brovold |first3 = sandra |last4 = bullerjahn |first4 = george s. |author-link4=george s. bullerjahn|last5 = finlay |first5 = jacques c. |last6 = kumar |first6 = sanjeev |last7 = mckay |first7 = r. michael l. |last8 = sherrell |first8 = robert m. |title = increasing stoichiometric imbalance in north america's largest lake: nitrification in lake superior |magazine = geophysical research letters |volume = 34 |pages = l10406 |year = 2007 |doi = 10.1029/2006gl028861 |bibcode = 2007georl..3410406s |issue = 10 |url = https://eprints.soton.ac.uk/339953/1/sterner_et_al._2007_grl_ls_no3.pdf |doi-access = free }} end\n",
      "beg ref {{cite magazine |last=phillips|first=david w.|date=1978|title=environmental climatology of lake superior|url=https://linkinghub.elsevier.com/retrieve/pii/s0380133078721994|magazine=journal of great lakes research|language=en|volume=4|issue=3–4|pages=288–309|doi=10.1016/s0380-1330(78)72199-4}} end\n",
      "beg ref"
     ]
    },
    {
     "name": "stderr",
     "output_type": "stream",
     "text": [
      " 26%|█████████████████████                                                           | 243/921 [00:09<00:26, 25.23it/s]"
     ]
    },
    {
     "name": "stdout",
     "output_type": "stream",
     "text": [
      " {{cite journal|last1=holcomb|first1=m.|last2=cohen|first2=a. l.|last3=mccorkle|first3=d. c.|date=2011-08-23|title=a gender bias in the calcification response to ocean acidification|url=https://bg.copernicus.org/preprints/8/8485/2011/bgd-8-8485-2011.pdf|doi=10.5194/bgd-8-8485-2011|doi-access=free}} end\n",
      "beg ref vanwonterghem, i. and webster, n.s. (2020) \"coral reef microorganisms in a changing climate\". ''iscience'', '''23'''(4). {{doi|10.1016/j.isci.2020.100972}}. end\n",
      "beg ref [[perry miller|miller, perry]] (april 1951). \"the end of the world\". ''the william and mary quarterly''. '''8''' (2): 172–191. [[digital object identifier|doi]]:10.2307/1916901. [[jstor]] 1916901. end\n",
      "beg ref {{cite book|title=world food and agriculture – statistical yearbook 2021|url=https://www.fao.org/documents/card/en/c/cb4477en/|url-status=live|access-date=december 10, 2021|website=www.fao.org|year=2021|language=en|doi=10.4060/cb4477en|isbn=978-92-5-134332-6|s2cid=240163091}} end\n"
     ]
    },
    {
     "name": "stderr",
     "output_type": "stream",
     "text": [
      " 27%|█████████████████████▋                                                          | 249/921 [00:09<00:27, 24.23it/s]"
     ]
    },
    {
     "name": "stdout",
     "output_type": "stream",
     "text": [
      "beg ref {{cite iucn |author=birdlife international |date=2018 |title=''fratercula arctica'' |volume=2018 |page=e.t22694927a132581443 |doi=10.2305/iucn.uk.2018-2.rlts.t22694927a132581443.en |access-date=19 november 2021}} end\n",
      "beg ref  pasher, j., seed, e., & duffe, j. (2013). “development of boreal ecosystem anthropogenic disturbance layers for canada based on 2008 to 2010 landsat imagery.” canadian journal of remote sensing, 39(1), 42-58. {{doi|10.5589/m13-007}}  end\n",
      "beg ref tinner, w., bigler, c., gedye, s., gregory-eaves, i., jones, r. t., kaltenrieder, p., . . . hu, f. s. (2008). a 700-year paleoecological record of boreal ecosystem responses to climatic variation from alaska. ecology, 89(3), 729-743. {{doi|10.1890/06-1420.1}} end\n",
      "beg ref lal, r. (2004). soil carbon sequestration to mitigate climate change. geoderma, 123(1-2), 1-22. {{doi|10.1016/j.geoderma.2004.01.032}} end\n",
      "beg ref pohjanmies, t., triviño, m., le tortorec, e. et al. ambio (2017) 46: 743. https://doi.org/10.1007/s13280-017-0919-5 end\n",
      "beg ref loranty, m. m., abbott, b. w., blok, d., douglas, t. a., epstein, h. e., forbes, b. c., . . . walker, d. a. (2018). reviews and syntheses: changing ecosystem influences on soil thermal regimes in northern high-latitude permafrost regions. biogeosciences, 15(17), 5287-5313. {{doi|10.5194/bg-15-5287-2018}} end\n",
      "beg ref  boonstra, r., boutin, s., jung, t. s., krebs, c. j., & taylor, s. (2018). impact of rewilding, species introductions and climate change on the structure and function of the yukon boreal forest ecosystem. integrative zoology, 13(2), 123-138. {{doi|10.1111/1749-4877.12288}}  end\n"
     ]
    },
    {
     "name": "stderr",
     "output_type": "stream",
     "text": [
      " 28%|██████████████████████▏                                                         | 255/921 [00:09<00:26, 25.48it/s]"
     ]
    },
    {
     "name": "stdout",
     "output_type": "stream",
     "text": [
      "beg ref {{cite conference | last=ribas | first=ignasi | conference=proceedings of the iau symposium 264 'solar and stellar variability – impact on earth and planets' | title=the sun and stars as the primary energy input in planetary atmospheres | volume=264 | pages=3–18 |date=february 2010 | doi=10.1017/s1743921309992298 | bibcode=2010iaus..264....3r |arxiv = 0911.4872 }} end\n",
      "beg ref [http://people.deas.harvard.edu/~vtsai/files/tsaiekstrom_jgr2007.pdf \"analysis of glacial earthquakes\"] {{webarchive|url=https://web.archive.org/web/20081007050046/http://people.deas.harvard.edu/~vtsai/files/tsaiekstrom_jgr2007.pdf |date=2008-10-07 }} tsai, v. c. and g. ekström (2007). j. geophys. res., 112, f03s22, {{doi|10.1029/2006jf000596}} end\n",
      "beg ref [http://people.deas.harvard.edu/~vtsai/files/ekstromnettlestsai_science2006.pdf \"seasonality and increasing frequency of greenland glacial earthquakes\"] {{webarchive|url=https://web.archive.org/web/20081007062935/http://people.deas.harvard.edu/~vtsai/files/ekstromnettlestsai_science2006.pdf |date=2008-10-07 }}, ekström, g., m. nettles, and v.c. tsai (2006) ''science'', 311, 5768, 1756–1758, {{doi|10.1126/science.1122112}} end\n",
      "beg ref fwc, [http://www.wakulla.com/wakulla_outdoors/fwc_general_news/deer_colorblind_to_orange,_but_if_you_glow..._200902237243/ deer colorblind to orange, but if you glow ...], wakulla.com, february 23, 2009. this is a report of<br />g. h. jacobs, j. f. deegan, j. neitz, b. p. murphy, k. v. miller and r. l. marchinton, [https://doi.org/10.1007%2fbf00217375 \"electrophysiological measurements of spectral mechanisms in the retinas of two cervids: white-tailed deer (''odocoileus virginianus'') and fallow deer (''dama dama'')\"], ''journal of comparative physiology a'', volume 174, number 5, pages 551–557, 1994. end\n",
      "beg ref {{cite iucn |author=gallina, s. and lopez arevalo, h. |date=2016 |title=''odocoileus virginianus'' |volume=2016 |page=e.t42394a22162580 |doi=10.2305/iucn.uk.2016-2.rlts.t42394a22162580.en |access-date=19 november 2021}} end\n"
     ]
    },
    {
     "name": "stderr",
     "output_type": "stream",
     "text": [
      " 28%|██████████████████████▋                                                         | 261/921 [00:10<00:26, 25.37it/s]"
     ]
    },
    {
     "name": "stdout",
     "output_type": "stream",
     "text": [
      "beg ref cavanaugh, k. c., kellner, j. r., forde, a. j., gruner, d. s., parker, j. d., rodriguez, w., & feller, i. c. (2014). poleward expansion of mangroves is a threshold response to decreased frequency of extreme cold events. proceedings of the national academy of sciences of the united states of america, 111(2), 723–7. doi:10.1073/pnas.1315800111 end\n",
      "beg ref alongi, d. m. (2008). mangrove forests: resilience, protection from tsunamis, and responses to global climate change. [[estuarine, coastal and shelf science]], 76(1), 1–13. doi:10.1016/j.ecss.2007.08.024 end\n",
      "beg ref day, j. w., christian, r. r., boesch, d. m., yáñez-arancibia, a., morris, j., twilley, r. r., … stevenson, c. (2008). consequences of climate change on the ecogeomorphology of coastal wetlands. estuaries and coasts, 31(3), 477–491. doi:10.1007/s12237-008-9047-6 end\n",
      "beg ref church, j. a., & white, n. j. (2006). a 20th century acceleration in global sea-level rise. geophysical research letters, 33(1), n/a–n/a. doi:10.1029/2005gl024826 end\n",
      "beg ref [[kerry h. cook]]. [http://ams.allenpress.com/perlserv/?request=get-abstract&doi=10.1175%2f1520-0442(1999)012%3c1165%3agotaej%3e2.0.co%3b2 generation of the african easterly jet and its role in determining west african precipitation.] retrieved on 2008-05-08. end\n",
      "beg ref {{cite iucn |author= cooke, j.g.|title= ''eubalaena glacialis'' |errata=2020 |year= 2020|page= e.t41712a178589687|doi= 10.2305/iucn.uk.2020-2.rlts.t41712a178589687.en|access-date= 28 march 2021}} end\n"
     ]
    },
    {
     "name": "stderr",
     "output_type": "stream",
     "text": [
      " 29%|███████████████████████▎                                                        | 269/921 [00:10<00:22, 29.25it/s]"
     ]
    },
    {
     "name": "stdout",
     "output_type": "stream",
     "text": [
      "beg ref {{cite book|last=foster|first=john|date=2014-08-07|title=after sustainability|url=http://dx.doi.org/10.4324/9781315888576|doi=10.4324/9781315888576|isbn=9781315888576}} end\n",
      "beg ref {{cite book|last=orange|first=donna m.|date=2016-09-13|title=climate crisis, psychoanalysis, and radical ethics|url=http://dx.doi.org/10.4324/9781315647906|doi=10.4324/9781315647906|isbn=9781315647906}} end\n",
      "beg ref taylor s. (2020). anxiety disorders, climate change, and the challenges ahead: introduction to the special issue. journal of anxiety disorders, 76, 102313. https://doi.org/10.1016/j.janxdis.2020.102313 end\n",
      "beg ref grant l. k. (2011). can we consume our way out of climate change? a call for analysis. ''the behavior analyst'', ''34''(2), 245–266. <nowiki>https://doi.org/10.1007/bf03392256</nowiki> end\n",
      "beg ref ''observation of swell dissipation across oceans'', f. ardhuin, collard, f., and b. chapron, 2009: geophys. res. lett. 36, l06607, {{doi|10.1029/2008gl037030}} end\n",
      "beg ref {{cite iucn |author=lowry, l. |date=2016 |title=''pusa hispida'' |volume=2016 |page=e.t41672a45231341 |doi=10.2305/iucn.uk.2016-1.rlts.t41672a45231341.en |access-date=13 november 2021}} end\n",
      "beg ref {{cite book|last=ayyub|first=bilal|date=2014-03-20|title=risk analysis in engineering and economics, second edition|doi=10.1201/b16663|isbn=978-1-4665-1825-4}} end\n",
      "beg ref milstein, t. & castro-sotomayor, j. (2020). routledge handbook of ecocultural identity. london, uk: routledge. https://doi.org/10.4324/9781351068840 end\n",
      "beg ref"
     ]
    },
    {
     "name": "stderr",
     "output_type": "stream",
     "text": [
      " 30%|███████████████████████▉                                                        | 276/921 [00:10<00:22, 28.26it/s]"
     ]
    },
    {
     "name": "stdout",
     "output_type": "stream",
     "text": [
      " {{cite iucn |author=wiig, ø. |author2=amstrup, s. |author3=atwood, t. |author4=laidre, k. |author5=lunn, n. |author6=obbard, m. |author7=regehr, e. |author8=thiemann, g. |date=2015 |title=''ursus maritimus'' |volume=2015 |page=e.t22823a14871490 |doi=10.2305/iucn.uk.2015-4.rlts.t22823a14871490.en |access-date=19 november 2021}} end\n",
      "beg ref {{cite book |author=office of international affairs |title=lost crops of the incas: little-known plants of the andes with promise for worldwide cultivation |date=1989 |url=http://www.nap.edu/openbook.php?isbn=030904264x&page=92 |work=nap.edu |isbn=978-0-309-04264-2 |page=92|doi=10.17226/1398 }} end\n",
      "beg ref mla\trowley-conwy, peter, and robert layton. “foraging and farming as niche construction: stable and unstable adaptations.” philosophical transactions of the royal society of london. series b, biological sciences vol. 366,1566 (2011): 849-62. {{doi|10.1098/rstb.2010.0307}} end\n",
      "beg ref {{cite book |last1=frouz |first1=jan |last2=frouzová |first2=jaroslava |date=2022 |title=applied ecology |url=https://link.springer.com/book/10.1007/978-3-030-83225-4 |doi=10.1007/978-3-030-83225-4 |pages= |isbn=978-3-030-83224-7 |s2cid=245009867 }} end\n"
     ]
    },
    {
     "name": "stderr",
     "output_type": "stream",
     "text": [
      " 31%|████████████████████████▋                                                       | 284/921 [00:10<00:20, 31.35it/s]"
     ]
    },
    {
     "name": "stdout",
     "output_type": "stream",
     "text": [
      "beg ref {{cite iucn |author=birdlife international |date=2016 |title=''plectrophenax nivalis'' |volume=2016 |page=e.t22721043a89345729 |doi=10.2305/iucn.uk.2016-3.rlts.t22721043a89345729.en |access-date=12 november 2021}} end\n",
      "beg ref {{cite book|title=methods for monitoring tiger and prey populations {{!}} springerlink|url=https://link.springer.com/content/pdf/10.1007/978-981-10-5436-5.pdf|doi=10.1007/978-981-10-5436-5|isbn=978-981-10-5435-8|year=2017|s2cid=33402538|editor1-last=karanth|editor1-first=k. ullas|editor2-last=nichols|editor2-first=james d.}} end\n",
      "beg ref {{cite report |last1=gregory |first1=christian a. |last2=coleman-jensen |first2=alisha |last3=gregory |first3=christian a. |last4=coleman-jensen |first4=alisha |date=2017 |title=food insecurity, chronic disease, and health among working-age adults |website=agecon search |url=https://ageconsearch.umn.edu/record/261813 |language=en |doi=10.22004/ag.econ.261813}} end\n",
      "beg ref swinnen, johan; and mcdermott, john. 2020. covid-19: assessing impacts and policy responses for food and nutrition security. in covid-19 and global food security, eds. johan swinnen and john mcdermott. introduction, chapter 1, pp. 8-12. washington, dc: international food policy research institute (ifpri). https://doi.org/10.2499/p15738coll2.133762_01 end\n",
      "beg ref {{cite book|title=the state of food security and nutrition in the world 2020 - transforming food systems for affordable healthy diets|url=http://www.fao.org/documents/card/en/c/ca9692en/|access-date=2021-05-10|website=www.fao.org|year=2020|language=en|doi=10.4060/ca9692en|isbn=978-92-5-132901-6|s2cid=239729231}} end\n",
      "beg ref arenas, d.j., thomas, a., wang, j. et al. j gen intern med (2019) || https://doi.org/10.1007/s11606-019-05202-4 end\n"
     ]
    },
    {
     "name": "stderr",
     "output_type": "stream",
     "text": [
      "\r",
      " 31%|█████████████████████████                                                       | 288/921 [00:11<00:22, 27.73it/s]"
     ]
    },
    {
     "name": "stdout",
     "output_type": "stream",
     "text": [
      "beg ref {{cite book|last1=darrin|first1=ann|title=itherm 2000. the seventh intersociety conference on thermal and thermomechanical phenomena in electronic systems (cat. no.00ch37069)|chapter=variable emissivity through mems technology|year=2000|pages=264–270|chapter-url=https://ieeexplore.ieee.org/document/866834|doi=10.1109/itherm.2000.866834|hdl=2060/20000089965|isbn=0-7803-5912-7|s2cid=109389129|access-date=7 january 2021|quote=specialized thermal control coatings, which can passively or actively adjust their emissivity offer an attractive solution to these [spacecraft] design challenges.|archive-date=24 june 2018|archive-url=https://web.archive.org/web/20180624074852/https://ieeexplore.ieee.org/document/866834/|url-status=live}} end\n",
      "beg ref van der geest, k. & warner, k. (2019) [https://collections.unu.edu/eserv/unu:7535/vandergeest_warner_2019_climate_policy_ld_ipcc_wg2_ar5_meta.pdf loss and damage in the [[ipcc fifth assessment report]] (working group ii): a text-mining analysis]. climate policy, online first. doi: 10.1080/14693062.2019.1704678. end\n",
      "beg ref amante, c. and b.w. eakins, 2009. etopo1 1 arc-minute global relief model: procedures, data sources and analysis. noaa technical memorandum nesdis ngdc-24. [http://www.ngdc.noaa.gov/mgg/global/global.html national geophysical data center, noaa]. doi:10.7289/v5c8276m [access date: 2015-03-18]. end\n",
      "beg ref national geophysical data center, 1999. global land one-kilometer base elevation (globe) v.1. hastings, d. and p.k. dunbar. [http://www.ngdc.noaa.gov/mgg/topo/gltiles.html national geophysical data center, noaa]. doi:10.7289/v52r3pms [access date: 2015-03-16] end\n"
     ]
    },
    {
     "name": "stderr",
     "output_type": "stream",
     "text": [
      " 32%|█████████████████████████▌                                                      | 294/921 [00:11<00:24, 25.75it/s]"
     ]
    },
    {
     "name": "stdout",
     "output_type": "stream",
     "text": [
      "beg ref {{cite book |last1=movasat |first1=mahta |last2=tomac |first2=ingrid |title=geo-congress 2020 |date=2020-02-21 |chapter=post-fire mudflow prevention by biopolymer treatment of water repellent slopes |chapter-url=https://ascelibrary.org/doi/abs/10.1061/9780784482834.019 |language=en |pages=170–178 |doi=10.1061/9780784482834.019|isbn=9780784482834 |s2cid=213023120 }} end\n",
      "beg ref {{cite journal|url=https://www.cdc.gov/niosh/docs/2013-158/|title=cdc – niosh publications and products – wildland fire fighting: hot tips to stay safe and healthy (2013–158)|website=www.cdc.gov|access-date=2016-11-22|url-status=live|archive-url=https://web.archive.org/web/20161122154309/http://www.cdc.gov/niosh/docs/2013-158/|archive-date=22 november 2016|doi=10.26616/nioshpub2013158|year=2013}} end\n",
      "beg ref {{cite journal|url=http://www.ncdc.noaa.gov/billions/docs/smith-and-katz-2013.pdf|title=smith a.b. and r. katz, 2013: u.s. billion-dollar weather and climate disasters: data sources, trends, accuracy, and biases. natural hazards, 67, 387–410, doi:10.1007/s11069-013-0566-5|doi=10.1007/s11069-013-0566-5|s2cid=30742858}} end\n",
      "beg ref {{cite book |url=http://dx.doi.org/10.4324/9780203839263 |title=the routledge handbook of urban ecology |date=2010-12-21 |isbn=9781136883415 |editor-last=douglas |editor-first=ian |doi=10.4324/9780203839263 |editor2-last=goode |editor2-first=david |editor3-last=houck |editor3-first=michael c. |editor4-last=maddox |editor4-first=david}} end\n",
      "beg ref {{cite journal|date=2019-01-01|title=california and alaska currents|url=https://www.sciencedirect.com/science/article/pii/b9780124095489112990|language=en|pages=318–329|doi=10.1016/b978-0-12-409548-9.11299-0}} end\n"
     ]
    },
    {
     "name": "stderr",
     "output_type": "stream",
     "text": [
      " 33%|██████████████████████████▌                                                     | 306/921 [00:11<00:20, 29.86it/s]"
     ]
    },
    {
     "name": "stdout",
     "output_type": "stream",
     "text": [
      "beg ref {{cite magazine |last=seager |first=richard |date=july–august 2006 |title=the source of europe's mild climate |url=https://www.americanscientist.org/article/the-source-of-europes-mild-climate |magazine=[[american scientist]] |volume=94 |issue=4 |page=334 |doi=10.1511/2006.60.334 |postscript=. subhead: \"the notion that the gulf stream is responsible for keeping europe anomalously warm turns out to be a myth\".}} end\n",
      "beg ref {{cite journal |title=access electronic resources |url=https://www.library.yorku.ca/ezproxy/?qurl=https%3a%2f%2fdoi.org%2f10.1111%2f1365-2664.13832 |access-date=2022-03-28 |website=www.library.yorku.ca |doi=10.1111/1365-2664.13832|s2cid = 233617330}} end\n",
      "beg ref {{cite journal |title=access electronic resources |url=https://www.library.yorku.ca/ezproxy/?qurl=https%3a%2f%2fdoi.org%2f10.1017%2fs0030605320000551 |access-date=2022-03-28 |website=www.library.yorku.ca |doi=10.1017/s0030605320000551|s2cid = 245287460}} end\n",
      "beg ref pang sean e h, de alban jose don t, & webb edward l. (2021). effects of climate change and land cover on the distributions of a critical botanical family in the philippines. scientific reports, 11(1), 276–276. [./https://doi.org/10.1038/s41598-020-79491-9  end\n"
     ]
    },
    {
     "name": "stderr",
     "output_type": "stream",
     "text": [
      " 34%|███████████████████████████▎                                                    | 314/921 [00:11<00:20, 30.31it/s]"
     ]
    },
    {
     "name": "stdout",
     "output_type": "stream",
     "text": [
      "beg ref {{cite web |title=global carbon budget 2021 |url=https://essd.copernicus.org/preprints/essd-2021-386/ |website=earth system science data discussions |access-date=19 april 2022 |pages=1–191 |language=english |doi=10.5194/essd-2021-386 |date=4 november 2021}} end\n",
      "beg ref {{cite book|title=unwto tourism highlights: 2019 edition {{!}} world tourism organization|year=2019|doi=10.18111/9789284421152|isbn=978-92-844-2115-2|s2cid=240665765}} end\n",
      "beg ref ludwig ellenberg: ''die meerenge von gibraltar – küstenmorphologie zwischen mittelmeer und atlantik.'' in: ''geographica helvetica.'' vol.&nbsp;36, no.&nbsp;3, 1981, pp.&nbsp;109–120, [[doi:10.5194/gh-36-109-1981]] end\n",
      "beg ref {{cite book |doi=10.1007/b107143 |chapter=circulation in the mediterranean sea |title=the mediterranean sea |volume=5k |pages=29–66 |series=handbook of environmental chemistry |year=2005 |last1=millot |first1=claude |last2=taupier-letage |first2=isabelle |isbn=978-3-540-25018-0 |chapter-url=https://hal.archives-ouvertes.fr/hal-01191856/file/millot_taupier-letage_circulation_med_handbook_2005_hal%20%281%29.pdf }} end\n",
      "beg ref {{cite book\n",
      " | last1 = agusti | first1 = j\n",
      " | last2 = moya-sola | first2 = s\n",
      " | title = mammal extinctions in the vallesian (upper miocene)\n",
      " | volume = 30 | year = 1990 | pages = 425–432\n",
      " | issn = 1613-2580 | doi = 10.1007/bfb0011163\n",
      "| series = lecture notes in earth sciences\n",
      " | isbn = 978-3-540-52605-6\n",
      " }} end\n"
     ]
    },
    {
     "name": "stderr",
     "output_type": "stream",
     "text": [
      " 35%|███████████████████████████▉                                                    | 321/921 [00:12<00:23, 25.39it/s]"
     ]
    },
    {
     "name": "stdout",
     "output_type": "stream",
     "text": [
      "beg ref {{cite book |doi=10.1007/978-94-011-5874-9_7 |chapter=how do rare species avoid extinction? a paleontological view |title=the biology of rarity |year=1997 |last1=mckinney |first1=michael l. |pages=110–129 |isbn=978-94-010-6483-5 |editor1-last=kunin |editor1-first=w. e. |editor2-last=gaston |editor2-first=k. j. |chapter-url=https://books.google.com/books?id=4lhncaaaqbaj&pg=pa110 }} end\n",
      "beg ref {{cite iucn |author=birdlife international |date=2017 |title=''calidris fuscicollis'' |volume=2017 |page=e.t22693399a119296025 |doi=10.2305/iucn.uk.2017-3.rlts.t22693399a119296025.en |access-date=12 november 2021}} end\n"
     ]
    },
    {
     "name": "stderr",
     "output_type": "stream",
     "text": [
      " 36%|████████████████████████████▋                                                   | 330/921 [00:12<00:26, 22.14it/s]"
     ]
    },
    {
     "name": "stdout",
     "output_type": "stream",
     "text": [
      "beg ref [https://www.researchgate.net/publication/222296321_the_indian_ocean_coast_of_somalia \"the indian ocean coast of somalia\"]. ''marine pollution bulletin''. '''41''' (1-6): 141–159. december 2000. doi: 10.1016/s0025-326x(00)00107-7 end\n",
      "beg ref thorsteinson, l. k., and love, m. s., eds., 2016, alaska arctic marine fish ecology catalog: u.s. geological survey scientific investigations report 2016-5038 (ocs study, boem 2016-048), 768 p., [[doi:10.3133/sir20165038]]. end\n",
      "beg ref hannah hoag, [http://www.nature.com/nbt/journal/v27/n8/full/nbt0809-690.html#a1 the cold rush], ''[[nature biotechnology]]'' 27, 690–692 (2009), [[doi:10.1038/nbt0809-690]]. end\n"
     ]
    },
    {
     "name": "stderr",
     "output_type": "stream",
     "text": [
      " 37%|█████████████████████████████▍                                                  | 339/921 [00:13<00:25, 22.91it/s]"
     ]
    },
    {
     "name": "stdout",
     "output_type": "stream",
     "text": [
      "beg ref {{cite journal|last=frouz|first=jan|last2=frouzová|first2=jaroslava|date=2022|title=applied ecology|url=https://link.springer.com/book/10.1007/978-3-030-83225-4|language=en-gb|doi=10.1007/978-3-030-83225-4}} end\n"
     ]
    },
    {
     "name": "stderr",
     "output_type": "stream",
     "text": [
      " 37%|█████████████████████████████▉                                                  | 345/921 [00:13<00:27, 20.62it/s]"
     ]
    },
    {
     "name": "stdout",
     "output_type": "stream",
     "text": [
      "beg ref {{cite journal|last=zappalà|first=guglielmo|date=2018|title=central banks' role in responding to climate change: monetary policy and macroprudential regulation|url=http://rgdoi.net/10.13140/rg.2.2.33035.80167|language=en|doi=10.13140/rg.2.2.33035.80167}} end\n",
      "beg ref {{cite book| vauthors = holloway sl | veditors = holloway sl, valentine g |date=2004-11-23|title=children's geographies|doi=10.4324/9780203017524|isbn=978-0-203-01752-4 }} end\n"
     ]
    },
    {
     "name": "stderr",
     "output_type": "stream",
     "text": [
      " 38%|██████████████████████████████▍                                                 | 351/921 [00:13<00:26, 21.38it/s]"
     ]
    },
    {
     "name": "stdout",
     "output_type": "stream",
     "text": [
      "beg ref bell, karen, “bread and roses: a gender perspective on environmental justice and public health” ''international journal of environmental research and public health'' vol. 13,10 1005. 12 oct. 2016, doi:10.3390/ijerph13101005. pp. 2,5 end\n"
     ]
    },
    {
     "name": "stderr",
     "output_type": "stream",
     "text": [
      "\r",
      " 38%|██████████████████████████████▋                                                 | 354/921 [00:13<00:30, 18.83it/s]"
     ]
    },
    {
     "name": "stdout",
     "output_type": "stream",
     "text": [
      "beg ref friedlingstein, p., jones, m., o'sullivan, m., andrew, r., hauck, j., peters, g., peters, w., pongratz, j., sitch, s., le quéré, c. and 66 others (2019) \"global carbon budget 2019\". ''earth system science data'', '''11'''(4): 1783–1838. {{doi|10.5194/essd-11-1783-2019}}. [[file:cc-by icon.svg|50px]] material was copied from this source, which is available under a [https://creativecommons.org/licenses/by/4.0/ creative commons attribution 4.0 international license]. end\n",
      "beg ref ducklow, h.w., steinberg, d.k. and buesseler, k.o. (2001) \"upper ocean carbon export and the biological pump\". ''oceanography'', '''14'''(4): 50–58. {{doi|10.5670/oceanog.2001.06}}. [[file:cc-by icon.svg|50px]] material was copied from this source, which is available under a [https://creativecommons.org/licenses/by/4.0/ creative commons attribution 4.0 international license]. end\n",
      "beg ref {{cite book |doi = 10.1007/978-3-030-15424-0_3|url = https://books.google.com/books?id=h_60dwaaqbaj&q=%22climate+change+and+renewable+energy%22+%22the+carbon+cycle%22chapter+%3d+the+carbon+cycle&pg=pa109|title = climate change and renewable energy|year = 2020|last1 = bush|first1 = martin j.|pages = 109–141|isbn = 978-3-030-15423-3|s2cid = 210305910}} end\n",
      "beg ref {{cite book |doi = 10.1017/cbo9781107415324.015|chapter = carbon and other biogeochemical cycles|title = climate change 2013 - the physical science basis|year = 2014|pages = 465–570|hdl = 11858/00-001m-0000-0023-e34e-5|isbn = 9781107415324|url = https://research-information.bris.ac.uk/en/publications/8d2134c0-3c0e-4e9b-b4d0-c52b6b8f2dfa|editor1-last = intergovernmental panel on climate change}} end\n",
      "beg ref {{cite book |doi=10.1016/s0070-4571(08)70338-8 |chapter=chapter 9 the current carbon cycle and human impact |title=geochemistry of sedimentary carbonates |volume=48 |pages=447–510 |series=developments in sedimentology |year=1990 |isbn=9780444873910 |last1=morse |first1=john w. |last2=morse |first2=john w. autor |last3=morse |first3=john w. |last4=mackenzie |first4=f. t. |last5=mackenzie |first5=fred t. }} end\n",
      "beg ref {{cite book |year=2017 |doi=10.18111/9789284419029 |isbn=9789284419029 |title=unwto tourism highlights: 2017 edition }} end\n",
      "beg ref {{cite book|date=2012-09-28|editor-last=metcalfe|editor-first=sarah e.|editor2-last=nash|editor2-first=david j.|title=quaternary environmental change in the tropics|url=https://onlinelibrary.wiley.com/doi/pdf/10.1002/9781118336311|language=en|doi=10.1002/9781118336311|isbn=9781118336311}} end\n"
     ]
    },
    {
     "name": "stderr",
     "output_type": "stream",
     "text": [
      " 39%|███████████████████████████████▎                                                | 361/921 [00:14<00:29, 18.92it/s]"
     ]
    },
    {
     "name": "stdout",
     "output_type": "stream",
     "text": [
      "beg ref {{cite journal|last1=chant|first1=tim|title=urban trees reveal income inequality|url=http://persquaremile.com/2012/05/17/urban-trees-reveal-income-inequality/|website=per square mile|access-date=7 july 2014|doi=10.1016/j.landurbplan.2007.09.005}} end\n"
     ]
    },
    {
     "name": "stderr",
     "output_type": "stream",
     "text": [
      " 40%|████████████████████████████████                                                | 369/921 [00:14<00:23, 23.37it/s]"
     ]
    },
    {
     "name": "stdout",
     "output_type": "stream",
     "text": [
      "beg ref {{cite conference|url=https://www.researchgate.net/publication/337146101|year=2019 |title=health impact assessment: a tool to advance the knowledge of policy makers understand sustainable development goals |conference=association for environmental impact assessment of nigeria (aeian) on impact assessment: a tool for achieving the sustainable development goals in nigeria, 7th and 8th november, 2019 in university of port harcourt |doi=10.13140/rg.2.2.35999.51366|author1=morufu raimi |author2=omidiji adedoyin omidiji |author3=adio zulkarnaini olalekan }} end\n",
      "beg ref {{cite book |doi=10.1007/1-4020-4447-x_10 |chapter=disease resistance in plants through mycorrhizal fungi induced allelochemicals |title=allelochemicals: biological control of plant pathogens and diseases |series=disease management of fruits and vegetables |year=2006 |last1=zeng |first1=ren-sen |volume=2 |pages=181–192 |isbn=1-4020-4445-3 }} end\n",
      "beg ref {{cite journal|last1=feng|first1=ran|last2=bette l.|first2=otto-bliesner|author-link2=bette otto-bliesner|last3=brady|first3=esther c.|last4=rosenbloom|first4=nan a.|date=2020-01-04|title=increasing earth system sensitivity in mid-pliocene simulations from ccsm4 to cesm2|language=en|doi=10.1002/essoar.10501546.1|doi-access=free}} end\n"
     ]
    },
    {
     "name": "stderr",
     "output_type": "stream",
     "text": [
      " 41%|████████████████████████████████▋                                               | 376/921 [00:14<00:21, 24.90it/s]"
     ]
    },
    {
     "name": "stdout",
     "output_type": "stream",
     "text": [
      "beg ref {{cite iucn |author=birdlife international |date=2020 |title=''aptenodytes patagonicus'' |volume=2020 |page=e.t22697748a184637776 |doi=10.2305/iucn.uk.2020-3.rlts.t22697748a184637776.en |access-date=11 november 2021}} end\n",
      "beg ref {{cite book|title=selenium in our environment – trace elements in the environment|volume=123|page=96|doi=10.1021/ba-1973-0123.ch006|date=1973|chapter=selenium in our {{sic|enviro|ment|nolink-y}} |series=advances in chemistry|last1=lakin|first1=hubert w.|isbn=978-0-8412-0185-9}} end\n",
      "beg ref {{cite book|title=selenium in our environment – trace elements in the environment|volume=123|page=96|doi=10.1021/ba-1973-0123.ch006|date=1973|chapter=selenium in our {{sic|enviro|ment|nolink-y}} end\n"
     ]
    },
    {
     "name": "stderr",
     "output_type": "stream",
     "text": [
      " 42%|█████████████████████████████████▉                                              | 391/921 [00:15<00:21, 25.08it/s]"
     ]
    },
    {
     "name": "stdout",
     "output_type": "stream",
     "text": [
      "beg ref {{cite web |title=biden-harris administration outlines \"america the beautiful\" initiative |url=https://www.doi.gov/pressreleases/biden-harris-administration-outlines-america-beautiful-initiative |website=us department of the interior |access-date=3 august 2021}} end\n",
      "beg ref {{cite iucn|title=''antilocapra americana'' |errata=2017|year=2016|doi=10.2305/iucn.uk.2016-3.rlts.t1677a50181848.en|url=https://dx.doi.org/10.2305/iucn.uk.2016-3.rlts.t1677a50181848.en.|access-date=march 25, 2021}} end\n"
     ]
    },
    {
     "name": "stderr",
     "output_type": "stream",
     "text": [
      " 44%|██████████████████████████████████▉                                             | 402/921 [00:15<00:19, 27.22it/s]"
     ]
    },
    {
     "name": "stdout",
     "output_type": "stream",
     "text": [
      "beg ref [https://www.doi.gov/oia/islands/americansamoa-offices american samoa representative and liaison offices], u.s. department of the interior. end\n",
      "beg ref [https://www.doi.gov/oia/islands/american-samoa travel requirements] american samoa, office of insular affairs, us department of the interior end\n",
      "beg ref {{cite journal |last1=lusty |first1=ariel f. |last2=cairns |first2=douglas a. |date=2021-10-01 |title=alternative damage tolerant materials for wind turbine blades: an overview |doi=10.2172/1825355 |osti=1825355 |s2cid=245807291 |url=https://www.osti.gov/biblio/1825355 |language=english}} end\n",
      "beg ref nathan f. jones, liba pejchar, joseph m. kiesecker. \"[https://doi.org/10.1093/biosci/biu224 the energy footprint: how oil, natural gas, and wind energy affect land for biodiversity and the flow of ecosystem services]\". ''[[bioscience]]'', volume 65, issue 3, march 2015. pp. 290–301 end\n",
      "beg ref k. shawn smallwood, [http://onlinelibrary.wiley.com/doi/10.1002/wsb.260/abstract \"comparing bird and bat fatality-rate estimates among north american wind-energy projects\"], wildlife society bulletin, 26 mar. 2013. end\n"
     ]
    },
    {
     "name": "stderr",
     "output_type": "stream",
     "text": [
      " 45%|███████████████████████████████████▌                                            | 410/921 [00:16<00:20, 25.51it/s]"
     ]
    },
    {
     "name": "stdout",
     "output_type": "stream",
     "text": [
      "beg ref {{cite book|title=details—a progress report on the investigations of the european corn borer—biodiversity heritage library|last1=caffrey|first1=d. j.|last2=worthley|first2=l. h.|doi=10.5962/bhl.title.108390|year = 1927|url=https://www.biodiversitylibrary.org/bibliography/108390}} end\n"
     ]
    },
    {
     "name": "stderr",
     "output_type": "stream",
     "text": [
      " 45%|████████████████████████████████████▏                                           | 417/921 [00:16<00:20, 24.10it/s]"
     ]
    },
    {
     "name": "stdout",
     "output_type": "stream",
     "text": [
      "beg ref chae, y., & an, y.-j. (2018). current research trends on plastic pollution and ecological impacts on the soil ecosystem: a review. environmental pollution, 240, 387–395. <nowiki>https://doi.org/10.1016/j.envpol.2018.05.008</nowiki> end\n",
      "beg ref li, p., wang, x., su, m., zou, x., duan, l., & zhang, h. (2020). characteristics of plastic pollution in the environment: a review. bulletin of environmental contamination and toxicology, 107(4), 577–584. <nowiki>https://doi.org/10.1007/s00128-020-02820-1</nowiki> end\n",
      "beg ref yang, j., li, l., li, r., xu, l., shen, y., li, s., tu, c., wu, l., christie, p., & luo, y. (2021). microplastics in an agricultural soil following repeated application of three types of sewage sludge: a field study. environmental pollution, 289, 117943. <nowiki>https://doi.org/10.1016/j.envpol.2021.117943</nowiki> end\n",
      "beg ref mbachu, o., jenkins, g., kaparaju, p., & pratt, c. (2021). the rise of artificial soil carbon inputs: reviewing microplastic pollution effects in the soil environment. science of the total environment, 780, 146569. <nowiki>https://doi.org/10.1016/j.scitotenv.2021.146569</nowiki> end\n",
      "beg ref wei, f., xu, c., chen, c., wang, y., lan, y., long, l., xu, m., wu, j., shen, f., zhang, y., xiao, y., & yang, g. (2022). distribution of microplastics in the sludge of wastewater treatment plants in chengdu, china. chemosphere, 287, 132357. <nowiki>https://doi.org/10.1016/j.chemosphere.2021.132357</nowiki> end\n",
      "beg ref {{cite journal |doi = 10.17895/ices.pub.7689|year = 2021|author1 = ices|title = working group on zooplankton ecology (wgze)}} end\n",
      "beg ref {{cite journal |doi = 10.17895/ices.pub.7689|year = 2021|author1 = ices|title = working group on zooplankton ecology (wgze)}} [[file:cc-by icon.svg|50px]] material was copied from this source, which is available under a [https://creativecommons.org/licenses/by/4.0/ creative commons attribution 4.0 international license]. end\n",
      "beg ref irigoien x, et al., \"large mesopelagic fishes biomass and trophic efficiency in the open ocean.\"  in> nat commun. 2014 feb 10;5:3271. doi: 10.1038/ncomms4271. end\n"
     ]
    },
    {
     "name": "stderr",
     "output_type": "stream",
     "text": [
      " 46%|█████████████████████████████████████                                           | 427/921 [00:16<00:17, 28.16it/s]"
     ]
    },
    {
     "name": "stdout",
     "output_type": "stream",
     "text": [
      "beg ref [[klaus von grebmer]] and ingeborg hovland. 2009. [https://dx.doi.org/10.1332/174426409x463910 \"using 'systems awareness': a proposed mechanism for monitoring communications\"], ''evidence & policy: a journal of research, debate and practice''. end\n",
      "beg ref mitch renkow and derek byerlee. 2010. [https://dx.doi.org/10.1016/j.foodpol.2010.04.006 the impacts of cgiar research: a review of recent evidence], food policy. end\n",
      "beg ref mosley lm (2014). drought impacts on the water quality of freshwater systems; review and integration. earth-science reviewss. {{doi|10.1016/j.earscirev.2014.11.010}}. end\n",
      "beg ref {{cite book|last1=nrc|title=critical issues in weather modification research|doi=10.17226/10829|year=2003|isbn=978-0-309-09053-7}} end\n",
      "beg ref oliver wetter et al: ''the year-long unprecedented european heat and drought of 1540 – a worst case''. in: ''[[climatic change]]'', june 2014, [[doi:10.1007/s10584-014-1184-2]] end\n"
     ]
    },
    {
     "name": "stderr",
     "output_type": "stream",
     "text": [
      " 48%|██████████████████████████████████████▍                                         | 442/921 [00:17<00:17, 27.29it/s]"
     ]
    },
    {
     "name": "stdout",
     "output_type": "stream",
     "text": [
      "beg ref quoreshi, ali m. \"the use of mycorrhizal biotechnology in restoration of disturbed ecosystem.\" mycorrhizae: sustainable agriculture and forestry. springer netherlands, 2008. 303-320. {{doi|10.1007/978-1-4020-8770-7_13}} end\n",
      "beg ref {{cite book| doi = 10.1130/0-8137-2369-8.11| title = special paper 369: causes and consequences of globally warm climates in the early paleogene| isbn = 978-0-8137-2369-3| year = 2003| last1 = dickens | first1 = g. r.| last2 = fewless| chapter = excess barite accumulation during the paleocene-eocene thermal maximum: massive input of dissolved barium from seafloor gas hydrate reservoirs | first2 = t.| last3 = thomas | first3 = e.| last4 = bralower | first4 = t. j.| volume = 369| pages = 11 | s2cid = 132420227| chapter-url = https://semanticscholar.org/paper/cdae139ad9bbd2111143b423e9afc0d276870ea5}} end\n",
      "beg ref {{cite journal|last1=krane|first1=jim|last2=matar|first2=walid|last3=monaldi|first3=francisco|date=october 2020|title=fossil fuel subsidy reform since the pittsburgh g20: a lost decade?|url=https://doi.org/10.25613/sk5h-f056|website=rice university’s baker institute for public policy|doi=10.25613/sk5h-f056|access-date=27 october 2020|archive-date=19 november 2021|archive-url=https://web.archive.org/web/20211119225149/https://www.bakerinstitute.org/research/fossil-fuel-subsidy-reform-pittsburgh-g20-lost-decade/|url-status=live}} end\n",
      "beg ref neil brenner & christian schmid, \"[http://onlinelibrary.wiley.com/doi/10.1111/1468-2427.12115/pdf the 'urban age' in question]\"; ''international journal of urban and regional research'' 38(3), 2013; {{doi|10.1111/1468-2427.12115}}. end\n",
      "beg ref matthew r. sanderson, ben derudder, michael timberlake, & frank witlox, \"are world cities also world immigrant cities? an international, cross-city analysis of global centrality and immigration\"; ''international journal of comparative sociology'' 56(3–4), 2015; {{doi|10.1177/0020715215604350}}. end\n",
      "beg ref robert jay dilger, randolph r. moffett, & linda stuyk, \"privatization of municipal services in america's largest cities\", ''public administration review'' 57(1), 1997; {{doi|10.2307/976688}}. end\n",
      "beg ref kimberly s schimmel, \"assessing the sociology of sport: on sport and the city\"; ''international review for the sociology for sport'' 50(4–5), 2015; {{doi|10.1177/1012690214539484}}. end\n",
      "beg ref taylor shelton, matthew zook, & alan wiig, \"[https://academic.oup.com/cjres/article/doi/10.1093/cjres/rsu026/304403/the-actually-existing-smart-city the 'actually existing smart city']\", ''cambridge journal of regions, economy, and society'' 8, 2015; {{doi|10.1093/cjres/rsu026}}. end\n",
      "beg ref jane zheng, \"toward a new concept of the 'cultural elite state': cultural capital and the urban sculpture planning authority in elite coalition in shanghai\"; ''journal of urban affairs'' 39(4), 2017; {{doi|10.1080/07352166.2016.1255531}}. end\n",
      "beg ref bart voorn, marieke l. van genugten, & sandra van thiel, \"[http://www.tandfonline.com/doi/full/10.1080/03003930.2017.1319360 the efficiency and effectiveness of municipally owned corporations: a systematic review]\", ''local government studies'', 2017. end\n",
      "beg ref karen bakker, \"archipelagos and networks: urbanization and water privatization in the south\"; ''the geographical journal'' 169(4), december 2003; {{doi|10.1111/j.0016-7398.2003.00097.x}}. \"the diversity of water supply management systems worldwide—which operate along a continuum between fully public and fully private—bear witness to repeated shifts back and forth between private and public ownership and management of water systems.\" end\n",
      "beg ref rachel weber, \"[https://www.academia.edu/download/33030948/09-weber-extracting-value-from-the-city.pdf extracting value from the city: neoliberalism and urban redevelopment]\",{{dead link|date=october 2017}} ''antipode'', july 2002; {{doi|10.1111/1467-8330.00253}}. end\n",
      "beg ref kent e. calder & mariko de freytas, \"[https://muse.jhu.edu/article/269254 global political cities as actors in twenty-first century international affairs]; \"sais review of international affairs\" 29(1), winter-spring 2009; {{doi|10.1353/sais.0.0036}}. \"beneath state-to-state dealings, a flurry of activity occurs, with interpersonal networks forming policy communities involving embassies, think tanks, academic institutions, lobbying firms, politicians, congressional staff, research centers, ngos, and intelligence agencies. this interaction at the level of 'technostructure'—heavily oriented toward information gathering and incremental policy modification—is too complex and voluminous to be monitored by top leadership, yet nevertheless often has important implications for policy.\" end\n",
      "beg ref carola hein, \"[http://www.tandfonline.com/doi/full/10.1080/12265934.2014.980304 cities (and regions) within a city: subnational representations and the creation of european imaginaries in brussels]\"; ''international journal of the urban sciences'' 19(1), 2015. see also websites of individual city embassies cited therein, including [http://hanse-office.de/index.php?article_id=5&clang=1 hanse office] (hamburg and schleswig-holstein) and city of london \"[https://www.cityoflondon.gov.uk/business/eu-and-regulation/city-office-brussels/pages/default.aspx city office in brussels] {{webarchive|url=https://web.archive.org/web/20170816125811/https://www.cityoflondon.gov.uk/business/eu-and-regulation/city-office-brussels/pages/default.aspx |date=2017-08-16 }}\"; and cor's [cor.europa.eu/en/regions/documents/regional-offices.xls spreadsheet of regional offices] in brussels. end\n",
      "beg ref ben kiernan, \"[http://gsp.yale.edu/sites/default/files/first_genocide.pdf the first genocide: carthage, 146 bc]\"; ''diogenes'' 203, 2004; {{doi|10.1177/0392192104043648}}. end\n",
      "beg ref susan parnell, \"defining a global urban development agenda\"; ''world development'' 78, 2015; {{doi|10.1016/j.worlddev.2015.10.028}}; pp. 531–532: \"garnered by its interest in the urban poor the bank, along with other international donors, became an active and influential participant in the habitat deliberations, confirming both habitat i and habitat ii's focus on 'development in cities' instead of the role of 'cities in development'.\" end\n",
      "beg ref stephen graham & lucy hewitt, \"[https://www.researchgate.net/profile/stephen_graham11/publication/258175637_getting_off_the_ground_on_the_politics_of_urban_verticality/links/57cebebb08ae83b3746222d1.pdf getting off the ground: on the politics of urban verticality]; ''progress in human geography'' 37(1), 2012; {{doi|10.1177/0309132512443147}}. end\n",
      "beg ref vanessa watson, \"locating planning in the new urban agenda of the urban sustainable development goal\"; ''planning theory'' 15(4), 2016; {{doi|10.1177/1473095216660786}}. end\n",
      "beg ref michael goldman, \"[https://www.researchgate.net/profile/michael_goldman8/publication/222173476_how_water_for_all_policy_became_hegemonic_the_power_of_the_world_bank_and_its_transnational_policy_networks/links/569d1e4408ae03384dd049c5/how-water-for-all-policy-became-hegemonic-the-power-of-the-world-bank-and-its-transnational-policy-networks.pdf how 'water for all!' policy became hegemonic: the power of the world bank and its transnational policy networks]\"; ''geoforum'' 38(5), september 2007; {{doi|10.1016/j.geoforum.2005.10.008}}. end\n",
      "beg ref michael e. smith, jason ur, & gary m. feinman, \"[https://dash.harvard.edu/bitstream/handle/1/13364827/smith%20etal%202014%20ijurr.pdf?sequence=1 jane jacobs' 'cities first' model and archaeological reality]\", ''international journal of urban and regional research'' 38, 2014; {{doi|10.1111/1468-2427.12138}}. end\n",
      "beg ref josh pacewicz, \"tax increment financing, economic development professionals and the financialization of urban politics\"; ''socio-economic review'' 11, 2013; {{doi|10.1093/ser/mws019}}. \"a city's credit rating not only influences its ability to sell bonds, but has become a general signal of fiscal health. detroit's partial recovery in the early 1990s, for example, was reversed when moody's downgraded the rating of the city's general obligation bonds, precipitating new rounds of capital flight (hackworth, 2007). the need to maintain a high credit rating constrains municipal actors by making it difficult to finance discretionary projects in traditional ways.\" end\n",
      "beg ref peter r. walker, \"human settlements and urban life: a united nations perspective\"; ''journal of social distress and the homeless'' 14, 2005; {{doi|10.1179/105307805807066329}}. end\n",
      "beg ref rachel weber, \"selling city futures: the financialization of urban redevelopment policy\"; ''economic geography'' 86(3), 2010; {{doi|10.1111/j.1944-8287.2010.01077.x}}. \"tif is an increasingly popular local redevelopment policy that allows municipalities to designate a 'blighted' area for redevelopment and use the expected increase in property (and occasionally sales) taxes there to pay for initial and ongoing redevelopment expenditures, such as land acquisition, demolition, construction, and project financing. because developers require cash up-front, cities transform promises of future tax revenues into securities that far-flung buyers and sellers exchange through local markets.\" end\n",
      "beg ref [[peter j. taylor|p.j. taylor]], \"extraordinary cities i: early 'city-ness' and the invention of agriculture\"; ''international journal of urban and regional research'' 36(3), 2012; {{doi|10.1111/j.1468-2427.2011.01101.x}}; see also gawc research bulletins [http://www.lboro.ac.uk/gawc/rb/rb359.html 359] and [http://www.lboro.ac.uk/gawc/rb/rb360.html 360]. end\n",
      "beg ref sofie bouteligier, \"[http://edepot.wur.nl/238650 inequality in new global governance arrangements: the north–south divide in transnational municipal networks]\"; ''innovation: the european journal of social science research'' 26(3), 2013; {{doi|10.1080/13511610.2013.771890}}. \"city networks are not a new phenomenon, but it was the 1990s that saw an explosion of such initiatives, especially in the environmental domain. this is mostly ascribed to (chapter 28 of) agenda 21, which recognizes the role of local authorities in the promotion of sustainable development and stimulates exchange and cooperation between them.\" end\n",
      "beg ref david satterthwaite, \"editorial: a new urban agenda?\"; ''[[environment & urbanization]]'', 2016; {{doi|10.1177/0956247816637501}}. end\n"
     ]
    },
    {
     "name": "stderr",
     "output_type": "stream",
     "text": [
      " 50%|███████████████████████████████████████▌                                        | 456/921 [00:17<00:16, 28.85it/s]"
     ]
    },
    {
     "name": "stdout",
     "output_type": "stream",
     "text": [
      "beg ref {{cite iucn |author=reeves, r.r. |author2=dawson, s.m. |author3=jefferson, t.a. |author4=karczmarski, l. |author5=laidre, k. |author6=o’corry-crowe, g. |author7=rojas-bracho, l. |author8=secchi, e.r. |author9=slooten, e. |author10=smith, b.d. |author11=wang, j.y. |author12=zhou, k. |date=2013 |title=''cephalorhynchus hectori'' ssp. ''maui'' |volume=2013 |page=e.t39427a44200192 |doi=10.2305/iucn.uk.2013-1.rlts.t39427a44200192.en |access-date=11 november 2021}} end\n",
      "beg ref {{cite journal|last=symonds|first=michael|date=2021-08-10|title=faculty opinions recommendation of ipcc, 2021: summary for policymakers. in: climate change 2021: the physical science basis. contribution of working group i to the sixth assessment report of the intergovernmental panel on climate change|url=http://dx.doi.org/10.3410/f.740620545.793587812|access-date=2021-10-30|doi=10.3410/f.740620545.793587812|s2cid=242570539}} end\n",
      "beg ref {{cite book |last1=chanson |first1=hubert |title=hydraulic structures and society - engineering challenges and extremes |last2=brown |first2=r. |last3=mcintosh |first3=d. |year=2014 |isbn=978-1-74272-115-6 |pages=1–9 |chapter=human body stability in floodwaters: the 2011 flood in brisbane cbd |doi=10.14264/uql.2014.48 |chapter-url=https://eprints.qut.edu.au/88693/1/88693.pdf}} end\n"
     ]
    },
    {
     "name": "stderr",
     "output_type": "stream",
     "text": [
      " 51%|████████████████████████████████████████▉                                       | 471/921 [00:18<00:15, 29.37it/s]"
     ]
    },
    {
     "name": "stdout",
     "output_type": "stream",
     "text": [
      "beg ref {{cite journal|title=estimating soil erosion risk and evaluating erosion control measures for soil conservation planning at koga watershed, ethiopian highlands|last1=molla|first1=tegegne|last2=sisheber|first2=biniam|date=2016-09-08|doi=10.5194/se-2016-120}} end\n",
      "beg ref {{cite journal |last1=brandt |first1=leslie a. |last2=lewis |first2=abigail derby |last3=scott |first3=lydia |last4=darling |first4=lindsay |last5=fahey |first5=robert t. |last6=iverson |first6=louis |last7=nowak |first7=david j. |last8=bodine |first8=allison r. |last9=bell |first9=andrew |last10=still |first10=shannon |last11=butler |first11=patricia r. |date=2017 |title=chicago wilderness region urban forest vulnerability assessment and synthesis: a report from the urban forestry climate change response framework chicago wilderness pilot project |url=https://www.nrs.fs.fed.us/pubs/54128 |language=en |doi=10.2737/nrs-gtr-168}} end\n",
      "beg ref {{cite journal |last1=janowiak |first1=maria k. |last2=brandt |first2=leslie a. |last3=wolf |first3=kathleen l. |last4=brady |first4=mattison |last5=darling |first5=lindsay |last6=lewis |first6=abigail derby |last7=fahey |first7=robert t. |last8=giesting |first8=kristen |last9=hall |first9=eboni |last10=henry |first10=molly |last11=hughes |first11=maise |date=2021 |title=climate adaptation actions for urban forests and human health |url=https://www.nrs.fs.fed.us/pubs/62807 |language=en |doi=10.2737/nrs-gtr-203|s2cid=236722674 }} end\n",
      "beg ref {{cite report |last1=nowak |first1=david j. |last2=stein |first2=susan m. |last3=randler |first3=paula b. |last4=greenfield |first4=eric j. |last5=comas |first5=sara j. |last6=carr |first6=mary a. |last7=alig |first7=ralph j. |date=2010 |title=sustaining america's urban trees and forests: a forests on the edge report |location=newtown square, pa |doi=10.2737/nrs-gtr-62 |doi-access=free}} end\n"
     ]
    },
    {
     "name": "stderr",
     "output_type": "stream",
     "text": [
      " 52%|█████████████████████████████████████████▊                                      | 482/921 [00:18<00:14, 30.35it/s]"
     ]
    },
    {
     "name": "stdout",
     "output_type": "stream",
     "text": [
      "beg ref miller g, mangan j, pollard d, thompson s, felzer b, et al. (2005) [http://www.gsajournals.org/gsaonline/?request=get-abstract&doi=10.1130%2fg21033.1 sensitivity of the australian monsoon to insolation and vegetation: implications for human impact on continental moisture balance.] {{webarchive|url=https://web.archive.org/web/20060404180943/http://www.gsajournals.org/gsaonline/?request=get-abstract&doi=10.1130%2fg21033.1|date=4 april 2006}} geology: vol. 33, no. 1 pp. 65–68 end\n"
     ]
    },
    {
     "name": "stderr",
     "output_type": "stream",
     "text": [
      " 55%|███████████████████████████████████████████▉                                    | 506/921 [00:19<00:14, 27.72it/s]"
     ]
    },
    {
     "name": "stdout",
     "output_type": "stream",
     "text": [
      "beg ref {{cite book|last1=jones|first1=myrtle|title=fact sheet|chapter=ground-water flooding in glacial terrain of southern puget sound, washington|chapter-url=https://pubs.er.usgs.gov/publication/fs11100 |date=2000|doi=10.3133/fs11100|access-date=2015-07-23|ref=mjones}} end\n",
      "beg ref {{cite journal|last1=morford|first1=scott l.|last2=allred|first2=brady w.|last3=twidwell|first3=dirac|last4=jones|first4=matthew o.|last5=maestas|first5=jeremy d.|last6=naugle|first6=david e.|date=2021-04-04|title=tree invasions threaten the conservation potential and sustainability of u.s. rangelands|url=http://biorxiv.org/lookup/doi/10.1101/2021.04.02.438282|language=en|doi=10.1101/2021.04.02.438282|s2cid=233175655}} end\n"
     ]
    },
    {
     "name": "stderr",
     "output_type": "stream",
     "text": [
      " 56%|████████████████████████████████████████████▋                                   | 514/921 [00:19<00:13, 30.91it/s]"
     ]
    },
    {
     "name": "stdout",
     "output_type": "stream",
     "text": [
      "beg ref [https://doi.org/10.1007%2fbf00891741 dwyer, p.d., n.d. etolo hunting performance and energetics] end\n"
     ]
    },
    {
     "name": "stderr",
     "output_type": "stream",
     "text": [
      " 57%|█████████████████████████████████████████████▎                                  | 522/921 [00:20<00:12, 31.80it/s]"
     ]
    },
    {
     "name": "stdout",
     "output_type": "stream",
     "text": [
      "beg ref fawcett, t. (2013). exploring the time dimension of low carbon retrofit: owner-occupied housing. building research & information. {{doi|10.1080/09613218.2013.804769}} end\n"
     ]
    },
    {
     "name": "stderr",
     "output_type": "stream",
     "text": [
      " 58%|██████████████████████████████████████████████                                  | 530/921 [00:20<00:14, 27.02it/s]"
     ]
    },
    {
     "name": "stdout",
     "output_type": "stream",
     "text": [
      "beg ref {{cite book |doi=10.1016/s0065-2504(08)60148-8 |chapter=inherent variation in growth rate between higher plants: a search for physiological causes and ecological consequences |title=advances in ecological research volume 23 |volume=23 |pages=187–261 |series=advances in ecological research |year=1992 |last1=lambers |first1=hans |last2=poorter |first2=hendrik | name-list-style = vanc |isbn=978-0-12-013923-1 }} end\n",
      "beg ref {{cite book |doi=10.1002/cphy.c110008 |pmid=23798305 |chapter=phenotypic plasticity: molecular mechanisms and adaptive significance |title=comprehensive physiology |volume=2 |issue=2 |year=2012 |last1=kelly |first1=scott a. |last2=panhuis |first2=tami m. |last3=stoehr |first3=andrew m. | name-list-style = vanc |isbn=978-0-470-65071-4 |pages=1417–39}} end\n",
      "beg ref pezza, a, b., rensch, p., cai, w. (2012). severe heat waves in southern australia: synoptic climatology and large scale connections. ''climate dynamics'', 38, 209-224. doi 10.1007/s00382-011-1016-2 end\n",
      "beg ref dieter, m. (2009). villains, victims and heroes: contested memory and the british nuclear tests in australia. ''journal of australian studies,'' 221-228. doi:10.1080/14443050309387928 end\n",
      "beg ref flikov et al. (2020). impact of australia’s catastrophic 2019/20 bushfire season on communities and environment. retrospective analysis and current trends. ''journal of safety science and resilience''. 44-56. doi: <nowiki>https://doi.org/10.1016/j.jnlssr.2020.06.009</nowiki> end\n"
     ]
    },
    {
     "name": "stderr",
     "output_type": "stream",
     "text": [
      " 59%|██████████████████████████████████████████████▊                                 | 539/921 [00:20<00:17, 22.26it/s]"
     ]
    },
    {
     "name": "stdout",
     "output_type": "stream",
     "text": [
      "beg ref {{cite iucn |author=cummings, k. |author2=cordeiro, j. |date=2012 |title=''cumberlandia monodonta'' |volume=2012 |page=e.t5952a3078239 |doi=10.2305/iucn.uk.2012.rlts.t5952a3078239.en |access-date=11 november 2021}} end\n",
      "beg ref {{cite iucn|url=https://dx.doi.org/10.2305/iucn.uk.2012.rlts.t5952a3078239.en|title=cumberlandia monodonta|last=cummings, k. & cordeiro, j.|date=2012|doi=10.2305/iucn.uk.2012.rlts.t5952a3078239.en|access-date=april 20, 2020}} end\n",
      "beg ref {{cite iucn |author=birdlife international |date=2016 |title=''poecilodryas cerviniventris'' |volume=2016 |page=e.t22735669a95117032 |doi=10.2305/iucn.uk.2016-3.rlts.t22735669a95117032.en |access-date=12 november 2021}} end\n",
      "beg ref {{cite book |doi=10.1017/chol9780521215923.004 |chapter=north africa in the period of phoenician and greek colonization, c.800 to 323 bc |title=the cambridge history of africa |year=1979 |last1=law |first1=r. c. c. |pages=87–147 |isbn=978-1-139-05456-0 }} end\n",
      "beg ref {{cite book |doi=10.1017/chol9780521832755.021 |chapter=african literature and the colonial factor |title=the cambridge history of african and caribbean literature |year=2000 |last1=gikandi |first1=simon |pages=379–397 |isbn=978-1-139-05463-8 }} end\n",
      "beg ref {{cite book |doi=10.1017/9781108634311.014 |chapter=the linguistic prehistory of the sahara |title=burials, migration and identity in the ancient sahara and beyond |year=2019 |last1=blench |first1=roger |pages=431–463 |isbn=978-1-108-63431-1 |s2cid=197854997 }} end\n"
     ]
    },
    {
     "name": "stderr",
     "output_type": "stream",
     "text": [
      " 60%|███████████████████████████████████████████████▉                                | 552/921 [00:21<00:14, 25.12it/s]"
     ]
    },
    {
     "name": "stdout",
     "output_type": "stream",
     "text": [
      "beg ref s. l. postel, g. c. daily, p. r. ehrlich, human appropriation of renewable fresh water. [[science (journal)|science]] '''271''', 785–788 (1996).https://www.science.org/doi/10.1126/science.271.5250.785 end\n"
     ]
    },
    {
     "name": "stderr",
     "output_type": "stream",
     "text": [
      " 61%|████████████████████████████████████████████████▍                               | 558/921 [00:21<00:15, 22.75it/s]"
     ]
    },
    {
     "name": "stdout",
     "output_type": "stream",
     "text": [
      "beg ref {{cite journal |doi=10.1016/s0196-8904(99)00071-0 |last1=rau |first1=greg h. |last2=caldeira |first2=ken |title=enhanced carbonate dissolution: a means of sequestering waste {{chem|co|2}} end\n",
      "beg ref {{cite journal |doi=10.1016/s0196-8904(96)00279-8 |author1=k.s. lackner |author2=d.p. butt |author3=c.h. wendt |title=progress on binding {{chem|co|2}} end\n",
      "beg ref {{cite journal |doi=10.1016/j.energy.2006.10.011 |last1=rau |first1=greg h. |first2=kevin g. |last2=knauss |first3=william h. |last3=langer |first4=ken |last4=caldeira |title=reducing energy-related {{chem|co|2}} end\n"
     ]
    },
    {
     "name": "stderr",
     "output_type": "stream",
     "text": [
      " 62%|█████████████████████████████████████████████████▎                              | 568/921 [00:22<00:13, 26.09it/s]"
     ]
    },
    {
     "name": "stdout",
     "output_type": "stream",
     "text": [
      "beg ref [[doi (identifier)|doi]]:10.1257/pol.20190316 end\n",
      "beg ref {{ullmann|doi= 10.1002/14356007.n10_n01 |title= fertilizers, 2. types |year=2009 |last1=dittmar |first1=heinrich |last2=drach |first2=manfred |last3=vosskamp |first3=ralf |last4=trenkel |first4=martin e. |last5=gutser |first5=reinhold |last6=steffens |first6=günter}} end\n",
      "beg ref {{cite book|title=world food and agriculture – statistical yearbook 2021|url=https://www.fao.org/documents/card/en/c/cb4477en/|url-status=live|access-date=2021-12-10|website=www.fao.org|year=2021|language=en|doi=10.4060/cb4477en|isbn=978-92-5-134332-6|s2cid=240163091}} end\n",
      "beg ref vasant gowariker, v. n. krishnamurthy, sudha gowariker, manik dhanorkar, kalyani paranjape \"the fertilizer encyclopedia\" 2009, john wiley & sons. {{isbn|978-0-470-41034-9}}. online {{isbn|978-0-470-43177-1}}.  {{doi|10.1002/9780470431771}} end\n",
      "beg ref {{ullmann|doi=10.1002/14356007.a10_323.pub3|title=fertilizers, 1. general|year=2009|last1=scherer|first1=heinrich w.|last2=mengel|first2=konrad|last3=kluge|first3=günter|last4=severin|first4=karl}} end\n",
      "beg ref wilfried werner \"fertilizers, 6. environmental aspects\" ullmann's encyclopedia of industrial chemistry, 2002, wiley-vch, weinheim.{{doi|10.1002/14356007.n10_n05}} end\n"
     ]
    },
    {
     "name": "stderr",
     "output_type": "stream",
     "text": [
      " 63%|██████████████████████████████████████████████████▌                             | 582/921 [00:22<00:11, 28.56it/s]"
     ]
    },
    {
     "name": "stdout",
     "output_type": "stream",
     "text": [
      "beg ref {{cite iucn|author=birdlife international|date=2016|title=''corvus hawaiiensis''|volume=2016|page=e.t22706052a94048187|doi=10.2305/iucn.uk.2016-3.rlts.t22706052a94048187.en|access-date=12 november 2021}} end\n",
      "beg ref {{cite iucn|author=jiang, z.|author2=harris, r.b.|date=2016|title=''elaphurus davidianus''|volume=2016|page=e.t7121a22159785|doi=10.2305/iucn.uk.2016-2.rlts.t7121a22159785.en|access-date=12 november 2021}} end\n",
      "beg ref {{cite book|last=elewa|first=ashraf m. t.|editor-first=ashraf m. t.|editor-last=elewa|title=mass extinction|pages=191–194|chapter=14. current mass extinction|doi=10.1007/978-3-540-75916-4_14|year=2008|isbn=978-3-540-75915-7}} end\n",
      "beg ref {{cite iucn|author=mendelson, j.r.|author2=angulo, a.|name-list-style=amp|title=''ecnomiohyla rabborum''|volume=2009|page=e.t158613a5241303|date=2009|doi=10.2305/iucn.uk.2009-2.rlts.t158613a5241303.en|access-date=27 december 2017}} end\n",
      "beg ref {{cite book|title=landscape images from the nordic countries|date=2015-08-19|isbn=9789289342414|doi=10.6027/tn2015-549|last1=lindhjem|first1=henrik|last2=reinvang|first2=rasmus|last3=zandersen|first3=marianne|url=http://urn.kb.se/resolve?urn=urn:nbn:se:norden:org:diva-4035}} end\n"
     ]
    },
    {
     "name": "stderr",
     "output_type": "stream",
     "text": [
      " 64%|███████████████████████████████████████████████████▍                            | 592/921 [00:22<00:11, 28.23it/s]"
     ]
    },
    {
     "name": "stdout",
     "output_type": "stream",
     "text": [
      "beg ref {{cite web |title=new year honours list 2012 |url=https://dpmc.govt.nz/publications/new-year-honours-list-2012 |website=department of the prime minister and cabinet: te tari o te pirimia me te komiti matua |url-status=live|archive-url=https://web.archive.org/web/20220118192026/https://dpmc.govt.nz/publications/new-year-honours-list-2012|archive-date=18 january 2022|access-date=30 november 2020}} end\n",
      "beg ref {{cite book|last=council|first=national research|url=https://www.nap.edu/catalog/12781/americas-climate-choices|title=america's climate choices|date=2011|isbn=978-0309145855|language=en|doi=10.17226/12781}} end\n"
     ]
    },
    {
     "name": "stderr",
     "output_type": "stream",
     "text": [
      "\r",
      " 65%|███████████████████████████████████████████████████▋                            | 595/921 [00:22<00:12, 25.67it/s]"
     ]
    },
    {
     "name": "stdout",
     "output_type": "stream",
     "text": [
      "beg ref lauren feldman et al.: ''polarizing news? representations of threat and efficacy in leading us newspapers' coverage of climate change''. [[public understanding of science]] 2015, {{doi|10.1177/0963662515595348}}. end\n",
      "beg ref wagner, michael w., and timothy p. collins. \"does ownership matter? the case of rupert murdoch's purchase of the wall street journal\". ''journalism practice'' (2014) 8#6 pp: 1–14. [http://www.tandfonline.com/doi/abs/10.1080/17512786.2014.882063#.vihewtlf9a0 online] end\n"
     ]
    },
    {
     "name": "stderr",
     "output_type": "stream",
     "text": [
      " 66%|████████████████████████████████████████████████████▋                           | 606/921 [00:23<00:10, 28.69it/s]"
     ]
    },
    {
     "name": "stdout",
     "output_type": "stream",
     "text": [
      "beg ref {{cite book|last=chung|first=jae ho|date=21 september 2017|title= centrifugal empire|doi=10.7312/columbia/9780231176200.003.0002|chapter=china goes local (again)|isbn=9780231176200}} end\n",
      "beg ref estes et al. ''[https://esajournals.onlinelibrary.wiley.com/doi/pdf/10.2307/1938786 sea otter predation and community organization in the western aleutian islands, alaska].''  ecology.  59:  822-833. 1978. end\n",
      "beg ref robles, c.  ''[https://esajournals.onlinelibrary.wiley.com/doi/abs/10.2307/1939234 predator foraging characteristics and prey population structure on a sheltered shore].''  ecology.  65:  1502-1514. 1987. end\n",
      "beg ref mcconkey, k. r.,  & drake, d. r.  ''[https://besjournals.onlinelibrary.wiley.com/doi/full/10.1890/05-0386 flying foxes cease to function as seed dispersers long before they become rare].''  ecology.  87(2):  271-276. 2006. end\n"
     ]
    },
    {
     "name": "stderr",
     "output_type": "stream",
     "text": [
      " 67%|█████████████████████████████████████████████████████▊                          | 619/921 [00:23<00:10, 28.54it/s]"
     ]
    },
    {
     "name": "stdout",
     "output_type": "stream",
     "text": [
      "beg ref {{cite book|title=chapter 2 new insights into flavivirus nonstructural protein 5|volume=74|last=davidson|first=andrew d.|pages=41–101|doi=10.1016/s0065-3527(09)74002-3|pmid=19698895|series=advances in virus research|year=2009|isbn=9780123785879}} end\n",
      "beg ref österblom, h., crona, b.i., folke, c., nyström, m. and troell, m. (2017) \"marine ecosystem science on an intertwined planet\". ''ecosystems'', '''20'''(1): 54–61. {{doi|10.1007/s10021-016-9998-6}} end\n",
      "beg ref ysebaert t., walles b., haner j., hancock b. (2019) \"habitat modification and coastal protection by ecosystem-engineering reef-building bivalves\". in: smaal a., ferreira j., grant j., petersen j., strand ø. (eds) ''goods and services of marine bivalves''. springer. {{doi|10.1007/978-3-319-96776-9_13}} end\n",
      "beg ref chapman, j., ‘design for [emotional] durability’, ''design issues'', vol xxv, issue 4, autumn, pp29-35, 2009 {{doi|10.1162/desi.2009.25.4.29}} end\n",
      "beg ref [https://doi.org/10.1016/j.renene.2011.06.022 \"solar energy conversion and storage: rhodamine b - fructose photogalvanic cell\"] end\n",
      "beg ref [https://pubs.acs.org/doi/pdf/10.1021/es032373g anastas, p. l. and zimmerman, j. b. (2003). \"through the 12 principles of green engineering\". environmental science and technology. march 1. 95-101a] anastas, p. l. and zimmerman, j. b. (2003). end\n",
      "beg ref ryan, chris (2006). \"dematerializing consumption through service substitution is a design challenge\". journal of industrial ecology. 4(1). {{doi|10.1162/108819800569230}} end\n",
      "beg ref [https://pubs.acs.org/doi/pdf/10.1021/es032373g anastas, p. l. and zimmerman, j. b. (2003). \"through the 12 principles of green engineering\". environmental science and technology. march 1. 95-101a] anastas, p. l. and zimmerman, j. b. (2003). \"through the 12 principles of green engineering\". environmental science and technology. march 1. 95-101a end\n",
      "beg ref begoña guezuraga, rudolf zauner, werner pölz, ''life cycle assessment of two different 2 mw class wind turbines'', [[renewable energy (journal)|renewable energy]] 37 (2012) 37–44, p 37. {{doi|10.1016/j.renene.2011.05.008}} end\n",
      "beg ref [[ottmar edenhofer]], ''king coal and the queen of subsidies''. in: ''[[science (journal)|science]]'' 349, issue 6254, (2015), 1286, {{doi|10.1126/science.aad0674}}. end\n",
      "beg ref von grebmer, klaus; bernstein, jill; nabarro, david; prasai, nilam; amin, shazia; yohannes, yisehac; sonntag, andrea; patterson, fraser; towey, olive; and thompson, jennifer. [https://dx.doi.org/10.2499/9780896292260 2016 ''global hunger index: getting to zero hunger'']. bonn; washington, d.c.; and dublin: welthungerhilfe; international food policy research institute; and concern worldwide. {{verify source |date=september 2019 |reason=this ref was deleted special:diff/863362900 by a bug in visualeditor and later restored by a bot from the original cite located at special:permalink/861730199 cite #14 - verify the cite is accurate and delete this template. [[user:greenc bot/job 18]]}} end\n"
     ]
    },
    {
     "name": "stderr",
     "output_type": "stream",
     "text": [
      " 69%|██████████████████████████████████████████████████████▉                         | 633/921 [00:24<00:11, 25.98it/s]"
     ]
    },
    {
     "name": "stdout",
     "output_type": "stream",
     "text": [
      "beg ref patton, j. & álvarez-castañeda, s.t. 2017. neotoma insularis. the iucn red list of threatened species 2017: e.t116989038a119112253. https://dx.doi.org/10.2305/iucn.uk.2017-3.rlts.t116989038a119112253.en. downloaded on 12 march 2021. end\n",
      "beg ref {{citation|last1=ash|first1=elliott|last2=galletta|first2=sergio|last3=hangartner|first3=dominik|last4=margalit|first4=yotam|last5=pinna|first5=matteo|date=27 june 2020|title=the effect of fox news on health behavior during covid-19|location=rochester, new york|doi=10.2139/ssrn.3636762|hdl=20.500.11850/427768|ssrn=3636762|s2cid=242785823}} end\n",
      "beg ref {{cite book\n",
      " |last1=chorti |first1=a.\n",
      " |last2=brookes |first2=m.\n",
      " |s2cid=14339595\n",
      " |year=2007\n",
      " |chapter=resolving near-carrier spectral infinities due to 1/''f'' phase noise in oscillators\n",
      " |title=2007 ieee international conference on acoustics, speech and signal processing - icassp '07\n",
      " |volume=3 |pages=iii–1005–iii–1008\n",
      " |doi=10.1109/icassp.2007.366852\n",
      " |isbn=978-1-4244-0727-9\n",
      "}} end\n"
     ]
    },
    {
     "name": "stderr",
     "output_type": "stream",
     "text": [
      " 69%|███████████████████████████████████████████████████████▌                        | 640/921 [00:24<00:09, 29.59it/s]"
     ]
    },
    {
     "name": "stdout",
     "output_type": "stream",
     "text": [
      "beg ref bednaršek, n., harvey, c.j., kaplan, i.c., feely, r.a. and možina, j. (2016) \"pteropods on the edge: cumulative effects of ocean acidification, warming, and deoxygenation\". ''progress in oceanography'', '''145''': 1–24. {{doi|10.1016/j.pocean.2016.04.002}} end\n",
      "beg ref vanwonterghem, i. and webster, n.s. (2020) \"coral reef microorganisms in a changing climate\". ''iscience'', '''23'''(4). {{doi|10.1016/j.isci.2020.100972}}. end\n",
      "beg ref keeling, ralph f., and hernan e. garcia (2002) \"the change in oceanic o2 inventory associated with recent global warming.\" ''proceedings of the national academy of sciences'', '''99'''(12): 7848–7853. {{doi|10.1073/pnas.122154899}} end\n",
      "beg ref chan, f., barth, j.a., kroeker, k.j., lubchenco, j. and menge, b.a. (2019) \"the dynamics and impact of ocean acidification and hypoxia\". ''oceanography'', '''32'''(3): 62–71. {{doi|10.5670/oceanog.2019.312}}. [[file:cc-by icon.svg|50px]] material was copied from this source, which is available under a [https://creativecommons.org/licenses/by/4.0/ creative commons attribution 4.0 international license]. end\n",
      "beg ref waycott, m., duarte, c.m., carruthers, t.j., orth, r.j., dennison, w.c., olyarnik, s., calladine, a., fourqurean, j.w., heck, k.l., hughes, a.r. and kendrick, g.a. (2009) [https://www.pnas.org/content/106/30/12377.full \"accelerating loss of seagrasses across the globe threatens coastal ecosystems\".] ''proceedings of the national academy of sciences'', '''106'''(30): 12377–12381. {{doi|10.1073/pnas.0905620106}} end\n",
      "beg ref gewin, v. (2010) \"oceanography: dead in the water\". ''nature'', '''466'''(7308): 812. {{doi|10.1038/466812a}}. end\n",
      "beg ref [https://agupubs.onlinelibrary.wiley.com/doi/full/10.1002/2015gb005310 finding forced trends in oceanic oxygen] end\n",
      "beg ref schmidt-rohr, k. (2020). \"oxygen is the high-energy molecule powering complex multicellular life: fundamental corrections to traditional bioenergetics\". ''acs omega'' '''5''': 2221-2233. http://dx.doi.org/10.1021/acsomega.9b03352. end\n",
      "beg ref {{cite iucn |author=short, f.t. |author2=carruthers, t.j.r. |author3=van tussenbroek, b. |author4=zieman, j. |year=2010 |title=''syringodium filiforme'' |volume=2010 |page=e.t173378a7003203 |doi=10.2305/iucn.uk.2010-3.rlts.t173378a7003203.en |access-date=30 june 2021}} end\n",
      "beg ref praveena, s. m., siraj, s. s., & aris, a. z. (2012). coral reef studies and threats in malaysia: a mini review. ''reviews in environmental science and bio/technology, 11''(1), 27-39. https://doi.org/10.1007/s11157-011-9261-8 end\n",
      "beg ref overland, i., bourmistrov, a., dale, b., irlbacher‐fox, s., juraev, j., podgaiskii, e., stammler, f., tsani, s., vakulchuk, r. and wilson, e.c. 2021. the arctic environmental responsibility index: a method to rank heterogenous [[extractivism|extractive industry]] companies for governance purposes. ''business strategy and the environment''. 30, 1623–1643. https://onlinelibrary.wiley.com/doi/10.1002/bse.2698 end\n"
     ]
    },
    {
     "name": "stderr",
     "output_type": "stream",
     "text": [
      " 70%|████████████████████████████████████████████████████████▎                       | 648/921 [00:24<00:09, 29.88it/s]"
     ]
    },
    {
     "name": "stdout",
     "output_type": "stream",
     "text": [
      "beg ref {{cite web| url=https://www.nature.com/articles/s41550-017-0170 | title=patrick thaddeus}} nature astronomy 1, 2017, doi:10.1038/s41550-017-0170 end\n",
      "beg ref {{cite book | doi = 10.1109/pccga.2001.962893| chapter = a method for modeling clouds based on atmospheric fluid dynamics| title = proceedings ninth pacific conference on computer graphics and applications. pacific graphics 2001| pages = 363| year = 2001| last1 = miyazaki | first1 = r.| last2 = yoshida | first2 = s.| last3 = dobashi | first3 = y.| last4 = nishita | first4 = t.| isbn = 978-0-7695-1227-3| citeseerx = 10.1.1.76.7428| s2cid = 6656499}} end\n",
      "beg ref {{who's who | author=anon| surname = haigh | othernames = prof. joanna dorothy | id = u258354 | year = 2014 | edition = online [[oxford university press]]|doi=10.1093/ww/9780199540884.013.u258354|location=oxford}} end\n"
     ]
    },
    {
     "name": "stderr",
     "output_type": "stream",
     "text": [
      " 71%|████████████████████████████████████████████████████████▉                       | 656/921 [00:25<00:08, 30.69it/s]"
     ]
    },
    {
     "name": "stdout",
     "output_type": "stream",
     "text": [
      "beg ref {{cite iucn |author=seminoff, j.a. |collaboration=southwest fisheries science center, u.s. |date=2004 |title=''chelonia mydas'' |volume=2004 |page=e.t4615a11037468 |doi=10.2305/iucn.uk.2004.rlts.t4615a11037468.en |access-date=12 november 2021}} end\n",
      "beg ref {{cite iucn |author=casale, p. |author2=tucker, a.d. |date=2017 |title=''caretta caretta'' |volume=2017 |page=e.t3897a119333622 |doi=10.2305/iucn.uk.2017-2.rlts.t3897a119333622.en |access-date=12 november 2021}} end\n",
      "beg ref {{cite iucn |author=red list standards. |author2=petitions subcommittee |date=1996 |title=''natator depressus'' |volume=1996 |page=e.t14363a4435952 |doi=10.2305/iucn.uk.1996.rlts.t14363a4435952.en |access-date=12 november 2021}} end\n",
      "beg ref {{cite iucn |author=abreu-grobois, a. |author2=plotkin, p. |collaboration=iucn ssc marine turtle specialist group |date=2008 |title=''lepidochelys olivacea'' |volume=2008 |page=e.t11534a3292503 |doi=10.2305/iucn.uk.2008.rlts.t11534a3292503.en |access-date=12 november 2021}} end\n",
      "beg ref {{cite iucn |author=wallace, b.p. |author2=tiwari, m. |author3=girondot, m. |date=2013 |title=''dermochelys coriacea'' |volume=2013 |page=e.t6494a43526147 |doi=10.2305/iucn.uk.2013-2.rlts.t6494a43526147.en |access-date=12 november 2021}} end\n",
      "beg ref {{cite iucn |author=wibbels, t. |author2=bevan, e. |date=2019 |title=''lepidochelys kempii'' |volume=2019 |page=e.t11533a155057916 |doi=10.2305/iucn.uk.2019-2.rlts.t11533a155057916.en |access-date=12 november 2021}} end\n",
      "beg ref {{cite iucn |author=mortimer, j.a. |author2=donnelly, m. |collaboration=iucn ssc marine turtle specialist group |date=2008 |title=''eretmochelys imbricata'' |volume=2008 |page=e.t8005a12881238 |doi=10.2305/iucn.uk.2008.rlts.t8005a12881238.en |access-date=12 november 2021}} end\n",
      "beg ref {{cite thesis |last=moore |first=patrick albert |date=5 march 1974 |title=administration of pollution control in british columbia: a focus on the mining industry |type=phd |institution=[[university of british columbia]] |url=https://open.library.ubc.ca/circle/collections/ubctheses/831/items/1.0103866 |doi=10.14288/1.0103866}} end\n",
      "beg ref {{cite book |doi=10.1029/gm112p0035 |chapter=the north atlantic's 1–2 kyr climate rhythm: relation to heinrich events, dansgaard/oeschger cycles and the little ice age |title=mechanisms of global climate change at millennial time scales |series=geophysical monograph series |year=1999 |last1=bond |first1=gerard c. |last2=showers |first2=william |last3=elliot |first3=mary |last4=evans |first4=michael |last5=lotti |first5=rusty |last6=hajdas |first6=irka |last7=bonani |first7=georges |last8=johnson |first8=sigfus |volume=112 |pages=35–58 |isbn=978-0-87590-095-7 }} end\n",
      "beg ref {{cite book |doi=10.1002/9780470750636.ch2 |chapter=glaciers and their coupling with hydraulic and sedimentary processes |title=glacier science and environmental change |year=2006 |last1=boulton |first1=geoffrey s. |pages=2–22 |isbn=978-0-470-75063-6 }} end\n",
      "beg ref {{cite journal |url=https://pubs.er.usgs.gov/publication/fs08497|title=landsat data data sheet|date=1997|website=usgs.gov|doi=10.3133/fs08497|last1=survey|first1=u. s. geological}} end\n"
     ]
    },
    {
     "name": "stderr",
     "output_type": "stream",
     "text": [
      "\r",
      " 72%|█████████████████████████████████████████████████████████▎                      | 660/921 [00:25<00:08, 31.11it/s]"
     ]
    },
    {
     "name": "stdout",
     "output_type": "stream",
     "text": [
      "beg ref {{cite iucn |author=geoffrey hammerson, joseph mitchell |date=2004 |title=''plethodon shenandoah'' |volume=2004 |page=e.t17629a7210465 |doi=10.2305/iucn.uk.2004.rlts.t17629a7210465.en |access-date=17 november 2021}} end\n",
      "beg ref {{cite book | doi = 10.1007/978-94-007-5518-5_2| chapter = gendering climate knowledge for justice: catalyzing a new research agenda| title = research, action and policy: addressing the gendered impacts of climate change| pages = 17–31| year = 2013| last1 = tuana | first1 = n. | isbn = 978-94-007-5517-8}} end\n",
      "beg ref money j. hermaphroditism, gender and precocity in hyperadrenocorticism: psychologic findings. bull johns hopkins hosp. 1955 jun;96(6):253-64. pmid 14378807. end\n",
      "beg ref boyd, emily (2009). [https://archive.today/20141027174654/https://practicalaction.metapress.com/content/j61l8q/?genre=issue&id=doi:10.3362/9781780440088 \"the noel kempff project in bolivia: gender, power, and decision-making in climate mitigation\"], pp. 101–110 in ''climate change and gender justice''. geraldine terry and caroline sweetman (eds.). warwickshire: practical action publishing, oxfam gb. end\n",
      "beg ref grant mcconnell, ''the decline of agrarian democracy'' (u of california press, 1953) , pp 44-54 doi: https://doi.org/10.1525/9780520349285-007  end\n"
     ]
    },
    {
     "name": "stderr",
     "output_type": "stream",
     "text": [
      " 72%|█████████████████████████████████████████████████████████▉                      | 667/921 [00:25<00:10, 23.57it/s]"
     ]
    },
    {
     "name": "stdout",
     "output_type": "stream",
     "text": [
      "beg ref {{cite book |doi=10.1007/978-4-431-55130-0_19 |chapter=photosymbiosis in marine planktonic protists |title=marine protists |year=2015 |last1=decelle |first1=johan |last2=colin |first2=sébastien |last3=foster |first3=rachel a. |pages=465–500 |isbn=978-4-431-55129-4}} end\n",
      "beg ref {{cite book |doi=10.1007/978-94-007-3855-3_1 |chapter=introduction to the cyanobacteria |title=ecology of cyanobacteria ii |year=2012 |last1=whitton |first1=brian a. |last2=potts |first2=malcolm |pages=1–13 |isbn=978-94-007-3854-6}} end\n",
      "beg ref {{cite book |doi=10.1016/b978-012373944-5.00250-9 |chapter=cyanobacteria |title=encyclopedia of microbiology |edition=third |pages=107–24 |first=f. |last=garcia-pichel |editor-first=moselio |editor-last=schaechter |name-list-style=vanc |isbn=978-0-12-373944-5 |year=2009 }} end\n",
      "beg ref sarali gintsburg (2018) arabic language in zanzibar: past, present, and future, journal of world languages, 5:2, 81-100, {{doi|10.1080/21698252.2019.1570663}}. end\n",
      "beg ref hanula, j.l, horn, s., taylor, j.w. (2009). chinese privet (''ligustrum sinense'') removal and its effect on native plant communities of riparian forests. ''invasive plant science and management'' 2:292-300. {{doi|10.1614/ipsm-09-028.1}} end\n",
      "beg ref edward p. louie and joshua m. pearce. [https://www.academia.edu/26372861/retraining_investment_for_u.s._transition_from_coal_to_solar_photovoltaic_employment retraining investment for u.s. transition from coal to solar photovoltaic employment]. ''energy economics''. '''57''',295–302 (2016). [[doi:10.1016/j.eneco.2016.05.016]] end\n"
     ]
    },
    {
     "name": "stderr",
     "output_type": "stream",
     "text": [
      " 74%|███████████████████████████████████████████████████████████                     | 680/921 [00:26<00:08, 26.87it/s]"
     ]
    },
    {
     "name": "stdout",
     "output_type": "stream",
     "text": [
      "beg ref {{cite news|last1=barford|first1=eliot|title=crop pests advancing with global warming|url=http://www.nature.com/news/crop-pests-advancing-with-global-warming-1.13644|accessdate=17 june 2014|agency=nature news|date=1 sep 2013|doi=10.1038/nature.2013.13644}} end\n",
      "beg ref {{cite journal|last1=carpenter|first1=stephen r|last2=kitchell|first2=james f|last3=hodgson|first3=james r|title=cascading trophic interactions and lake productivity: fish predation and herbivory can regulate lake ecosystems|url=https://academic.oup.com/bioscience/article-lookup/doi/10.2307/1309989|url-status=live|access-date=2021-11-11|website=academic.oup.com|doi=10.2307/1309989|jstor=1309989}} end\n"
     ]
    },
    {
     "name": "stderr",
     "output_type": "stream",
     "text": [
      " 74%|███████████████████████████████████████████████████████████▌                    | 686/921 [00:26<00:09, 24.55it/s]"
     ]
    },
    {
     "name": "stdout",
     "output_type": "stream",
     "text": [
      "beg ref yang, h., lohmann, g., wei, w., dima, m., ionita, m., and liu, j. (2016), \"intensification and poleward shift of subtropical western boundary currents in a warming climate\", ''journal of geophysical research: oceans'', 121, 4928–4945, doi:10.1002/2015jc011513. end\n",
      "beg ref seager, r., & simpson, i. r. (2016). \"western boundary currents and climate change\", ''journal of geophysical research: oceans'', 121, 7212–7214. https://doi.org/10.1002/2016jc012156 end\n",
      "beg ref pershing, a. j., et al. (2015), \"slow adaptation in the face of rapid warming leads to collapse of the gulf of maine cod fishery\", ''science'', 350(6262), 809–812, doi:10.1126/science.aac9819. end\n",
      "beg ref {{cite report |last=sverdrup |first=harald |title=wind-driven currents in a baroclinic ocean; with application to the equatorial currents of the eastern pacific |work=proceedings of the national academy of sciences of the united states of america |volume=33 |year=1947 |jstor=87657 |pmc=1079064}} end\n"
     ]
    },
    {
     "name": "stderr",
     "output_type": "stream",
     "text": [
      " 75%|████████████████████████████████████████████████████████████▏                   | 693/921 [00:26<00:09, 25.25it/s]"
     ]
    },
    {
     "name": "stdout",
     "output_type": "stream",
     "text": [
      "beg ref {{cite book|url=https://www.nap.edu/read/2049/chapter/9|title=read \"managing wastewater in coastal urban areas\" at nap.edu|year=1993|doi=10.17226/2049|isbn=978-0-309-04826-2|via=www.nap.edu}} end\n"
     ]
    },
    {
     "name": "stderr",
     "output_type": "stream",
     "text": [
      " 77%|█████████████████████████████████████████████████████████████▏                  | 705/921 [00:27<00:09, 23.81it/s]"
     ]
    },
    {
     "name": "stdout",
     "output_type": "stream",
     "text": [
      "beg ref [http://physicstoday.scitation.org/doi/pdf/10.1063/1.1995746 ''runaway breakdown and the mysteries of lightning''], physics today, may 2005. end\n"
     ]
    },
    {
     "name": "stderr",
     "output_type": "stream",
     "text": [
      "\r",
      " 77%|█████████████████████████████████████████████████████████████▍                  | 708/921 [00:27<00:08, 24.57it/s]"
     ]
    },
    {
     "name": "stdout",
     "output_type": "stream",
     "text": [
      "beg ref {{cite book|last=giampietro|first=mario|date=2011-10-12|title=the metabolic pattern of societies|doi=10.4324/9780203635926|isbn=9780203635926}} end\n",
      "beg ref {{cite book |last1=salleh |first1=ariel |title=ecofeminism as politics; nature, marx and the postmodern. when feminism fails |date=1997 |pages=153–174 |doi=10.1080/08854300.2018.1509619}} end\n"
     ]
    },
    {
     "name": "stderr",
     "output_type": "stream",
     "text": [
      " 78%|██████████████████████████████████████████████████████████████                  | 714/921 [00:27<00:08, 23.03it/s]"
     ]
    },
    {
     "name": "stdout",
     "output_type": "stream",
     "text": [
      "beg ref {{cite book|pages=1909–1918|df=mdy-all|doi=10.1109/iclp.2014.6973441|chapter=lightning; gods and sciences|year=2014|last1=gomes|first1=chandima|last2=gomes|first2=ashen|title=2014 international conference on lightning protection (iclp)|isbn=978-1-4799-3544-4|s2cid=21598095}} end\n",
      "beg ref {{cite journal|last1=sterpka|first1=christopher|last2=dwyer|first2=j|last3=liu|first3=n|last4=hare|first4=b m|last5=scholten|first5=o|last6=buitink|first6=s|last7=ter veen|first7=s|last8=nelles|first8=a|date=2021-11-24|title=the spontaneous nature of lightning initiation revealed|url=http://www.essoar.org/doi/10.1002/essoar.10508882.1|language=en|doi=10.1002/essoar.10508882.1|s2cid=244646368}} end\n",
      "beg ref {{cite magazine|url=http://physics.aps.org/articles/v7/5|title=focus:first spectrum of ball lightning|volume=7|last=ball|first=philip|date=january 17, 2014|magazine=physics|page=5|access-date=january 18, 2014|url-status=dead|archive-url=https://web.archive.org/web/20140118064740/http://physics.aps.org/articles/v7/5|archive-date=january 18, 2014|df=mdy-all|doi=10.1103/physics.7.5|bibcode=2014phyoj...7....5b}} end\n"
     ]
    },
    {
     "name": "stderr",
     "output_type": "stream",
     "text": [
      " 79%|██████████████████████████████████████████████████████████████▉                 | 724/921 [00:27<00:07, 25.76it/s]"
     ]
    },
    {
     "name": "stdout",
     "output_type": "stream",
     "text": [
      "beg ref kossin, james p., emanuel, kerry a, and vecchi, gabriel a., ''[http://www.nature.com/nature/journal/v509/n7500/full/nature13278.html the poleward migration of the location of tropical cyclone maximum intensity]'', ''[[nature (journal)|nature]]'' 509, 349–352 (15 may 2014) doi:10.1038/nature13278, received 21 october 2013 accepted 21 march 2014 published online 14 may 2014 end\n",
      "beg ref {{cite iucn |date=2020 |title=''spheniscus mendiculus'' |volume=2020 |page=e.t22697825a182729677 |doi=10.2305/iucn.uk.2020-3.rlts.t22697825a182729677.en |access-date=25 september 2021}} end\n",
      "beg ref {{cite book|date=2011-09-08|title=fungal diseases|url=http://dx.doi.org/10.17226/13147|doi=10.17226/13147|pmid=22259817|isbn=978-0-309-21226-7|author1=institute of medicine (us) forum on microbial threats}} end\n",
      "beg ref {{cite iucn |author=iucn ssc amphibian specialist group |date=2015 |title=''nectophrynoides asperginis'' |volume=2015 |page=e.t54837a16935685 |doi=10.2305/iucn.uk.2015-2.rlts.t54837a16935685.en |access-date=12 november 2021}} end\n",
      "beg ref {{cite book|date=2018|editor-last=seyedmousavi|editor-first=seyedmojtaba|editor2-last=de hoog|editor2-first=g. sybren|editor3-last=guillot|editor3-first=jacques|editor4-last=verweij|editor4-first=paul e.|title=emerging and epizootic fungal infections in animals|url=https://doi.org/10.1007/978-3-319-72093-7|language=en-gb|doi=10.1007/978-3-319-72093-7|isbn=978-3-319-72091-3|s2cid=47018069}} end\n",
      "beg ref {{cite book|doi=10.1007/13836_2017_7|chapter=paleogenomics: genome-scale analysis of ancient dna and population and evolutionary genomic inferences|title=population genomics|pages=323–360|year=2018|last1=lan|first1=tianying|last2=lindqvist|first2=charlotte|editor1-last=lindqvist|editor1-first=c.|editor2-last=rajora|editor2-first=o.|isbn=978-3-030-04587-6}} end\n"
     ]
    },
    {
     "name": "stderr",
     "output_type": "stream",
     "text": [
      " 80%|███████████████████████████████████████████████████████████████▊                | 734/921 [00:28<00:07, 26.66it/s]"
     ]
    },
    {
     "name": "stdout",
     "output_type": "stream",
     "text": [
      "beg ref faaborg, j., levey, d. j., johnson, d. h., holmes, r. t., anders, a. d., bildstein, k. l., et al. (2010). [https://archive.today/20140527175129/http://www.esajournals.org/doi/abs/10.1890/09-0397.1 conserving migratory land birds in the new world: do we know enough?]. ''[[ecological applications]]'', 20(2), 398-418. end\n",
      "beg ref buskirk, j. v., mulvihill, r. s., & leberman, r. c. (2012). [https://www.ncbi.nlm.nih.gov/pmc/articles/pmc3492770/ phenotypic plasticity alone cannot explain climate-induced change in avian migration timing]. ''ecology and evolution'', 2(10), 2430-2437. end\n",
      "beg ref newton, i. (2007). [http://onlinelibrary.wiley.com/doi/10.1111/j.1474-919x.2007.00704.x/full weather related mass-mortality events in migrants]. [[british ornithologists' union]], 149, 453-467. end\n",
      "beg ref lam, v., doropoulos c, & mumby, p. (2017, february 10). the influence of resilience-based management on coral reef monitoring . retrieved from plos one: https://doi.org/10.1371/journal.pone.0172064 end\n"
     ]
    },
    {
     "name": "stderr",
     "output_type": "stream",
     "text": [
      " 81%|████████████████████████████████████████████████████████████████▋               | 745/921 [00:28<00:06, 28.54it/s]"
     ]
    },
    {
     "name": "stdout",
     "output_type": "stream",
     "text": [
      "beg ref {{cite book|last=talley|first=lynne|title=mechanisms of global climate change at millennial time scales|chapter=some aspects of ocean heat transport by the shallow, intermediate and deep overturning circulations|series=geophysical monograph series|year=1999|volume=112|pages=1–22|doi=10.1029/gm112p0001|bibcode=1999gms...112....1t|isbn=0-87590-095-x}} end\n",
      "beg ref {{cite book|date=2012|editor-last=geenens|editor-first=raf|editor2-last=rosenblatt|editor2-first=helena|title=french liberalism from montesquieu to the present day|doi=10.1017/cbo9781139084178|isbn=9781139084178}} end\n",
      "beg ref {{cite iucn | author1 = freyhof, j. | author2 = kottelat, m. | year = 2008 | title = ''ballerus sapa'' | volume = 2008 | page = e.t135639a4168069| doi = 10.2305/iucn.uk.2008.rlts.t135639a4168069.en}} end\n",
      "beg ref {{cite iucn | author1 = antonio di natale | author2 = murat bilecenoglu | author3 = michel bariche | author4 = can bizsel | author5 = enric massuti | author6 = jeffrey williams | author7 =  matthew craig | display-authors = 3 | year = 2014 | title = ''salaria pavo'' | volume = 2014 | page = e.t185175a1776635 | doi = 10.2305/iucn.uk.2014-3.rlts.t185175a1776635.en }} end\n"
     ]
    },
    {
     "name": "stderr",
     "output_type": "stream",
     "text": [
      " 82%|█████████████████████████████████████████████████████████████████▏              | 751/921 [00:28<00:06, 26.13it/s]"
     ]
    },
    {
     "name": "stdout",
     "output_type": "stream",
     "text": [
      "beg ref saleheen khan, et al. \"the asian crisis: an economic analysis of the causes.\" ''journal of developing areas'' (2005): 169–190. [http://citeseerx.ist.psu.edu/viewdoc/download?doi=10.1.1.620.4910&rep=rep1&type=pdf online]. end\n",
      "beg ref christian dustmann, et al. \"from sick man of europe to economic superstar: germany's resurgent economy.\" ''journal of economic perspectives'' 28.1 (2014): 167–88. [https://pubs.aeaweb.org/doi/pdfplus/10.1257/jep.28.1.167 online] end\n"
     ]
    },
    {
     "name": "stderr",
     "output_type": "stream",
     "text": [
      " 84%|██████████████████████████████████████████████████████████████████▉             | 771/921 [00:29<00:05, 28.48it/s]"
     ]
    },
    {
     "name": "stdout",
     "output_type": "stream",
     "text": [
      "beg ref giovannini, l., palla, m., agnolucci, m., avio, l., sbrana, c., turrini, a. and giovannetti, m. (2020) \"arbuscular mycorrhizal fungi and associated microbiota as plant biostimulants: research strategies for the selection of the best performing inocula\". ''agronomy'', '''10'''(1): 106. {{doi|10.3390/agronomy10010106}}. [[file:cc-by icon.svg|50px]] material was copied from this source, which is available under a [https://creativecommons.org/licenses/by/4.0/ creative commons attribution 4.0 international license]. end\n",
      "beg ref lee, sj., kong, m., morse, d. et al. expression of putative circadian clock components in the arbuscular mycorrhizal fungus rhizoglomus irregulare. mycorrhiza (2018) https://doi.org/10.1007/s00572-018-0843-y end\n",
      "beg ref jacott, c.n., murray, j.d. and ridout, c.j. (2017) \"trade-offs in arbuscular mycorrhizal symbiosis: disease resistance, growth responses and perspectives for crop breeding\". ''agronomy'', '''7'''(4): 75. {{doi|10.3390/agronomy7040075}}. [[file:cc-by icon.svg|50px]] material was copied from this source, which is available under a [https://creativecommons.org/licenses/by/4.0/ creative commons attribution 4.0 international license]. end\n"
     ]
    },
    {
     "name": "stderr",
     "output_type": "stream",
     "text": [
      " 85%|███████████████████████████████████████████████████████████████████▉            | 782/921 [00:29<00:04, 30.93it/s]"
     ]
    },
    {
     "name": "stdout",
     "output_type": "stream",
     "text": [
      "beg ref zuckerman, elaine. 2002 \"[http://citeseerx.ist.psu.edu/viewdoc/download?doi=10.1.1.640.299&rep=rep1&type=pdf poverty reduction strategy papers and gender]\". berlin, germany: conference on sustainable poverty reduction and prsps. end\n",
      "beg ref {{cite book|doi=10.1002/9780470670590.wbeog809|chapter=weak states|title=the wiley-blackwell encyclopedia of globalization|year=2012|last1=tyagi|first1=juhi|isbn=9780470670590}} end\n"
     ]
    },
    {
     "name": "stderr",
     "output_type": "stream",
     "text": [
      " 86%|████████████████████████████████████████████████████████████████████▌           | 790/921 [00:30<00:04, 30.46it/s]"
     ]
    },
    {
     "name": "stdout",
     "output_type": "stream",
     "text": [
      "beg ref {{cite journal|date=1978-01-01|title=experimental program for the development of peat gasification. monthly status report, april 1--april 30, 1978|doi=10.2172/6729235|osti=6729235|url=http://dx.doi.org/10.2172/6729235}} end\n",
      "beg ref {{cite iucn |author=ransom, c. |author2=robinson, p.t. |author3=collen, b. |date=2015 |title=''choeropsis liberiensis'' |volume=2015 |page=e.t10032a18567171 |doi=10.2305/iucn.uk.2015-2.rlts.t10032a18567171.en |access-date=november 11, 2021}} database entry includes a brief justification of why this species is of endangered. end\n",
      "beg ref {{cite book |title=china and africa |last=moumouni |first=guillaume |year=2018 |isbn=978-3-319-52893-9 |editor-last=alden |editor-first=c. |pages=225–251 |chapter=china and liberia: engagement in a post-conflict country (2003–2013) |doi=10.1007/978-3-319-52893-9_12 |editor-last2=alao |editor-first2=a. |editor-last3=chun |editor-first3=z. |editor-last4=barber |editor-first4=l.}} end\n",
      "beg ref {{cite iucn |author=ransom, c. |author2=robinson, p.t. |author3=collen, b. |date=2015 |title=''choeropsis liberiensis'' |volume=2015 |page=e.t10032a18567171 |doi=10.2305/iucn.uk.2015-2.rlts.t10032a18567171.en |access-date=november 11, 2021}} end\n",
      "beg ref [http://www.ngdc.noaa.gov/mgg/greatlakes/greatlakes.html national geophysical data center] (1999). bathymetry of lake erie and lake saint clair. national geophysical data center, noaa. {{doi|10.7289/v5ks6phk}} end\n",
      "beg ref burkhardt steffen, amoroso gabi, riebesell ulf, sültemeyer dieter, (2001), co<sub>2</sub> and {{chem|hco|3|-}} uptake in marine diatoms acclimated to different co<sub>2</sub> concentrations, ''limnology and oceanography'', 6, {{doi|10.4319/lo.2001.46.6.1378}}. end\n",
      "beg ref [http://www.ngdc.noaa.gov/mgg/greatlakes/greatlakes.html national geophysical data center] (1999). bathymetry of lake ontario. national geophysical data center, noaa. {{doi|10.7289/v56h4fbh}} end\n",
      "beg ref [http://www.ngdc.noaa.gov/mgg/greatlakes/greatlakes.html national geophysical data center] (1999). bathymetry of lake michigan. national geophysical data center, noaa. {{doi|10.7289/v5b85627}} end\n",
      "beg ref national geophysical data center (1999). global land one-kilometer base elevation (globe) v. 1. hastings, d. and p.k. dunbar. national geophysical data center, noaa. {{doi|10.7289/v52r3pms}} end\n"
     ]
    },
    {
     "name": "stderr",
     "output_type": "stream",
     "text": [
      " 87%|█████████████████████████████████████████████████████████████████████▎          | 798/921 [00:30<00:04, 29.95it/s]"
     ]
    },
    {
     "name": "stdout",
     "output_type": "stream",
     "text": [
      "beg ref {{cite book|last1=mann|first1=k.h.|last2=lazier|first2=j.r.n.|date=2005-11-22|title=dynamics of marine ecosystems|url=http://dx.doi.org/10.1002/9781118687901|doi=10.1002/9781118687901|isbn=9781118687901}} end\n",
      "beg ref {{cite iucn |author=ransom, c. |author2=robinson, p.t. |author3=collen, b. |date=2015 |title=''choeropsis liberiensis'' |volume=2015 |page=e.t10032a18567171 |doi=10.2305/iucn.uk.2015-2.rlts.t10032a18567171.en |access-date=13 november 2021}} end\n",
      "beg ref {{cite iucn |author=ransom, c. |author2=robinson, p.t. |author3=collen, b. |date=2015 |title=''choeropsis liberiensis'' |volume=2015 |page=e.t10032a18567171 |doi=10.2305/iucn.uk.2015-2.rlts.t10032a18567171.en |access-date=13 november 2021}} database entry includes a brief justification of why this species is of endangered. end\n",
      "beg ref {{cite iucn |author=tortoise. |author2=freshwater turtle specialist group |date=1996 |title=''gopherus polyphemus'' |volume=1996 |page=e.t9403a12983629 |doi=10.2305/iucn.uk.1996.rlts.t9403a12983629.en |access-date=19 november 2021}} end\n"
     ]
    },
    {
     "name": "stderr",
     "output_type": "stream",
     "text": [
      " 88%|██████████████████████████████████████████████████████████████████████▎         | 810/921 [00:30<00:03, 29.97it/s]"
     ]
    },
    {
     "name": "stdout",
     "output_type": "stream",
     "text": [
      "beg ref {{cite book|last=licciardi|first=j.m. |author2=j.t. teller |author3=p.u. clark|title=  mechanisms of global climate change at millennial time scales|year=1999|volume=112|pages=177–201|doi=10.1029/gm112p0177|bibcode=1999gms...112..177l|series=geophysical monograph series |isbn=978-0-87590-095-7 |chapter=freshwater routing by the laurentide ice sheet during the last deglaciation }} end\n",
      "beg ref {{cite odnb |author=trevor davies|title= lamb, hubert horace (1913–1997), climatologist|year=2004 |doi= 10.1093/ref:odnb/66263|url=http://www.oxforddnb.com/view/article/66263| accessdate=2008-10-17}} end\n",
      "beg ref {{cite odnb|url=https://www.oxforddnb.com/view/10.1093/ref:odnb/9780198614128.001.0001/odnb-9780198614128-e-66263|title=lamb, hubert horace (1913–1997), climatologist|year=2004|doi=10.1093/ref:odnb/66263|last1=davies|first1=trevor}} end\n",
      "beg ref mcdonnell et al., (2020). pyswmm: the python interface to stormwater management model (swmm). journal of open source software, 5(52), 2292, https://doi.org/10.21105/joss.02292 end\n"
     ]
    },
    {
     "name": "stderr",
     "output_type": "stream",
     "text": [
      " 89%|███████████████████████████████████████████████████████████████████████         | 818/921 [00:31<00:03, 30.50it/s]"
     ]
    },
    {
     "name": "stdout",
     "output_type": "stream",
     "text": [
      "beg ref {{cite iucn |author=braulik, g. |author2=minton , g. |author3=amano, m. |author4=bjørge, a. |date=2020 |title=''phocoena phocoena'' |volume=2020 |page=e.t17027a50369903 |doi=10.2305/iucn.uk.2020-2.rlts.t17027a50369903.en |access-date=12 november 2021}} end\n",
      "beg ref {{cite iucn |author=birkun jr. |author2=a.a. |author3=frantzis, a. |date=2008 |title=''phocoena phocoena'' ssp. ''relicta'' |volume=2008 |page=e.t17030a6737111 |doi=10.2305/iucn.uk.2008.rlts.t17030a6737111.en |access-date=12 november 2021}} end\n",
      "beg ref {{cite book|title=details - a progress report on the investigations of the european corn borer |url=https://archive.org/details/progressreporton1476caff |last1=caffrey|first1=d. j.|last2=worthley|first2=l. h.|language=en|doi=10.5962/bhl.title.108390|year = 1927}} end\n",
      "beg ref austan d. goolsbee, and alan b. krueger. \"a retrospective look at rescuing and restructuring general motors and chrysler.\" ''journal of economic perspectives'' 29.2 (2015): 3-24. [https://pubs.aeaweb.org/doi/pdfplus/10.1257/jep.29.2.3 online] end\n",
      "beg ref {{cite book|url=https://www.cambridge.org/core/books/governing-with-words/5d4f713a016401e3fc3922c66d371ff2|title=governing with words|last=gillion|first=daniel q.|date=2016|website=cambridge core|doi=10.1017/cbo9781316412299|isbn=9781316412299|language=en|access-date=june 5, 2019}} end\n"
     ]
    },
    {
     "name": "stderr",
     "output_type": "stream",
     "text": [
      " 91%|████████████████████████████████████████████████████████████████████████▊       | 838/921 [00:31<00:02, 31.50it/s]"
     ]
    },
    {
     "name": "stdout",
     "output_type": "stream",
     "text": [
      "beg ref {{cite iucn |author=birdlife international |date=2020 |title=''charadrius melodus'' |page=e.t22693811a182083944 |doi=10.2305/iucn.uk.2020-3.rlts.t22693811a182083944.en |access-date=12 november 2021}} end\n",
      "beg ref {{cite book|title=water reuse: potential for expanding the nation's water supply through reuse of municipal wastewater|date=10 january 2012|doi=10.17226/13303|last1=council|first1=national research|isbn=978-0-309-25749-7}} end\n",
      "beg ref dentico, n.,  el said, m., capuzzo, g. (2022). digitalization: the new extraterritorial challenge to extraterritorial obligations. in: türkelli, g.e., gibney, m., vandenhole, w., krajewski, m. (eds.)''the routledge handbook on extraterritorial human rights obligation''. routledge, new york. doi:10.4324/9781003090014. end\n",
      "beg ref türkelli, g.e., gibney, m., vandenhole, w., krajewski, m. (2022). conclusions - the future of extraterritorial human rights obligations. in: türkelli, g.e., gibney, m., vandenhole, w., krajewski, m. (eds.)''the routledge handbook on extraterritorial human rights obligations''. routledge, new york. doi:10.4324/9781003090014. end\n",
      "beg ref gibney, m. (2022). the historical development of extraterritorial obligations.in: türkelli, g.e., gibney, m., vandenhole, w., krajewski, m. (eds.)''the routledge handbook on extraterritorial human rights obligation''. routledge, new york. doi:10.4324/9781003090014. end\n",
      "beg ref jegede, a.o. (2022). climate change displacement and socio-economic rights of the child under the african human rights system - the relevance of etos. in: türkelli, g.e., gibney, m., vandenhole, w., krajewski, m. (eds.)''the routledge handbook on extraterritorial human rights obligation''. routledge, new york. doi:10.4324/9781003090014. end\n"
     ]
    },
    {
     "name": "stderr",
     "output_type": "stream",
     "text": [
      " 92%|█████████████████████████████████████████████████████████████████████████▊      | 850/921 [00:32<00:02, 31.78it/s]"
     ]
    },
    {
     "name": "stdout",
     "output_type": "stream",
     "text": [
      "beg ref {{cite book | doi = 10.17226/25259 | pmid=31120708 | year=2018 | title=negative emissions technologies and reliable sequestration | isbn=978-0-309-48452-7 | s2cid=134196575 }} end\n",
      "beg ref {{cite journal|last=doebel|first=sabine|date=2019-04-24|title=good things come to those who wait: delaying gratification likely does matter for later achievement|url=http://dx.doi.org/10.31234/osf.io/kbyna|access-date=2021-05-25|website=dx.doi.org|doi=10.31234/osf.io/kbyna|s2cid=241276961}} end\n",
      "beg ref {{cite book | doi=10.1145/2025113.2025166 |isbn = 978-1-4503-0443-6|chapter = reputation-based self-management of software process artifact quality in consortium research projects|title = proceedings of the 19th acm sigsoft symposium and the 13th european conference on foundations of software engineering - sigsoft/fse '11|year = 2011|last1 = prause|first1 = christian r.|s2cid = 3101839|pages = 380–383|chapter-url=https://www.drprause.de/files/esec2011-reputationbasedselfmanagementquality.pdf}} end\n",
      "beg ref {{cite journal|last1=moore|first1=christopher m.|last2=catella|first2=samantha a.|last3=abbott|first3=karen c.|date=2017-02-13|title=population dynamics of mutualism and intraspecific density dependence: howθ-logistic density dependence affects mutualistic positive feedback|url=http://dx.doi.org/10.1101/108175|access-date=2021-10-01|website=dx.doi.org|page=108175|doi=10.1101/108175|s2cid=196627760}} end\n",
      "beg ref {{cite journal|date=2004-03-22|title=who owns the intellectual property rights when an invention, copyright work or design is outsourced?|url=http://dx.doi.org/10.18356/f2dc0688-en|access-date=2021-05-25|website=dx.doi.org|doi=10.18356/f2dc0688-en}} end\n",
      "beg ref {{cite journal|title=figure 2.9. many women work part time, often involuntarily|url=http://dx.doi.org/10.1787/888933446195|access-date=2021-05-24|website=dx.doi.org|doi=10.1787/888933446195}} end\n",
      "beg ref {{cite web|last=young|first=kue|date=2012-08-29|title=indigenous populations of north america, australasia, and circumpolar north|url=http://dx.doi.org/10.1093/obo/9780199756797-0039|access-date=2021-05-25|website=oxford bibliographies online datasets|doi=10.1093/obo/9780199756797-0039}} end\n",
      "beg ref {{cite journal|last1=talloen|first1=joachim|last2=chapman|first2=gretchen b.|date=2014|title=from red potato chips to greener forests: tackling a common pool resource dilemma with partitions|url=http://dx.doi.org/10.1037/e573552014-013|access-date=2021-05-24|website=psycextra dataset|doi=10.1037/e573552014-013}} end\n",
      "beg ref"
     ]
    },
    {
     "name": "stderr",
     "output_type": "stream",
     "text": [
      "\r",
      " 93%|██████████████████████████████████████████████████████████████████████████▏     | 854/921 [00:32<00:02, 30.19it/s]"
     ]
    },
    {
     "name": "stdout",
     "output_type": "stream",
     "text": [
      " {{cite book|date=2015-07-15|title=access to information on social networks, 2013|url=http://dx.doi.org/10.1787/9789264232440-graph84-en|access-date=2021-05-24|website=dx.doi.org|doi=10.1787/9789264232440-graph84-en|isbn=9789264232273}} end\n",
      "beg ref {{cite odnb|last=thompson|first=noel|url=http://dx.doi.org/10.1093/ref:odnb/27284|title=thompson, william (1775–1833), socialist and economist|date=2004-09-23|series=oxford dictionary of national biography|doi=10.1093/ref:odnb/27284}} end\n",
      "beg ref {{cite journal|last=taylor|first=linnet|date=2018-06-19|title=the ethics of big data as a public good: which public? whose good?|url=http://dx.doi.org/10.31228/osf.io/r49yp|access-date=2021-05-24|website=dx.doi.org|doi=10.31228/osf.io/r49yp|s2cid=242083314}} end\n",
      "beg ref {{cite book|date=2006-01-01|editor-last=chatty|editor-first=dawn|title=nomadic societies in the middle east and north africa|url=http://dx.doi.org/10.1163/9789047417750|doi=10.1163/9789047417750|isbn=978-90-474-1775-0}} end\n",
      "beg ref {{cite journal|last=kieńć|first=witold|date=2016-08-18|title=authors from the periphery countries choose open access more often|url=http://dx.doi.org/10.31235/osf.io/ju4rf|access-date=2021-05-24|website=dx.doi.org|doi=10.31235/osf.io/ju4rf}} end\n",
      "beg ref {{cite journal|title=resource development in western canada: indigenous peoples' human rights must be respected|url=http://dx.doi.org/10.1163/2210-7975_hrd-5411-2014011|access-date=2021-05-25|website=human rights documents online|doi=10.1163/2210-7975_hrd-5411-2014011}} end\n",
      "beg ref {{cite journal|title=figure 2.9. many women work part time, often involuntarily|url=http://dx.doi.org/10.1787/888933446195|access-date=2021-05-25|website=dx.doi.org|doi=10.1787/888933446195}} end\n",
      "beg ref {{cite journal|title=nassir wondered what things would have been like if he had been a country musician instead|url=http://dx.doi.org/10.22582/am.v14i1.272.g668|access-date=2021-05-25|website=dx.doi.org|doi=10.22582/am.v14i1.272.g668}} end\n",
      "beg ref {{cite journal |date=2015-12-15 |title=gender equality and women's empowerment in undp |url=http://dx.doi.org/10.18356/c121bb97-en |access-date=2022-04-10 |website=dx.doi.org|doi=10.18356/c121bb97-en }} end\n",
      "beg ref krauss, alexander. 2016. [http://personal.lse.ac.uk/kraussa/how%20natural%20gas%20tariff%20increases%20can%20influence%20poverty%20-%20results,%20measurement%20constraints%20and%20bias.pdf ''how natural gas tariff increases can influence poverty: results, measurement constraints and bias''] {{webarchive|url=https://web.archive.org/web/20180709154723/http://personal.lse.ac.uk/kraussa/how%20natural%20gas%20tariff%20increases%20can%20influence%20poverty%20-%20results,%20measurement%20constraints%20and%20bias.pdf|date=2018-07-09}}. vol. 60. [[doi:10.1016/j.eneco.2016.09.010|energy economics.]] end\n",
      "beg ref krauss, alexander. 2016. [http://personal.lse.ac.uk/kraussa/how%20natural%20gas%20tariff%20increases%20can%20influence%20poverty%20-%20results,%20measurement%20constraints%20and%20bias.pdf ''how natural gas tariff increases can influence poverty: results, measurement constraints and bias''] {{webarchive|url=https://web.archive.org/web/20180709154723/http://personal.lse.ac.uk/kraussa/how%20natural%20gas%20tariff%20increases%20can%20influence%20poverty%20-%20results,%20measurement%20constraints%20and%20bias.pdf|date=2018-07-09}}. vol. 60. [[doi:10.1016/j.eneco.2016.09.010|energy economics.]] {{webarchive|url=https://web.archive.org/web/20211124012154/https://www.sciencedirect.com/science/article/pii/s0140988316302481?via%3dihub|date=2021-11-24}} end\n"
     ]
    },
    {
     "name": "stderr",
     "output_type": "stream",
     "text": [
      " 94%|██████████████████████████████████████████████████████████████████████████▉     | 862/921 [00:32<00:01, 29.65it/s]"
     ]
    },
    {
     "name": "stdout",
     "output_type": "stream",
     "text": [
      "beg ref milstein, t. & castro-sotomayor, j. (2020). routledge handbook of ecocultural identity. london, uk: routledge. https://doi.org/10.4324/9781351068840 end\n",
      "beg ref {{cite book |doi=10.1007/978-3-319-76017-9_1 |chapter=the environmental communication under the magnifying lens |title=communicating the environment to save the planet |year=2019 |last1=abbati |first1=maurizio |pages=3–29 |isbn=978-3-319-76016-2 }} end\n",
      "beg ref martin, p., bonier, f., moore, i., & tweksbury, j. (2009). latitudinal variation in the asynchrony of seasons: implications for higher rates of population differentiation and speciation in the tropics. ''ideas in ecology and evolution'', ''2'', 9–17. <nowiki>https://doi.org/10.4033/iee.2009.2.3.n</nowiki> end\n",
      "beg ref elzinga ja, atlan a, biere a, gigord l, weis ae, bernasconi g. (2007) time after time: flowering phenology and biotic interactions. trends in ecology and evolution. 22(8). doi:10.1016/j.tree.2007.05.006 end\n",
      "beg ref richardson, curtis j., and najah a. hussain. “restoring the garden of eden: an ecological assessment of the marshes of iraq.” ''bioscience'' 56, no. 6 (june 2006): 477, 487. <nowiki>https://doi.org/10.1641/0006-3568(2006)56</nowiki>[477:rtgoea]2.0.co;2. end\n",
      "beg ref lewis, philip, ali nasser al-muthanna, preeti patel, and baroness nicholson of winterbourne. “effect of armed conflict on health of marsh arabs in southern iraq.” ''the lancet'' 381, no. 9870 (march 16, 2013): 959–61. <nowiki>https://doi.org/10.1016/s0140-6736(13)60282-2</nowiki>. end\n",
      "beg ref newman, susan dunreath. “the plight of the marsh arabs, an environmental and human rights crisis.” ''advances in nursing science'' 30, no. 4 (december 2007): 315–316. <nowiki>https://doi.org/10.1097/01.ans.0000300181.71724.c7</nowiki>. end\n",
      "beg ref lewis, philip, ali nasser al-muthanna, preeti patel, and baroness nicholson of winterbourne. “effect of armed conflict on health of marsh arabs in southern iraq.” ''the lancet'' 381, no. 9870 (march 16, 2013): 959–60. <nowiki>https://doi.org/10.1016/s0140-6736(13)60282-2</nowiki>. end\n",
      "beg ref al‐mudaffar fawzi, nadia, kelly p. goodwin, bayan a. mahdi, and michelle l. stevens. “effects of mesopotamian marsh (iraq) desiccation on the cultural knowledge and livelihood of marsh arab women.” ''ecosystem health and sustainability'' 2, no. 3 (january 2016): 4, 12. <nowiki>https://doi.org/10.1002/ehs2.1207</nowiki>. end\n",
      "beg ref newman, susan dunreath. “the plight of the marsh arabs, an environmental and human rights crisis.” ''advances in nursing science'' 30, no. 4 (december 2007): pp. 318. <nowiki>https://doi.org/10.1097/01.ans.0000300181.71724.c7</nowiki>. end\n",
      "beg ref richardson, curtis j., peter reiss, najah a. hussain, azzam j. alwash, and douglas j. pool. “the restoration potential of the mesopotamian marshes of iraq.” ''science'' 307, no. 5713 (2005): 1307–11. <nowiki>https://doi.org/10.1126/science.1105750</nowiki>. end\n"
     ]
    },
    {
     "name": "stderr",
     "output_type": "stream",
     "text": [
      " 94%|███████████████████████████████████████████████████████████████████████████▌    | 870/921 [00:32<00:01, 30.93it/s]"
     ]
    },
    {
     "name": "stdout",
     "output_type": "stream",
     "text": [
      "beg ref tsesmelis, d.e., skondras, n.a., khan, s.y.a. et al. water, sanitation and hygiene (wash) index: development and application to measure wash service levels in european humanitarian camps. water resour manage 34, 2449–2470 (2020). https://doi.org/10.1007/s11269-020-02562-z end\n",
      "beg ref {{cite web | title=a voice for indigenous australians | website=ministers media centre | url=https://ministers.pmc.gov.au/wyatt/2019/voice-indigenous-australians |date=30 october 2019| access-date=18 july 2020}} end\n",
      "beg ref murray n. j., clemens r. s., phinn s. r., possingham h. p. & fuller r. a. (2014) tracking the rapid loss of tidal wetlands in the yellow sea. frontiers in ecology and the environment 12, 267-72. {{doi| 10.1890/130260}} end\n"
     ]
    },
    {
     "name": "stderr",
     "output_type": "stream",
     "text": [
      " 95%|████████████████████████████████████████████████████████████████████████████▎   | 878/921 [00:33<00:01, 28.41it/s]"
     ]
    },
    {
     "name": "stdout",
     "output_type": "stream",
     "text": [
      "beg ref lech k. (2020) claiming their voice: foreign memories on the post-brexit stage. in: meerzon y., dean d., mcneil d. (eds) migration and stereotypes in performance and culture. contemporary performance interactions. palgrave macmillan, cham. https://doi.org/10.1007/978-3-030-39915-3_12 [https://link.springer.com/chapter/10.1007/978-3-030-39915-3_12 online link] end\n",
      "beg ref {{cite book |doi = 10.1007/978-3-662-06278-4_18|chapter = calcareous nannoplankton evolution and diversity through time|title = coccolithophores|year = 2004|last1 = bown|first1 = paul r.|last2 = lees|first2 = jackie a.|last3 = young|first3 = jeremy r.|pages = 481–508|isbn = 978-3-642-06016-8}} end\n",
      "beg ref {{cite book |doi = 10.1007/978-3-662-06278-4_5|chapter = coccolithophores and the biological pump: responses to environmental changes|title = coccolithophores|year = 2004|last1 = rost|first1 = björn|last2 = riebesell|first2 = ulf|pages = 99–125|isbn = 978-3-642-06016-8}} end\n",
      "beg ref durak, g.m., taylor, a.r., walker, c.e., probert, i., de vargas, c., audic, s., schroeder, d., brownlee, c. and wheeler, g.l. (2016) \"a role for diatom-like silicon transporters in calcifying coccolithophores\". ''nature communications'', '''7''': 10543. {{doi|10.1038/ncomms10543}}. [[file:cc-by icon.svg|50px]] material was copied from this source, which is available under a [https://creativecommons.org/licenses/by/4.0/ creative commons attribution 4.0 international license]. end\n",
      "beg ref {{cite book |doi = 10.1007/978-3-662-06278-4_19|chapter = carbonate fluxes and calcareous nannoplankton|title = coccolithophores|year = 2004|last1 = hay|first1 = william w.|pages = 509–528|isbn = 978-3-642-06016-8}} end\n",
      "beg ref {{cite book |doi = 10.1016/b978-012370518-1/50015-1|chapter = armor: why, when, and how|title = evolution of primary producers in the sea|year = 2007|last1 = hamm|first1 = christian|last2 = smetacek|first2 = victor|pages = 311–332|isbn = 9780123705181}} end\n",
      "beg ref gafar, n.a., eyre, b.d. and schulz, k.g. (2019) \"a comparison of species specific sensitivities to changing light and carbonate chemistry in calcifying marine phytoplankton\". ''nature: scientific reports'', '''9'''(1): 1–12. {{doi|10.1038/s41598-019-38661-0}}. [[file:cc-by icon.svg|50px]] material was copied from this source, which is available under a [https://creativecommons.org/licenses/by/4.0/ creative commons attribution 4.0 international license]. end\n",
      "beg ref daniels, c.j., sheward, r.m. and poulton, a.j. (2014) \"biogeochemical implications of comparative growth rates of ''emiliania huxleyi'' and ''coccolithus'' species\". ''biogeosciences'', '''11'''(23): 6915–6925. {{doi|10.5194/bg-11-6915-2014). end\n",
      "beg ref {{cite book |last1=roedel |first1=walter |last2=wagner |first2=thomas |date=2017 |title=physik unserer umwelt: die atmosphäre |url=https://doi.org/10.1007/978-3-662-54258-3 |language=en-gb |doi=10.1007/978-3-662-54258-3|isbn=978-3-662-54257-6 }} end\n",
      "beg ref durand, f., piecuch, c. g., becker, m., papa, f., raju, s. v., khan, j. u., & ponte, r. m. (2019). impact of continental freshwater runoff on coastal sea level. ''surveys in geophysics'', ''40''(6), 1437–1466. <nowiki>https://doi.org/10.1007/s10712-019-09536-w</nowiki> end\n",
      "beg ref jahfer, s., vinayachandran, p. n., & nanjundiah, r. s. (2017). long-term impact of amazon river runoff on northern hemispheric climate. ''scientific reports'', ''7''(1), 10989. <nowiki>https://doi.org/10.1038/s41598-017-10750-y</nowiki> end\n",
      "beg ref bamber, j., van den broeke, m., ettema, j., lenaerts, j., & rignot, e. (2012). recent large increases in freshwater fluxes from greenland into the north atlantic: freshwater into the north atlantic. ''geophysical research letters'', ''39''(19). <nowiki>https://doi.org/10.1029/2012gl052552</nowiki> end\n",
      "beg ref andersson, axel; graw, kathrin; schröder, marc; fennig, karsten; liman, julian; bakan, stephan; hollmann, rainer; klepp, christian (2017): hamburg ocean atmosphere parameters and fluxes from satellite data - hoaps 4.0, satellite application facility on climate monitoring, doi:10.5676/eum_saf_cm/hoaps/v002, <nowiki>https://doi.org/10.5676/eum_saf_cm/hoaps/v002</nowiki>. end\n",
      "beg ref lorbacher ks, marsland j, church ja, grifes sm, stammer d (2012) rapid barotropic sea level ris from ice sheet melting. j geophys res. <nowiki>https://doi.org/10.1029/2011jc007733</nowiki> end\n",
      "beg ref skliris, n., & lascaratos, a. (2004). impacts of the nile river damming on the thermohaline circulation and water mass characteristics of the mediterranean sea. ''journal of marine systems: journal of the european association of marine sciences and techniques'', ''52''(1–4), 121–143. <nowiki>https://doi.org/10.1016/j.jmarsys.2004.02.005</nowiki> end\n",
      "beg ref suzuki, t., yamazaki, d., tsujino, h., komuro, y., nakano, h., & urakawa, s. (2018). a dataset of continental river discharge based on jra-55 for use in a global ocean circulation model. ''journal of oceanography'', ''74''(4), 421–429. <nowiki>https://doi.org/10.1007/s10872-017-0458-5</nowiki> end\n",
      "beg ref amarasekera, k. n., lee, r. f., williams, e. r., & eltahir, e. a. b. (1997). enso and the natural variability in the flow of tropical rivers. ''journal of hydrology'', ''200''(1–4), 24–39. <nowiki>https://doi.org/10.1016/s0022-1694(96)03340-9</nowiki> end\n"
     ]
    },
    {
     "name": "stderr",
     "output_type": "stream",
     "text": [
      " 97%|█████████████████████████████████████████████████████████████████████████████▍  | 891/921 [00:33<00:00, 30.69it/s]"
     ]
    },
    {
     "name": "stdout",
     "output_type": "stream",
     "text": [
      "beg ref {{cite iucn |author=spector, t. |author2=determann, r. |author3=gardner, m. |name-list-style=amp |title=''torreya taxifolia'' |volume=2011 |page=e.t30968a9585489 |date=august 10, 2010 |doi=10.2305/iucn.uk.2011-2.rlts.t30968a9585489.en |access-date=august 15, 2014 |quote=listed as critically endangered (cr a2ace v3.1)}} end\n",
      "beg ref {{cite journal|date=2012-12-31|title=the united nations high commissioner for refugees|url=http://dx.doi.org/10.18356/f5abb3a9-en|access-date=2021-12-09|website=dx.doi.org|doi=10.18356/f5abb3a9-en}} end\n",
      "beg ref {{cite web |title=data {{!}} copernicus marine |url=https://resources.marine.copernicus.eu/product-detail/global_analysis_forecast_phy_001_024/information |access-date=2022-04-08 |website=resources.marine.copernicus.eu |doi=10.48670/moi-00016}} end\n"
     ]
    },
    {
     "name": "stderr",
     "output_type": "stream",
     "text": [
      " 98%|██████████████████████████████████████████████████████████████████████████████▌ | 904/921 [00:34<00:00, 23.86it/s]"
     ]
    },
    {
     "name": "stdout",
     "output_type": "stream",
     "text": [
      "beg ref {{cite book|author=office of international affairs|title=lost crops of the incas: little-known plants of the andes with promise for worldwide cultivation|date=1989|url=http://www.nap.edu/openbook.php?isbn=030904264x&page=92|work=nap.edu|isbn=978-0-309-04264-2|page=92|doi=10.17226/1398}} end\n",
      "beg ref {{cite book|title=world food and agriculture – statistical yearbook 2021|url=https://www.fao.org/documents/card/en/c/cb4477en/|url-status=live|access-date=2021-12-13|website=www.fao.org|year=2021|language=en|doi=10.4060/cb4477en|isbn=978-92-5-134332-6|s2cid=240163091}} end\n",
      "beg ref price, l., 2019. \"the possibility of deep naturalism: a philosophy for ecology\". ''journal of critical realism'', 18(4), pp.&nbsp;352–367. {{doi|10.1080/14767430.2019.1667169}} end\n",
      "beg ref price, l., 2019. \"a return to common-sense: why ecology needs transcendental realism\". ''journal of critical realism'', 18(1), pp.&nbsp;31–44. {{doi|10.1080/14767430.2019.1580178}} end\n"
     ]
    },
    {
     "name": "stderr",
     "output_type": "stream",
     "text": [
      "100%|████████████████████████████████████████████████████████████████████████████████| 921/921 [00:34<00:00, 26.53it/s]\n"
     ]
    },
    {
     "name": "stdout",
     "output_type": "stream",
     "text": [
      "getting the number of references\n"
     ]
    },
    {
     "name": "stderr",
     "output_type": "stream",
     "text": [
      "100%|████████████████████████████████████████████████████████████████████████████| 921/921 [00:00<00:00, 115147.07it/s]\n"
     ]
    },
    {
     "name": "stdout",
     "output_type": "stream",
     "text": [
      "getting the number of scientific citations\n"
     ]
    },
    {
     "name": "stderr",
     "output_type": "stream",
     "text": [
      "100%|████████████████████████████████████████████████████████████████████████████| 921/921 [00:00<00:00, 230184.36it/s]\n",
      "100%|████████████████████████████████████████████████████████████████████████████| 921/921 [00:00<00:00, 229828.30it/s]\n",
      "100%|████████████████████████████████████████████████████████████████████████████| 921/921 [00:00<00:00, 229910.37it/s]\n",
      "100%|████████████████████████████████████████████████████████████████████████████████████████| 921/921 [00:00<?, ?it/s]\n"
     ]
    },
    {
     "name": "stdout",
     "output_type": "stream",
     "text": [
      "getting the number of .org citation\n"
     ]
    },
    {
     "name": "stderr",
     "output_type": "stream",
     "text": [
      "100%|████████████████████████████████████████████████████████████████████████████| 921/921 [00:00<00:00, 114989.40it/s]\n",
      "100%|████████████████████████████████████████████████████████████████████████████| 921/921 [00:00<00:00, 230679.21it/s]\n"
     ]
    },
    {
     "name": "stdout",
     "output_type": "stream",
     "text": [
      "getting the number of .gov citation\n"
     ]
    },
    {
     "name": "stderr",
     "output_type": "stream",
     "text": [
      "100%|████████████████████████████████████████████████████████████████████████████| 921/921 [00:00<00:00, 230472.76it/s]\n",
      "100%|████████████████████████████████████████████████████████████████████████████| 921/921 [00:00<00:00, 230349.07it/s]\n"
     ]
    },
    {
     "name": "stdout",
     "output_type": "stream",
     "text": [
      "getting the number of IPCC citation\n"
     ]
    },
    {
     "name": "stderr",
     "output_type": "stream",
     "text": [
      "100%|████████████████████████████████████████████████████████████████████████████| 921/921 [00:00<00:00, 231300.76it/s]\n"
     ]
    },
    {
     "name": "stdout",
     "output_type": "stream",
     "text": [
      "getting the .com citations\n"
     ]
    },
    {
     "name": "stderr",
     "output_type": "stream",
     "text": [
      "100%|████████████████████████████████████████████████████████████████████████████| 921/921 [00:00<00:00, 230129.51it/s]\n",
      "100%|████████████████████████████████████████████████████████████████████████████| 921/921 [00:00<00:00, 115095.61it/s]\n"
     ]
    },
    {
     "name": "stdout",
     "output_type": "stream",
     "text": [
      "getting the ipbes citation\n"
     ]
    },
    {
     "name": "stderr",
     "output_type": "stream",
     "text": [
      "100%|████████████████████████████████████████████████████████████████████████████| 921/921 [00:00<00:00, 229841.97it/s]\n"
     ]
    },
    {
     "name": "stdout",
     "output_type": "stream",
     "text": [
      "getting the guardian citation\n"
     ]
    },
    {
     "name": "stderr",
     "output_type": "stream",
     "text": [
      "100%|████████████████████████████████████████████████████████████████████████████| 921/921 [00:00<00:00, 230307.87it/s]\n"
     ]
    },
    {
     "name": "stdout",
     "output_type": "stream",
     "text": [
      "getting the other citation\n"
     ]
    },
    {
     "name": "stderr",
     "output_type": "stream",
     "text": [
      "100%|████████████████████████████████████████████████████████████████████████████| 921/921 [00:00<00:00, 230417.77it/s]\n"
     ]
    },
    {
     "name": "stdout",
     "output_type": "stream",
     "text": [
      "Done!\n"
     ]
    },
    {
     "data": {
      "text/html": [
       "<div>\n",
       "<style scoped>\n",
       "    .dataframe tbody tr th:only-of-type {\n",
       "        vertical-align: middle;\n",
       "    }\n",
       "\n",
       "    .dataframe tbody tr th {\n",
       "        vertical-align: top;\n",
       "    }\n",
       "\n",
       "    .dataframe thead th {\n",
       "        text-align: right;\n",
       "    }\n",
       "</style>\n",
       "<table border=\"1\" class=\"dataframe\">\n",
       "  <thead>\n",
       "    <tr style=\"text-align: right;\">\n",
       "      <th></th>\n",
       "      <th>Name only</th>\n",
       "      <th>page url</th>\n",
       "      <th>text</th>\n",
       "      <th>citations</th>\n",
       "      <th>Ref count</th>\n",
       "      <th>nb_journal_citations</th>\n",
       "      <th>journalcitation</th>\n",
       "      <th>journal</th>\n",
       "      <th>nbjournaldetected</th>\n",
       "      <th>citation org</th>\n",
       "      <th>...</th>\n",
       "      <th>citationipbes</th>\n",
       "      <th>citationguardian</th>\n",
       "      <th>citationautre</th>\n",
       "      <th>citationtext_total</th>\n",
       "      <th>org count</th>\n",
       "      <th>gov count</th>\n",
       "      <th>com count</th>\n",
       "      <th>Sci count</th>\n",
       "      <th>IPCC count</th>\n",
       "      <th>percentage of official sources</th>\n",
       "    </tr>\n",
       "  </thead>\n",
       "  <tbody>\n",
       "    <tr>\n",
       "      <th>0</th>\n",
       "      <td>Effects of climate change</td>\n",
       "      <td>https://en.wikipedia.org/wiki/Effects_of_clima...</td>\n",
       "      <td>{{short description|Effects created by climate...</td>\n",
       "      <td>{'Ref count': 252, 'journal_count': 56, 'nb_jo...</td>\n",
       "      <td>252</td>\n",
       "      <td>58</td>\n",
       "      <td>[10.1038/s41558-019-0412-1, 10.1126/sciadv.aba...</td>\n",
       "      <td>[[nature climate change ], [science advances ]...</td>\n",
       "      <td>56</td>\n",
       "      <td>27</td>\n",
       "      <td>...</td>\n",
       "      <td>2</td>\n",
       "      <td>10</td>\n",
       "      <td>15</td>\n",
       "      <td>[www.arctic.noaa.gov, science2017.globalchange...</td>\n",
       "      <td>0.107143</td>\n",
       "      <td>0.095238</td>\n",
       "      <td>0.087302</td>\n",
       "      <td>0.230159</td>\n",
       "      <td>0.376984</td>\n",
       "      <td>0.817460</td>\n",
       "    </tr>\n",
       "    <tr>\n",
       "      <th>1</th>\n",
       "      <td>Effects of climate change on agriculture</td>\n",
       "      <td>https://en.wikipedia.org/wiki/Effects_of_clima...</td>\n",
       "      <td>{{short description|None}}\\n{{about||contribut...</td>\n",
       "      <td>{'Ref count': 142, 'journal_count': 49, 'nb_jo...</td>\n",
       "      <td>142</td>\n",
       "      <td>51</td>\n",
       "      <td>[10.1016/s0169-5347(02)02587-9, 10.1007/s10584...</td>\n",
       "      <td>[[trends in ecology ], [climatic change], [sci...</td>\n",
       "      <td>49</td>\n",
       "      <td>19</td>\n",
       "      <td>...</td>\n",
       "      <td>0</td>\n",
       "      <td>1</td>\n",
       "      <td>34</td>\n",
       "      <td>[www.ncdc.noaa.gov, www.nasa.gov, webarchive.l...</td>\n",
       "      <td>0.133803</td>\n",
       "      <td>0.021127</td>\n",
       "      <td>0.112676</td>\n",
       "      <td>0.359155</td>\n",
       "      <td>0.133803</td>\n",
       "      <td>0.647887</td>\n",
       "    </tr>\n",
       "    <tr>\n",
       "      <th>2</th>\n",
       "      <td>Effects of climate change on human health</td>\n",
       "      <td>https://en.wikipedia.org/wiki/Effects_of_clima...</td>\n",
       "      <td>[[File:Atlanta thermal.jpg|thumb|Illustration ...</td>\n",
       "      <td>{'Ref count': 111, 'journal_count': 56, 'nb_jo...</td>\n",
       "      <td>111</td>\n",
       "      <td>56</td>\n",
       "      <td>[10.1016/j.foreco.2009.09.002, 10.1111/j.1708-...</td>\n",
       "      <td>[[forest ecology and management ], [[[internat...</td>\n",
       "      <td>56</td>\n",
       "      <td>13</td>\n",
       "      <td>...</td>\n",
       "      <td>0</td>\n",
       "      <td>3</td>\n",
       "      <td>10</td>\n",
       "      <td>[19january2017snapshot.epa.gov, www.epa.gov, n...</td>\n",
       "      <td>0.117117</td>\n",
       "      <td>0.063063</td>\n",
       "      <td>0.126126</td>\n",
       "      <td>0.504505</td>\n",
       "      <td>0.072072</td>\n",
       "      <td>0.756757</td>\n",
       "    </tr>\n",
       "    <tr>\n",
       "      <th>3</th>\n",
       "      <td>Effects of climate change on oceans</td>\n",
       "      <td>https://en.wikipedia.org/wiki/Effects_of_clima...</td>\n",
       "      <td>{{Short description|Effects of climate change ...</td>\n",
       "      <td>{'Ref count': 121, 'journal_count': 63, 'nb_jo...</td>\n",
       "      <td>121</td>\n",
       "      <td>66</td>\n",
       "      <td>[10.1146/annurev-environ-012320-083019, 10.111...</td>\n",
       "      <td>[[annual review of environment and resources ]...</td>\n",
       "      <td>63</td>\n",
       "      <td>14</td>\n",
       "      <td>...</td>\n",
       "      <td>0</td>\n",
       "      <td>1</td>\n",
       "      <td>19</td>\n",
       "      <td>[data.giss.nasa.gov, www.ncdc.noaa.gov, oceans...</td>\n",
       "      <td>0.115702</td>\n",
       "      <td>0.024793</td>\n",
       "      <td>0.074380</td>\n",
       "      <td>0.545455</td>\n",
       "      <td>0.074380</td>\n",
       "      <td>0.760331</td>\n",
       "    </tr>\n",
       "    <tr>\n",
       "      <th>4</th>\n",
       "      <td>Effects of climate change on ecosystems</td>\n",
       "      <td>https://en.wikipedia.org/wiki/Effects_of_clima...</td>\n",
       "      <td>{{short description|How increased greenhouse g...</td>\n",
       "      <td>{'Ref count': 86, 'journal_count': 48, 'nb_jou...</td>\n",
       "      <td>86</td>\n",
       "      <td>49</td>\n",
       "      <td>[10.1073/pnas.0502286102, 10.1111/j.1752-4571....</td>\n",
       "      <td>[[proceedings of the national academy of scien...</td>\n",
       "      <td>48</td>\n",
       "      <td>7</td>\n",
       "      <td>...</td>\n",
       "      <td>0</td>\n",
       "      <td>1</td>\n",
       "      <td>13</td>\n",
       "      <td>[www.invasivespeciesinfo.gov, www.epa.gov, www...</td>\n",
       "      <td>0.081395</td>\n",
       "      <td>0.034884</td>\n",
       "      <td>0.093023</td>\n",
       "      <td>0.569767</td>\n",
       "      <td>0.058140</td>\n",
       "      <td>0.744186</td>\n",
       "    </tr>\n",
       "  </tbody>\n",
       "</table>\n",
       "<p>5 rows × 26 columns</p>\n",
       "</div>"
      ],
      "text/plain": [
       "                                   Name only  \\\n",
       "0                  Effects of climate change   \n",
       "1   Effects of climate change on agriculture   \n",
       "2  Effects of climate change on human health   \n",
       "3        Effects of climate change on oceans   \n",
       "4    Effects of climate change on ecosystems   \n",
       "\n",
       "                                            page url  \\\n",
       "0  https://en.wikipedia.org/wiki/Effects_of_clima...   \n",
       "1  https://en.wikipedia.org/wiki/Effects_of_clima...   \n",
       "2  https://en.wikipedia.org/wiki/Effects_of_clima...   \n",
       "3  https://en.wikipedia.org/wiki/Effects_of_clima...   \n",
       "4  https://en.wikipedia.org/wiki/Effects_of_clima...   \n",
       "\n",
       "                                                text  \\\n",
       "0  {{short description|Effects created by climate...   \n",
       "1  {{short description|None}}\\n{{about||contribut...   \n",
       "2  [[File:Atlanta thermal.jpg|thumb|Illustration ...   \n",
       "3  {{Short description|Effects of climate change ...   \n",
       "4  {{short description|How increased greenhouse g...   \n",
       "\n",
       "                                           citations  Ref count  \\\n",
       "0  {'Ref count': 252, 'journal_count': 56, 'nb_jo...        252   \n",
       "1  {'Ref count': 142, 'journal_count': 49, 'nb_jo...        142   \n",
       "2  {'Ref count': 111, 'journal_count': 56, 'nb_jo...        111   \n",
       "3  {'Ref count': 121, 'journal_count': 63, 'nb_jo...        121   \n",
       "4  {'Ref count': 86, 'journal_count': 48, 'nb_jou...         86   \n",
       "\n",
       "   nb_journal_citations                                    journalcitation  \\\n",
       "0                    58  [10.1038/s41558-019-0412-1, 10.1126/sciadv.aba...   \n",
       "1                    51  [10.1016/s0169-5347(02)02587-9, 10.1007/s10584...   \n",
       "2                    56  [10.1016/j.foreco.2009.09.002, 10.1111/j.1708-...   \n",
       "3                    66  [10.1146/annurev-environ-012320-083019, 10.111...   \n",
       "4                    49  [10.1073/pnas.0502286102, 10.1111/j.1752-4571....   \n",
       "\n",
       "                                             journal  nbjournaldetected  \\\n",
       "0  [[nature climate change ], [science advances ]...                 56   \n",
       "1  [[trends in ecology ], [climatic change], [sci...                 49   \n",
       "2  [[forest ecology and management ], [[[internat...                 56   \n",
       "3  [[annual review of environment and resources ]...                 63   \n",
       "4  [[proceedings of the national academy of scien...                 48   \n",
       "\n",
       "   citation org  ... citationipbes  citationguardian citationautre  \\\n",
       "0            27  ...             2                10            15   \n",
       "1            19  ...             0                 1            34   \n",
       "2            13  ...             0                 3            10   \n",
       "3            14  ...             0                 1            19   \n",
       "4             7  ...             0                 1            13   \n",
       "\n",
       "                                  citationtext_total  org count gov count  \\\n",
       "0  [www.arctic.noaa.gov, science2017.globalchange...   0.107143  0.095238   \n",
       "1  [www.ncdc.noaa.gov, www.nasa.gov, webarchive.l...   0.133803  0.021127   \n",
       "2  [19january2017snapshot.epa.gov, www.epa.gov, n...   0.117117  0.063063   \n",
       "3  [data.giss.nasa.gov, www.ncdc.noaa.gov, oceans...   0.115702  0.024793   \n",
       "4  [www.invasivespeciesinfo.gov, www.epa.gov, www...   0.081395  0.034884   \n",
       "\n",
       "   com count  Sci count  IPCC count percentage of official sources  \n",
       "0   0.087302   0.230159    0.376984                       0.817460  \n",
       "1   0.112676   0.359155    0.133803                       0.647887  \n",
       "2   0.126126   0.504505    0.072072                       0.756757  \n",
       "3   0.074380   0.545455    0.074380                       0.760331  \n",
       "4   0.093023   0.569767    0.058140                       0.744186  \n",
       "\n",
       "[5 rows x 26 columns]"
      ]
     },
     "execution_count": 329,
     "metadata": {},
     "output_type": "execute_result"
    }
   ],
   "source": [
    "print('Getting citations')\n",
    "df['citations'] = df['text'].progress_apply(lambda x: get_citations(x))\n",
    "\n",
    "print(\"getting the number of references\")\n",
    "df['Ref count'] = df['citations'].progress_apply(lambda x: x['Ref count'])\n",
    "\n",
    "print(\"getting the number of scientific citations\")\n",
    "df['nb_journal_citations'] = df['citations'].progress_apply(lambda x: x['nb_journal_citations'])\n",
    "df[\"journalcitation\"] = df['citations'].progress_apply(lambda x: x['citationjournal'])\n",
    "df[\"journal\"] = df['citations'].progress_apply(lambda x: x['journal'])\n",
    "df[\"nbjournaldetected\"]=df['citations'].progress_apply(lambda x: x['journal_count'])\n",
    "\n",
    "print(\"getting the number of .org citation\")\n",
    "df[\"citation org\"]=df['citations'].progress_apply(lambda x: x['citations.org'])\n",
    "df[\"citationorgtext\"]=df['citations'].progress_apply(lambda x: x[\"citationorgtext\"])\n",
    "\n",
    "print(\"getting the number of .gov citation\")\n",
    "df[\"citation gov\"]=df['citations'].progress_apply(lambda x: x[\"citations.gov\"])\n",
    "df[\"citationgovtext\"]=df['citations'].progress_apply(lambda x: x[\"citationgovtext\"])\n",
    "\n",
    "print(\"getting the number of IPCC citation\")\n",
    "df[\"citation IPCC\"]=df['citations'].progress_apply(lambda x: x[\"citationsIPCC.ch\"])\n",
    "\n",
    "print(\"getting the .com citations\")\n",
    "df[\"citation com\"]=df['citations'].progress_apply(lambda x: x[\"citations.com\"])\n",
    "df[\"citationcomtext\"]=df['citations'].progress_apply(lambda x: x[\"citationcomtext\"])\n",
    "\n",
    "print(\"getting the ipbes citation\")\n",
    "df[\"citationipbes\"]=df['citations'].progress_apply(lambda x: x[\"citationsipbes\"])\n",
    "\n",
    "print(\"getting the guardian citation\")\n",
    "df[\"citationguardian\"]=df['citations'].progress_apply(lambda x: x[\"citationguardian\"])\n",
    "\n",
    "print(\"getting the other citation\")\n",
    "df[\"citationautre\"]=df['citations'].progress_apply(lambda x: x[\"citationautre\"])\n",
    "\n",
    "df[\"citationtext_total\"]=df[\"citationgovtext\"]+df[\"citationcomtext\"]+df[\"citationorgtext\"]+df[\"journal\"]\n",
    "\n",
    "df[\"org count\"]=df[\"citation org\"]/df[\"Ref count\"]\n",
    "df[\"gov count\"]=df[\"citation gov\"]/df[\"Ref count\"]\n",
    "df[\"com count\"]=df[\"citation com\"]/df[\"Ref count\"]\n",
    "df[\"Sci count\"]=df['nb_journal_citations']/df['Ref count']\n",
    "df['IPCC count']=df['citation IPCC']/df['Ref count']\n",
    "df['percentage of official sources']=(df['nb_journal_citations']+ df['citation gov']+ df['citation org']+df['citation IPCC']+df['citationipbes'])/df['Ref count']\n",
    "\n",
    "\n",
    "print('Done!')\n",
    "df.head()"
   ]
  },
  {
   "cell_type": "code",
   "execution_count": 293,
   "id": "2521a551",
   "metadata": {},
   "outputs": [
    {
     "data": {
      "text/plain": [
       "0.9854651162790697"
      ]
     },
     "execution_count": 293,
     "metadata": {},
     "output_type": "execute_result"
    }
   ],
   "source": [
    "df[\"nbjournaldetected\"].sum()/df[\"nb_journal_citations\"].sum()"
   ]
  },
  {
   "cell_type": "code",
   "execution_count": 252,
   "id": "e0b8dd4f",
   "metadata": {
    "scrolled": true
   },
   "outputs": [
    {
     "data": {
      "text/html": [
       "<div>\n",
       "<style scoped>\n",
       "    .dataframe tbody tr th:only-of-type {\n",
       "        vertical-align: middle;\n",
       "    }\n",
       "\n",
       "    .dataframe tbody tr th {\n",
       "        vertical-align: top;\n",
       "    }\n",
       "\n",
       "    .dataframe thead th {\n",
       "        text-align: right;\n",
       "    }\n",
       "</style>\n",
       "<table border=\"1\" class=\"dataframe\">\n",
       "  <thead>\n",
       "    <tr style=\"text-align: right;\">\n",
       "      <th></th>\n",
       "      <th>Name only</th>\n",
       "      <th>Ref count</th>\n",
       "      <th>citation IPCC</th>\n",
       "      <th>percentage of official sources</th>\n",
       "      <th>IPCC count</th>\n",
       "      <th>journal</th>\n",
       "      <th>citationguardian</th>\n",
       "    </tr>\n",
       "  </thead>\n",
       "  <tbody>\n",
       "    <tr>\n",
       "      <th>0</th>\n",
       "      <td>Effects of climate change</td>\n",
       "      <td>252</td>\n",
       "      <td>95</td>\n",
       "      <td>0.817460</td>\n",
       "      <td>0.376984</td>\n",
       "      <td>[[nature climate change ], [science advances ]...</td>\n",
       "      <td>10</td>\n",
       "    </tr>\n",
       "    <tr>\n",
       "      <th>1</th>\n",
       "      <td>Climate change</td>\n",
       "      <td>608</td>\n",
       "      <td>156</td>\n",
       "      <td>0.516447</td>\n",
       "      <td>0.256579</td>\n",
       "      <td>[[nature geoscience], [nature ecology ], [jour...</td>\n",
       "      <td>15</td>\n",
       "    </tr>\n",
       "    <tr>\n",
       "      <th>2</th>\n",
       "      <td>Effects of climate change on terrestrial animals</td>\n",
       "      <td>67</td>\n",
       "      <td>1</td>\n",
       "      <td>0.791045</td>\n",
       "      <td>0.014925</td>\n",
       "      <td>[[biology letters ], [the journal of wildlife ...</td>\n",
       "      <td>0</td>\n",
       "    </tr>\n",
       "    <tr>\n",
       "      <th>3</th>\n",
       "      <td>History of climate change science</td>\n",
       "      <td>91</td>\n",
       "      <td>1</td>\n",
       "      <td>0.527473</td>\n",
       "      <td>0.010989</td>\n",
       "      <td>[[ journal of the atmospheric sciences ], [pub...</td>\n",
       "      <td>2</td>\n",
       "    </tr>\n",
       "    <tr>\n",
       "      <th>4</th>\n",
       "      <td>Climate change in Australia</td>\n",
       "      <td>179</td>\n",
       "      <td>3</td>\n",
       "      <td>0.396648</td>\n",
       "      <td>0.016760</td>\n",
       "      <td>[[palgrave communications], [heliyon], [americ...</td>\n",
       "      <td>9</td>\n",
       "    </tr>\n",
       "    <tr>\n",
       "      <th>...</th>\n",
       "      <td>...</td>\n",
       "      <td>...</td>\n",
       "      <td>...</td>\n",
       "      <td>...</td>\n",
       "      <td>...</td>\n",
       "      <td>...</td>\n",
       "      <td>...</td>\n",
       "    </tr>\n",
       "    <tr>\n",
       "      <th>702</th>\n",
       "      <td>North Indian Ocean tropical cyclone</td>\n",
       "      <td>39</td>\n",
       "      <td>0</td>\n",
       "      <td>0.538462</td>\n",
       "      <td>0.000000</td>\n",
       "      <td>[[journal of geophysical research]]</td>\n",
       "      <td>1</td>\n",
       "    </tr>\n",
       "    <tr>\n",
       "      <th>703</th>\n",
       "      <td>Steller's eider</td>\n",
       "      <td>34</td>\n",
       "      <td>0</td>\n",
       "      <td>0.911765</td>\n",
       "      <td>0.000000</td>\n",
       "      <td>[[the condor], [virology journal], [environmen...</td>\n",
       "      <td>0</td>\n",
       "    </tr>\n",
       "    <tr>\n",
       "      <th>704</th>\n",
       "      <td>Agulhas Leakage</td>\n",
       "      <td>21</td>\n",
       "      <td>0</td>\n",
       "      <td>0.952381</td>\n",
       "      <td>0.000000</td>\n",
       "      <td>[[geophysical research letters ], [journal of ...</td>\n",
       "      <td>0</td>\n",
       "    </tr>\n",
       "    <tr>\n",
       "      <th>705</th>\n",
       "      <td>Energy in Finland</td>\n",
       "      <td>66</td>\n",
       "      <td>1</td>\n",
       "      <td>0.257576</td>\n",
       "      <td>0.015152</td>\n",
       "      <td>[]</td>\n",
       "      <td>0</td>\n",
       "    </tr>\n",
       "    <tr>\n",
       "      <th>706</th>\n",
       "      <td>Ectomycorrhiza</td>\n",
       "      <td>122</td>\n",
       "      <td>0</td>\n",
       "      <td>0.918033</td>\n",
       "      <td>0.000000</td>\n",
       "      <td>[[nature ], [annals of forest science ], [new ...</td>\n",
       "      <td>0</td>\n",
       "    </tr>\n",
       "  </tbody>\n",
       "</table>\n",
       "<p>707 rows × 7 columns</p>\n",
       "</div>"
      ],
      "text/plain": [
       "                                            Name only  Ref count  \\\n",
       "0                           Effects of climate change        252   \n",
       "1                                      Climate change        608   \n",
       "2    Effects of climate change on terrestrial animals         67   \n",
       "3                   History of climate change science         91   \n",
       "4                         Climate change in Australia        179   \n",
       "..                                                ...        ...   \n",
       "702               North Indian Ocean tropical cyclone         39   \n",
       "703                                   Steller's eider         34   \n",
       "704                                   Agulhas Leakage         21   \n",
       "705                                 Energy in Finland         66   \n",
       "706                                    Ectomycorrhiza        122   \n",
       "\n",
       "     citation IPCC  percentage of official sources  IPCC count  \\\n",
       "0               95                        0.817460    0.376984   \n",
       "1              156                        0.516447    0.256579   \n",
       "2                1                        0.791045    0.014925   \n",
       "3                1                        0.527473    0.010989   \n",
       "4                3                        0.396648    0.016760   \n",
       "..             ...                             ...         ...   \n",
       "702              0                        0.538462    0.000000   \n",
       "703              0                        0.911765    0.000000   \n",
       "704              0                        0.952381    0.000000   \n",
       "705              1                        0.257576    0.015152   \n",
       "706              0                        0.918033    0.000000   \n",
       "\n",
       "                                               journal  citationguardian  \n",
       "0    [[nature climate change ], [science advances ]...                10  \n",
       "1    [[nature geoscience], [nature ecology ], [jour...                15  \n",
       "2    [[biology letters ], [the journal of wildlife ...                 0  \n",
       "3    [[ journal of the atmospheric sciences ], [pub...                 2  \n",
       "4    [[palgrave communications], [heliyon], [americ...                 9  \n",
       "..                                                 ...               ...  \n",
       "702                [[journal of geophysical research]]                 1  \n",
       "703  [[the condor], [virology journal], [environmen...                 0  \n",
       "704  [[geophysical research letters ], [journal of ...                 0  \n",
       "705                                                 []                 0  \n",
       "706  [[nature ], [annals of forest science ], [new ...                 0  \n",
       "\n",
       "[707 rows x 7 columns]"
      ]
     },
     "execution_count": 252,
     "metadata": {},
     "output_type": "execute_result"
    }
   ],
   "source": [
    "df.loc[:,[\"Name only\",\"Ref count\",\"citation IPCC\",\"percentage of official sources\",\"IPCC count\",\"journal\",\"citationguardian\"]]\n"
   ]
  },
  {
   "cell_type": "markdown",
   "id": "6949a75e",
   "metadata": {},
   "source": [
    "## Creation of Dataframes containing the name of the most cited pages"
   ]
  },
  {
   "cell_type": "code",
   "execution_count": 294,
   "id": "a7d5bc8e",
   "metadata": {},
   "outputs": [],
   "source": [
    "def creadicorg(name_cit : str ,dicorg : dict,num):\n",
    "    '''\n",
    "    and the citation name_cit to the dictionnary dicorg\n",
    "    \n",
    "    param name_cit: the name of the citation in the form of a string\n",
    "    param dicorg: a dictionnary containing the name and number of citation already found is updated thanks to this funciton\n",
    "    return dicorg\n",
    "    '''\n",
    "    name_cit=name_cit.replace('www.','')\n",
    "    name_cit=re.sub('^(\\[| )*', '', name_cit)\n",
    "    name_cit=re.sub(' *$', '', name_cit)\n",
    "    if \"proceedings of the national academy of science\" in name_cit or \"pnas\" in name_cit:\n",
    "        name_cit=\"PNAS\"\n",
    "    if \"google\" in name_cit:\n",
    "        name_cit=\"books.google.com\"\n",
    "    if name_cit in dicorg:\n",
    "        dicorg[name_cit]+=1\n",
    "    else:\n",
    "        dicorg[name_cit]=1\n",
    "    num+=1\n",
    "    return dicorg,num"
   ]
  },
  {
   "cell_type": "code",
   "execution_count": 341,
   "id": "d44476df",
   "metadata": {},
   "outputs": [],
   "source": [
    "def sortcitation(d,type_of_cit : str):\n",
    "    '''\n",
    "    param d: a column of a dataframe containing the text of the citation\n",
    "    \n",
    "    return dico: a dictionnary  the name of the site of interest and the numbers of time it is found in d. \n",
    "    return dforg : a dataframe containing the name of the site of interest and the numbers of time it's found in descending order. \n",
    "    '''\n",
    "    \n",
    "    dicorg={}\n",
    "    num=0\n",
    "    for liste_cit in d:\n",
    "        #if the list is empty there is no need to extract\n",
    "        \n",
    "        if type(liste_cit)==str:\n",
    "            dicorg,num=creadicorg(liste_cit,dicorg,num)\n",
    "\n",
    "        if type(liste_cit)==list:\n",
    "            \n",
    "            for i in liste_cit:\n",
    "                if type(i)==str:\n",
    "                    dicorg,num=creadicorg(i,dicorg,num)\n",
    "                else:\n",
    "                    for j in i:\n",
    "                        if type(j)==str:\n",
    "                            \n",
    "                            dicorg,num=creadicorg(j,dicorg,num)\n",
    "                        else:\n",
    "                            for r in j:\n",
    "                                if type(r)==str:\n",
    "\n",
    "                                    dicorg,num=creadicorg(r,dicorg,num)\n",
    "                                else:\n",
    "                                    for t in r:\n",
    "                                        if type(t)==str:\n",
    "                                            dicorg,num=creadicorg(t,dicorg,num)\n",
    "                                        else :\n",
    "                                            print(\"test\",liste_cit)\n",
    "                            #dicorg=creadicorg(name_cit,dicorg)\n",
    "\n",
    "    dico=dicorg\n",
    "    #with all dictionary keys with values.\n",
    "    dforg=pd.DataFrame(list(dicorg.items()),columns=['name of site','number of times cited'])\n",
    "    dforg[\"type\"]= type_of_cit\n",
    "    dforg.sort_values(by=['number of times cited'], inplace=True, ascending=False)\n",
    "    print(num)\n",
    "    return dforg,dico\n",
    "    "
   ]
  },
  {
   "cell_type": "code",
   "execution_count": 330,
   "id": "5cd6d652",
   "metadata": {},
   "outputs": [],
   "source": [
    "def plot_site_most_cited(d,top : int, title : str):\n",
    "    '''\n",
    "    plot the most cited sites\n",
    "    \n",
    "    param d: a column of a dataframe containing the text of the type of citation for example .org or only scientific journal\n",
    "    param minimum: the minimum number of times an site is cited to appear in our plot\n",
    "    '''\n",
    "    #sns.set_palette(sns.color_palette(\"Set2\"))\n",
    "    d=d[0:top]\n",
    "    palette ={\"org\" : \"#8da0cb\",\n",
    "             \"com\" : \"#fc8d62\" ,\n",
    "             \"IPCC\" : \"#a6d854\",\n",
    "             \"gov\" : \"#e78ac3\",\n",
    "             \"journal\" : \"#66c2a5\"}\n",
    "    ax=sns.barplot(x=\"number of times cited\", y=\"name of site\", hue=\"type\", palette=palette, data=d,dodge=False,orient = 'h')\n",
    "    #, hue=\"type\"\n",
    "    sns.despine(left=True, bottom=True)\n",
    "    sns.move_legend(ax,\"lower right\")\n",
    "    for i in ax.containers:\n",
    "        ax.bar_label(i,)\n",
    "    #sns.set(font_scale=3)\n",
    "    sns.set_context(\"poster\")\n",
    "    plt.legend(loc = 2, bbox_to_anchor = (1,0.5))\n",
    "    ax.set( xlabel='Number of references',ylabel='',title=title) \n",
    "    sfig = ax.get_figure()\n",
    "    sfig.savefig('most cited journal.png')\n",
    "    #plt.savefig('most cited journal.png')"
   ]
  },
  {
   "cell_type": "code",
   "execution_count": 331,
   "id": "d0bc33c2",
   "metadata": {
    "scrolled": false
   },
   "outputs": [],
   "source": [
    "#dftot,dico=sortcitation(df.loc[:,\"citationtext_total\"],df)\n",
    "#plot_site_most_cited(dftot,0)"
   ]
  },
  {
   "cell_type": "code",
   "execution_count": 332,
   "id": "9201c422",
   "metadata": {},
   "outputs": [
    {
     "name": "stdout",
     "output_type": "stream",
     "text": [
      "8792\n"
     ]
    },
    {
     "data": {
      "image/png": "[encoded data removed]",
      "text/plain": [
       "<Figure size 432x288 with 1 Axes>"
      ]
     },
     "metadata": {
      "needs_background": "light"
     },
     "output_type": "display_data"
    }
   ],
   "source": [
    "#An example of the plot for .org citation\n",
    "dorg,dico=sortcitation(df.loc[:,\"citationorgtext\"],\"org\")    \n",
    "plot_site_most_cited(dorg,10,\".org site the most cited\")"
   ]
  },
  {
   "cell_type": "code",
   "execution_count": 333,
   "id": "26e5755f",
   "metadata": {},
   "outputs": [
    {
     "name": "stdout",
     "output_type": "stream",
     "text": [
      "5497\n"
     ]
    },
    {
     "data": {
      "image/png": "[encoded data removed]",
      "text/plain": [
       "<Figure size 432x288 with 1 Axes>"
      ]
     },
     "metadata": {
      "needs_background": "light"
     },
     "output_type": "display_data"
    }
   ],
   "source": [
    "dfgov,j=sortcitation(df.loc[:,\"citationgovtext\"],\"gov\")\n",
    "plot_site_most_cited(dfgov,10,\".gov site the most cited\")"
   ]
  },
  {
   "cell_type": "code",
   "execution_count": 334,
   "id": "4c048176",
   "metadata": {},
   "outputs": [
    {
     "name": "stdout",
     "output_type": "stream",
     "text": [
      "test [['nature climate change '], ['science advances '], ['nature climate change '], ['climatic change '], ['the cryosphere'], ['environmental research letters '], ['energy and climate change'], ['environmental research letters', (' sea ice thickness', ' thickness', 'thickness', 'v')], ['climatic change'], ['environment and urbanization '], ['current climate change reports '], ['proceedings of the national academy of sciences'], ['nature communications'], ['[[science '], ['journal of hydrology '], ['proceedings of the national academy of sciences of the united states of america '], ['journal of hydrology '], ['american journal of public health '], ['springer international publishing'], ['nature'], ['climatic change ', 'kluwer academic publishers '], ['global change biology '], ['disaster prevention and management '], ['pnas '], ['climate research'], ['geophysical research letters'], ['science '], ['international journal of environmental research and public health '], ['nature climate change '], ['bioscience'], ['regional environmental change'], ['proceedings of the national academy of sciences '], ['current climate change reports '], ['[[geoforum', '[[elsevier'], ['annual review of political science '], ['international journal of climatology'], ['journal of agricultural and environmental ethics '], ['proceedings of the national academy of sciences'], ['nature '], ['world development '], ['climatic change '], ['lancet '], ['nature communications '], ['global environmental change'], ['international journal of global environmental issues '], ['nature climate change '], ['nature climate change'], ['frontiers in built environment '], ['global and planetary change'], ['science'], ['earth'], ['nature geoscience'], ['global environmental change '], ['proceedings of the national academy of sciences'], ['current opinion in environmental sustainability '], ['science']]\n",
      "test [['nature geoscience'], ['nature ecology '], ['journal of climate'], ['bulletin of science'], ['proceedings of the national academy of sciences of the united states of america'], ['proceedings of the national academy of sciences'], ['science '], ['environmental research letters'], ['the lancet'], ['journal of historical geography'], ['curr environ health rep '], ['progress in physical geography'], ['proceedings of the national academy of sciences'], ['quarterly journal of the royal meteorological society'], ['geophysical research letters '], ['philosophical transactions of the royal society a'], [' climatic change'], ['nature'], ['nature'], ['climate policy'], ['the national academies press'], ['proceedings of the national academy of sciences'], ['environmental research letters'], ['[[geophysical research letters'], ['geophysical research letters'], ['nature geoscience'], ['science '], ['proceedings of the national academy of sciences'], ['eos'], ['nature'], ['science'], ['environmental research letters'], ['reviews of geophysics'], ['plos one'], ['annual review of chemical and biomolecular engineering'], ['science'], ['nature geoscience'], ['science'], ['environmental research letters'], ['media and communication'], ['nature'], ['nature climate change'], ['science'], ['springer international publishing'], ['[[bulletin of the american meteorological society'], ['journal of cleaner production'], ['environmental research letters'], ['proceedings of the national academy of sciences'], ['bulletin of the american meteorological society'], ['regional environmental change'], ['earth system science data '], ['the lancet'], ['environmental research letters'], ['nature climate change'], ['lancet'], ['the lancet'], ['earth system science data'], ['science advances '], ['geophysical research letters'], ['nature'], ['nature climate change'], ['environmental research letters'], ['philosophical transactions of the royal society b'], ['springer international publishing'], ['nature climate change'], ['j. atmos. sci.'], ['joule'], ['geophysical research letters'], ['nature climate change'], ['atmospheric chemistry and physics'], ['journal of occupational and environmental medicine'], ['nature climate change'], [' risk analysis'], ['new england journal of medicine'], ['journal of climate'], ['science'], ['journal of geophysical research'], ['bioscience'], ['nature'], ['environmental research letters'], ['fao '], ['geophysical research letters'], ['geophysical research letters'], ['nature geoscience '], ['climatic change'], ['springer international publishing'], ['review of environmental economics and policy'], ['reviews of geophysics'], ['nature'], ['journal of climate '], ['environmental research letters '], ['current opinion in environmental sustainability'], ['nature communications'], ['world bank'], ['[[journal of geophysical research'], ['annual review of marine science'], ['proceedings of the national academy of sciences'], ['nature communications'], ['ambio '], ['journal of environmental and public health'], ['science'], ['energy '], ['nature geoscience'], ['global change biology'], ['nature climate change'], ['nature'], ['journal of cleaner production '], ['nature climate change'], ['nature geoscience'], ['environmental research letters'], ['nature'], ['[[nature geoscience'], ['proceedings of the national academy of sciences'], ['u.s. global change research program', (' fourth national climate assessment', ' assessment', 'assessment', 'v')]]\n",
      "test [[' science '], [' nature '], ['annual review of ecology'], ['pnas '], [' proceedings of the national academy of sciences of the united states of america '], [' nature '], ['journal of experimental marine biology and ecology '], ['publications office '], ['global ecology and biogeography '], [(' international journal of forestry research', ' research', 'research', 'v')], [' nature '], ['bioscience '], [' scientific reports '], ['journal of biogeography '], ['nature '], [' nature ']]\n",
      "test [['forest ecology and management'], ['plos one'], ['proceedings of the national academy of sciences'], ['forest ecology and management'], ['nature'], ['the lancet planetary health '], ['nature sustainability '], ['nature communications'], ['journal of degraded and mining lands management'], ['frontiers in forests and global change '], ['agriculture'], ['hydrology and earth system sciences '], ['proceedings of the national academy of sciences'], ['global change biology '], ['global journal of agricultural sciences'], ['environmental research letters'], ['journal of rural studies'], ['science'], ['land '], [(' land use policy', ' policy', 'policy', 'v')], [(' science', ' science', 'science', 'v')], ['nature climate change '], ['biodiversity and conservation'], ['nature communications '], ['agriculture'], ['asean economic bulletin'], ['global environmental change'], ['environmental science '], ['science'], ['forest ecology and management'], ['asian-pacific economic literature'], ['atmosphere'], ['perspectives in plant ecology'], ['current opinion in environmental sustainability'], ['forests'], ['science advances '], ['environment'], ['ambio'], ['united nations']]\n",
      "test [['forest ecology and management'], ['plos one'], ['proceedings of the national academy of sciences'], ['forest ecology and management'], ['nature'], ['the lancet planetary health '], ['nature sustainability '], ['nature communications'], ['journal of degraded and mining lands management'], ['frontiers in forests and global change '], ['agriculture'], ['hydrology and earth system sciences '], ['proceedings of the national academy of sciences'], ['global change biology '], ['global journal of agricultural sciences'], ['environmental research letters'], ['journal of rural studies'], ['science'], ['land '], [(' land use policy', ' policy', 'policy', 'v')], [(' science', ' science', 'science', 'v')], ['nature climate change '], ['biodiversity and conservation'], ['nature communications '], ['agriculture'], ['asean economic bulletin'], ['global environmental change'], ['environmental science '], ['science'], ['forest ecology and management'], ['asian-pacific economic literature'], ['atmosphere'], ['perspectives in plant ecology'], ['current opinion in environmental sustainability'], ['forests'], ['science advances '], ['environment'], ['ambio'], ['united nations']]\n",
      "test [['regional environmental change'], ['geoforum'], ['proceedings of the national academy of sciences'], ['plos one'], ['climatic change'], ['conservation biology'], ['environment'], ['u.s. global change research program', (' fourth national climate assessment', ' assessment', 'assessment', 'v')], ['third world quarterly'], ['palgrave macmillan uk'], ['marine policy']]\n",
      "test [['environmental science '], ['u.s. global change research program', (' fourth national climate assessment', ' assessment', 'assessment', 'v')]]\n",
      "test [[' journal of medical entomology'], ['u.s. global change research program', (' fourth national climate assessment', ' assessment', 'assessment', 'v')], [' international journal of environmental research and public health'], [' journal of urban health'], [' annals of neurology'], ['philosophical transactions of the royal society b']]\n",
      "test [['journal of computational physics'], ['journal of hydrology'], ['energy policy'], ['the journal of environmental education'], ['renewable energy'], ['annals of the association of american geographers'], ['environmental research letters'], ['climatic change'], ['climatic change'], ['geophysical research letters'], ['energy research '], ['environmental research letters'], ['environmental research letters'], ['earth'], [(' the fourth national climate assessment', ' assessment', 'assessment', 'v')], ['energy policy']]\n",
      "test [['climatic change'], ['u.s. global change research program', (' fourth national climate assessment', ' assessment', 'assessment', 'v')], ['palaeogeography', 'elsevier '], ['journal of climate'], ['prehospital and disaster medicine'], ['proceedings of the national academy of sciences'], ['geophysical research letters'], ['climatic change'], ['proceedings of the national academy of sciences']]\n",
      "test [['nature '], [' weather'], ['[[geophysical research letters'], [' [[science '], ['pnas', 'proceedings of the national academy of sciences'], ['earth and planetary science letters '], [' [[nature '], ['biology letters '], ['nature geoscience', 'nature'], [' nature geoscience'], ['[[science '], [' earth and planetary science letters'], [' geology '], [' [[proceedings of the national academy of sciences'], [' [[science '], ['quaternary science reviews '], [' theoretical and applied climatology'], ['journal of geology '], ['proceedings of the royal society b '], [' nature '], [' national academy press'], ['futures '], ['geology '], [' [[nature '], ['climatic change '], ['nature'], ['[[nature '], [' nature '], [' science'], ['geophysical research letters '], ['earth and planetary science letters ', (' between climate', ' climate', 'climate', 'v')], [' [[science '], [' trends in ecology '], ['quaternary science reviews '], ['science '], ['atmospheric chemistry and physics discussions'], ['proceedings of the national academy of sciences'], [' [[science ']]\n",
      "test [['bioscience'], [' bioscience '], ['global and planetary change'], [' natural hazards '], [(' ecological applications', ' applications', 'applications', 'v')], ['can. j. civ. eng.'], [' environmental entomology '], ['journal of experimental biology'], [' bioscience '], [' ecological applications '], ['journal of biogeography'], ['ecology letters'], ['nature'], ['canadian journal of forest research'], [' climatic change '], [' biological invasions'], ['international journal of biometeorology'], ['annu. rev. ecol. syst.'], [' trends in ecology '], [' [[annual review of plant physiology and plant molecular biology'], [' wetlands '], ['diseases of aquatic organisms'], ['ecological research'], [' [[annual review of environment and resources'], ['ecology letters']]\n",
      "test [['u.s. global change research program', (' fourth national climate assessment', ' assessment', 'assessment', 'v')], ['coastal management '], ['energy policy ']]\n",
      "test [['u.s. global change research program', (' fourth national climate assessment', ' assessment', 'assessment', 'v')]]\n",
      "test [['u.s. global change research program', (' fourth national climate assessment', ' assessment', 'assessment', 'v')], ['environmental research letters']]\n",
      "test [['u.s. global change research program', (' fourth national climate assessment', ' assessment', 'assessment', 'v')]]\n",
      "test [['canadian water resources journal '], ['u.s. global change research program', (' fourth national climate assessment', ' assessment', 'assessment', 'v')]]\n",
      "test [['natural hazards and earth system sciences'], ['u.s. global change research program', (' fourth national climate assessment', ' assessment', 'assessment', 'v')]]\n",
      "test [['u.s. global change research program', (' fourth national climate assessment', ' assessment', 'assessment', 'v')]]\n",
      "test [['u.s. global change research program', (' fourth national climate assessment', ' assessment', 'assessment', 'v')]]\n",
      "test [['u.s. global change research program', (' fourth national climate assessment', ' assessment', 'assessment', 'v')]]\n",
      "test [['u.s. global change research program', (' fourth national climate assessment', ' assessment', 'assessment', 'v')]]\n",
      "test [['u.s. global change research program', (' fourth national climate assessment', ' assessment', 'assessment', 'v')]]\n",
      "test [['u.s. global change research program', (' fourth national climate assessment', ' assessment', 'assessment', 'v')]]\n",
      "test [['u.s. global change research program', (' fourth national climate assessment', ' assessment', 'assessment', 'v')]]\n",
      "test [['u.s. global change research program', (' fourth national climate assessment', ' assessment', 'assessment', 'v')]]\n",
      "test [['u.s. global change research program', (' fourth national climate assessment', ' assessment', 'assessment', 'v')]]\n",
      "test [['u.s. global change research program', (' fourth national climate assessment', ' assessment', 'assessment', 'v')]]\n",
      "test [[(' fourth national climate assessment', ' assessment', 'assessment', 'v')]]\n",
      "test [['u.s. global change research program', (' fourth national climate assessment', ' assessment', 'assessment', 'v')]]\n",
      "test [['u.s. global change research program', (' fourth national climate assessment', ' assessment', 'assessment', 'v')]]\n",
      "test [['u.s. global change research program', (' fourth national climate assessment', ' assessment', 'assessment', 'v')]]\n",
      "test [['u.s. global change research program', (' fourth national climate assessment', ' assessment', 'assessment', 'v')]]\n",
      "test [['u.s. global change research program', (' fourth national climate assessment', ' assessment', 'assessment', 'v')]]\n",
      "test [['u.s. global change research program', (' fourth national climate assessment', ' assessment', 'assessment', 'v')]]\n",
      "test [['u.s. global change research program', (' fourth national climate assessment', ' assessment', 'assessment', 'v')]]\n",
      "test [['u.s. global change research program', (' fourth national climate assessment', ' assessment', 'assessment', 'v')]]\n",
      "test [['u.s. global change research program', (' fourth national climate assessment', ' assessment', 'assessment', 'v')]]\n",
      "test [['u.s. global change research program', (' fourth national climate assessment', ' assessment', 'assessment', 'v')]]\n",
      "test [['u.s. global change research program', (' fourth national climate assessment', ' assessment', 'assessment', 'v')]]\n",
      "test [['u.s. global change research program', (' fourth national climate assessment', ' assessment', 'assessment', 'v')]]\n",
      "test [['u.s. global change research program', (' fourth national climate assessment', ' assessment', 'assessment', 'v')]]\n",
      "test [[(' fourth national climate assessment', ' assessment', 'assessment', 'v')]]\n",
      "test [['u.s. global change research program', (' fourth national climate assessment', ' assessment', 'assessment', 'v')]]\n",
      "test [['u.s. global change research program', (' fourth national climate assessment', ' assessment', 'assessment', 'v')]]\n",
      "test [[(' fourth national climate assessment', ' assessment', 'assessment', 'v')]]\n",
      "test [['u.s. global change research program', (' fourth national climate assessment', ' assessment', 'assessment', 'v')]]\n",
      "test [['u.s. global change research program', (' fourth national climate assessment', ' assessment', 'assessment', 'v')]]\n",
      "test [['u.s. global change research program', (' fourth national climate assessment', ' assessment', 'assessment', 'v')]]\n",
      "test [['u.s. global change research program', (' fourth national climate assessment', ' assessment', 'assessment', 'v')]]\n",
      "test [['u.s. global change research program', (' fourth national climate assessment', ' assessment', 'assessment', 'v')]]\n",
      "test [['u.s. global change research program', (' fourth national climate assessment', ' assessment', 'assessment', 'v')]]\n",
      "test [['u.s. global change research program', (' fourth national climate assessment', ' assessment', 'assessment', 'v')]]\n",
      "test [['u.s. global change research program', (' fourth national climate assessment', ' assessment', 'assessment', 'v')]]\n",
      "test [['arctic '], ['global ecology and conservation '], ['environmental reviews '], ['fish and fisheries '], [(' ecology letters', ' letters', 'letters', 'v')], ['journal of applied ecology '], ['royal society open science '], [(' journal of environmental management', ' management', 'management', 'v')]]\n",
      "test [['arctic '], ['global ecology and conservation '], ['environmental reviews '], ['fish and fisheries '], [(' ecology letters', ' letters', 'letters', 'v')], ['journal of applied ecology '], ['royal society open science '], [(' journal of environmental management', ' management', 'management', 'v')]]\n",
      "test [['oxford research encyclopedia of natural hazard science'], [' climatic change '], [(' the fourth national climate assessment', ' assessment', 'assessment', 'v')], ['global environmental change '], [' environment and urbanization '], ['american society of civil engineers '], ['ecology and society '], ['ecological indicators'], ['wiley interdisciplinary reviews'], [' ambio '], ['science '], ['[[annual review of environment and resources'], [' global environmental change '], ['environmental science '], ['[[annual review of anthropology'], ['[[annual review of ecology and systematics']]\n",
      "test [['science '], [' nature '], [(' january 2013', ' 2013', '2013', 'v')], ['nature '], [' nature'], ['science'], ['nature news ', 'nature publishing group '], ['global biogeochemical cycles'], ['the american biology teacher ']]\n",
      "test [['energy '], ['gsa bulletin'], ['nature climate change '], ['energy'], ['earth'], ['resources'], ['geophysical research letters '], [' economic geology '], ['water'], ['u.s. geological survey bulletin '], ['proceedings of the national academy of sciences'], ['world development'], ['energy strategy reviews'], ['britannia'], ['environmental science '], ['geology '], [' geological society of america bulletin '], [(' 29 jun 2012', ' 2012', '2012', 'v')], ['journal of environmental economics and management'], [' science '], ['[[nature '], ['nature'], ['proceedings of the royal society of london b'], ['[[the economic journal'], ['organic geochemistry '], ['proceedings of the national academy of sciences'], ['fuel processing technology '], ['annual review of public health'], ['fuel '], ['energy policy'], ['atmospheric environment'], [' geobiology ']]\n",
      "test [['u.s. department of the interior '], ['bioscience'], ['u.s. department of the interior'], ['geochemistry', '[[pacific marine environmental laboratory', (' letter', ' letter', 'letter', 'v')]]\n",
      "test [['election law journal'], ['language variation and change'], ['emerging infectious diseases '], ['journal of the american medical association '], ['u.s. global change research program', (' fourth national climate assessment', ' assessment', 'assessment', 'v')]]\n",
      "test [[(' forschungsjournal soziale bewegungen', ' bewegungen', 'bewegungen', 'v')], ['american journal of community psychology'], ['plos currents'], ['international journal of disaster risk reduction'], ['sustainable and resilient infrastructure'], ['ecological indicators']]\n",
      "test [[' australian systematic botany ', ' csiro publishing '], [' australian journal of botany '], [' global change biology '], [' australian systematic botany '], [' [[american journal of botany'], [' heredity '], [' conservation biology '], ['new zealand journal of botany'], [' australian journal of botany '], [' conservation genetics '], [' heredity '], [' botanical gazette '], [' australian journal of botany '], [' journal of applied ecology ', ' journal of applied ecology', (' journal of applied ecology', ' ecology', 'ecology', 'v')], [' [[australian systematic botany'], [' australian systematic botany ']]\n",
      "test [['advances in agronomy'], ['biology and fertility of soils'], [' annual review of plant biology '], ['soil science society of america journal '], ['[[journal of trace elements in medicine and biology'], ['j sci food agric '], ['biogeosciences'], ['nutrition and health'], ['journal of cereal science'], ['eutrophication'], ['nature '], ['ambio'], ['nature'], ['scientific reports'], ['agron. sustain. dev.'], ['advances in agronomy'], ['[[nature geoscience'], ['new zealand journal of agricultural research'], ['journal of the american college of nutrition'], ['j geol soc aust ', (' phosphate', ' phosphate', 'phosphate', 'v')], ['global food security'], ['water research '], ['agronomy journal'], ['reviews of environmental contamination and toxicology'], ['health physics '], [' new phytologist '], ['soil research'], [' biology and fertility of soils'], ['nature'], ['science '], ['nutrient cycling in agroecosystems.'], ['journal of environmental management'], ['journal of contaminant hydrology '], ['plos one'], ['global change biology'], ['global environmental change'], ['toxins '], ['fao'], ['science of the total environment '], ['environ. health perspect. '], ['agricultural history'], ['intechopen'], ['wiley-vch'], ['advances in agronomy'], ['critical reviews in plant sciences'], [' critical reviews in plant sciences ']]\n",
      "test [['science '], [(' january 2014', ' 2014', '2014', 'v')], ['environmental health perspectives '], ['chemical engineering journal ']]\n",
      "test [['evolutionary ecology'], ['ecology'], ['ecology'], ['copeia'], ['copeia'], ['journal of herpetology'], ['evolution'], ['journal of herpetology'], ['journal of herpetology'], ['soil science society of america journal'], ['conservation biology'], [(' ecology and evolution', ' evolution', 'evolution', 'v')]]\n",
      "test [[' applied and environmental microbiology '], ['polymer degradation and stability '], [' international journal of molecular sciences '], [' applied and environmental microbiology '], ['[[environmental science '], [' philosophical transactions of the royal society of london. series b'], [' environmental science '], ['ullmann'], ['physical sciences reviews '], [' philosophical transactions of the royal society of london. series b'], [' environmental health perspectives '], ['plastics'], ['agricultural and biological chemistry '], [' science advances '], [' journal of applied microbiology '], [' environmental science ', (' miller pd', ' pd', 'pd', 'v')], [' trends in biotechnology '], ['nature '], [' philosophical transactions of the royal society of london. series b'], [' environmental science '], [' philosophical transactions of the royal society of london. series b'], [' environmental health perspectives '], ['reviews of modern physics '], [' annual review of public health '], [' environmental health perspectives '], [' applied and environmental microbiology '], [' embo reports '], ['biodegradation '], ['nature '], [' journal of hazardous materials '], ['nature sustainability']]\n"
     ]
    },
    {
     "name": "stdout",
     "output_type": "stream",
     "text": [
      "test [['nóesis. revista de ciencias sociales y humanidades '], ['journal of economic literature '], ['routledge '], ['energy policy'], ['energy policy '], ['energy policy '], ['wiley interdisciplinary reviews'], ['journal of cleaner production '], ['world development '], ['atmospheric environment '], ['energy research '], ['energy policy '], ['international journal of environmental research and public health '], ['energy economics '], ['energy and buildings '], [(' social science', ' science', 'science', 'v')], ['oxford university press '], ['energy reports'], ['renewable and sustainable energy reviews '], ['renewable and sustainable energy reviews '], ['social '], ['energy ']]\n",
      "test [['speculum'], ['proceedings of the national academy of sciences of the united states of america'], ['the medieval history journal '], ['economic history review '], ['the economic history review'], ['historische zeitschrift '], ['nature'], ['french history '], ['historische zeitschrift ', (' economic history of europe', ' europe', 'europe', 'v')], ['the history teacher  '], ['american journal of physical anthropology']]\n",
      "11320\n"
     ]
    },
    {
     "data": {
      "image/png": "[encoded data removed]",
      "text/plain": [
       "<Figure size 432x288 with 1 Axes>"
      ]
     },
     "metadata": {
      "needs_background": "light"
     },
     "output_type": "display_data"
    }
   ],
   "source": [
    "dfsci,j=sortcitation(df.loc[:,\"journal\"],\"journal\")\n",
    "plot_site_most_cited(dfsci,10, \"journal the most cited\")"
   ]
  },
  {
   "cell_type": "code",
   "execution_count": 335,
   "id": "68480e60",
   "metadata": {
    "scrolled": false
   },
   "outputs": [
    {
     "name": "stdout",
     "output_type": "stream",
     "text": [
      "16959\n"
     ]
    },
    {
     "data": {
      "image/png": "[encoded data removed]",
      "text/plain": [
       "<Figure size 432x288 with 1 Axes>"
      ]
     },
     "metadata": {
      "needs_background": "light"
     },
     "output_type": "display_data"
    }
   ],
   "source": [
    "dcom,bl=sortcitation(df.loc[:,\"citationcomtext\"],\"com\")\n",
    "plot_site_most_cited(dcom,10, \".com the most cited\")"
   ]
  },
  {
   "cell_type": "code",
   "execution_count": 336,
   "id": "08785528",
   "metadata": {},
   "outputs": [
    {
     "data": {
      "image/png": "[encoded data removed]",
      "text/plain": [
       "<Figure size 432x288 with 1 Axes>"
      ]
     },
     "metadata": {
      "needs_background": "light"
     },
     "output_type": "display_data"
    }
   ],
   "source": [
    "dIg={\"name of site\": [\"IPCC\",\"theguardian.com\"], \"number of times cited\":[df.loc[:,\"citation IPCC\"].sum(), df.loc[:,\"citationguardian\"].sum()], \"type\": [\"IPCC\",\"com\"]}\n",
    "dIg = pd.DataFrame.from_dict(dIg)\n",
    "big_df = pd.concat([dorg, dfgov,dcom,dfsci,dIg], ignore_index=True)\n",
    "big_df.sort_values(by=['number of times cited'], inplace=True, ascending=False)\n",
    "plot_site_most_cited(big_df,10,\"Top 10 references of Effects of climate change\")"
   ]
  },
  {
   "cell_type": "markdown",
   "id": "aa0e7585",
   "metadata": {},
   "source": [
    "## Cleaning the column and exporting the data frame and scrap of page information"
   ]
  },
  {
   "cell_type": "code",
   "execution_count": 337,
   "id": "6487f8ec",
   "metadata": {
    "id": "6487f8ec"
   },
   "outputs": [],
   "source": [
    "titlelist=df[\"Name only\"].tolist() #make a list will all titles\n",
    "#We need to recreate the wiki url, first step is to get rid of blanks\n",
    "titleunderscore = [sub.replace(' ', '_') for sub in titlelist]"
   ]
  },
  {
   "cell_type": "code",
   "execution_count": 338,
   "id": "3b5fbfa1",
   "metadata": {
    "id": "3b5fbfa1",
    "outputId": "3564ea17-3ced-4fa2-82ca-d705ecd86b20",
    "scrolled": true
   },
   "outputs": [],
   "source": [
    "#We finally get from the original url to the pageinfo url\n",
    "urlmodifié = ['https://en.wikipedia.org/w/index.php?title=' + i +'&action=info' for i in titleunderscore]"
   ]
  },
  {
   "cell_type": "code",
   "execution_count": 339,
   "id": "121dd888",
   "metadata": {
    "id": "121dd888",
    "outputId": "0724bfb1-2f54-478c-d85b-63dde9e0df34",
    "scrolled": true
   },
   "outputs": [
    {
     "name": "stderr",
     "output_type": "stream",
     "text": [
      "100%|████████████████████████████████████████████████████████████████████████████████| 921/921 [11:26<00:00,  1.34it/s]\n"
     ]
    }
   ],
   "source": [
    "#Cell to scrap infos from \"page info\" section (2 to scrap the third table of the page)\n",
    "doblist=[]\n",
    "creatorlist=[]\n",
    "totaledits=[]\n",
    "recentedits=[]\n",
    "pageid=[]\n",
    "pagelenght=[]\n",
    "editprotection=[]\n",
    "recentpageviews=[]\n",
    "\n",
    "for i in tqdm(urlmodifié) :\n",
    "    source = requests.get(i)\n",
    "    soup = BeautifulSoup(source.text, 'lxml')\n",
    "    alltables=soup.findAll('table', {\"class\": \"wikitable mw-page-info\"})\n",
    "    tableau_html_liste=pd.read_html(str(alltables)) #We get it as a list   \n",
    "    df_pageinfo2=pd.DataFrame(tableau_html_liste[2]) #And make it a df \n",
    "    #The number between brackets corresponds to the number of the table according to its order on the html page\n",
    "    creatorlist += [df_pageinfo2.iat[0, 1]]\n",
    "    doblist += [df_pageinfo2.iat[1, 1]]\n",
    "    totaledits += [df_pageinfo2.iat[4, 1]]\n",
    "    recentedits += [df_pageinfo2.iat[5, 1]]\n",
    "    \n",
    "    \n",
    "    #Scrap of the first table of the page (0)\n",
    "    df_pageinfo0=pd.DataFrame(tableau_html_liste[0])\n",
    "    pagelenght += [df_pageinfo0.iat[2, 1]]\n",
    "    pageid += [df_pageinfo0.iat[3, 1]]\n",
    "            \n",
    "    \n",
    "    #Scrap of the second table of the page (1)\n",
    "    df_pageinfo1=pd.DataFrame(tableau_html_liste[1])\n",
    "    editprotection += [df_pageinfo1.iat[1, 1]]\n",
    "  \n",
    "\n",
    "    "
   ]
  },
  {
   "cell_type": "code",
   "execution_count": 342,
   "id": "9920618c",
   "metadata": {
    "id": "9920618c",
    "outputId": "25098c8b-4a25-41ab-cacc-56e9dc4cca52"
   },
   "outputs": [
    {
     "data": {
      "text/html": [
       "<div>\n",
       "<style scoped>\n",
       "    .dataframe tbody tr th:only-of-type {\n",
       "        vertical-align: middle;\n",
       "    }\n",
       "\n",
       "    .dataframe tbody tr th {\n",
       "        vertical-align: top;\n",
       "    }\n",
       "\n",
       "    .dataframe thead th {\n",
       "        text-align: right;\n",
       "    }\n",
       "</style>\n",
       "<table border=\"1\" class=\"dataframe\">\n",
       "  <thead>\n",
       "    <tr style=\"text-align: right;\">\n",
       "      <th></th>\n",
       "      <th>Name only</th>\n",
       "      <th>page url</th>\n",
       "      <th>text</th>\n",
       "      <th>citations</th>\n",
       "      <th>Ref count</th>\n",
       "      <th>nb_journal_citations</th>\n",
       "      <th>journalcitation</th>\n",
       "      <th>journal</th>\n",
       "      <th>nbjournaldetected</th>\n",
       "      <th>citation org</th>\n",
       "      <th>...</th>\n",
       "      <th>Sci count</th>\n",
       "      <th>IPCC count</th>\n",
       "      <th>percentage of official sources</th>\n",
       "      <th>Page id</th>\n",
       "      <th>Edit protection</th>\n",
       "      <th>Page lenght (Bytes)</th>\n",
       "      <th>DOB</th>\n",
       "      <th>Creator</th>\n",
       "      <th>Total edits</th>\n",
       "      <th>Recent edits</th>\n",
       "    </tr>\n",
       "  </thead>\n",
       "  <tbody>\n",
       "    <tr>\n",
       "      <th>0</th>\n",
       "      <td>Effects of climate change</td>\n",
       "      <td>https://en.wikipedia.org/wiki/Effects_of_clima...</td>\n",
       "      <td>{{short description|Effects created by climate...</td>\n",
       "      <td>{'Ref count': 252, 'journal_count': 56, 'nb_jo...</td>\n",
       "      <td>252</td>\n",
       "      <td>58</td>\n",
       "      <td>[10.1038/s41558-019-0412-1, 10.1126/sciadv.aba...</td>\n",
       "      <td>[[nature climate change ], [science advances ]...</td>\n",
       "      <td>56</td>\n",
       "      <td>27</td>\n",
       "      <td>...</td>\n",
       "      <td>0.230159</td>\n",
       "      <td>0.376984</td>\n",
       "      <td>0.817460</td>\n",
       "      <td>2119174</td>\n",
       "      <td>Require autoconfirmed or confirmed access (no ...</td>\n",
       "      <td>186539</td>\n",
       "      <td>15:09, 26 June 2005</td>\n",
       "      <td>Rd232 (talk | contribs)</td>\n",
       "      <td>5538</td>\n",
       "      <td>17</td>\n",
       "    </tr>\n",
       "    <tr>\n",
       "      <th>1</th>\n",
       "      <td>Effects of climate change on agriculture</td>\n",
       "      <td>https://en.wikipedia.org/wiki/Effects_of_clima...</td>\n",
       "      <td>{{short description|None}}\\n{{about||contribut...</td>\n",
       "      <td>{'Ref count': 142, 'journal_count': 49, 'nb_jo...</td>\n",
       "      <td>142</td>\n",
       "      <td>51</td>\n",
       "      <td>[10.1016/s0169-5347(02)02587-9, 10.1007/s10584...</td>\n",
       "      <td>[[trends in ecology ], [climatic change], [sci...</td>\n",
       "      <td>49</td>\n",
       "      <td>19</td>\n",
       "      <td>...</td>\n",
       "      <td>0.359155</td>\n",
       "      <td>0.133803</td>\n",
       "      <td>0.647887</td>\n",
       "      <td>47512577</td>\n",
       "      <td>Allow all users (no expiry set)</td>\n",
       "      <td>115616</td>\n",
       "      <td>04:31, 13 August 2015</td>\n",
       "      <td>Jarble (talk | contribs)</td>\n",
       "      <td>288</td>\n",
       "      <td>118</td>\n",
       "    </tr>\n",
       "    <tr>\n",
       "      <th>2</th>\n",
       "      <td>Effects of climate change on human health</td>\n",
       "      <td>https://en.wikipedia.org/wiki/Effects_of_clima...</td>\n",
       "      <td>[[File:Atlanta thermal.jpg|thumb|Illustration ...</td>\n",
       "      <td>{'Ref count': 111, 'journal_count': 56, 'nb_jo...</td>\n",
       "      <td>111</td>\n",
       "      <td>56</td>\n",
       "      <td>[10.1016/j.foreco.2009.09.002, 10.1111/j.1708-...</td>\n",
       "      <td>[[forest ecology and management ], [[[internat...</td>\n",
       "      <td>56</td>\n",
       "      <td>13</td>\n",
       "      <td>...</td>\n",
       "      <td>0.504505</td>\n",
       "      <td>0.072072</td>\n",
       "      <td>0.756757</td>\n",
       "      <td>37063005</td>\n",
       "      <td>Allow all users (no expiry set)</td>\n",
       "      <td>91158</td>\n",
       "      <td>18:13, 19 September 2012</td>\n",
       "      <td>Ppowers29 (talk | contribs)</td>\n",
       "      <td>1117</td>\n",
       "      <td>23</td>\n",
       "    </tr>\n",
       "    <tr>\n",
       "      <th>3</th>\n",
       "      <td>Effects of climate change on oceans</td>\n",
       "      <td>https://en.wikipedia.org/wiki/Effects_of_clima...</td>\n",
       "      <td>{{Short description|Effects of climate change ...</td>\n",
       "      <td>{'Ref count': 121, 'journal_count': 63, 'nb_jo...</td>\n",
       "      <td>121</td>\n",
       "      <td>66</td>\n",
       "      <td>[10.1146/annurev-environ-012320-083019, 10.111...</td>\n",
       "      <td>[[annual review of environment and resources ]...</td>\n",
       "      <td>63</td>\n",
       "      <td>14</td>\n",
       "      <td>...</td>\n",
       "      <td>0.545455</td>\n",
       "      <td>0.074380</td>\n",
       "      <td>0.760331</td>\n",
       "      <td>35895879</td>\n",
       "      <td>Allow all users (no expiry set)</td>\n",
       "      <td>97693</td>\n",
       "      <td>23:46, 21 May 2012</td>\n",
       "      <td>Antblasko (talk | contribs)</td>\n",
       "      <td>539</td>\n",
       "      <td>12</td>\n",
       "    </tr>\n",
       "    <tr>\n",
       "      <th>4</th>\n",
       "      <td>Effects of climate change on ecosystems</td>\n",
       "      <td>https://en.wikipedia.org/wiki/Effects_of_clima...</td>\n",
       "      <td>{{short description|How increased greenhouse g...</td>\n",
       "      <td>{'Ref count': 86, 'journal_count': 48, 'nb_jou...</td>\n",
       "      <td>86</td>\n",
       "      <td>49</td>\n",
       "      <td>[10.1073/pnas.0502286102, 10.1111/j.1752-4571....</td>\n",
       "      <td>[[proceedings of the national academy of scien...</td>\n",
       "      <td>48</td>\n",
       "      <td>7</td>\n",
       "      <td>...</td>\n",
       "      <td>0.569767</td>\n",
       "      <td>0.058140</td>\n",
       "      <td>0.744186</td>\n",
       "      <td>26515241</td>\n",
       "      <td>Allow all users (no expiry set)</td>\n",
       "      <td>59046</td>\n",
       "      <td>15:56, 11 March 2010</td>\n",
       "      <td>Enescot (talk | contribs)</td>\n",
       "      <td>399</td>\n",
       "      <td>27</td>\n",
       "    </tr>\n",
       "  </tbody>\n",
       "</table>\n",
       "<p>5 rows × 33 columns</p>\n",
       "</div>"
      ],
      "text/plain": [
       "                                   Name only  \\\n",
       "0                  Effects of climate change   \n",
       "1   Effects of climate change on agriculture   \n",
       "2  Effects of climate change on human health   \n",
       "3        Effects of climate change on oceans   \n",
       "4    Effects of climate change on ecosystems   \n",
       "\n",
       "                                            page url  \\\n",
       "0  https://en.wikipedia.org/wiki/Effects_of_clima...   \n",
       "1  https://en.wikipedia.org/wiki/Effects_of_clima...   \n",
       "2  https://en.wikipedia.org/wiki/Effects_of_clima...   \n",
       "3  https://en.wikipedia.org/wiki/Effects_of_clima...   \n",
       "4  https://en.wikipedia.org/wiki/Effects_of_clima...   \n",
       "\n",
       "                                                text  \\\n",
       "0  {{short description|Effects created by climate...   \n",
       "1  {{short description|None}}\\n{{about||contribut...   \n",
       "2  [[File:Atlanta thermal.jpg|thumb|Illustration ...   \n",
       "3  {{Short description|Effects of climate change ...   \n",
       "4  {{short description|How increased greenhouse g...   \n",
       "\n",
       "                                           citations  Ref count  \\\n",
       "0  {'Ref count': 252, 'journal_count': 56, 'nb_jo...        252   \n",
       "1  {'Ref count': 142, 'journal_count': 49, 'nb_jo...        142   \n",
       "2  {'Ref count': 111, 'journal_count': 56, 'nb_jo...        111   \n",
       "3  {'Ref count': 121, 'journal_count': 63, 'nb_jo...        121   \n",
       "4  {'Ref count': 86, 'journal_count': 48, 'nb_jou...         86   \n",
       "\n",
       "   nb_journal_citations                                    journalcitation  \\\n",
       "0                    58  [10.1038/s41558-019-0412-1, 10.1126/sciadv.aba...   \n",
       "1                    51  [10.1016/s0169-5347(02)02587-9, 10.1007/s10584...   \n",
       "2                    56  [10.1016/j.foreco.2009.09.002, 10.1111/j.1708-...   \n",
       "3                    66  [10.1146/annurev-environ-012320-083019, 10.111...   \n",
       "4                    49  [10.1073/pnas.0502286102, 10.1111/j.1752-4571....   \n",
       "\n",
       "                                             journal  nbjournaldetected  \\\n",
       "0  [[nature climate change ], [science advances ]...                 56   \n",
       "1  [[trends in ecology ], [climatic change], [sci...                 49   \n",
       "2  [[forest ecology and management ], [[[internat...                 56   \n",
       "3  [[annual review of environment and resources ]...                 63   \n",
       "4  [[proceedings of the national academy of scien...                 48   \n",
       "\n",
       "   citation org  ... Sci count  IPCC count percentage of official sources  \\\n",
       "0            27  ...  0.230159    0.376984                       0.817460   \n",
       "1            19  ...  0.359155    0.133803                       0.647887   \n",
       "2            13  ...  0.504505    0.072072                       0.756757   \n",
       "3            14  ...  0.545455    0.074380                       0.760331   \n",
       "4             7  ...  0.569767    0.058140                       0.744186   \n",
       "\n",
       "    Page id                                    Edit protection  \\\n",
       "0   2119174  Require autoconfirmed or confirmed access (no ...   \n",
       "1  47512577                    Allow all users (no expiry set)   \n",
       "2  37063005                    Allow all users (no expiry set)   \n",
       "3  35895879                    Allow all users (no expiry set)   \n",
       "4  26515241                    Allow all users (no expiry set)   \n",
       "\n",
       "  Page lenght (Bytes)                       DOB                      Creator  \\\n",
       "0              186539       15:09, 26 June 2005      Rd232 (talk | contribs)   \n",
       "1              115616     04:31, 13 August 2015     Jarble (talk | contribs)   \n",
       "2               91158  18:13, 19 September 2012  Ppowers29 (talk | contribs)   \n",
       "3               97693        23:46, 21 May 2012  Antblasko (talk | contribs)   \n",
       "4               59046      15:56, 11 March 2010    Enescot (talk | contribs)   \n",
       "\n",
       "   Total edits Recent edits  \n",
       "0         5538           17  \n",
       "1          288          118  \n",
       "2         1117           23  \n",
       "3          539           12  \n",
       "4          399           27  \n",
       "\n",
       "[5 rows x 33 columns]"
      ]
     },
     "execution_count": 342,
     "metadata": {},
     "output_type": "execute_result"
    }
   ],
   "source": [
    "#Cell to add the new lists as new columns of the df\n",
    "df[\"Page id\"]=pageid\n",
    "df[\"Edit protection\"]=editprotection\n",
    "df[\"Page lenght (Bytes)\"]=pagelenght\n",
    "df[\"DOB\"]=doblist\n",
    "df[\"Creator\"]=creatorlist\n",
    "df[\"Total edits\"]=totaledits\n",
    "df[\"Recent edits\"]=recentedits\n",
    "df.head()"
   ]
  },
  {
   "cell_type": "code",
   "execution_count": 343,
   "id": "af977f9f",
   "metadata": {
    "id": "af977f9f"
   },
   "outputs": [],
   "source": [
    "#Cleaning the table\n",
    "\n",
    "#Getting rid of the time\n",
    "df[\"DOB\"]= df[\"DOB\"].str.slice(7,100,1) \n",
    "#peutêtre qu'on pourrait mettre comme end point la len de la string\n",
    "\n",
    "#Format the date\n",
    "df[\"Formated DOB\"]=pd.to_datetime(df[\"DOB\"], format='%d %B %Y')\n",
    "df[\"Year_month\"]= pd.to_datetime(df['DOB']).dt.to_period('M')\n",
    "\n",
    "#Getting the year\n",
    "df['Year'] = pd.DatetimeIndex(df['DOB']).year\n",
    "\n",
    "#Cleaning the creator \n",
    "df[\"Creator\"]= df[\"Creator\"].str.replace(r\"\\(.*\\)\",'', regex=True)"
   ]
  },
  {
   "cell_type": "code",
   "execution_count": 344,
   "id": "35d5c97f",
   "metadata": {},
   "outputs": [
    {
     "data": {
      "text/html": [
       "<div>\n",
       "<style scoped>\n",
       "    .dataframe tbody tr th:only-of-type {\n",
       "        vertical-align: middle;\n",
       "    }\n",
       "\n",
       "    .dataframe tbody tr th {\n",
       "        vertical-align: top;\n",
       "    }\n",
       "\n",
       "    .dataframe thead th {\n",
       "        text-align: right;\n",
       "    }\n",
       "</style>\n",
       "<table border=\"1\" class=\"dataframe\">\n",
       "  <thead>\n",
       "    <tr style=\"text-align: right;\">\n",
       "      <th></th>\n",
       "      <th>Name only</th>\n",
       "      <th>page url</th>\n",
       "      <th>text</th>\n",
       "      <th>citations</th>\n",
       "      <th>Ref count</th>\n",
       "      <th>nb_journal_citations</th>\n",
       "      <th>journalcitation</th>\n",
       "      <th>journal</th>\n",
       "      <th>nbjournaldetected</th>\n",
       "      <th>citation org</th>\n",
       "      <th>...</th>\n",
       "      <th>Page id</th>\n",
       "      <th>Edit protection</th>\n",
       "      <th>Page lenght (Bytes)</th>\n",
       "      <th>DOB</th>\n",
       "      <th>Creator</th>\n",
       "      <th>Total edits</th>\n",
       "      <th>Recent edits</th>\n",
       "      <th>Formated DOB</th>\n",
       "      <th>Year_month</th>\n",
       "      <th>Year</th>\n",
       "    </tr>\n",
       "  </thead>\n",
       "  <tbody>\n",
       "    <tr>\n",
       "      <th>0</th>\n",
       "      <td>Effects of climate change</td>\n",
       "      <td>https://en.wikipedia.org/wiki/Effects_of_clima...</td>\n",
       "      <td>{{short description|Effects created by climate...</td>\n",
       "      <td>{'Ref count': 252, 'journal_count': 56, 'nb_jo...</td>\n",
       "      <td>252</td>\n",
       "      <td>58</td>\n",
       "      <td>[10.1038/s41558-019-0412-1, 10.1126/sciadv.aba...</td>\n",
       "      <td>[[nature climate change ], [science advances ]...</td>\n",
       "      <td>56</td>\n",
       "      <td>27</td>\n",
       "      <td>...</td>\n",
       "      <td>2119174</td>\n",
       "      <td>Require autoconfirmed or confirmed access (no ...</td>\n",
       "      <td>186539</td>\n",
       "      <td>26 June 2005</td>\n",
       "      <td>Rd232</td>\n",
       "      <td>5538</td>\n",
       "      <td>17</td>\n",
       "      <td>2005-06-26</td>\n",
       "      <td>2005-06</td>\n",
       "      <td>2005</td>\n",
       "    </tr>\n",
       "    <tr>\n",
       "      <th>1</th>\n",
       "      <td>Effects of climate change on agriculture</td>\n",
       "      <td>https://en.wikipedia.org/wiki/Effects_of_clima...</td>\n",
       "      <td>{{short description|None}}\\n{{about||contribut...</td>\n",
       "      <td>{'Ref count': 142, 'journal_count': 49, 'nb_jo...</td>\n",
       "      <td>142</td>\n",
       "      <td>51</td>\n",
       "      <td>[10.1016/s0169-5347(02)02587-9, 10.1007/s10584...</td>\n",
       "      <td>[[trends in ecology ], [climatic change], [sci...</td>\n",
       "      <td>49</td>\n",
       "      <td>19</td>\n",
       "      <td>...</td>\n",
       "      <td>47512577</td>\n",
       "      <td>Allow all users (no expiry set)</td>\n",
       "      <td>115616</td>\n",
       "      <td>13 August 2015</td>\n",
       "      <td>Jarble</td>\n",
       "      <td>288</td>\n",
       "      <td>118</td>\n",
       "      <td>2015-08-13</td>\n",
       "      <td>2015-08</td>\n",
       "      <td>2015</td>\n",
       "    </tr>\n",
       "    <tr>\n",
       "      <th>2</th>\n",
       "      <td>Effects of climate change on human health</td>\n",
       "      <td>https://en.wikipedia.org/wiki/Effects_of_clima...</td>\n",
       "      <td>[[File:Atlanta thermal.jpg|thumb|Illustration ...</td>\n",
       "      <td>{'Ref count': 111, 'journal_count': 56, 'nb_jo...</td>\n",
       "      <td>111</td>\n",
       "      <td>56</td>\n",
       "      <td>[10.1016/j.foreco.2009.09.002, 10.1111/j.1708-...</td>\n",
       "      <td>[[forest ecology and management ], [[[internat...</td>\n",
       "      <td>56</td>\n",
       "      <td>13</td>\n",
       "      <td>...</td>\n",
       "      <td>37063005</td>\n",
       "      <td>Allow all users (no expiry set)</td>\n",
       "      <td>91158</td>\n",
       "      <td>19 September 2012</td>\n",
       "      <td>Ppowers29</td>\n",
       "      <td>1117</td>\n",
       "      <td>23</td>\n",
       "      <td>2012-09-19</td>\n",
       "      <td>2012-09</td>\n",
       "      <td>2012</td>\n",
       "    </tr>\n",
       "    <tr>\n",
       "      <th>3</th>\n",
       "      <td>Effects of climate change on oceans</td>\n",
       "      <td>https://en.wikipedia.org/wiki/Effects_of_clima...</td>\n",
       "      <td>{{Short description|Effects of climate change ...</td>\n",
       "      <td>{'Ref count': 121, 'journal_count': 63, 'nb_jo...</td>\n",
       "      <td>121</td>\n",
       "      <td>66</td>\n",
       "      <td>[10.1146/annurev-environ-012320-083019, 10.111...</td>\n",
       "      <td>[[annual review of environment and resources ]...</td>\n",
       "      <td>63</td>\n",
       "      <td>14</td>\n",
       "      <td>...</td>\n",
       "      <td>35895879</td>\n",
       "      <td>Allow all users (no expiry set)</td>\n",
       "      <td>97693</td>\n",
       "      <td>21 May 2012</td>\n",
       "      <td>Antblasko</td>\n",
       "      <td>539</td>\n",
       "      <td>12</td>\n",
       "      <td>2012-05-21</td>\n",
       "      <td>2012-05</td>\n",
       "      <td>2012</td>\n",
       "    </tr>\n",
       "    <tr>\n",
       "      <th>4</th>\n",
       "      <td>Effects of climate change on ecosystems</td>\n",
       "      <td>https://en.wikipedia.org/wiki/Effects_of_clima...</td>\n",
       "      <td>{{short description|How increased greenhouse g...</td>\n",
       "      <td>{'Ref count': 86, 'journal_count': 48, 'nb_jou...</td>\n",
       "      <td>86</td>\n",
       "      <td>49</td>\n",
       "      <td>[10.1073/pnas.0502286102, 10.1111/j.1752-4571....</td>\n",
       "      <td>[[proceedings of the national academy of scien...</td>\n",
       "      <td>48</td>\n",
       "      <td>7</td>\n",
       "      <td>...</td>\n",
       "      <td>26515241</td>\n",
       "      <td>Allow all users (no expiry set)</td>\n",
       "      <td>59046</td>\n",
       "      <td>11 March 2010</td>\n",
       "      <td>Enescot</td>\n",
       "      <td>399</td>\n",
       "      <td>27</td>\n",
       "      <td>2010-03-11</td>\n",
       "      <td>2010-03</td>\n",
       "      <td>2010</td>\n",
       "    </tr>\n",
       "    <tr>\n",
       "      <th>...</th>\n",
       "      <td>...</td>\n",
       "      <td>...</td>\n",
       "      <td>...</td>\n",
       "      <td>...</td>\n",
       "      <td>...</td>\n",
       "      <td>...</td>\n",
       "      <td>...</td>\n",
       "      <td>...</td>\n",
       "      <td>...</td>\n",
       "      <td>...</td>\n",
       "      <td>...</td>\n",
       "      <td>...</td>\n",
       "      <td>...</td>\n",
       "      <td>...</td>\n",
       "      <td>...</td>\n",
       "      <td>...</td>\n",
       "      <td>...</td>\n",
       "      <td>...</td>\n",
       "      <td>...</td>\n",
       "      <td>...</td>\n",
       "      <td>...</td>\n",
       "    </tr>\n",
       "    <tr>\n",
       "      <th>916</th>\n",
       "      <td>Restore America's Estuaries</td>\n",
       "      <td>https://en.wikipedia.org/wiki/Restore_America%...</td>\n",
       "      <td>{{Infobox organization\\n| name = Restore Ameri...</td>\n",
       "      <td>{'Ref count': 18, 'journal_count': 0, 'nb_jour...</td>\n",
       "      <td>18</td>\n",
       "      <td>0</td>\n",
       "      <td>[]</td>\n",
       "      <td>[]</td>\n",
       "      <td>0</td>\n",
       "      <td>16</td>\n",
       "      <td>...</td>\n",
       "      <td>28084829</td>\n",
       "      <td>Allow all users (no expiry set)</td>\n",
       "      <td>17089</td>\n",
       "      <td>19 July 2010</td>\n",
       "      <td>Dchensummer</td>\n",
       "      <td>30</td>\n",
       "      <td>0</td>\n",
       "      <td>2010-07-19</td>\n",
       "      <td>2010-07</td>\n",
       "      <td>2010</td>\n",
       "    </tr>\n",
       "    <tr>\n",
       "      <th>917</th>\n",
       "      <td>Carbon bubble</td>\n",
       "      <td>https://en.wikipedia.org/wiki/Carbon_bubble</td>\n",
       "      <td>{{Short description|Hypothesized bubble in the...</td>\n",
       "      <td>{'Ref count': 56, 'journal_count': 2, 'nb_jour...</td>\n",
       "      <td>56</td>\n",
       "      <td>2</td>\n",
       "      <td>[10.1038/517150a, 10.1038/nature14016, 2556727...</td>\n",
       "      <td>[[[[nature ,  [[macmillan publishers], [[[natu...</td>\n",
       "      <td>2</td>\n",
       "      <td>15</td>\n",
       "      <td>...</td>\n",
       "      <td>39383318</td>\n",
       "      <td>Allow all users (no expiry set)</td>\n",
       "      <td>41211</td>\n",
       "      <td>14 May 2013</td>\n",
       "      <td>Dmtk</td>\n",
       "      <td>305</td>\n",
       "      <td>0</td>\n",
       "      <td>2013-05-14</td>\n",
       "      <td>2013-05</td>\n",
       "      <td>2013</td>\n",
       "    </tr>\n",
       "    <tr>\n",
       "      <th>918</th>\n",
       "      <td>The Hunting Hypothesis</td>\n",
       "      <td>https://en.wikipedia.org/wiki/The_Hunting_Hypo...</td>\n",
       "      <td>{{about|the book|the underlying anthropologica...</td>\n",
       "      <td>{'Ref count': 12, 'journal_count': 0, 'nb_jour...</td>\n",
       "      <td>12</td>\n",
       "      <td>0</td>\n",
       "      <td>[]</td>\n",
       "      <td>[]</td>\n",
       "      <td>0</td>\n",
       "      <td>1</td>\n",
       "      <td>...</td>\n",
       "      <td>47256663</td>\n",
       "      <td>Allow all users (no expiry set)</td>\n",
       "      <td>10537</td>\n",
       "      <td>16 July 2015</td>\n",
       "      <td>J579513</td>\n",
       "      <td>32</td>\n",
       "      <td>0</td>\n",
       "      <td>2015-07-16</td>\n",
       "      <td>2015-07</td>\n",
       "      <td>2015</td>\n",
       "    </tr>\n",
       "    <tr>\n",
       "      <th>919</th>\n",
       "      <td>David Quinn (columnist)</td>\n",
       "      <td>https://en.wikipedia.org/wiki/David_Quinn_(col...</td>\n",
       "      <td>{{short description|Irish social and religious...</td>\n",
       "      <td>{'Ref count': 29, 'journal_count': 0, 'nb_jour...</td>\n",
       "      <td>29</td>\n",
       "      <td>0</td>\n",
       "      <td>[]</td>\n",
       "      <td>[]</td>\n",
       "      <td>0</td>\n",
       "      <td>3</td>\n",
       "      <td>...</td>\n",
       "      <td>7772490</td>\n",
       "      <td>Allow all users (no expiry set)</td>\n",
       "      <td>17472</td>\n",
       "      <td>4 November 2006</td>\n",
       "      <td>Fish720</td>\n",
       "      <td>265</td>\n",
       "      <td>1</td>\n",
       "      <td>2006-11-04</td>\n",
       "      <td>2006-11</td>\n",
       "      <td>2006</td>\n",
       "    </tr>\n",
       "    <tr>\n",
       "      <th>920</th>\n",
       "      <td>Crisis of the Late Middle Ages</td>\n",
       "      <td>https://en.wikipedia.org/wiki/Crisis_of_the_La...</td>\n",
       "      <td>{{Short description|Events in the 1300s and 14...</td>\n",
       "      <td>{'Ref count': 40, 'journal_count': 11, 'nb_jou...</td>\n",
       "      <td>40</td>\n",
       "      <td>11</td>\n",
       "      <td>[10.2307/2848143, 10.1073/pnas.1205750110, 10....</td>\n",
       "      <td>[[speculum], [proceedings of the national acad...</td>\n",
       "      <td>11</td>\n",
       "      <td>0</td>\n",
       "      <td>...</td>\n",
       "      <td>3525088</td>\n",
       "      <td>Allow all users (no expiry set)</td>\n",
       "      <td>40010</td>\n",
       "      <td>25 December 2005</td>\n",
       "      <td>Leinad-Z</td>\n",
       "      <td>344</td>\n",
       "      <td>0</td>\n",
       "      <td>2005-12-25</td>\n",
       "      <td>2005-12</td>\n",
       "      <td>2005</td>\n",
       "    </tr>\n",
       "  </tbody>\n",
       "</table>\n",
       "<p>921 rows × 36 columns</p>\n",
       "</div>"
      ],
      "text/plain": [
       "                                     Name only  \\\n",
       "0                    Effects of climate change   \n",
       "1     Effects of climate change on agriculture   \n",
       "2    Effects of climate change on human health   \n",
       "3          Effects of climate change on oceans   \n",
       "4      Effects of climate change on ecosystems   \n",
       "..                                         ...   \n",
       "916                Restore America's Estuaries   \n",
       "917                              Carbon bubble   \n",
       "918                     The Hunting Hypothesis   \n",
       "919                    David Quinn (columnist)   \n",
       "920             Crisis of the Late Middle Ages   \n",
       "\n",
       "                                              page url  \\\n",
       "0    https://en.wikipedia.org/wiki/Effects_of_clima...   \n",
       "1    https://en.wikipedia.org/wiki/Effects_of_clima...   \n",
       "2    https://en.wikipedia.org/wiki/Effects_of_clima...   \n",
       "3    https://en.wikipedia.org/wiki/Effects_of_clima...   \n",
       "4    https://en.wikipedia.org/wiki/Effects_of_clima...   \n",
       "..                                                 ...   \n",
       "916  https://en.wikipedia.org/wiki/Restore_America%...   \n",
       "917        https://en.wikipedia.org/wiki/Carbon_bubble   \n",
       "918  https://en.wikipedia.org/wiki/The_Hunting_Hypo...   \n",
       "919  https://en.wikipedia.org/wiki/David_Quinn_(col...   \n",
       "920  https://en.wikipedia.org/wiki/Crisis_of_the_La...   \n",
       "\n",
       "                                                  text  \\\n",
       "0    {{short description|Effects created by climate...   \n",
       "1    {{short description|None}}\\n{{about||contribut...   \n",
       "2    [[File:Atlanta thermal.jpg|thumb|Illustration ...   \n",
       "3    {{Short description|Effects of climate change ...   \n",
       "4    {{short description|How increased greenhouse g...   \n",
       "..                                                 ...   \n",
       "916  {{Infobox organization\\n| name = Restore Ameri...   \n",
       "917  {{Short description|Hypothesized bubble in the...   \n",
       "918  {{about|the book|the underlying anthropologica...   \n",
       "919  {{short description|Irish social and religious...   \n",
       "920  {{Short description|Events in the 1300s and 14...   \n",
       "\n",
       "                                             citations  Ref count  \\\n",
       "0    {'Ref count': 252, 'journal_count': 56, 'nb_jo...        252   \n",
       "1    {'Ref count': 142, 'journal_count': 49, 'nb_jo...        142   \n",
       "2    {'Ref count': 111, 'journal_count': 56, 'nb_jo...        111   \n",
       "3    {'Ref count': 121, 'journal_count': 63, 'nb_jo...        121   \n",
       "4    {'Ref count': 86, 'journal_count': 48, 'nb_jou...         86   \n",
       "..                                                 ...        ...   \n",
       "916  {'Ref count': 18, 'journal_count': 0, 'nb_jour...         18   \n",
       "917  {'Ref count': 56, 'journal_count': 2, 'nb_jour...         56   \n",
       "918  {'Ref count': 12, 'journal_count': 0, 'nb_jour...         12   \n",
       "919  {'Ref count': 29, 'journal_count': 0, 'nb_jour...         29   \n",
       "920  {'Ref count': 40, 'journal_count': 11, 'nb_jou...         40   \n",
       "\n",
       "     nb_journal_citations                                    journalcitation  \\\n",
       "0                      58  [10.1038/s41558-019-0412-1, 10.1126/sciadv.aba...   \n",
       "1                      51  [10.1016/s0169-5347(02)02587-9, 10.1007/s10584...   \n",
       "2                      56  [10.1016/j.foreco.2009.09.002, 10.1111/j.1708-...   \n",
       "3                      66  [10.1146/annurev-environ-012320-083019, 10.111...   \n",
       "4                      49  [10.1073/pnas.0502286102, 10.1111/j.1752-4571....   \n",
       "..                    ...                                                ...   \n",
       "916                     0                                                 []   \n",
       "917                     2  [10.1038/517150a, 10.1038/nature14016, 2556727...   \n",
       "918                     0                                                 []   \n",
       "919                     0                                                 []   \n",
       "920                    11  [10.2307/2848143, 10.1073/pnas.1205750110, 10....   \n",
       "\n",
       "                                               journal  nbjournaldetected  \\\n",
       "0    [[nature climate change ], [science advances ]...                 56   \n",
       "1    [[trends in ecology ], [climatic change], [sci...                 49   \n",
       "2    [[forest ecology and management ], [[[internat...                 56   \n",
       "3    [[annual review of environment and resources ]...                 63   \n",
       "4    [[proceedings of the national academy of scien...                 48   \n",
       "..                                                 ...                ...   \n",
       "916                                                 []                  0   \n",
       "917  [[[[nature ,  [[macmillan publishers], [[[natu...                  2   \n",
       "918                                                 []                  0   \n",
       "919                                                 []                  0   \n",
       "920  [[speculum], [proceedings of the national acad...                 11   \n",
       "\n",
       "     citation org  ...   Page id  \\\n",
       "0              27  ...   2119174   \n",
       "1              19  ...  47512577   \n",
       "2              13  ...  37063005   \n",
       "3              14  ...  35895879   \n",
       "4               7  ...  26515241   \n",
       "..            ...  ...       ...   \n",
       "916            16  ...  28084829   \n",
       "917            15  ...  39383318   \n",
       "918             1  ...  47256663   \n",
       "919             3  ...   7772490   \n",
       "920             0  ...   3525088   \n",
       "\n",
       "                                       Edit protection Page lenght (Bytes)  \\\n",
       "0    Require autoconfirmed or confirmed access (no ...              186539   \n",
       "1                      Allow all users (no expiry set)              115616   \n",
       "2                      Allow all users (no expiry set)               91158   \n",
       "3                      Allow all users (no expiry set)               97693   \n",
       "4                      Allow all users (no expiry set)               59046   \n",
       "..                                                 ...                 ...   \n",
       "916                    Allow all users (no expiry set)               17089   \n",
       "917                    Allow all users (no expiry set)               41211   \n",
       "918                    Allow all users (no expiry set)               10537   \n",
       "919                    Allow all users (no expiry set)               17472   \n",
       "920                    Allow all users (no expiry set)               40010   \n",
       "\n",
       "                   DOB       Creator Total edits  Recent edits  Formated DOB  \\\n",
       "0         26 June 2005        Rd232         5538            17    2005-06-26   \n",
       "1       13 August 2015       Jarble          288           118    2015-08-13   \n",
       "2    19 September 2012    Ppowers29         1117            23    2012-09-19   \n",
       "3          21 May 2012    Antblasko          539            12    2012-05-21   \n",
       "4        11 March 2010      Enescot          399            27    2010-03-11   \n",
       "..                 ...           ...         ...           ...           ...   \n",
       "916       19 July 2010  Dchensummer           30             0    2010-07-19   \n",
       "917        14 May 2013         Dmtk          305             0    2013-05-14   \n",
       "918       16 July 2015      J579513           32             0    2015-07-16   \n",
       "919    4 November 2006      Fish720          265             1    2006-11-04   \n",
       "920   25 December 2005     Leinad-Z          344             0    2005-12-25   \n",
       "\n",
       "     Year_month  Year  \n",
       "0       2005-06  2005  \n",
       "1       2015-08  2015  \n",
       "2       2012-09  2012  \n",
       "3       2012-05  2012  \n",
       "4       2010-03  2010  \n",
       "..          ...   ...  \n",
       "916     2010-07  2010  \n",
       "917     2013-05  2013  \n",
       "918     2015-07  2015  \n",
       "919     2006-11  2006  \n",
       "920     2005-12  2005  \n",
       "\n",
       "[921 rows x 36 columns]"
      ]
     },
     "execution_count": 344,
     "metadata": {},
     "output_type": "execute_result"
    }
   ],
   "source": [
    "df"
   ]
  },
  {
   "cell_type": "markdown",
   "id": "0adef9ad",
   "metadata": {},
   "source": [
    "#### Plot the ratio of page created by a certain editor in our corpus"
   ]
  },
  {
   "cell_type": "markdown",
   "id": "5f2e330d",
   "metadata": {},
   "source": [
    "#### plot of the timeline"
   ]
  },
  {
   "cell_type": "code",
   "execution_count": 162,
   "id": "4e778e9a",
   "metadata": {
    "id": "4e778e9a",
    "outputId": "f6128779-2bf8-47c6-cc89-bedb437bab36",
    "scrolled": true
   },
   "outputs": [
    {
     "data": {
      "image/png": "[encoded data removed]",
      "text/plain": [
       "<Figure size 1440x1080 with 1 Axes>"
      ]
     },
     "metadata": {
      "needs_background": "light"
     },
     "output_type": "display_data"
    }
   ],
   "source": [
    "fig = plt.figure(0,figsize=(20,15))\n",
    "plothist=df[\"Year\"].value_counts().sort_index().plot(kind=\"bar\")\n",
    "fig.savefig('timeline.jpg', bbox_inches='tight', dpi=150)\n",
    "plt.xlabel('date of birth',fontsize = 20) \n",
    "plt.ylabel('number of article',fontsize = 20) \n",
    "plt.title(\"number of article in function of their year of birth\",fontsize = 30)\n",
    "plt.show()"
   ]
  },
  {
   "cell_type": "markdown",
   "id": "9fdb6102",
   "metadata": {},
   "source": [
    "#### Clean and export the dataframes to csv"
   ]
  },
  {
   "cell_type": "code",
   "execution_count": 179,
   "id": "2b8594c1",
   "metadata": {},
   "outputs": [],
   "source": [
    "del df['citationorgtext']\n",
    "del df['citationgovtext']\n",
    "del df['text']\n",
    "del df[\"citations\"]\n",
    "del df[\"citationcomtext\"]"
   ]
  },
  {
   "cell_type": "code",
   "execution_count": 345,
   "id": "864d3c49",
   "metadata": {
    "id": "864d3c49"
   },
   "outputs": [
    {
     "data": {
      "text/plain": [
       "\"\\ndorg.to_csv('CRISPR.csv')\\ndfgov.to_csv('CRISPR.csv')\\ndcom.to_csv('CRISPR.csv')\""
      ]
     },
     "execution_count": 345,
     "metadata": {},
     "output_type": "execute_result"
    }
   ],
   "source": [
    "#extract the data frame to csv\n",
    "df.to_csv('climatechange.csv')\n",
    "'''\n",
    "dorg.to_csv('CRISPR.csv')\n",
    "dfgov.to_csv('CRISPR.csv')\n",
    "dcom.to_csv('CRISPR.csv')'''"
   ]
  },
  {
   "cell_type": "code",
   "execution_count": null,
   "id": "4263fbb3",
   "metadata": {},
   "outputs": [],
   "source": []
  }
 ],
 "metadata": {
  "colab": {
   "collapsed_sections": [],
   "name": "Copie de V2_4Creation_data_csv_w__corpus_selection_complete.ipynb",
   "provenance": []
  },
  "kernelspec": {
   "display_name": "Python 3 (ipykernel)",
   "language": "python",
   "name": "python3"
  },
  "language_info": {
   "codemirror_mode": {
    "name": "ipython",
    "version": 3
   },
   "file_extension": ".py",
   "mimetype": "text/x-python",
   "name": "python",
   "nbconvert_exporter": "python",
   "pygments_lexer": "ipython3",
   "version": "3.9.7"
  }
 },
 "nbformat": 4,
 "nbformat_minor": 5
}
